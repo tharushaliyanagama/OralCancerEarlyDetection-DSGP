{
  "nbformat": 4,
  "nbformat_minor": 0,
  "metadata": {
    "colab": {
      "provenance": [],
      "authorship_tag": "ABX9TyOy0DaggRwpnMWFl/KNReRE",
      "include_colab_link": true
    },
    "kernelspec": {
      "name": "python3",
      "display_name": "Python 3"
    },
    "language_info": {
      "name": "python"
    }
  },
  "cells": [
    {
      "cell_type": "markdown",
      "metadata": {
        "id": "view-in-github",
        "colab_type": "text"
      },
      "source": [
        "<a href=\"https://colab.research.google.com/github/tharushaliyanagama/OralCancerEarlyDetection-DSGP/blob/Prediction-of-textual-data-I/data_preprocessing_New.ipynb\" target=\"_parent\"><img src=\"https://colab.research.google.com/assets/colab-badge.svg\" alt=\"Open In Colab\"/></a>"
      ]
    },
    {
      "cell_type": "markdown",
      "source": [
        "# **1.Import libraries**"
      ],
      "metadata": {
        "id": "Fv2mSZyAgdG2"
      }
    },
    {
      "cell_type": "code",
      "execution_count": null,
      "metadata": {
        "id": "I0oskrxyf-zE"
      },
      "outputs": [],
      "source": [
        "# Import necessary libraries\n",
        "import pandas as pd\n",
        "import numpy as np\n",
        "from sklearn.compose import ColumnTransformer\n",
        "from sklearn.impute import SimpleImputer"
      ]
    },
    {
      "cell_type": "markdown",
      "source": [
        "# **2. Load and Inspect the Dataset**"
      ],
      "metadata": {
        "id": "wmPWwCWig6N-"
      }
    },
    {
      "cell_type": "code",
      "source": [
        "from google.colab import drive\n",
        "drive.mount('/content/drive')"
      ],
      "metadata": {
        "id": "4mzyZIl-hHvB",
        "colab": {
          "base_uri": "https://localhost:8080/"
        },
        "outputId": "4f787a8c-77e7-42b6-b13f-9019fce4406b"
      },
      "execution_count": null,
      "outputs": [
        {
          "output_type": "stream",
          "name": "stdout",
          "text": [
            "Mounted at /content/drive\n"
          ]
        }
      ]
    },
    {
      "cell_type": "code",
      "source": [
        "data = pd.read_csv('/content/drive/MyDrive/DSGP/Siyumi/Modelnew/oral_cancer_prediction_dataset (1).csv')"
      ],
      "metadata": {
        "id": "-rHRB9flhRzE"
      },
      "execution_count": null,
      "outputs": []
    },
    {
      "cell_type": "code",
      "source": [
        "#Display information\n",
        "print(\"Dataset Info:\")\n",
        "print(data.info())"
      ],
      "metadata": {
        "id": "juqiLKhEhWpP",
        "colab": {
          "base_uri": "https://localhost:8080/"
        },
        "outputId": "96c65636-ebd1-4b78-8d7f-4ca397c6b330"
      },
      "execution_count": null,
      "outputs": [
        {
          "output_type": "stream",
          "name": "stdout",
          "text": [
            "Dataset Info:\n",
            "<class 'pandas.core.frame.DataFrame'>\n",
            "RangeIndex: 160292 entries, 0 to 160291\n",
            "Data columns (total 11 columns):\n",
            " #   Column                Non-Null Count   Dtype  \n",
            "---  ------                --------------   -----  \n",
            " 0   ID                    160292 non-null  int64  \n",
            " 1   Country               160292 non-null  object \n",
            " 2   Gender                160292 non-null  object \n",
            " 3   Age                   160292 non-null  int64  \n",
            " 4   Tobacco_Use           160292 non-null  int64  \n",
            " 5   Alcohol_Use           160292 non-null  int64  \n",
            " 6   Socioeconomic_Status  160292 non-null  object \n",
            " 7   Diagnosis_Stage       160292 non-null  object \n",
            " 8   Treatment_Type        160292 non-null  object \n",
            " 9   Survival_Rate         160292 non-null  float64\n",
            " 10  HPV_Related           160292 non-null  int64  \n",
            "dtypes: float64(1), int64(5), object(5)\n",
            "memory usage: 13.5+ MB\n",
            "None\n"
          ]
        }
      ]
    },
    {
      "cell_type": "code",
      "source": [
        "#Display shape of the Dataset\n",
        "print(\"\\nDataset Shape:\")\n",
        "print(data.shape)"
      ],
      "metadata": {
        "id": "vhA_COmUhe6y",
        "colab": {
          "base_uri": "https://localhost:8080/"
        },
        "outputId": "72f58166-d883-4699-9d6f-5a8c2b54ddfa"
      },
      "execution_count": null,
      "outputs": [
        {
          "output_type": "stream",
          "name": "stdout",
          "text": [
            "\n",
            "Dataset Shape:\n",
            "(160292, 11)\n"
          ]
        }
      ]
    },
    {
      "cell_type": "code",
      "source": [
        "#Load 5 rows\n",
        "print(\"\\nFirst 5 rows:\")\n",
        "print(data.head())"
      ],
      "metadata": {
        "id": "OoJwWNBbhat6",
        "colab": {
          "base_uri": "https://localhost:8080/"
        },
        "outputId": "0a0f2d6d-78d6-4e20-dc92-e8f0afab38fa"
      },
      "execution_count": null,
      "outputs": [
        {
          "output_type": "stream",
          "name": "stdout",
          "text": [
            "\n",
            "First 5 rows:\n",
            "   ID   Country  Gender  Age  Tobacco_Use  Alcohol_Use Socioeconomic_Status  \\\n",
            "0   1  Ethiopia    Male   34            1            1                 High   \n",
            "1   2    Turkey  Female   84            1            1                 High   \n",
            "2   3    Turkey  Female   62            1            1               Middle   \n",
            "3   4  Tanzania    Male   48            1            1               Middle   \n",
            "4   5    France    Male   26            1            1               Middle   \n",
            "\n",
            "  Diagnosis_Stage Treatment_Type  Survival_Rate  HPV_Related  \n",
            "0           Early   Radiotherapy       0.826235            0  \n",
            "1        Moderate   Radiotherapy       0.376607            0  \n",
            "2           Early   Radiotherapy       0.736296            1  \n",
            "3        Moderate    Combination       0.786118            0  \n",
            "4           Early   Radiotherapy       0.830411            0  \n"
          ]
        }
      ]
    },
    {
      "cell_type": "code",
      "source": [
        "# Irrelevant for prediction\n",
        "columns_to_drop = ['ID','Treatment_Type','Survival_Rate']\n",
        "print(f\"\\nDropping columns: {columns_to_drop}\")\n",
        "data = data.drop(columns=columns_to_drop)"
      ],
      "metadata": {
        "id": "kMmy5Uxshj7q",
        "colab": {
          "base_uri": "https://localhost:8080/"
        },
        "outputId": "d8e10cfd-c7ea-41a0-d3d8-0504e80a2a8d"
      },
      "execution_count": null,
      "outputs": [
        {
          "output_type": "stream",
          "name": "stdout",
          "text": [
            "\n",
            "Dropping columns: ['ID', 'Treatment_Type', 'Survival_Rate']\n"
          ]
        }
      ]
    },
    {
      "cell_type": "code",
      "source": [
        "# Select numeric variables\n",
        "numeric_columns = data.select_dtypes(include=['int64', 'float64'])\n",
        "\n",
        "# Print numeric variables\n",
        "print(\"Numeric Variables:\")\n",
        "print(numeric_columns.head())"
      ],
      "metadata": {
        "id": "eShWNjrGiAqe",
        "colab": {
          "base_uri": "https://localhost:8080/"
        },
        "outputId": "195805b2-3569-4424-f327-dec58edfc611"
      },
      "execution_count": null,
      "outputs": [
        {
          "output_type": "stream",
          "name": "stdout",
          "text": [
            "Numeric Variables:\n",
            "   Age  Tobacco_Use  Alcohol_Use  HPV_Related\n",
            "0   34            1            1            0\n",
            "1   84            1            1            0\n",
            "2   62            1            1            1\n",
            "3   48            1            1            0\n",
            "4   26            1            1            0\n"
          ]
        }
      ]
    },
    {
      "cell_type": "code",
      "source": [
        "#Select categorical variables\n",
        "categorical_columns = data.select_dtypes(include=['object'])\n",
        "\n",
        "# Print categorical variables\n",
        "print(\"\\nCategorical Variables:\")\n",
        "print(categorical_columns.head())"
      ],
      "metadata": {
        "id": "SDieV90BiK2t",
        "colab": {
          "base_uri": "https://localhost:8080/"
        },
        "outputId": "6603dd58-f065-4962-962a-5ca917969543"
      },
      "execution_count": null,
      "outputs": [
        {
          "output_type": "stream",
          "name": "stdout",
          "text": [
            "\n",
            "Categorical Variables:\n",
            "    Country  Gender Socioeconomic_Status Diagnosis_Stage\n",
            "0  Ethiopia    Male                 High           Early\n",
            "1    Turkey  Female                 High        Moderate\n",
            "2    Turkey  Female               Middle           Early\n",
            "3  Tanzania    Male               Middle        Moderate\n",
            "4    France    Male               Middle           Early\n"
          ]
        }
      ]
    },
    {
      "cell_type": "markdown",
      "source": [
        "# **Dataset Preprocessing**"
      ],
      "metadata": {
        "id": "I40bavxMijzb"
      }
    },
    {
      "cell_type": "code",
      "source": [
        "# Identifying null values\n",
        "print(\"\\nNull Values:\")\n",
        "print(data.isnull().sum())"
      ],
      "metadata": {
        "id": "2Xth-XsUigXQ",
        "colab": {
          "base_uri": "https://localhost:8080/"
        },
        "outputId": "45b67068-1044-482b-fbdd-63dd9d2b6e02"
      },
      "execution_count": null,
      "outputs": [
        {
          "output_type": "stream",
          "name": "stdout",
          "text": [
            "\n",
            "Null Values:\n",
            "Country                 0\n",
            "Gender                  0\n",
            "Age                     0\n",
            "Tobacco_Use             0\n",
            "Alcohol_Use             0\n",
            "Socioeconomic_Status    0\n",
            "Diagnosis_Stage         0\n",
            "HPV_Related             0\n",
            "dtype: int64\n"
          ]
        }
      ]
    },
    {
      "cell_type": "code",
      "source": [
        "#Replace missing numerical features by mean\n",
        "mean_imputer = SimpleImputer(strategy='mean')\n",
        "data[numeric_columns.columns] = mean_imputer.fit_transform(data[numeric_columns.columns])\n",
        "\n",
        "#Replace missing categorical features by mode\n",
        "mode_imputer = SimpleImputer(strategy='most_frequent')\n",
        "data[categorical_columns.columns] = mode_imputer.fit_transform(data[categorical_columns.columns])"
      ],
      "metadata": {
        "id": "ocjgqT9ritUi"
      },
      "execution_count": null,
      "outputs": []
    },
    {
      "cell_type": "code",
      "source": [
        "# Remove duplicate rows where all column values are the same\n",
        "data = data.drop_duplicates()\n",
        "\n",
        "# Confirm removal\n",
        "print(f\"\\nNumber of duplicate rows after removal: {data.duplicated().sum()}\")"
      ],
      "metadata": {
        "id": "xCVzik2ijEDB",
        "colab": {
          "base_uri": "https://localhost:8080/"
        },
        "outputId": "f6cb5df1-550a-4a77-8ac6-5e55f07f5c3f"
      },
      "execution_count": null,
      "outputs": [
        {
          "output_type": "stream",
          "name": "stdout",
          "text": [
            "\n",
            "Number of duplicate rows after removal: 0\n"
          ]
        }
      ]
    },
    {
      "cell_type": "code",
      "source": [
        "data.shape"
      ],
      "metadata": {
        "colab": {
          "base_uri": "https://localhost:8080/"
        },
        "id": "0ARXsBbIhSoq",
        "outputId": "e4834a71-888b-4ab2-d3a9-6a6b1f90955e"
      },
      "execution_count": null,
      "outputs": [
        {
          "output_type": "execute_result",
          "data": {
            "text/plain": [
              "(105645, 8)"
            ]
          },
          "metadata": {},
          "execution_count": 13
        }
      ]
    },
    {
      "cell_type": "markdown",
      "source": [
        "# **Column wise Preprocessing**"
      ],
      "metadata": {
        "id": "0gwFBEhFjYSs"
      }
    },
    {
      "cell_type": "code",
      "source": [
        "#Unique values\n",
        "for column in data.columns:\n",
        "    unique_values = data[column].unique()\n",
        "    print(f\"\\nUnique values in column '{column}':\")\n",
        "    print(unique_values)"
      ],
      "metadata": {
        "id": "WTTFHfDAjx7a",
        "colab": {
          "base_uri": "https://localhost:8080/"
        },
        "outputId": "1bc5a511-447b-4514-93a0-f6a2f817fa44"
      },
      "execution_count": null,
      "outputs": [
        {
          "output_type": "stream",
          "name": "stdout",
          "text": [
            "\n",
            "Unique values in column 'Country':\n",
            "['Ethiopia' 'Turkey' 'Tanzania' 'France' 'China' 'Colombia' 'Japan'\n",
            " 'Nigeria' 'Brazil' 'Kenya' 'United Kingdom' 'Germany' 'Myanmar'\n",
            " 'Philippines' 'Russia' 'Thailand' 'Mexico' 'Bangladesh' 'Iran'\n",
            " 'United States' 'South Africa' 'DR Congo' 'Spain' 'Egypt' 'Italy'\n",
            " 'Indonesia' 'Pakistan' 'India' 'South Korea' 'Vietnam']\n",
            "\n",
            "Unique values in column 'Gender':\n",
            "['Male' 'Female']\n",
            "\n",
            "Unique values in column 'Age':\n",
            "[34. 84. 62. 48. 26. 22. 76. 49. 60. 20. 86. 72. 28. 27. 31. 41. 36. 50.\n",
            " 25. 37. 67. 40. 21. 70. 23. 57. 24. 39. 80. 30. 55. 32. 43. 66. 83. 79.\n",
            " 81. 35. 33. 69. 88. 71. 59. 75. 51. 52. 78. 38. 65. 44. 29. 64. 82. 42.\n",
            " 87. 56. 73. 53. 58. 77. 61. 54. 63. 74. 45. 68. 46. 85. 47. 89.]\n",
            "\n",
            "Unique values in column 'Tobacco_Use':\n",
            "[1. 0.]\n",
            "\n",
            "Unique values in column 'Alcohol_Use':\n",
            "[1. 0.]\n",
            "\n",
            "Unique values in column 'Socioeconomic_Status':\n",
            "['High' 'Middle' 'Low']\n",
            "\n",
            "Unique values in column 'Diagnosis_Stage':\n",
            "['Early' 'Moderate' 'Late']\n",
            "\n",
            "Unique values in column 'HPV_Related':\n",
            "[0. 1.]\n"
          ]
        }
      ]
    },
    {
      "cell_type": "code",
      "source": [
        "#Country column Analysis\n",
        "country_counts = data['Country'].value_counts()\n",
        "print(\"\\nCountry Value Counts:\")\n",
        "print(country_counts)"
      ],
      "metadata": {
        "colab": {
          "base_uri": "https://localhost:8080/"
        },
        "id": "gwDp3nm9Do_5",
        "outputId": "f050efb2-747c-49e7-9b6b-ff555321899d"
      },
      "execution_count": null,
      "outputs": [
        {
          "output_type": "stream",
          "name": "stdout",
          "text": [
            "\n",
            "Country Value Counts:\n",
            "Country\n",
            "Germany           3592\n",
            "Iran              3579\n",
            "Turkey            3571\n",
            "India             3568\n",
            "Vietnam           3564\n",
            "Pakistan          3551\n",
            "Ethiopia          3550\n",
            "Colombia          3536\n",
            "Italy             3534\n",
            "United Kingdom    3529\n",
            "South Korea       3526\n",
            "United States     3525\n",
            "China             3524\n",
            "Japan             3524\n",
            "Tanzania          3523\n",
            "Brazil            3522\n",
            "Russia            3520\n",
            "Nigeria           3519\n",
            "Kenya             3517\n",
            "Philippines       3516\n",
            "Bangladesh        3512\n",
            "South Africa      3510\n",
            "France            3500\n",
            "Thailand          3494\n",
            "Indonesia         3492\n",
            "DR Congo          3485\n",
            "Spain             3474\n",
            "Mexico            3473\n",
            "Myanmar           3471\n",
            "Egypt             3444\n",
            "Name: count, dtype: int64\n"
          ]
        }
      ]
    },
    {
      "cell_type": "code",
      "source": [
        "# Define a mapping of countries to continents\n",
        "continent_map = {\n",
        "    'Germany': 'Europe', 'United Kingdom': 'Europe', 'Italy': 'Europe', 'France': 'Europe', 'Spain': 'Europe',\n",
        "    'Russia': 'Europe', 'Turkey': 'Europe',\n",
        "\n",
        "    'Vietnam': 'Asia', 'Philippines': 'Asia', 'Pakistan': 'Asia', 'Bangladesh': 'Asia', 'South Korea': 'Asia',\n",
        "    'China': 'Asia', 'Japan': 'Asia', 'India': 'Asia', 'Myanmar': 'Asia', 'Thailand': 'Asia', 'Indonesia': 'Asia',\n",
        "    'Iran': 'Asia',\n",
        "\n",
        "    'Colombia': 'South America', 'Brazil': 'South America', 'Mexico': 'North America',\n",
        "\n",
        "    'Kenya': 'Africa', 'Nigeria': 'Africa', 'DR Congo': 'Africa', 'Ethiopia': 'Africa', 'South Africa': 'Africa',\n",
        "    'Tanzania': 'Africa', 'Egypt': 'Africa',\n",
        "\n",
        "    'United States': 'North America',\n",
        "\n",
        "    'Egypt': 'Africa'\n",
        "}\n",
        "\n",
        "# Create a new 'Continent' column\n",
        "data['Continent'] = data['Country'].map(continent_map)\n",
        "\n",
        "# Count occurrences per continent\n",
        "continent_counts = data['Continent'].value_counts()\n",
        "\n",
        "# Display results\n",
        "print(\"\\nContinent Value Counts:\")\n",
        "print(continent_counts)"
      ],
      "metadata": {
        "colab": {
          "base_uri": "https://localhost:8080/"
        },
        "id": "T_gjpiIJGN9R",
        "outputId": "4c2ebafc-1a31-4adc-d8c8-abbb18c8c63b"
      },
      "execution_count": null,
      "outputs": [
        {
          "output_type": "stream",
          "name": "stdout",
          "text": [
            "\n",
            "Continent Value Counts:\n",
            "Continent\n",
            "Asia             42321\n",
            "Europe           24720\n",
            "Africa           24548\n",
            "South America     7058\n",
            "North America     6998\n",
            "Name: count, dtype: int64\n"
          ]
        }
      ]
    },
    {
      "cell_type": "code",
      "source": [
        "data.head()"
      ],
      "metadata": {
        "colab": {
          "base_uri": "https://localhost:8080/",
          "height": 206
        },
        "id": "wKd9x9CsGUep",
        "outputId": "fdb45744-ecec-4734-9304-cf25ceaa8bf4"
      },
      "execution_count": null,
      "outputs": [
        {
          "output_type": "execute_result",
          "data": {
            "text/plain": [
              "    Country  Gender   Age  Tobacco_Use  Alcohol_Use Socioeconomic_Status  \\\n",
              "0  Ethiopia    Male  34.0          1.0          1.0                 High   \n",
              "1    Turkey  Female  84.0          1.0          1.0                 High   \n",
              "2    Turkey  Female  62.0          1.0          1.0               Middle   \n",
              "3  Tanzania    Male  48.0          1.0          1.0               Middle   \n",
              "4    France    Male  26.0          1.0          1.0               Middle   \n",
              "\n",
              "  Diagnosis_Stage  HPV_Related Continent  \n",
              "0           Early          0.0    Africa  \n",
              "1        Moderate          0.0    Europe  \n",
              "2           Early          1.0    Europe  \n",
              "3        Moderate          0.0    Africa  \n",
              "4           Early          0.0    Europe  "
            ],
            "text/html": [
              "\n",
              "  <div id=\"df-979eff27-fd32-40d6-9936-d43e9950bdc9\" class=\"colab-df-container\">\n",
              "    <div>\n",
              "<style scoped>\n",
              "    .dataframe tbody tr th:only-of-type {\n",
              "        vertical-align: middle;\n",
              "    }\n",
              "\n",
              "    .dataframe tbody tr th {\n",
              "        vertical-align: top;\n",
              "    }\n",
              "\n",
              "    .dataframe thead th {\n",
              "        text-align: right;\n",
              "    }\n",
              "</style>\n",
              "<table border=\"1\" class=\"dataframe\">\n",
              "  <thead>\n",
              "    <tr style=\"text-align: right;\">\n",
              "      <th></th>\n",
              "      <th>Country</th>\n",
              "      <th>Gender</th>\n",
              "      <th>Age</th>\n",
              "      <th>Tobacco_Use</th>\n",
              "      <th>Alcohol_Use</th>\n",
              "      <th>Socioeconomic_Status</th>\n",
              "      <th>Diagnosis_Stage</th>\n",
              "      <th>HPV_Related</th>\n",
              "      <th>Continent</th>\n",
              "    </tr>\n",
              "  </thead>\n",
              "  <tbody>\n",
              "    <tr>\n",
              "      <th>0</th>\n",
              "      <td>Ethiopia</td>\n",
              "      <td>Male</td>\n",
              "      <td>34.0</td>\n",
              "      <td>1.0</td>\n",
              "      <td>1.0</td>\n",
              "      <td>High</td>\n",
              "      <td>Early</td>\n",
              "      <td>0.0</td>\n",
              "      <td>Africa</td>\n",
              "    </tr>\n",
              "    <tr>\n",
              "      <th>1</th>\n",
              "      <td>Turkey</td>\n",
              "      <td>Female</td>\n",
              "      <td>84.0</td>\n",
              "      <td>1.0</td>\n",
              "      <td>1.0</td>\n",
              "      <td>High</td>\n",
              "      <td>Moderate</td>\n",
              "      <td>0.0</td>\n",
              "      <td>Europe</td>\n",
              "    </tr>\n",
              "    <tr>\n",
              "      <th>2</th>\n",
              "      <td>Turkey</td>\n",
              "      <td>Female</td>\n",
              "      <td>62.0</td>\n",
              "      <td>1.0</td>\n",
              "      <td>1.0</td>\n",
              "      <td>Middle</td>\n",
              "      <td>Early</td>\n",
              "      <td>1.0</td>\n",
              "      <td>Europe</td>\n",
              "    </tr>\n",
              "    <tr>\n",
              "      <th>3</th>\n",
              "      <td>Tanzania</td>\n",
              "      <td>Male</td>\n",
              "      <td>48.0</td>\n",
              "      <td>1.0</td>\n",
              "      <td>1.0</td>\n",
              "      <td>Middle</td>\n",
              "      <td>Moderate</td>\n",
              "      <td>0.0</td>\n",
              "      <td>Africa</td>\n",
              "    </tr>\n",
              "    <tr>\n",
              "      <th>4</th>\n",
              "      <td>France</td>\n",
              "      <td>Male</td>\n",
              "      <td>26.0</td>\n",
              "      <td>1.0</td>\n",
              "      <td>1.0</td>\n",
              "      <td>Middle</td>\n",
              "      <td>Early</td>\n",
              "      <td>0.0</td>\n",
              "      <td>Europe</td>\n",
              "    </tr>\n",
              "  </tbody>\n",
              "</table>\n",
              "</div>\n",
              "    <div class=\"colab-df-buttons\">\n",
              "\n",
              "  <div class=\"colab-df-container\">\n",
              "    <button class=\"colab-df-convert\" onclick=\"convertToInteractive('df-979eff27-fd32-40d6-9936-d43e9950bdc9')\"\n",
              "            title=\"Convert this dataframe to an interactive table.\"\n",
              "            style=\"display:none;\">\n",
              "\n",
              "  <svg xmlns=\"http://www.w3.org/2000/svg\" height=\"24px\" viewBox=\"0 -960 960 960\">\n",
              "    <path d=\"M120-120v-720h720v720H120Zm60-500h600v-160H180v160Zm220 220h160v-160H400v160Zm0 220h160v-160H400v160ZM180-400h160v-160H180v160Zm440 0h160v-160H620v160ZM180-180h160v-160H180v160Zm440 0h160v-160H620v160Z\"/>\n",
              "  </svg>\n",
              "    </button>\n",
              "\n",
              "  <style>\n",
              "    .colab-df-container {\n",
              "      display:flex;\n",
              "      gap: 12px;\n",
              "    }\n",
              "\n",
              "    .colab-df-convert {\n",
              "      background-color: #E8F0FE;\n",
              "      border: none;\n",
              "      border-radius: 50%;\n",
              "      cursor: pointer;\n",
              "      display: none;\n",
              "      fill: #1967D2;\n",
              "      height: 32px;\n",
              "      padding: 0 0 0 0;\n",
              "      width: 32px;\n",
              "    }\n",
              "\n",
              "    .colab-df-convert:hover {\n",
              "      background-color: #E2EBFA;\n",
              "      box-shadow: 0px 1px 2px rgba(60, 64, 67, 0.3), 0px 1px 3px 1px rgba(60, 64, 67, 0.15);\n",
              "      fill: #174EA6;\n",
              "    }\n",
              "\n",
              "    .colab-df-buttons div {\n",
              "      margin-bottom: 4px;\n",
              "    }\n",
              "\n",
              "    [theme=dark] .colab-df-convert {\n",
              "      background-color: #3B4455;\n",
              "      fill: #D2E3FC;\n",
              "    }\n",
              "\n",
              "    [theme=dark] .colab-df-convert:hover {\n",
              "      background-color: #434B5C;\n",
              "      box-shadow: 0px 1px 3px 1px rgba(0, 0, 0, 0.15);\n",
              "      filter: drop-shadow(0px 1px 2px rgba(0, 0, 0, 0.3));\n",
              "      fill: #FFFFFF;\n",
              "    }\n",
              "  </style>\n",
              "\n",
              "    <script>\n",
              "      const buttonEl =\n",
              "        document.querySelector('#df-979eff27-fd32-40d6-9936-d43e9950bdc9 button.colab-df-convert');\n",
              "      buttonEl.style.display =\n",
              "        google.colab.kernel.accessAllowed ? 'block' : 'none';\n",
              "\n",
              "      async function convertToInteractive(key) {\n",
              "        const element = document.querySelector('#df-979eff27-fd32-40d6-9936-d43e9950bdc9');\n",
              "        const dataTable =\n",
              "          await google.colab.kernel.invokeFunction('convertToInteractive',\n",
              "                                                    [key], {});\n",
              "        if (!dataTable) return;\n",
              "\n",
              "        const docLinkHtml = 'Like what you see? Visit the ' +\n",
              "          '<a target=\"_blank\" href=https://colab.research.google.com/notebooks/data_table.ipynb>data table notebook</a>'\n",
              "          + ' to learn more about interactive tables.';\n",
              "        element.innerHTML = '';\n",
              "        dataTable['output_type'] = 'display_data';\n",
              "        await google.colab.output.renderOutput(dataTable, element);\n",
              "        const docLink = document.createElement('div');\n",
              "        docLink.innerHTML = docLinkHtml;\n",
              "        element.appendChild(docLink);\n",
              "      }\n",
              "    </script>\n",
              "  </div>\n",
              "\n",
              "\n",
              "<div id=\"df-bd7df027-5a48-4283-942c-b1d46e1777a9\">\n",
              "  <button class=\"colab-df-quickchart\" onclick=\"quickchart('df-bd7df027-5a48-4283-942c-b1d46e1777a9')\"\n",
              "            title=\"Suggest charts\"\n",
              "            style=\"display:none;\">\n",
              "\n",
              "<svg xmlns=\"http://www.w3.org/2000/svg\" height=\"24px\"viewBox=\"0 0 24 24\"\n",
              "     width=\"24px\">\n",
              "    <g>\n",
              "        <path d=\"M19 3H5c-1.1 0-2 .9-2 2v14c0 1.1.9 2 2 2h14c1.1 0 2-.9 2-2V5c0-1.1-.9-2-2-2zM9 17H7v-7h2v7zm4 0h-2V7h2v10zm4 0h-2v-4h2v4z\"/>\n",
              "    </g>\n",
              "</svg>\n",
              "  </button>\n",
              "\n",
              "<style>\n",
              "  .colab-df-quickchart {\n",
              "      --bg-color: #E8F0FE;\n",
              "      --fill-color: #1967D2;\n",
              "      --hover-bg-color: #E2EBFA;\n",
              "      --hover-fill-color: #174EA6;\n",
              "      --disabled-fill-color: #AAA;\n",
              "      --disabled-bg-color: #DDD;\n",
              "  }\n",
              "\n",
              "  [theme=dark] .colab-df-quickchart {\n",
              "      --bg-color: #3B4455;\n",
              "      --fill-color: #D2E3FC;\n",
              "      --hover-bg-color: #434B5C;\n",
              "      --hover-fill-color: #FFFFFF;\n",
              "      --disabled-bg-color: #3B4455;\n",
              "      --disabled-fill-color: #666;\n",
              "  }\n",
              "\n",
              "  .colab-df-quickchart {\n",
              "    background-color: var(--bg-color);\n",
              "    border: none;\n",
              "    border-radius: 50%;\n",
              "    cursor: pointer;\n",
              "    display: none;\n",
              "    fill: var(--fill-color);\n",
              "    height: 32px;\n",
              "    padding: 0;\n",
              "    width: 32px;\n",
              "  }\n",
              "\n",
              "  .colab-df-quickchart:hover {\n",
              "    background-color: var(--hover-bg-color);\n",
              "    box-shadow: 0 1px 2px rgba(60, 64, 67, 0.3), 0 1px 3px 1px rgba(60, 64, 67, 0.15);\n",
              "    fill: var(--button-hover-fill-color);\n",
              "  }\n",
              "\n",
              "  .colab-df-quickchart-complete:disabled,\n",
              "  .colab-df-quickchart-complete:disabled:hover {\n",
              "    background-color: var(--disabled-bg-color);\n",
              "    fill: var(--disabled-fill-color);\n",
              "    box-shadow: none;\n",
              "  }\n",
              "\n",
              "  .colab-df-spinner {\n",
              "    border: 2px solid var(--fill-color);\n",
              "    border-color: transparent;\n",
              "    border-bottom-color: var(--fill-color);\n",
              "    animation:\n",
              "      spin 1s steps(1) infinite;\n",
              "  }\n",
              "\n",
              "  @keyframes spin {\n",
              "    0% {\n",
              "      border-color: transparent;\n",
              "      border-bottom-color: var(--fill-color);\n",
              "      border-left-color: var(--fill-color);\n",
              "    }\n",
              "    20% {\n",
              "      border-color: transparent;\n",
              "      border-left-color: var(--fill-color);\n",
              "      border-top-color: var(--fill-color);\n",
              "    }\n",
              "    30% {\n",
              "      border-color: transparent;\n",
              "      border-left-color: var(--fill-color);\n",
              "      border-top-color: var(--fill-color);\n",
              "      border-right-color: var(--fill-color);\n",
              "    }\n",
              "    40% {\n",
              "      border-color: transparent;\n",
              "      border-right-color: var(--fill-color);\n",
              "      border-top-color: var(--fill-color);\n",
              "    }\n",
              "    60% {\n",
              "      border-color: transparent;\n",
              "      border-right-color: var(--fill-color);\n",
              "    }\n",
              "    80% {\n",
              "      border-color: transparent;\n",
              "      border-right-color: var(--fill-color);\n",
              "      border-bottom-color: var(--fill-color);\n",
              "    }\n",
              "    90% {\n",
              "      border-color: transparent;\n",
              "      border-bottom-color: var(--fill-color);\n",
              "    }\n",
              "  }\n",
              "</style>\n",
              "\n",
              "  <script>\n",
              "    async function quickchart(key) {\n",
              "      const quickchartButtonEl =\n",
              "        document.querySelector('#' + key + ' button');\n",
              "      quickchartButtonEl.disabled = true;  // To prevent multiple clicks.\n",
              "      quickchartButtonEl.classList.add('colab-df-spinner');\n",
              "      try {\n",
              "        const charts = await google.colab.kernel.invokeFunction(\n",
              "            'suggestCharts', [key], {});\n",
              "      } catch (error) {\n",
              "        console.error('Error during call to suggestCharts:', error);\n",
              "      }\n",
              "      quickchartButtonEl.classList.remove('colab-df-spinner');\n",
              "      quickchartButtonEl.classList.add('colab-df-quickchart-complete');\n",
              "    }\n",
              "    (() => {\n",
              "      let quickchartButtonEl =\n",
              "        document.querySelector('#df-bd7df027-5a48-4283-942c-b1d46e1777a9 button');\n",
              "      quickchartButtonEl.style.display =\n",
              "        google.colab.kernel.accessAllowed ? 'block' : 'none';\n",
              "    })();\n",
              "  </script>\n",
              "</div>\n",
              "\n",
              "    </div>\n",
              "  </div>\n"
            ],
            "application/vnd.google.colaboratory.intrinsic+json": {
              "type": "dataframe",
              "variable_name": "data"
            }
          },
          "metadata": {},
          "execution_count": 17
        }
      ]
    },
    {
      "cell_type": "code",
      "source": [
        "#Drop Country column\n",
        "data = data.drop(columns=['Country'])"
      ],
      "metadata": {
        "id": "KYU1py5_HVhV"
      },
      "execution_count": null,
      "outputs": []
    },
    {
      "cell_type": "code",
      "source": [
        "data.head()"
      ],
      "metadata": {
        "colab": {
          "base_uri": "https://localhost:8080/",
          "height": 206
        },
        "id": "ZIVv6QdjHbPK",
        "outputId": "db3bac04-e6ac-4ff7-a319-321228101504"
      },
      "execution_count": null,
      "outputs": [
        {
          "output_type": "execute_result",
          "data": {
            "text/plain": [
              "   Gender   Age  Tobacco_Use  Alcohol_Use Socioeconomic_Status  \\\n",
              "0    Male  34.0          1.0          1.0                 High   \n",
              "1  Female  84.0          1.0          1.0                 High   \n",
              "2  Female  62.0          1.0          1.0               Middle   \n",
              "3    Male  48.0          1.0          1.0               Middle   \n",
              "4    Male  26.0          1.0          1.0               Middle   \n",
              "\n",
              "  Diagnosis_Stage  HPV_Related Continent  \n",
              "0           Early          0.0    Africa  \n",
              "1        Moderate          0.0    Europe  \n",
              "2           Early          1.0    Europe  \n",
              "3        Moderate          0.0    Africa  \n",
              "4           Early          0.0    Europe  "
            ],
            "text/html": [
              "\n",
              "  <div id=\"df-356aba31-3d1c-4611-8c26-bf2fe4d024c6\" class=\"colab-df-container\">\n",
              "    <div>\n",
              "<style scoped>\n",
              "    .dataframe tbody tr th:only-of-type {\n",
              "        vertical-align: middle;\n",
              "    }\n",
              "\n",
              "    .dataframe tbody tr th {\n",
              "        vertical-align: top;\n",
              "    }\n",
              "\n",
              "    .dataframe thead th {\n",
              "        text-align: right;\n",
              "    }\n",
              "</style>\n",
              "<table border=\"1\" class=\"dataframe\">\n",
              "  <thead>\n",
              "    <tr style=\"text-align: right;\">\n",
              "      <th></th>\n",
              "      <th>Gender</th>\n",
              "      <th>Age</th>\n",
              "      <th>Tobacco_Use</th>\n",
              "      <th>Alcohol_Use</th>\n",
              "      <th>Socioeconomic_Status</th>\n",
              "      <th>Diagnosis_Stage</th>\n",
              "      <th>HPV_Related</th>\n",
              "      <th>Continent</th>\n",
              "    </tr>\n",
              "  </thead>\n",
              "  <tbody>\n",
              "    <tr>\n",
              "      <th>0</th>\n",
              "      <td>Male</td>\n",
              "      <td>34.0</td>\n",
              "      <td>1.0</td>\n",
              "      <td>1.0</td>\n",
              "      <td>High</td>\n",
              "      <td>Early</td>\n",
              "      <td>0.0</td>\n",
              "      <td>Africa</td>\n",
              "    </tr>\n",
              "    <tr>\n",
              "      <th>1</th>\n",
              "      <td>Female</td>\n",
              "      <td>84.0</td>\n",
              "      <td>1.0</td>\n",
              "      <td>1.0</td>\n",
              "      <td>High</td>\n",
              "      <td>Moderate</td>\n",
              "      <td>0.0</td>\n",
              "      <td>Europe</td>\n",
              "    </tr>\n",
              "    <tr>\n",
              "      <th>2</th>\n",
              "      <td>Female</td>\n",
              "      <td>62.0</td>\n",
              "      <td>1.0</td>\n",
              "      <td>1.0</td>\n",
              "      <td>Middle</td>\n",
              "      <td>Early</td>\n",
              "      <td>1.0</td>\n",
              "      <td>Europe</td>\n",
              "    </tr>\n",
              "    <tr>\n",
              "      <th>3</th>\n",
              "      <td>Male</td>\n",
              "      <td>48.0</td>\n",
              "      <td>1.0</td>\n",
              "      <td>1.0</td>\n",
              "      <td>Middle</td>\n",
              "      <td>Moderate</td>\n",
              "      <td>0.0</td>\n",
              "      <td>Africa</td>\n",
              "    </tr>\n",
              "    <tr>\n",
              "      <th>4</th>\n",
              "      <td>Male</td>\n",
              "      <td>26.0</td>\n",
              "      <td>1.0</td>\n",
              "      <td>1.0</td>\n",
              "      <td>Middle</td>\n",
              "      <td>Early</td>\n",
              "      <td>0.0</td>\n",
              "      <td>Europe</td>\n",
              "    </tr>\n",
              "  </tbody>\n",
              "</table>\n",
              "</div>\n",
              "    <div class=\"colab-df-buttons\">\n",
              "\n",
              "  <div class=\"colab-df-container\">\n",
              "    <button class=\"colab-df-convert\" onclick=\"convertToInteractive('df-356aba31-3d1c-4611-8c26-bf2fe4d024c6')\"\n",
              "            title=\"Convert this dataframe to an interactive table.\"\n",
              "            style=\"display:none;\">\n",
              "\n",
              "  <svg xmlns=\"http://www.w3.org/2000/svg\" height=\"24px\" viewBox=\"0 -960 960 960\">\n",
              "    <path d=\"M120-120v-720h720v720H120Zm60-500h600v-160H180v160Zm220 220h160v-160H400v160Zm0 220h160v-160H400v160ZM180-400h160v-160H180v160Zm440 0h160v-160H620v160ZM180-180h160v-160H180v160Zm440 0h160v-160H620v160Z\"/>\n",
              "  </svg>\n",
              "    </button>\n",
              "\n",
              "  <style>\n",
              "    .colab-df-container {\n",
              "      display:flex;\n",
              "      gap: 12px;\n",
              "    }\n",
              "\n",
              "    .colab-df-convert {\n",
              "      background-color: #E8F0FE;\n",
              "      border: none;\n",
              "      border-radius: 50%;\n",
              "      cursor: pointer;\n",
              "      display: none;\n",
              "      fill: #1967D2;\n",
              "      height: 32px;\n",
              "      padding: 0 0 0 0;\n",
              "      width: 32px;\n",
              "    }\n",
              "\n",
              "    .colab-df-convert:hover {\n",
              "      background-color: #E2EBFA;\n",
              "      box-shadow: 0px 1px 2px rgba(60, 64, 67, 0.3), 0px 1px 3px 1px rgba(60, 64, 67, 0.15);\n",
              "      fill: #174EA6;\n",
              "    }\n",
              "\n",
              "    .colab-df-buttons div {\n",
              "      margin-bottom: 4px;\n",
              "    }\n",
              "\n",
              "    [theme=dark] .colab-df-convert {\n",
              "      background-color: #3B4455;\n",
              "      fill: #D2E3FC;\n",
              "    }\n",
              "\n",
              "    [theme=dark] .colab-df-convert:hover {\n",
              "      background-color: #434B5C;\n",
              "      box-shadow: 0px 1px 3px 1px rgba(0, 0, 0, 0.15);\n",
              "      filter: drop-shadow(0px 1px 2px rgba(0, 0, 0, 0.3));\n",
              "      fill: #FFFFFF;\n",
              "    }\n",
              "  </style>\n",
              "\n",
              "    <script>\n",
              "      const buttonEl =\n",
              "        document.querySelector('#df-356aba31-3d1c-4611-8c26-bf2fe4d024c6 button.colab-df-convert');\n",
              "      buttonEl.style.display =\n",
              "        google.colab.kernel.accessAllowed ? 'block' : 'none';\n",
              "\n",
              "      async function convertToInteractive(key) {\n",
              "        const element = document.querySelector('#df-356aba31-3d1c-4611-8c26-bf2fe4d024c6');\n",
              "        const dataTable =\n",
              "          await google.colab.kernel.invokeFunction('convertToInteractive',\n",
              "                                                    [key], {});\n",
              "        if (!dataTable) return;\n",
              "\n",
              "        const docLinkHtml = 'Like what you see? Visit the ' +\n",
              "          '<a target=\"_blank\" href=https://colab.research.google.com/notebooks/data_table.ipynb>data table notebook</a>'\n",
              "          + ' to learn more about interactive tables.';\n",
              "        element.innerHTML = '';\n",
              "        dataTable['output_type'] = 'display_data';\n",
              "        await google.colab.output.renderOutput(dataTable, element);\n",
              "        const docLink = document.createElement('div');\n",
              "        docLink.innerHTML = docLinkHtml;\n",
              "        element.appendChild(docLink);\n",
              "      }\n",
              "    </script>\n",
              "  </div>\n",
              "\n",
              "\n",
              "<div id=\"df-31497fba-b7c7-4aac-bd9f-343315d0ff30\">\n",
              "  <button class=\"colab-df-quickchart\" onclick=\"quickchart('df-31497fba-b7c7-4aac-bd9f-343315d0ff30')\"\n",
              "            title=\"Suggest charts\"\n",
              "            style=\"display:none;\">\n",
              "\n",
              "<svg xmlns=\"http://www.w3.org/2000/svg\" height=\"24px\"viewBox=\"0 0 24 24\"\n",
              "     width=\"24px\">\n",
              "    <g>\n",
              "        <path d=\"M19 3H5c-1.1 0-2 .9-2 2v14c0 1.1.9 2 2 2h14c1.1 0 2-.9 2-2V5c0-1.1-.9-2-2-2zM9 17H7v-7h2v7zm4 0h-2V7h2v10zm4 0h-2v-4h2v4z\"/>\n",
              "    </g>\n",
              "</svg>\n",
              "  </button>\n",
              "\n",
              "<style>\n",
              "  .colab-df-quickchart {\n",
              "      --bg-color: #E8F0FE;\n",
              "      --fill-color: #1967D2;\n",
              "      --hover-bg-color: #E2EBFA;\n",
              "      --hover-fill-color: #174EA6;\n",
              "      --disabled-fill-color: #AAA;\n",
              "      --disabled-bg-color: #DDD;\n",
              "  }\n",
              "\n",
              "  [theme=dark] .colab-df-quickchart {\n",
              "      --bg-color: #3B4455;\n",
              "      --fill-color: #D2E3FC;\n",
              "      --hover-bg-color: #434B5C;\n",
              "      --hover-fill-color: #FFFFFF;\n",
              "      --disabled-bg-color: #3B4455;\n",
              "      --disabled-fill-color: #666;\n",
              "  }\n",
              "\n",
              "  .colab-df-quickchart {\n",
              "    background-color: var(--bg-color);\n",
              "    border: none;\n",
              "    border-radius: 50%;\n",
              "    cursor: pointer;\n",
              "    display: none;\n",
              "    fill: var(--fill-color);\n",
              "    height: 32px;\n",
              "    padding: 0;\n",
              "    width: 32px;\n",
              "  }\n",
              "\n",
              "  .colab-df-quickchart:hover {\n",
              "    background-color: var(--hover-bg-color);\n",
              "    box-shadow: 0 1px 2px rgba(60, 64, 67, 0.3), 0 1px 3px 1px rgba(60, 64, 67, 0.15);\n",
              "    fill: var(--button-hover-fill-color);\n",
              "  }\n",
              "\n",
              "  .colab-df-quickchart-complete:disabled,\n",
              "  .colab-df-quickchart-complete:disabled:hover {\n",
              "    background-color: var(--disabled-bg-color);\n",
              "    fill: var(--disabled-fill-color);\n",
              "    box-shadow: none;\n",
              "  }\n",
              "\n",
              "  .colab-df-spinner {\n",
              "    border: 2px solid var(--fill-color);\n",
              "    border-color: transparent;\n",
              "    border-bottom-color: var(--fill-color);\n",
              "    animation:\n",
              "      spin 1s steps(1) infinite;\n",
              "  }\n",
              "\n",
              "  @keyframes spin {\n",
              "    0% {\n",
              "      border-color: transparent;\n",
              "      border-bottom-color: var(--fill-color);\n",
              "      border-left-color: var(--fill-color);\n",
              "    }\n",
              "    20% {\n",
              "      border-color: transparent;\n",
              "      border-left-color: var(--fill-color);\n",
              "      border-top-color: var(--fill-color);\n",
              "    }\n",
              "    30% {\n",
              "      border-color: transparent;\n",
              "      border-left-color: var(--fill-color);\n",
              "      border-top-color: var(--fill-color);\n",
              "      border-right-color: var(--fill-color);\n",
              "    }\n",
              "    40% {\n",
              "      border-color: transparent;\n",
              "      border-right-color: var(--fill-color);\n",
              "      border-top-color: var(--fill-color);\n",
              "    }\n",
              "    60% {\n",
              "      border-color: transparent;\n",
              "      border-right-color: var(--fill-color);\n",
              "    }\n",
              "    80% {\n",
              "      border-color: transparent;\n",
              "      border-right-color: var(--fill-color);\n",
              "      border-bottom-color: var(--fill-color);\n",
              "    }\n",
              "    90% {\n",
              "      border-color: transparent;\n",
              "      border-bottom-color: var(--fill-color);\n",
              "    }\n",
              "  }\n",
              "</style>\n",
              "\n",
              "  <script>\n",
              "    async function quickchart(key) {\n",
              "      const quickchartButtonEl =\n",
              "        document.querySelector('#' + key + ' button');\n",
              "      quickchartButtonEl.disabled = true;  // To prevent multiple clicks.\n",
              "      quickchartButtonEl.classList.add('colab-df-spinner');\n",
              "      try {\n",
              "        const charts = await google.colab.kernel.invokeFunction(\n",
              "            'suggestCharts', [key], {});\n",
              "      } catch (error) {\n",
              "        console.error('Error during call to suggestCharts:', error);\n",
              "      }\n",
              "      quickchartButtonEl.classList.remove('colab-df-spinner');\n",
              "      quickchartButtonEl.classList.add('colab-df-quickchart-complete');\n",
              "    }\n",
              "    (() => {\n",
              "      let quickchartButtonEl =\n",
              "        document.querySelector('#df-31497fba-b7c7-4aac-bd9f-343315d0ff30 button');\n",
              "      quickchartButtonEl.style.display =\n",
              "        google.colab.kernel.accessAllowed ? 'block' : 'none';\n",
              "    })();\n",
              "  </script>\n",
              "</div>\n",
              "\n",
              "    </div>\n",
              "  </div>\n"
            ],
            "application/vnd.google.colaboratory.intrinsic+json": {
              "type": "dataframe",
              "variable_name": "data"
            }
          },
          "metadata": {},
          "execution_count": 19
        }
      ]
    },
    {
      "cell_type": "markdown",
      "source": [
        "**Gender Column**"
      ],
      "metadata": {
        "id": "K0_BkOfUHiKE"
      }
    },
    {
      "cell_type": "code",
      "source": [
        "\n",
        "#Gender column Analysis\n",
        "data['Gender'].value_counts()"
      ],
      "metadata": {
        "colab": {
          "base_uri": "https://localhost:8080/",
          "height": 178
        },
        "id": "kurFpD19HlHK",
        "outputId": "e6f47b72-6a38-4155-9ba5-ecb9a52007e2"
      },
      "execution_count": null,
      "outputs": [
        {
          "output_type": "execute_result",
          "data": {
            "text/plain": [
              "Gender\n",
              "Male      65479\n",
              "Female    40166\n",
              "Name: count, dtype: int64"
            ],
            "text/html": [
              "<div>\n",
              "<style scoped>\n",
              "    .dataframe tbody tr th:only-of-type {\n",
              "        vertical-align: middle;\n",
              "    }\n",
              "\n",
              "    .dataframe tbody tr th {\n",
              "        vertical-align: top;\n",
              "    }\n",
              "\n",
              "    .dataframe thead th {\n",
              "        text-align: right;\n",
              "    }\n",
              "</style>\n",
              "<table border=\"1\" class=\"dataframe\">\n",
              "  <thead>\n",
              "    <tr style=\"text-align: right;\">\n",
              "      <th></th>\n",
              "      <th>count</th>\n",
              "    </tr>\n",
              "    <tr>\n",
              "      <th>Gender</th>\n",
              "      <th></th>\n",
              "    </tr>\n",
              "  </thead>\n",
              "  <tbody>\n",
              "    <tr>\n",
              "      <th>Male</th>\n",
              "      <td>65479</td>\n",
              "    </tr>\n",
              "    <tr>\n",
              "      <th>Female</th>\n",
              "      <td>40166</td>\n",
              "    </tr>\n",
              "  </tbody>\n",
              "</table>\n",
              "</div><br><label><b>dtype:</b> int64</label>"
            ]
          },
          "metadata": {},
          "execution_count": 20
        }
      ]
    },
    {
      "cell_type": "markdown",
      "source": [
        "**Socioeconomic_Status column Analysis**"
      ],
      "metadata": {
        "id": "5urbG3ByIKX2"
      }
    },
    {
      "cell_type": "code",
      "source": [
        "#Socioeconomic_Status column Analysis\n",
        "data['Socioeconomic_Status'].value_counts()"
      ],
      "metadata": {
        "colab": {
          "base_uri": "https://localhost:8080/",
          "height": 209
        },
        "id": "2WWVmWYDIOhj",
        "outputId": "6b2a276f-d81c-4f63-a015-d33b70a55411"
      },
      "execution_count": null,
      "outputs": [
        {
          "output_type": "execute_result",
          "data": {
            "text/plain": [
              "Socioeconomic_Status\n",
              "Low       47499\n",
              "Middle    38101\n",
              "High      20045\n",
              "Name: count, dtype: int64"
            ],
            "text/html": [
              "<div>\n",
              "<style scoped>\n",
              "    .dataframe tbody tr th:only-of-type {\n",
              "        vertical-align: middle;\n",
              "    }\n",
              "\n",
              "    .dataframe tbody tr th {\n",
              "        vertical-align: top;\n",
              "    }\n",
              "\n",
              "    .dataframe thead th {\n",
              "        text-align: right;\n",
              "    }\n",
              "</style>\n",
              "<table border=\"1\" class=\"dataframe\">\n",
              "  <thead>\n",
              "    <tr style=\"text-align: right;\">\n",
              "      <th></th>\n",
              "      <th>count</th>\n",
              "    </tr>\n",
              "    <tr>\n",
              "      <th>Socioeconomic_Status</th>\n",
              "      <th></th>\n",
              "    </tr>\n",
              "  </thead>\n",
              "  <tbody>\n",
              "    <tr>\n",
              "      <th>Low</th>\n",
              "      <td>47499</td>\n",
              "    </tr>\n",
              "    <tr>\n",
              "      <th>Middle</th>\n",
              "      <td>38101</td>\n",
              "    </tr>\n",
              "    <tr>\n",
              "      <th>High</th>\n",
              "      <td>20045</td>\n",
              "    </tr>\n",
              "  </tbody>\n",
              "</table>\n",
              "</div><br><label><b>dtype:</b> int64</label>"
            ]
          },
          "metadata": {},
          "execution_count": 21
        }
      ]
    },
    {
      "cell_type": "markdown",
      "source": [
        "# **Save Preprocess dataset**"
      ],
      "metadata": {
        "id": "BQoEXhg-kfv3"
      }
    },
    {
      "cell_type": "code",
      "source": [
        "from google.colab import drive\n",
        "import os\n",
        "\n",
        "# Mount Google Drive\n",
        "drive.mount('/content/drive')\n",
        "\n",
        "# Define the correct directory and filename\n",
        "folder_path = \"/content/drive/MyDrive/DSGP/Siyumi/Modelnew\"\n",
        "file_name = \"preprocessed_new_dataset.csv\"\n",
        "full_path = os.path.join(folder_path, file_name)\n",
        "\n",
        "# Ensure the folder exists\n",
        "os.makedirs(folder_path, exist_ok=True)\n",
        "\n",
        "# Save the dataset\n",
        "data.to_csv(full_path, index=False)\n",
        "\n",
        "print(f\"Preprocessed dataset saved to: {full_path}\")"
      ],
      "metadata": {
        "id": "wxFZWeNxj5o2",
        "colab": {
          "base_uri": "https://localhost:8080/"
        },
        "outputId": "8c97ec11-7b35-428d-c4af-a78047d81b7f"
      },
      "execution_count": null,
      "outputs": [
        {
          "output_type": "stream",
          "name": "stdout",
          "text": [
            "Drive already mounted at /content/drive; to attempt to forcibly remount, call drive.mount(\"/content/drive\", force_remount=True).\n",
            "Preprocessed dataset saved to: /content/drive/MyDrive/DSGP/Siyumi/Modelnew/preprocessed_new_dataset_2.csv\n"
          ]
        }
      ]
    }
  ]
}