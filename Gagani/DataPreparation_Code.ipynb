{
  "nbformat": 4,
  "nbformat_minor": 0,
  "metadata": {
    "colab": {
      "provenance": [],
      "mount_file_id": "1-KlHoLpgiKKiFcs_7Db2E0uSAO5kRmr4",
      "authorship_tag": "ABX9TyNaUiS4kMYuoa9Ap3kbqbTO",
      "include_colab_link": true
    },
    "kernelspec": {
      "name": "python3",
      "display_name": "Python 3"
    },
    "language_info": {
      "name": "python"
    }
  },
  "cells": [
    {
      "cell_type": "markdown",
      "metadata": {
        "id": "view-in-github",
        "colab_type": "text"
      },
      "source": [
        "<a href=\"https://colab.research.google.com/github/tharushaliyanagama/OralCancerEarlyDetection-DSGP/blob/Image-Validation/DataPreparation_Code.ipynb\" target=\"_parent\"><img src=\"https://colab.research.google.com/assets/colab-badge.svg\" alt=\"Open In Colab\"/></a>"
      ]
    },
    {
      "cell_type": "code",
      "execution_count": null,
      "metadata": {
        "id": "X-XQDYOAIPJ4"
      },
      "outputs": [],
      "source": [
        "import tensorflow as tf\n",
        "from tensorflow.keras.preprocessing.image import ImageDataGenerator, load_img, img_to_array\n",
        "from tensorflow.keras import layers, models\n",
        "import os\n",
        "import random\n",
        "import shutil"
      ]
    },
    {
      "cell_type": "code",
      "source": [
        "from google.colab import drive\n",
        "drive.mount('/content/drive')"
      ],
      "metadata": {
        "colab": {
          "base_uri": "https://localhost:8080/"
        },
        "id": "OAxA-yLJJJeb",
        "outputId": "def8d5f3-66e7-4e06-844e-7958b54781f1"
      },
      "execution_count": null,
      "outputs": [
        {
          "output_type": "stream",
          "name": "stdout",
          "text": [
            "Drive already mounted at /content/drive; to attempt to forcibly remount, call drive.mount(\"/content/drive\", force_remount=True).\n"
          ]
        }
      ]
    },
    {
      "cell_type": "code",
      "source": [
        "# Paths\n",
        "main_dataset_dir = \"/content/drive/MyDrive/Train\"\n",
        "output_dir = \"/content/drive/MyDrive/Proper_dataset\"\n",
        "train_split = 0.8         # 80% for training, 20% for validation\n",
        "\n",
        "# Create train/val folders\n",
        "os.makedirs(os.path.join(output_dir, \"train/mouth\"), exist_ok=True)\n",
        "os.makedirs(os.path.join(output_dir, \"train/non_mouth\"), exist_ok=True)\n",
        "os.makedirs(os.path.join(output_dir, \"val/mouth\"), exist_ok=True)\n",
        "os.makedirs(os.path.join(output_dir, \"val/non_mouth\"), exist_ok=True)"
      ],
      "metadata": {
        "id": "6QyJYRccyktc"
      },
      "execution_count": null,
      "outputs": []
    },
    {
      "cell_type": "code",
      "source": [
        "# Function to split data\n",
        "def split_data(class_name):\n",
        "    class_dir = os.path.join(main_dataset_dir, class_name)\n",
        "    images = os.listdir(class_dir)\n",
        "    random.shuffle(images)\n",
        "    split_index = int(len(images) * train_split)\n",
        "\n",
        "    train_images = images[:split_index]\n",
        "    val_images = images[split_index:]\n",
        "\n",
        "    # Move files to train and val folders\n",
        "    for img in train_images:\n",
        "        src = os.path.join(class_dir, img)\n",
        "        dst = os.path.join(output_dir, \"train\", class_name, img)\n",
        "        shutil.copy(src, dst)\n",
        "\n",
        "    for img in val_images:\n",
        "        src = os.path.join(class_dir, img)\n",
        "        dst = os.path.join(output_dir, \"val\", class_name, img)\n",
        "        shutil.copy(src, dst)"
      ],
      "metadata": {
        "id": "7BEyatT0ypYw"
      },
      "execution_count": null,
      "outputs": []
    },
    {
      "cell_type": "code",
      "source": [
        "# Split for \"mouth\" and \"non_mouth\"\n",
        "split_data(\"mouth\")\n",
        "split_data(\"non_mouth\")\n",
        "\n",
        "print(\"Dataset split into training and validation sets!\")"
      ],
      "metadata": {
        "colab": {
          "base_uri": "https://localhost:8080/"
        },
        "id": "5GnWuFx4ysVp",
        "outputId": "4e6e180f-f6db-4d38-97be-4bf5c15f4842"
      },
      "execution_count": null,
      "outputs": [
        {
          "output_type": "stream",
          "name": "stdout",
          "text": [
            "Dataset split into training and validation sets!\n"
          ]
        }
      ]
    },
    {
      "cell_type": "code",
      "source": [
        "# Paths to your dataset\n",
        "data_dir = \"/content/drive/MyDrive/Proper_dataset\"\n",
        "train_dir = os.path.join(data_dir, \"train\")  # Replace with your dataset's train folder\n",
        "val_dir = os.path.join(data_dir, \"val\")      # Replace with your dataset's validation folder"
      ],
      "metadata": {
        "id": "9FbOSTrQIlFb"
      },
      "execution_count": null,
      "outputs": []
    },
    {
      "cell_type": "code",
      "source": [
        "# Parameters\n",
        "batch_size = 32\n",
        "img_height = 224\n",
        "img_width = 224\n",
        "\n",
        "# Data augmentation and preprocessing\n",
        "train_datagen = ImageDataGenerator(\n",
        "    rescale=1.0/255,\n",
        "    rotation_range=20,\n",
        "    zoom_range=0.2,\n",
        "    horizontal_flip=True\n",
        ")\n",
        "\n",
        "val_datagen = ImageDataGenerator(rescale=1.0/255)\n",
        "\n",
        "train_data = train_datagen.flow_from_directory(\n",
        "    train_dir,\n",
        "    target_size=(img_height, img_width),\n",
        "    batch_size=batch_size,\n",
        "    class_mode='binary'\n",
        ")\n",
        "\n",
        "val_data = val_datagen.flow_from_directory(\n",
        "    val_dir,\n",
        "    target_size=(img_height, img_width),\n",
        "    batch_size=batch_size,\n",
        "    class_mode='binary'\n",
        ")"
      ],
      "metadata": {
        "colab": {
          "base_uri": "https://localhost:8080/"
        },
        "id": "WLsWOt0DItWq",
        "outputId": "52d7116c-7330-4ecf-cf6e-692c4db03b16"
      },
      "execution_count": null,
      "outputs": [
        {
          "output_type": "stream",
          "name": "stdout",
          "text": [
            "Found 2603 images belonging to 2 classes.\n",
            "Found 651 images belonging to 2 classes.\n"
          ]
        }
      ]
    }
  ]
}