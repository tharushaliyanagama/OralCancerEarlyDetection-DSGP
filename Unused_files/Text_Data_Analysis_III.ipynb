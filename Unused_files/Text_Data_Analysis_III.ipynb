{
  "cells": [
    {
      "cell_type": "markdown",
      "metadata": {
        "id": "view-in-github",
        "colab_type": "text"
      },
      "source": [
        "<a href=\"https://colab.research.google.com/github/SiyumiJayawardhane/OralCancerEarlyDetection-DSGP/blob/Prediction-of-textual-data-I/Text_Data_Analysis_III.ipynb\" target=\"_parent\"><img src=\"https://colab.research.google.com/assets/colab-badge.svg\" alt=\"Open In Colab\"/></a>"
      ]
    },
    {
      "cell_type": "markdown",
      "metadata": {
        "id": "PWKt2ukqSy2Z"
      },
      "source": [
        "# ***Dataset Analysis***"
      ]
    },
    {
      "cell_type": "markdown",
      "metadata": {
        "id": "_dUEfxAVgR6d"
      },
      "source": [
        "**1. Import Libraries**"
      ]
    },
    {
      "cell_type": "code",
      "execution_count": 3,
      "metadata": {
        "id": "MAC91i2y6AKc"
      },
      "outputs": [],
      "source": [
        "# Import necessary libraries\n",
        "import pandas as pd\n",
        "import numpy as np\n",
        "import seaborn as sns\n",
        "import matplotlib.pyplot as plt\n",
        "from sklearn.model_selection import train_test_split, GridSearchCV, RandomizedSearchCV\n",
        "from sklearn.preprocessing import StandardScaler, OneHotEncoder, LabelEncoder\n",
        "from sklearn.compose import ColumnTransformer\n",
        "from sklearn.impute import SimpleImputer\n",
        "from sklearn.ensemble import RandomForestClassifier\n",
        "from sklearn.linear_model import LogisticRegression\n",
        "from sklearn.svm import SVC\n",
        "from sklearn.neural_network import MLPClassifier\n",
        "from sklearn.metrics import (classification_report, roc_auc_score, accuracy_score, precision_score, recall_score, f1_score)\n",
        "from imblearn.over_sampling import SMOTE\n",
        "from xgboost import XGBClassifier\n",
        "import pickle"
      ]
    },
    {
      "cell_type": "markdown",
      "metadata": {
        "id": "ZJ4I7oWFUrpR"
      },
      "source": [
        "**2. Load and Inspect the Dataset**"
      ]
    },
    {
      "cell_type": "code",
      "execution_count": 4,
      "metadata": {
        "colab": {
          "base_uri": "https://localhost:8080/"
        },
        "id": "iEYu5rBfJdOU",
        "outputId": "037be41d-6831-4ff9-967b-13a977fc8c74"
      },
      "outputs": [
        {
          "output_type": "stream",
          "name": "stdout",
          "text": [
            "Mounted at /content/drive\n"
          ]
        }
      ],
      "source": [
        "from google.colab import drive\n",
        "drive.mount('/content/drive')"
      ]
    },
    {
      "cell_type": "code",
      "execution_count": 5,
      "metadata": {
        "id": "-ZyWIf9IKqp-"
      },
      "outputs": [],
      "source": [
        "data = pd.read_csv('/content/drive/MyDrive/DSGP/Siyumi/oral_cancer_prediction_dataset (1).csv')"
      ]
    },
    {
      "cell_type": "code",
      "execution_count": 6,
      "metadata": {
        "colab": {
          "base_uri": "https://localhost:8080/"
        },
        "id": "hhg8nrwgSJJm",
        "outputId": "b8f60fe8-9415-41e8-b701-5fad6c5acbde"
      },
      "outputs": [
        {
          "output_type": "stream",
          "name": "stdout",
          "text": [
            "Dataset Info:\n",
            "<class 'pandas.core.frame.DataFrame'>\n",
            "RangeIndex: 160292 entries, 0 to 160291\n",
            "Data columns (total 11 columns):\n",
            " #   Column                Non-Null Count   Dtype  \n",
            "---  ------                --------------   -----  \n",
            " 0   ID                    160292 non-null  int64  \n",
            " 1   Country               160292 non-null  object \n",
            " 2   Gender                160292 non-null  object \n",
            " 3   Age                   160292 non-null  int64  \n",
            " 4   Tobacco_Use           160292 non-null  int64  \n",
            " 5   Alcohol_Use           160292 non-null  int64  \n",
            " 6   Socioeconomic_Status  160292 non-null  object \n",
            " 7   Diagnosis_Stage       160292 non-null  object \n",
            " 8   Treatment_Type        160292 non-null  object \n",
            " 9   Survival_Rate         160292 non-null  float64\n",
            " 10  HPV_Related           160292 non-null  int64  \n",
            "dtypes: float64(1), int64(5), object(5)\n",
            "memory usage: 13.5+ MB\n",
            "None\n"
          ]
        }
      ],
      "source": [
        "#Display information\n",
        "print(\"Dataset Info:\")\n",
        "print(data.info())"
      ]
    },
    {
      "cell_type": "code",
      "execution_count": 7,
      "metadata": {
        "colab": {
          "base_uri": "https://localhost:8080/"
        },
        "id": "MrNQnwlR2jSn",
        "outputId": "3d0beaa6-dfce-4363-a427-e0cd8a916f46"
      },
      "outputs": [
        {
          "output_type": "stream",
          "name": "stdout",
          "text": [
            "\n",
            "First 5 rows:\n",
            "   ID   Country  Gender  Age  Tobacco_Use  Alcohol_Use Socioeconomic_Status  \\\n",
            "0   1  Ethiopia    Male   34            1            1                 High   \n",
            "1   2    Turkey  Female   84            1            1                 High   \n",
            "2   3    Turkey  Female   62            1            1               Middle   \n",
            "3   4  Tanzania    Male   48            1            1               Middle   \n",
            "4   5    France    Male   26            1            1               Middle   \n",
            "\n",
            "  Diagnosis_Stage Treatment_Type  Survival_Rate  HPV_Related  \n",
            "0           Early   Radiotherapy       0.826235            0  \n",
            "1        Moderate   Radiotherapy       0.376607            0  \n",
            "2           Early   Radiotherapy       0.736296            1  \n",
            "3        Moderate    Combination       0.786118            0  \n",
            "4           Early   Radiotherapy       0.830411            0  \n"
          ]
        }
      ],
      "source": [
        "#Load 5 rows\n",
        "print(\"\\nFirst 5 rows:\")\n",
        "print(data.head())"
      ]
    },
    {
      "cell_type": "markdown",
      "metadata": {
        "id": "Ron73mnpW3ru"
      },
      "source": [
        "**3. Understand Numerical Features**"
      ]
    },
    {
      "cell_type": "code",
      "execution_count": 8,
      "metadata": {
        "colab": {
          "base_uri": "https://localhost:8080/"
        },
        "id": "XSJCa9PSAoBc",
        "outputId": "90d4082d-ed03-4a0c-e1a6-9f6b00f59ede"
      },
      "outputs": [
        {
          "output_type": "stream",
          "name": "stdout",
          "text": [
            "\n",
            "Dropping columns: ['ID', 'Treatment_Type', 'Survival_Rate']\n"
          ]
        }
      ],
      "source": [
        "# Remove unnecessary features based on correlation and domain knowledge\n",
        "columns_to_drop = ['ID', 'Treatment_Type', 'Survival_Rate']  # Irrelevant for prediction\n",
        "print(f\"\\nDropping columns: {columns_to_drop}\")\n",
        "data = data.drop(columns=columns_to_drop)"
      ]
    },
    {
      "cell_type": "code",
      "execution_count": 9,
      "metadata": {
        "colab": {
          "base_uri": "https://localhost:8080/"
        },
        "id": "skRB_AeWN4bA",
        "outputId": "d1199672-bf89-4db5-e145-98847241faec"
      },
      "outputs": [
        {
          "output_type": "stream",
          "name": "stdout",
          "text": [
            "Numeric Variables:\n",
            "   Age  Tobacco_Use  Alcohol_Use  HPV_Related\n",
            "0   34            1            1            0\n",
            "1   84            1            1            0\n",
            "2   62            1            1            1\n",
            "3   48            1            1            0\n",
            "4   26            1            1            0\n"
          ]
        }
      ],
      "source": [
        "# Select numeric variables\n",
        "numeric_columns = data.select_dtypes(include=['int64', 'float64'])\n",
        "\n",
        "# Print numeric variables\n",
        "print(\"Numeric Variables:\")\n",
        "print(numeric_columns.head())"
      ]
    },
    {
      "cell_type": "markdown",
      "metadata": {
        "id": "3IBT_cHKU-7V"
      },
      "source": [
        "**4. Histograms for Numerical Features**"
      ]
    },
    {
      "cell_type": "markdown",
      "metadata": {
        "id": "CyUhsif0XkR-"
      },
      "source": [
        "**5. Box Plot to Identify Outliers**"
      ]
    },
    {
      "cell_type": "markdown",
      "metadata": {
        "id": "B8oGmXDMWl_Q"
      },
      "source": [
        "**7. Understand Categorical Features**"
      ]
    },
    {
      "cell_type": "code",
      "execution_count": 10,
      "metadata": {
        "id": "30n9qqWFOAmZ",
        "colab": {
          "base_uri": "https://localhost:8080/"
        },
        "outputId": "80f02f8a-eb2c-46e2-892d-d2f5cf8dd2a8"
      },
      "outputs": [
        {
          "output_type": "stream",
          "name": "stdout",
          "text": [
            "Categorical Variables:\n",
            "    Country  Gender Socioeconomic_Status Diagnosis_Stage\n",
            "0  Ethiopia    Male                 High           Early\n",
            "1    Turkey  Female                 High        Moderate\n",
            "2    Turkey  Female               Middle           Early\n",
            "3  Tanzania    Male               Middle        Moderate\n",
            "4    France    Male               Middle           Early\n"
          ]
        }
      ],
      "source": [
        "# Select categorical variables\n",
        "categorical_columns = data.select_dtypes(include=['object'])\n",
        "\n",
        "# Print categorical variables\n",
        "print(\"Categorical Variables:\")\n",
        "print(categorical_columns.head())"
      ]
    },
    {
      "cell_type": "markdown",
      "metadata": {
        "id": "oEEruxFvYl47"
      },
      "source": [
        "**8. Unique values of each column**"
      ]
    },
    {
      "cell_type": "code",
      "execution_count": 11,
      "metadata": {
        "id": "B6pimpVSFWMy",
        "colab": {
          "base_uri": "https://localhost:8080/"
        },
        "outputId": "5224b4b9-dfb1-4ab0-f91c-25b608956208"
      },
      "outputs": [
        {
          "output_type": "stream",
          "name": "stdout",
          "text": [
            "Unique values before encoding:\n",
            "Country: ['Ethiopia' 'Turkey' 'Tanzania' 'France' 'China' 'Colombia' 'Japan'\n",
            " 'Nigeria' 'Brazil' 'Kenya' 'United Kingdom' 'Germany' 'Myanmar'\n",
            " 'Philippines' 'Russia' 'Thailand' 'Mexico' 'Bangladesh' 'Iran'\n",
            " 'United States' 'South Africa' 'DR Congo' 'Spain' 'Egypt' 'Italy'\n",
            " 'Indonesia' 'Pakistan' 'India' 'South Korea' 'Vietnam']\n",
            "Gender: ['Male' 'Female']\n",
            "Age: [34 84 62 48 26 22 76 49 60 20 86 72 28 27 31 41 36 50 25 37 67 40 21 70\n",
            " 23 57 24 39 80 30 55 32 43 66 83 79 81 35 33 69 88 71 59 75 51 52 78 38\n",
            " 65 44 29 64 82 42 87 56 73 53 58 77 61 54 63 74 45 68 46 85 47 89]\n",
            "Tobacco_Use: [1 0]\n",
            "Alcohol_Use: [1 0]\n",
            "Socioeconomic_Status: ['High' 'Middle' 'Low']\n",
            "Diagnosis_Stage: ['Early' 'Moderate' 'Late']\n",
            "HPV_Related: [0 1]\n",
            "----------------------------------------\n",
            "Unique values after encoding:\n",
            "Country: [ 6 26 24  7  2  3 13 17  1 14 27  8 16 19 20 25 15  0 11 28 21  4 23  5\n",
            " 12 10 18  9 22 29]\n",
            "Age: [34 84 62 48 26 22 76 49 60 20 86 72 28 27 31 41 36 50 25 37 67 40 21 70\n",
            " 23 57 24 39 80 30 55 32 43 66 83 79 81 35 33 69 88 71 59 75 51 52 78 38\n",
            " 65 44 29 64 82 42 87 56 73 53 58 77 61 54 63 74 45 68 46 85 47 89]\n",
            "Tobacco_Use: [1 0]\n",
            "Alcohol_Use: [1 0]\n",
            "Diagnosis_Stage: ['Early' 'Moderate' 'Late']\n",
            "HPV_Related: [0 1]\n",
            "Gender_Male: [ True False]\n",
            "Socioeconomic_Status_Low: [False  True]\n",
            "Socioeconomic_Status_Middle: [False  True]\n",
            "----------------------------------------\n",
            "Unique values of target attribute (Diagnosis_Stage):\n",
            "['Early' 'Moderate' 'Late']\n"
          ]
        }
      ],
      "source": [
        "# Print unique values of each column before encoding\n",
        "print(\"Unique values before encoding:\")\n",
        "for column in data.columns:\n",
        "    print(f\"{column}: {data[column].unique()}\")\n",
        "print(\"-\" * 40)\n",
        "\n",
        "# Label Encoding for 'Country' (high cardinality)\n",
        "label_encoder = LabelEncoder()\n",
        "data['Country'] = label_encoder.fit_transform(data['Country'])\n",
        "\n",
        "# One-Hot Encoding for other categorical columns (excluding target)\n",
        "categorical_columns = ['Gender', 'Socioeconomic_Status']\n",
        "data = pd.get_dummies(data, columns=categorical_columns, drop_first=True)\n",
        "\n",
        "# Print unique values of each column after encoding\n",
        "print(\"Unique values after encoding:\")\n",
        "for column in data.columns:\n",
        "    print(f\"{column}: {data[column].unique()}\")\n",
        "print(\"-\" * 40)\n",
        "\n",
        "# Print unique values of target attribute (Diagnosis_Stage)\n",
        "print(\"Unique values of target attribute (Diagnosis_Stage):\")\n",
        "print(data['Diagnosis_Stage'].unique())"
      ]
    },
    {
      "cell_type": "markdown",
      "metadata": {
        "id": "iw9r-UQfY2b4"
      },
      "source": [
        "**9. Handle Missing Values**"
      ]
    },
    {
      "cell_type": "code",
      "execution_count": 12,
      "metadata": {
        "id": "gPaCAZQYGKr7",
        "colab": {
          "base_uri": "https://localhost:8080/"
        },
        "outputId": "186e7224-c308-4fb9-b2a8-fc0817d49740"
      },
      "outputs": [
        {
          "output_type": "stream",
          "name": "stdout",
          "text": [
            "\n",
            "Checking for missing values:\n",
            "Country                        0\n",
            "Age                            0\n",
            "Tobacco_Use                    0\n",
            "Alcohol_Use                    0\n",
            "Diagnosis_Stage                0\n",
            "HPV_Related                    0\n",
            "Gender_Male                    0\n",
            "Socioeconomic_Status_Low       0\n",
            "Socioeconomic_Status_Middle    0\n",
            "dtype: int64\n"
          ]
        }
      ],
      "source": [
        "# Check for missing values\n",
        "print(\"\\nChecking for missing values:\")\n",
        "print(data.isnull().sum())"
      ]
    },
    {
      "cell_type": "markdown",
      "metadata": {
        "id": "CxELsjKSZBWd"
      },
      "source": [
        "**10. Handle Duplicate Values**"
      ]
    },
    {
      "cell_type": "code",
      "execution_count": 13,
      "metadata": {
        "id": "ROIS_DQWGYn7",
        "colab": {
          "base_uri": "https://localhost:8080/"
        },
        "outputId": "0bb8d8e6-1049-400f-a37f-8f0c04c57ebc"
      },
      "outputs": [
        {
          "output_type": "stream",
          "name": "stdout",
          "text": [
            "\n",
            "Number of duplicate rows before removal: 54647\n"
          ]
        }
      ],
      "source": [
        "# Check for duplicate rows\n",
        "print(f\"\\nNumber of duplicate rows before removal: {data.duplicated().sum()}\")"
      ]
    },
    {
      "cell_type": "markdown",
      "metadata": {
        "id": "Ia0vF7D-T2JQ"
      },
      "source": [
        "# **Feature Engineering**"
      ]
    },
    {
      "cell_type": "markdown",
      "metadata": {
        "id": "JzHz8THOZTz9"
      },
      "source": [
        "**11. Label Encoding**"
      ]
    },
    {
      "cell_type": "markdown",
      "metadata": {
        "id": "yqvgJ7K_Vm5L"
      },
      "source": [
        "**12. Map Target Variable**"
      ]
    },
    {
      "cell_type": "code",
      "execution_count": 14,
      "metadata": {
        "id": "qkMIuk2j9SA9"
      },
      "outputs": [],
      "source": [
        "# Map risk levels to numerical categories\n",
        "data['Diagnosis_Stage'] = data['Diagnosis_Stage'].map({'Early': 0, 'Moderate': 1, 'Late': 2})"
      ]
    },
    {
      "cell_type": "code",
      "source": [
        "# Force data type conversion\n",
        "data['Diagnosis_Stage'] = pd.to_numeric(data['Diagnosis_Stage'])"
      ],
      "metadata": {
        "id": "XWUrN1Cq3y7z"
      },
      "execution_count": 15,
      "outputs": []
    },
    {
      "cell_type": "markdown",
      "metadata": {
        "id": "pKY9DJdCV5wq"
      },
      "source": [
        "**13. Check Imbalacing of Dataset**"
      ]
    },
    {
      "cell_type": "code",
      "execution_count": 16,
      "metadata": {
        "id": "MgyCSoOO1jrE",
        "colab": {
          "base_uri": "https://localhost:8080/"
        },
        "outputId": "da24de7f-0360-4947-b639-1b967ec91073"
      },
      "outputs": [
        {
          "output_type": "stream",
          "name": "stdout",
          "text": [
            "\n",
            "Target value distribution:\n",
            "Diagnosis_Stage\n",
            "1    63939\n",
            "0    48287\n",
            "2    48066\n",
            "Name: count, dtype: int64\n"
          ]
        }
      ],
      "source": [
        "#Analyze Target Imbalance\n",
        "target_column = 'Diagnosis_Stage'\n",
        "print(\"\\nTarget value distribution:\")\n",
        "print(data[target_column].value_counts())"
      ]
    },
    {
      "cell_type": "code",
      "execution_count": 17,
      "metadata": {
        "id": "QyG4d3wr3TwB",
        "colab": {
          "base_uri": "https://localhost:8080/",
          "height": 461
        },
        "outputId": "28fbdc7f-88e0-4722-b302-4b1c3ffaa886"
      },
      "outputs": [
        {
          "output_type": "execute_result",
          "data": {
            "text/plain": [
              "<Axes: xlabel='Diagnosis_Stage'>"
            ]
          },
          "metadata": {},
          "execution_count": 17
        },
        {
          "output_type": "display_data",
          "data": {
            "text/plain": [
              "<Figure size 640x480 with 1 Axes>"
            ],
            "image/png": "[encoded data removed]"
          },
          "metadata": {}
        }
      ],
      "source": [
        "#Plot Imbalance dataset\n",
        "data[target_column].value_counts().plot(kind='bar')"
      ]
    },
    {
      "cell_type": "markdown",
      "metadata": {
        "id": "B0Pa2_4fZ-qS"
      },
      "source": [
        "**14. Handle Imbalancing Uning SMOTE**"
      ]
    },
    {
      "cell_type": "code",
      "execution_count": 18,
      "metadata": {
        "id": "xx1jqZ7I2GIa",
        "colab": {
          "base_uri": "https://localhost:8080/"
        },
        "outputId": "518a718e-eadc-431e-bada-3eb75b4a8bc6"
      },
      "outputs": [
        {
          "output_type": "stream",
          "name": "stdout",
          "text": [
            "\n",
            "Class distribution after SMOTE:\n",
            "Diagnosis_Stage\n",
            "0    63939\n",
            "1    63939\n",
            "2    63939\n",
            "Name: count, dtype: int64\n"
          ]
        }
      ],
      "source": [
        "# Handle class imbalance using SMOTE\n",
        "X = data.drop(columns=[target_column])\n",
        "y = data[target_column]\n",
        "\n",
        "smote = SMOTE(random_state=42)\n",
        "X_resampled, y_resampled = smote.fit_resample(X, y)\n",
        "\n",
        "print(\"\\nClass distribution after SMOTE:\")\n",
        "print(pd.Series(y_resampled).value_counts())"
      ]
    },
    {
      "cell_type": "code",
      "execution_count": 19,
      "metadata": {
        "id": "3AD9iurZ31gH",
        "colab": {
          "base_uri": "https://localhost:8080/",
          "height": 461
        },
        "outputId": "97d9b2a7-af2d-4e24-e70f-0b33222dc2c3"
      },
      "outputs": [
        {
          "output_type": "execute_result",
          "data": {
            "text/plain": [
              "<Axes: xlabel='Diagnosis_Stage'>"
            ]
          },
          "metadata": {},
          "execution_count": 19
        },
        {
          "output_type": "display_data",
          "data": {
            "text/plain": [
              "<Figure size 640x480 with 1 Axes>"
            ],
            "image/png": "[encoded data removed]"
          },
          "metadata": {}
        }
      ],
      "source": [
        " #Plot the balace dataset\n",
        " pd.Series(y_resampled).value_counts().plot(kind='bar')"
      ]
    },
    {
      "cell_type": "markdown",
      "metadata": {
        "id": "xSgu5PSS9ldx"
      },
      "source": [
        "**15. Correlation Analysis**"
      ]
    },
    {
      "cell_type": "code",
      "execution_count": 20,
      "metadata": {
        "id": "eiar0bmM9kM5",
        "colab": {
          "base_uri": "https://localhost:8080/"
        },
        "outputId": "eb35a89a-eae1-4d8f-c9b0-b24266827bdf"
      },
      "outputs": [
        {
          "output_type": "stream",
          "name": "stdout",
          "text": [
            "\n",
            "Correlation Analysis:\n",
            "Diagnosis_Stage                1.000000\n",
            "Country                        0.001734\n",
            "Socioeconomic_Status_Middle    0.001222\n",
            "Alcohol_Use                    0.000972\n",
            "Socioeconomic_Status_Low       0.000904\n",
            "Gender_Male                   -0.001402\n",
            "Tobacco_Use                   -0.002039\n",
            "HPV_Related                   -0.003183\n",
            "Age                           -0.004759\n",
            "Name: Diagnosis_Stage, dtype: float64\n"
          ]
        }
      ],
      "source": [
        "print(\"\\nCorrelation Analysis:\")\n",
        "correlation_matrix = data.corr()\n",
        "correlation_with_target = correlation_matrix['Diagnosis_Stage'].sort_values(ascending=False)\n",
        "print(correlation_with_target)"
      ]
    },
    {
      "cell_type": "markdown",
      "metadata": {
        "id": "Ooc4yCK_ajb_"
      },
      "source": [
        "**16. Visualization of Correlation values**"
      ]
    },
    {
      "cell_type": "code",
      "execution_count": 21,
      "metadata": {
        "id": "R7b91vmy94_u",
        "colab": {
          "base_uri": "https://localhost:8080/",
          "height": 843
        },
        "outputId": "17c5f6c1-9da2-44f3-f973-0aaadbb54450"
      },
      "outputs": [
        {
          "output_type": "display_data",
          "data": {
            "text/plain": [
              "<Figure size 1200x800 with 2 Axes>"
            ],
            "image/png": "[encoded data removed]"
          },
          "metadata": {}
        }
      ],
      "source": [
        "plt.figure(figsize=(12, 8))  # Adjust figure size if needed\n",
        "sns.heatmap(\n",
        "    correlation_matrix,\n",
        "    annot=True,\n",
        "    cmap='RdBu',  # Alternative colormap for better contrast\n",
        "    fmt=\".2f\",\n",
        "    linewidths=0.5,  # Add lines for better separation\n",
        "    annot_kws={\"size\": 10}  # Adjust annotation font size\n",
        ")\n",
        "plt.title(\"Correlation Matrix\", fontsize=14)\n",
        "plt.xticks(rotation=45, ha='right')  # Rotate x labels for readability\n",
        "plt.yticks(rotation=0)  # Keep y labels horizontal\n",
        "plt.show()"
      ]
    },
    {
      "cell_type": "markdown",
      "metadata": {
        "id": "EmctJ5g2WCVZ"
      },
      "source": [
        "**17. Features Selection**"
      ]
    },
    {
      "cell_type": "markdown",
      "metadata": {
        "id": "4khU2LQAWK9U"
      },
      "source": [
        "**18. Dataset Splitting**"
      ]
    },
    {
      "cell_type": "code",
      "execution_count": 22,
      "metadata": {
        "id": "dgWxWaA4eRWz",
        "colab": {
          "base_uri": "https://localhost:8080/"
        },
        "outputId": "96c702d2-7010-4d33-b28a-9cbf005552e3"
      },
      "outputs": [
        {
          "output_type": "stream",
          "name": "stdout",
          "text": [
            "\n",
            "Remaining features after dropping unnecessary columns:\n",
            "['Country', 'Age', 'Tobacco_Use', 'Alcohol_Use', 'Diagnosis_Stage', 'HPV_Related', 'Gender_Male', 'Socioeconomic_Status_Low', 'Socioeconomic_Status_Middle']\n"
          ]
        }
      ],
      "source": [
        "# Print remaining features\n",
        "print(\"\\nRemaining features after dropping unnecessary columns:\")\n",
        "print(list(data.columns))"
      ]
    },
    {
      "cell_type": "code",
      "execution_count": 23,
      "metadata": {
        "id": "kBHS_vi6m6W4",
        "colab": {
          "base_uri": "https://localhost:8080/"
        },
        "outputId": "0d75b961-3493-413e-8c56-85c0192c2ce6"
      },
      "outputs": [
        {
          "output_type": "stream",
          "name": "stdout",
          "text": [
            "Training set size: 134271\n",
            "Test set size: 57546\n"
          ]
        }
      ],
      "source": [
        "X_train, X_test, y_train, y_test = train_test_split(X_resampled, y_resampled, test_size=0.3, random_state=42)\n",
        "\n",
        "print(f\"Training set size: {X_train.shape[0]}\")\n",
        "print(f\"Test set size: {X_test.shape[0]}\")"
      ]
    },
    {
      "cell_type": "code",
      "source": [
        "# Save feature names before scaling (to maintain correct order)\n",
        "feature_names = X_train.columns.tolist()\n",
        "print(feature_names)\n",
        "with open('feature_names.pkl', 'wb') as file:\n",
        "    pickle.dump(feature_names, file)"
      ],
      "metadata": {
        "id": "nPHwsa8tRL7-",
        "colab": {
          "base_uri": "https://localhost:8080/"
        },
        "outputId": "e6b577fe-664b-47e2-c9de-64a25e4c439f"
      },
      "execution_count": 24,
      "outputs": [
        {
          "output_type": "stream",
          "name": "stdout",
          "text": [
            "['Country', 'Age', 'Tobacco_Use', 'Alcohol_Use', 'HPV_Related', 'Gender_Male', 'Socioeconomic_Status_Low', 'Socioeconomic_Status_Middle']\n"
          ]
        }
      ]
    },
    {
      "cell_type": "markdown",
      "metadata": {
        "id": "RWjJ0wmbWP99"
      },
      "source": [
        "**19. Feature Scaling**"
      ]
    },
    {
      "cell_type": "code",
      "execution_count": 25,
      "metadata": {
        "id": "eQ_tjA_cD4eZ",
        "colab": {
          "base_uri": "https://localhost:8080/"
        },
        "outputId": "85d886e7-b0eb-4563-b16b-8362cb1632af"
      },
      "outputs": [
        {
          "output_type": "stream",
          "name": "stdout",
          "text": [
            "Data preprocessing completed.\n"
          ]
        }
      ],
      "source": [
        "# Standard Scaling\n",
        "scaler = StandardScaler()\n",
        "X_train_scaled = scaler.fit_transform(X_train)\n",
        "X_test_scaled = scaler.transform(X_test)\n",
        "\n",
        "# Save the scaler to use during predictions\n",
        "with open('scaler.pkl', 'wb') as file:\n",
        "    pickle.dump(scaler, file)\n",
        "\n",
        "print(\"Data preprocessing completed.\")"
      ]
    },
    {
      "cell_type": "code",
      "source": [
        "import numpy as np\n",
        "import pickle\n",
        "from sklearn.svm import SVR\n",
        "from sklearn.preprocessing import StandardScaler\n",
        "from sklearn.metrics import classification_report, mean_squared_error, r2_score\n",
        "from sklearn.model_selection import train_test_split\n",
        "\n",
        "# Load saved feature names\n",
        "with open('feature_names.pkl', 'rb') as file:\n",
        "    feature_names = pickle.load(file)\n",
        "\n",
        "# Initialize and train SVR model\n",
        "svr_model = SVR(C=1.0, kernel='rbf', gamma='scale')\n",
        "svr_model.fit(X_train_scaled, y_train)\n",
        "\n",
        "# Predictions\n",
        "y_train_pred_svr = svr_model.predict(X_train_scaled)\n",
        "y_test_pred_svr = svr_model.predict(X_test_scaled)\n",
        "\n",
        "# Convert regression outputs to classification labels\n",
        "def categorize_predictions(y_pred):\n",
        "    return np.round(y_pred).astype(int)  # Round to nearest class (0, 1, 2)\n",
        "\n",
        "y_train_class = categorize_predictions(y_train_pred_svr)\n",
        "y_test_class = categorize_predictions(y_test_pred_svr)\n",
        "\n",
        "# Evaluation Metrics\n",
        "print(\"\\n🔹 SVR Regression Metrics:\")\n",
        "print(f\"   🔹 Train MSE: {mean_squared_error(y_train, y_train_pred_svr):.4f}\")\n",
        "print(f\"   🔹 Train R²: {r2_score(y_train, y_train_pred_svr):.4f}\")\n",
        "print(f\"   🔹 Test MSE: {mean_squared_error(y_test, y_test_pred_svr):.4f}\")\n",
        "print(f\"   🔹 Test R²: {r2_score(y_test, y_test_pred_svr):.4f}\")\n",
        "\n",
        "# Classification Reports\n",
        "print(\"\\n🔹 SVR Classification Report on Training Data:\")\n",
        "print(classification_report(y_train, y_train_class))\n",
        "\n",
        "print(\"\\n🔹 SVR Classification Report on Test Data:\")\n",
        "print(classification_report(y_test, y_test_class))\n",
        "\n",
        "# Save the trained SVR model\n",
        "with open('svr_model.pkl', 'wb') as file:\n",
        "    pickle.dump(svr_model, file)\n",
        "\n",
        "print(\"\\n✅ SVR model saved as 'svr_model.pkl'.\")"
      ],
      "metadata": {
        "id": "5okpBBWjNVt4"
      },
      "execution_count": null,
      "outputs": []
    },
    {
      "cell_type": "markdown",
      "metadata": {
        "id": "7hS_CjaMSNPC"
      },
      "source": [
        "# **SVM Model Training**"
      ]
    },
    {
      "cell_type": "code",
      "source": [
        "pip install tensorflow scikit-learn numpy matplotlib"
      ],
      "metadata": {
        "id": "Nbi6VTeF9NwU"
      },
      "execution_count": null,
      "outputs": []
    },
    {
      "cell_type": "code",
      "source": [
        "pip install tensorflow"
      ],
      "metadata": {
        "id": "xVmySoMZ_6TR"
      },
      "execution_count": null,
      "outputs": []
    },
    {
      "cell_type": "code",
      "execution_count": null,
      "metadata": {
        "id": "F9pNJm2chpOY"
      },
      "outputs": [],
      "source": [
        "import pickle\n",
        "import numpy as np\n",
        "import matplotlib.pyplot as plt\n",
        "from sklearn.metrics import classification_report, roc_auc_score\n",
        "from tensorflow.keras.models import Sequential\n",
        "from tensorflow.keras.layers import Dense, Dropout\n",
        "from tensorflow.keras.optimizers import Adam\n",
        "from tensorflow.keras.utils import to_categorical\n",
        "\n",
        "# Load saved feature names\n",
        "with open('feature_names.pkl', 'rb') as file:\n",
        "    feature_names = pickle.load(file)\n",
        "\n",
        "# Prepare the data (Ensure X_train_scaled, X_test_scaled, y_train, y_test are preprocessed)\n",
        "num_classes = len(np.unique(y_train))\n",
        "y_train_onehot = to_categorical(y_train, num_classes)\n",
        "y_test_onehot = to_categorical(y_test, num_classes)\n",
        "\n",
        "# Build the Neural Network model\n",
        "model = Sequential([\n",
        "    Dense(256, activation='relu', input_shape=(X_train_scaled.shape[1],)),  # Increased neurons\n",
        "    Dropout(0.3),\n",
        "    Dense(128, activation='relu'),\n",
        "    Dropout(0.3),\n",
        "    Dense(64, activation='relu'),\n",
        "    Dense(num_classes, activation='softmax')  # Softmax for multi-class classification\n",
        "])\n",
        "\n",
        "# Compile the model\n",
        "model.compile(optimizer=Adam(learning_rate=0.0005),  # Reduced learning rate for stability\n",
        "              loss='categorical_crossentropy',\n",
        "              metrics=['accuracy'])\n",
        "\n",
        "# Train the model\n",
        "history = model.fit(X_train_scaled, y_train_onehot,\n",
        "                    validation_split=0.1,\n",
        "                    epochs=100,  # Increased epochs for better training\n",
        "                    batch_size=32,\n",
        "                    verbose=1)\n",
        "\n",
        "# Evaluate the model on the test data\n",
        "train_loss, train_accuracy = model.evaluate(X_train_scaled, y_train_onehot, verbose=0)\n",
        "test_loss, test_accuracy = model.evaluate(X_test_scaled, y_test_onehot, verbose=0)\n",
        "\n",
        "print(f\"\\n🔹 Training Accuracy: {train_accuracy:.2f}\")\n",
        "print(f\"🔹 Test Accuracy: {test_accuracy:.2f}\")\n",
        "\n",
        "# Make predictions\n",
        "y_prob_nn = model.predict(X_test_scaled)\n",
        "y_pred_nn = np.argmax(y_prob_nn, axis=1)\n",
        "\n",
        "# Classification report and ROC-AUC score\n",
        "print(\"\\n🔹 Neural Network Classification Report on Test Data:\")\n",
        "print(classification_report(y_test, y_pred_nn))\n",
        "print(f\"🔹 Neural Network ROC-AUC Score on Test Data: {roc_auc_score(y_test, y_prob_nn, multi_class='ovr'):.2f}\")\n",
        "\n",
        "# Classification report for training data\n",
        "y_train_prob_nn = model.predict(X_train_scaled)\n",
        "y_train_pred_nn = np.argmax(y_train_prob_nn, axis=1)\n",
        "\n",
        "print(\"\\n🔹 Neural Network Classification Report on Training Data:\")\n",
        "print(classification_report(y_train, y_train_pred_nn))\n",
        "print(f\"🔹 Neural Network ROC-AUC Score on Training Data: {roc_auc_score(y_train, y_train_prob_nn, multi_class='ovr'):.2f}\")\n",
        "\n",
        "# Plot training history\n",
        "plt.figure(figsize=(12, 5))\n",
        "plt.subplot(1, 2, 1)\n",
        "plt.plot(history.history['accuracy'], label='Training Accuracy')\n",
        "plt.plot(history.history['val_accuracy'], label='Validation Accuracy')\n",
        "plt.xlabel('Epochs')\n",
        "plt.ylabel('Accuracy')\n",
        "plt.title('Training vs Validation Accuracy')\n",
        "plt.legend()\n",
        "\n",
        "plt.subplot(1, 2, 2)\n",
        "plt.plot(history.history['loss'], label='Training Loss')\n",
        "plt.plot(history.history['val_loss'], label='Validation Loss')\n",
        "plt.xlabel('Epochs')\n",
        "plt.ylabel('Loss')\n",
        "plt.title('Training vs Validation Loss')\n",
        "plt.legend()\n",
        "\n",
        "plt.show()\n",
        "\n",
        "# Save the trained model\n",
        "model.save('nn_model.h5')\n",
        "\n",
        "print(\"\\n✅ Neural Network model saved as 'nn_model.h5'.\")"
      ]
    },
    {
      "cell_type": "code",
      "execution_count": null,
      "metadata": {
        "id": "5IStulUlWgzi"
      },
      "outputs": [],
      "source": [
        "import pickle\n",
        "import numpy as np\n",
        "from xgboost import XGBRegressor\n",
        "from sklearn.metrics import mean_squared_error, r2_score, classification_report\n",
        "\n",
        "# Load saved feature names\n",
        "with open('feature_names.pkl', 'rb') as file:\n",
        "    feature_names = pickle.load(file)\n",
        "\n",
        "# Initialize XGBoost Regressor\n",
        "xgb_model = XGBRegressor(objective='reg:squarederror', random_state=42, n_estimators=100, learning_rate=0.1)\n",
        "\n",
        "# Train the model\n",
        "xgb_model.fit(X_train_scaled, y_train)\n",
        "\n",
        "# Predict on Test Data\n",
        "y_pred_xgb = xgb_model.predict(X_test_scaled)\n",
        "\n",
        "print(\"\\n🔹 XGBoost Regression Metrics on Test Data:\")\n",
        "print(f\"   🔹 Mean Squared Error (MSE): {mean_squared_error(y_test, y_pred_xgb):.4f}\")\n",
        "print(f\"   🔹 R-squared Score (R²): {r2_score(y_test, y_pred_xgb):.4f}\")\n",
        "\n",
        "# Predict on Training Data\n",
        "y_train_pred_xgb = xgb_model.predict(X_train_scaled)\n",
        "\n",
        "print(\"\\n🔹 XGBoost Regression Metrics on Training Data:\")\n",
        "print(f\"   🔹 Mean Squared Error (MSE): {mean_squared_error(y_train, y_train_pred_xgb):.4f}\")\n",
        "print(f\"   🔹 R-squared Score (R²): {r2_score(y_train, y_train_pred_xgb):.4f}\")\n",
        "\n",
        "# Convert Regression Predictions to Categories (Ordinal Classification)\n",
        "def categorize_predictions(y_pred):\n",
        "    return np.round(y_pred).astype(int)  # Rounding to nearest integer (assuming labels 0,1,2)\n",
        "\n",
        "y_test_class = categorize_predictions(y_pred_xgb)\n",
        "y_train_class = categorize_predictions(y_train_pred_xgb)\n",
        "\n",
        "# Classification Reports\n",
        "print(\"\\n🔹 XGBoost Classification Report on Test Data:\")\n",
        "print(classification_report(y_test, y_test_class))\n",
        "\n",
        "print(\"\\n🔹 XGBoost Classification Report on Training Data:\")\n",
        "print(classification_report(y_train, y_train_class))\n",
        "\n",
        "# Save the trained XGBoost model\n",
        "with open('xgb_regressor.pkl', 'wb') as file:\n",
        "    pickle.dump(xgb_model, file)\n",
        "\n",
        "print(\"\\n✅ XGBoost Regressor model saved as 'xgb_regressor.pkl'.\")"
      ]
    },
    {
      "cell_type": "code",
      "source": [
        "from sklearn.model_selection import GridSearchCV\n",
        "from sklearn.metrics import classification_report, roc_auc_score, accuracy_score\n",
        "\n",
        "# Load saved feature names\n",
        "with open('feature_names.pkl', 'rb') as file:\n",
        "    feature_names = pickle.load(file)\n",
        "\n",
        "# Define parameter grid for Logistic Regression\n",
        "param_grid_lr = {\n",
        "    'C': [0.01, 0.1, 1, 10],\n",
        "    'penalty': ['l1', 'l2'],\n",
        "    'solver': ['liblinear']  # liblinear supports L1 and L2 penalties\n",
        "}\n",
        "\n",
        "# Initialize Logistic Regression model\n",
        "lr_model = LogisticRegression(random_state=42)\n",
        "\n",
        "# Perform Grid Search for best hyperparameters\n",
        "grid_search_lr = GridSearchCV(lr_model, param_grid_lr, cv=5, scoring='roc_auc_ovr', verbose=1, n_jobs=-1)\n",
        "grid_search_lr.fit(X_train_scaled, y_train)\n",
        "\n",
        "# Retrieve best parameters\n",
        "best_params_lr = grid_search_lr.best_params_\n",
        "print(\"\\nBest Parameters for Logistic Regression:\", best_params_lr)\n",
        "\n",
        "# Train the best Logistic Regression model\n",
        "lr_model_best = grid_search_lr.best_estimator_\n",
        "\n",
        "# Evaluate on Test Data\n",
        "y_pred_lr = lr_model_best.predict(X_test_scaled)\n",
        "y_prob_lr = lr_model_best.predict_proba(X_test_scaled)\n",
        "\n",
        "print(\"\\n🔹 Logistic Regression Classification Report on Test Data:\")\n",
        "print(classification_report(y_test, y_pred_lr))\n",
        "\n",
        "# Calculate ROC-AUC score for multi-class classification\n",
        "roc_auc_test = roc_auc_score(y_test, y_prob_lr, multi_class='ovr')\n",
        "print(f\"🔹 Logistic Regression ROC-AUC Score on Test Data: {roc_auc_test:.2f}\")\n",
        "\n",
        "# Evaluate on Training Data\n",
        "y_train_pred_lr = lr_model_best.predict(X_train_scaled)\n",
        "y_train_prob_lr = lr_model_best.predict_proba(X_train_scaled)\n",
        "\n",
        "print(\"\\n🔹 Logistic Regression Classification Report on Training Data:\")\n",
        "print(classification_report(y_train, y_train_pred_lr))\n",
        "\n",
        "# Calculate ROC-AUC score for multi-class classification\n",
        "roc_auc_train = roc_auc_score(y_train, y_train_prob_lr, multi_class='ovr')\n",
        "print(f\"🔹 Logistic Regression ROC-AUC Score on Training Data: {roc_auc_train:.2f}\")\n",
        "\n",
        "# Save the trained Logistic Regression model\n",
        "with open('logistic_regression_model.pkl', 'wb') as file:\n",
        "    pickle.dump(lr_model_best, file)\n",
        "\n",
        "print(\"\\n✅ Logistic Regression model saved as 'logistic_regression_model.pkl'.\")"
      ],
      "metadata": {
        "id": "7ucsGjkbDsiF"
      },
      "execution_count": null,
      "outputs": []
    },
    {
      "cell_type": "code",
      "source": [
        "import pickle\n",
        "import numpy as np\n",
        "from sklearn.ensemble import RandomForestClassifier\n",
        "from sklearn.metrics import classification_report, roc_auc_score\n",
        "\n",
        "# Load saved feature names\n",
        "with open('feature_names.pkl', 'rb') as file:\n",
        "    feature_names = pickle.load(file)\n",
        "\n",
        "# Initialize Random Forest model with default parameters\n",
        "rf_model = RandomForestClassifier(random_state=42)\n",
        "\n",
        "# Train the Random Forest model\n",
        "rf_model.fit(X_train_scaled, y_train)\n",
        "\n",
        "# Evaluate on Test Data\n",
        "y_pred_rf = rf_model.predict(X_test_scaled)\n",
        "y_prob_rf = rf_model.predict_proba(X_test_scaled)\n",
        "\n",
        "# Multi-Class ROC-AUC Score\n",
        "roc_auc_rf = roc_auc_score(y_test, y_prob_rf, multi_class='ovr')\n",
        "\n",
        "print(\"\\n🔹 Random Forest Classification Report on Test Data:\")\n",
        "print(classification_report(y_test, y_pred_rf))\n",
        "print(f\"🔹 Random Forest ROC-AUC Score on Test Data: {roc_auc_rf:.2f}\")\n",
        "\n",
        "# Evaluate on Training Data\n",
        "y_train_pred_rf = rf_model.predict(X_train_scaled)\n",
        "y_train_prob_rf = rf_model.predict_proba(X_train_scaled)\n",
        "\n",
        "roc_auc_rf_train = roc_auc_score(y_train, y_train_prob_rf, multi_class='ovr')\n",
        "\n",
        "print(\"\\n🔹 Random Forest Classification Report on Training Data:\")\n",
        "print(classification_report(y_train, y_train_pred_rf))\n",
        "print(f\"🔹 Random Forest ROC-AUC Score on Training Data: {roc_auc_rf_train:.2f}\")\n",
        "\n",
        "# Save the trained Random Forest model\n",
        "with open('random_forest_model.pkl', 'wb') as file:\n",
        "    pickle.dump(rf_model, file)\n",
        "\n",
        "print(\"\\n✅ Random Forest model saved as 'random_forest_model.pkl'.\")"
      ],
      "metadata": {
        "id": "q8Vh3z2lD58D"
      },
      "execution_count": null,
      "outputs": []
    },
    {
      "cell_type": "code",
      "source": [
        "from lightgbm import LGBMClassifier\n",
        "from sklearn.metrics import accuracy_score, classification_report, roc_auc_score\n",
        "import pickle\n",
        "\n",
        "# Load saved feature names\n",
        "with open('feature_names.pkl', 'rb') as file:\n",
        "    feature_names = pickle.load(file)\n",
        "\n",
        "# Initialize LightGBM model\n",
        "lgb_model = LGBMClassifier(random_state=42)\n",
        "\n",
        "# Train the model\n",
        "lgb_model.fit(X_train_scaled, y_train)\n",
        "\n",
        "# Evaluate on Test Data\n",
        "y_pred_lgb = lgb_model.predict(X_test_scaled)\n",
        "y_prob_lgb = lgb_model.predict_proba(X_test_scaled)  # Get probabilities for all classes\n",
        "\n",
        "print(\"\\nAccuracy of Testing data:\", accuracy_score(y_test, y_pred_lgb))\n",
        "print(\"\\nLightGBM Classification Report on Test Data:\")\n",
        "print(classification_report(y_test, y_pred_lgb))\n",
        "\n",
        "# Compute Multi-Class ROC-AUC Score\n",
        "roc_auc = roc_auc_score(y_test, y_prob_lgb, multi_class=\"ovr\")  # Use 'ovr' or 'ovo'\n",
        "print(f\"LightGBM ROC-AUC Score on Test Data: {roc_auc:.2f}\")\n",
        "\n",
        "# Evaluate on Training Data\n",
        "y_train_pred_lgb = lgb_model.predict(X_train_scaled)\n",
        "y_train_prob_lgb = lgb_model.predict_proba(X_train_scaled)\n",
        "\n",
        "print(\"\\nAccuracy of Training data:\", accuracy_score(y_train, y_train_pred_lgb))\n",
        "print(\"\\nLightGBM Classification Report on Training Data:\")\n",
        "print(classification_report(y_train, y_train_pred_lgb))\n",
        "\n",
        "# Compute Multi-Class ROC-AUC Score for Training Data\n",
        "roc_auc_train = roc_auc_score(y_train, y_train_prob_lgb, multi_class=\"ovr\")\n",
        "print(f\"LightGBM ROC-AUC Score on Training Data: {roc_auc_train:.2f}\")\n",
        "\n",
        "# Save the trained LightGBM model\n",
        "with open('lightGBM_model.pkl', 'wb') as file:\n",
        "    pickle.dump(lgb_model, file)\n",
        "\n",
        "print(\"\\nLightGBM model saved as 'lightGBM_model.pkl'.\")"
      ],
      "metadata": {
        "id": "J5fPCMKtHZVc"
      },
      "execution_count": null,
      "outputs": []
    },
    {
      "cell_type": "code",
      "source": [
        "pip install keras"
      ],
      "metadata": {
        "id": "aQ80mLM5AwXO"
      },
      "execution_count": null,
      "outputs": []
    },
    {
      "cell_type": "code",
      "source": [
        "import pickle\n",
        "import numpy as np\n",
        "import pandas as pd\n",
        "from sklearn.preprocessing import StandardScaler, LabelEncoder\n",
        "from tensorflow.keras.models import load_model\n",
        "from lightgbm import LGBMClassifier\n",
        "\n",
        "# Load trained models\n",
        "with open('svr_model.pkl', 'rb') as file:\n",
        "    svm_model = pickle.load(file)\n",
        "\n",
        "with open('xgb_regressor.pkl', 'rb') as file:\n",
        "    xgb_model = pickle.load(file)\n",
        "\n",
        "with open('lightGBM_model.pkl', 'rb') as file:\n",
        "    lgb_model = pickle.load(file)\n",
        "\n",
        "# Load the neural network model correctly\n",
        "nn_model = load_model('nn_model.h5')\n",
        "\n",
        "# Load the scaler and feature names from training\n",
        "with open('scaler.pkl', 'rb') as file:\n",
        "    scaler = pickle.load(file)\n",
        "\n",
        "with open('feature_names.pkl', 'rb') as file:\n",
        "    feature_names = pickle.load(file)  # Ensures correct feature order\n",
        "\n",
        "# Define categorical and numerical features\n",
        "categorical_features = ['Country', 'Gender_Male', 'Socioeconomic_Status_Low', 'Socioeconomic_Status_Middle']\n",
        "numerical_features = ['Age', 'Tobacco_Use', 'Alcohol_Use', 'HPV_Related']\n",
        "\n",
        "# Define LabelEncoders (Use mappings from training)\n",
        "label_encoders = {\n",
        "    'Country': LabelEncoder().fit([\n",
        "        'Ethiopia', 'Turkey', 'Tanzania', 'France', 'China', 'Colombia', 'Japan',\n",
        "        'Nigeria', 'Brazil', 'Kenya', 'United Kingdom', 'Germany', 'Myanmar',\n",
        "        'Philippines', 'Russia', 'Thailand', 'Mexico', 'Bangladesh', 'Iran',\n",
        "        'United States', 'South Africa', 'DR Congo', 'Spain', 'Egypt', 'Italy',\n",
        "        'Indonesia', 'Pakistan', 'India', 'South Korea', 'Vietnam'\n",
        "    ]),\n",
        "    'Gender_Male': LabelEncoder().fit([True, False]),\n",
        "    'Socioeconomic_Status_Low': LabelEncoder().fit([True, False]),\n",
        "    'Socioeconomic_Status_Middle': LabelEncoder().fit([True, False])\n",
        "}\n",
        "\n",
        "# Function to get user input\n",
        "def get_user_input():\n",
        "    \"\"\"Take user input for all required features and return a dictionary.\"\"\"\n",
        "    user_data = {}\n",
        "\n",
        "    print(\"\\n🔹 Enter values for the following features:\")\n",
        "    for feature in categorical_features + numerical_features:\n",
        "        user_data[feature] = input(f\"   {feature}: \").strip()\n",
        "\n",
        "    return user_data\n",
        "\n",
        "# Take user input\n",
        "user_data = get_user_input()\n",
        "\n",
        "# Convert input data into a DataFrame\n",
        "input_df = pd.DataFrame([user_data])\n",
        "\n",
        "# Apply Label Encoding to categorical features (ensuring consistency with training)\n",
        "for feature in categorical_features:\n",
        "    if user_data[feature] in label_encoders[feature].classes_:\n",
        "        input_df[feature] = label_encoders[feature].transform([user_data[feature]])\n",
        "    else:\n",
        "        default_value = label_encoders[feature].classes_[0]\n",
        "        print(f\"⚠️ Warning: Unseen category '{user_data[feature]}' for {feature}. Using '{default_value}' as default.\")\n",
        "        input_df[feature] = label_encoders[feature].transform([default_value])\n",
        "\n",
        "# Ensure numerical columns are correctly formatted\n",
        "input_df[numerical_features] = input_df[numerical_features].astype(float)\n",
        "\n",
        "# Ensure features are in the same order as training\n",
        "input_df = input_df.reindex(columns=feature_names, fill_value=0)\n",
        "\n",
        "# Standard Scaling (Use same scaler from training)\n",
        "input_scaled = scaler.transform(input_df)\n",
        "\n",
        "# Make predictions using all models\n",
        "nn_prob = nn_model.predict(input_scaled)[0]  # Neural Network\n",
        "svm_prob = svm_model.predict(input_scaled)[0]  # SVM\n",
        "xgb_prob = xgb_model.predict(input_scaled)[0]  # XGBoost\n",
        "lgb_prob = lgb_model.predict_proba(input_scaled)[0]  # LightGBM multi-class probabilities\n",
        "\n",
        "# Averaging Model Outputs for Final Probability\n",
        "final_probabilities = (nn_prob + svm_prob + xgb_prob + lgb_prob) / 4  # Averaging across models\n",
        "\n",
        "# Extract probabilities for each stage\n",
        "prob_early = final_probabilities[0]  # Probability of Early stage\n",
        "prob_moderate = final_probabilities[1]  # Probability of Moderate stage\n",
        "prob_late = final_probabilities[2]  # Probability of Late stage\n",
        "\n",
        "# Display results\n",
        "print(\"\\n🔹 Model Predictions for Oral Cancer Diagnosis Stage:\")\n",
        "print(f\"   🚀 XGBoost Probability (Early: {xgb_prob[0]:.4f}, Moderate: {xgb_prob[1]:.4f}, Late: {xgb_prob[2]:.4f})\")\n",
        "print(f\"   ⚡ SVM Probability (Early: {svm_prob[0]:.4f}, Moderate: {svm_prob[1]:.4f}, Late: {svm_prob[2]:.4f})\")\n",
        "print(f\"   🌳 Neural Network Probability (Early: {nn_prob[0]:.4f}, Moderate: {nn_prob[1]:.4f}, Late: {nn_prob[2]:.4f})\")\n",
        "print(f\"   🔆 LightGBM Probability (Early: {lgb_prob[0]:.4f}, Moderate: {lgb_prob[1]:.4f}, Late: {lgb_prob[2]:.4f})\")\n",
        "\n",
        "print(\"\\n🎯 **Final Averaged Probabilities:**\")\n",
        "print(f\"   🟢 Early Stage Probability: {prob_early:.4f}\")\n",
        "print(f\"   🟠 Moderate Stage Probability: {prob_moderate:.4f}\")\n",
        "print(f\"   🔴 Late Stage Probability: {prob_late:.4f}\")\n",
        "\n",
        "# Find the class with the highest probability\n",
        "max_prob = max(prob_early, prob_moderate, prob_late)\n",
        "\n",
        "if max_prob == prob_late:\n",
        "    print(\"   🛑 **Prediction: Late Stage Cancer Detected** (High Probability)\")\n",
        "elif max_prob == prob_moderate:\n",
        "    print(\"   ⚠️ **Prediction: Moderate Stage Cancer Detected** (Medium Probability)\")\n",
        "else:\n",
        "    print(\"   ✅ **Prediction: Early Stage Cancer Detected** (Low Probability)\")"
      ],
      "metadata": {
        "colab": {
          "base_uri": "https://localhost:8080/",
          "height": 332
        },
        "id": "_tN39hY6IHEx",
        "outputId": "82a014a5-46fb-47cd-f058-5bac260c91df"
      },
      "execution_count": null,
      "outputs": [
        {
          "output_type": "stream",
          "name": "stderr",
          "text": [
            "/usr/local/lib/python3.11/dist-packages/dask/dataframe/__init__.py:42: FutureWarning: \n",
            "Dask dataframe query planning is disabled because dask-expr is not installed.\n",
            "\n",
            "You can install it with `pip install dask[dataframe]` or `conda install dask`.\n",
            "This will raise in a future version.\n",
            "\n",
            "  warnings.warn(msg, FutureWarning)\n"
          ]
        },
        {
          "output_type": "error",
          "ename": "FileNotFoundError",
          "evalue": "[Errno 2] No such file or directory: 'svr_model.pkl'",
          "traceback": [
            "\u001b[0;31m---------------------------------------------------------------------------\u001b[0m",
            "\u001b[0;31mFileNotFoundError\u001b[0m                         Traceback (most recent call last)",
            "\u001b[0;32m<ipython-input-1-302fdf555249>\u001b[0m in \u001b[0;36m<cell line: 0>\u001b[0;34m()\u001b[0m\n\u001b[1;32m      7\u001b[0m \u001b[0;34m\u001b[0m\u001b[0m\n\u001b[1;32m      8\u001b[0m \u001b[0;31m# Load trained models\u001b[0m\u001b[0;34m\u001b[0m\u001b[0;34m\u001b[0m\u001b[0m\n\u001b[0;32m----> 9\u001b[0;31m \u001b[0;32mwith\u001b[0m \u001b[0mopen\u001b[0m\u001b[0;34m(\u001b[0m\u001b[0;34m'svr_model.pkl'\u001b[0m\u001b[0;34m,\u001b[0m \u001b[0;34m'rb'\u001b[0m\u001b[0;34m)\u001b[0m \u001b[0;32mas\u001b[0m \u001b[0mfile\u001b[0m\u001b[0;34m:\u001b[0m\u001b[0;34m\u001b[0m\u001b[0;34m\u001b[0m\u001b[0m\n\u001b[0m\u001b[1;32m     10\u001b[0m     \u001b[0msvm_model\u001b[0m \u001b[0;34m=\u001b[0m \u001b[0mpickle\u001b[0m\u001b[0;34m.\u001b[0m\u001b[0mload\u001b[0m\u001b[0;34m(\u001b[0m\u001b[0mfile\u001b[0m\u001b[0;34m)\u001b[0m\u001b[0;34m\u001b[0m\u001b[0;34m\u001b[0m\u001b[0m\n\u001b[1;32m     11\u001b[0m \u001b[0;34m\u001b[0m\u001b[0m\n",
            "\u001b[0;31mFileNotFoundError\u001b[0m: [Errno 2] No such file or directory: 'svr_model.pkl'"
          ]
        }
      ]
    },
    {
      "cell_type": "code",
      "source": [
        "from sklearn.ensemble import StackingClassifier\n",
        "from sklearn.linear_model import LogisticRegression\n",
        "from sklearn.svm import SVC\n",
        "from xgboost import XGBClassifier\n",
        "from sklearn.pipeline import Pipeline\n",
        "from sklearn.preprocessing import StandardScaler\n",
        "\n",
        "# Wrap XGBoost and SVM in a pipeline to ensure compatibility\n",
        "xgb_model = XGBClassifier(use_label_encoder=False, eval_metric='logloss', random_state=42)\n",
        "svm_model = SVC(probability=True, random_state=42)\n",
        "\n",
        "# Define base models\n",
        "base_models = [\n",
        "    ('xgb', Pipeline([('scaler', StandardScaler()), ('xgb', xgb_model)])),\n",
        "    ('svm', Pipeline([('scaler', StandardScaler()), ('svm', svm_model)]))\n",
        "]\n",
        "\n",
        "# Define the meta-model\n",
        "meta_model = LogisticRegression()\n",
        "\n",
        "# Create StackingClassifier\n",
        "stacking_model = StackingClassifier(estimators=base_models, final_estimator=meta_model)\n",
        "\n",
        "# Train the stacking model\n",
        "stacking_model.fit(X_train_scaled, y_train)\n",
        "\n",
        "# Make predictions\n",
        "stacking_preds = stacking_model.predict(X_test_scaled)"
      ],
      "metadata": {
        "colab": {
          "base_uri": "https://localhost:8080/",
          "height": 515
        },
        "id": "FCGMWtqqEWJO",
        "outputId": "f2a8a1a8-d81d-45bd-a884-bf3d0cafad54"
      },
      "execution_count": null,
      "outputs": [
        {
          "output_type": "stream",
          "name": "stderr",
          "text": [
            "/usr/local/lib/python3.11/dist-packages/xgboost/core.py:158: UserWarning: [18:56:52] WARNING: /workspace/src/learner.cc:740: \n",
            "Parameters: { \"use_label_encoder\" } are not used.\n",
            "\n",
            "  warnings.warn(smsg, UserWarning)\n",
            "/usr/local/lib/python3.11/dist-packages/xgboost/core.py:158: UserWarning: [18:56:53] WARNING: /workspace/src/learner.cc:740: \n",
            "Parameters: { \"use_label_encoder\" } are not used.\n",
            "\n",
            "  warnings.warn(smsg, UserWarning)\n"
          ]
        },
        {
          "output_type": "error",
          "ename": "AttributeError",
          "evalue": "'super' object has no attribute '__sklearn_tags__'",
          "traceback": [
            "\u001b[0;31m---------------------------------------------------------------------------\u001b[0m",
            "\u001b[0;31mAttributeError\u001b[0m                            Traceback (most recent call last)",
            "\u001b[0;32m<ipython-input-148-cab4fb54df40>\u001b[0m in \u001b[0;36m<cell line: 0>\u001b[0;34m()\u001b[0m\n\u001b[1;32m     23\u001b[0m \u001b[0;34m\u001b[0m\u001b[0m\n\u001b[1;32m     24\u001b[0m \u001b[0;31m# Train the stacking model\u001b[0m\u001b[0;34m\u001b[0m\u001b[0;34m\u001b[0m\u001b[0m\n\u001b[0;32m---> 25\u001b[0;31m \u001b[0mstacking_model\u001b[0m\u001b[0;34m.\u001b[0m\u001b[0mfit\u001b[0m\u001b[0;34m(\u001b[0m\u001b[0mX_train_scaled\u001b[0m\u001b[0;34m,\u001b[0m \u001b[0my_train\u001b[0m\u001b[0;34m)\u001b[0m\u001b[0;34m\u001b[0m\u001b[0;34m\u001b[0m\u001b[0m\n\u001b[0m\u001b[1;32m     26\u001b[0m \u001b[0;34m\u001b[0m\u001b[0m\n\u001b[1;32m     27\u001b[0m \u001b[0;31m# Make predictions\u001b[0m\u001b[0;34m\u001b[0m\u001b[0;34m\u001b[0m\u001b[0m\n",
            "\u001b[0;32m/usr/local/lib/python3.11/dist-packages/sklearn/utils/validation.py\u001b[0m in \u001b[0;36minner_f\u001b[0;34m(*args, **kwargs)\u001b[0m\n\u001b[1;32m     61\u001b[0m             \u001b[0mextra_args\u001b[0m \u001b[0;34m=\u001b[0m \u001b[0mlen\u001b[0m\u001b[0;34m(\u001b[0m\u001b[0margs\u001b[0m\u001b[0;34m)\u001b[0m \u001b[0;34m-\u001b[0m \u001b[0mlen\u001b[0m\u001b[0;34m(\u001b[0m\u001b[0mall_args\u001b[0m\u001b[0;34m)\u001b[0m\u001b[0;34m\u001b[0m\u001b[0;34m\u001b[0m\u001b[0m\n\u001b[1;32m     62\u001b[0m             \u001b[0;32mif\u001b[0m \u001b[0mextra_args\u001b[0m \u001b[0;34m<=\u001b[0m \u001b[0;36m0\u001b[0m\u001b[0;34m:\u001b[0m\u001b[0;34m\u001b[0m\u001b[0;34m\u001b[0m\u001b[0m\n\u001b[0;32m---> 63\u001b[0;31m                 \u001b[0;32mreturn\u001b[0m \u001b[0mf\u001b[0m\u001b[0;34m(\u001b[0m\u001b[0;34m*\u001b[0m\u001b[0margs\u001b[0m\u001b[0;34m,\u001b[0m \u001b[0;34m**\u001b[0m\u001b[0mkwargs\u001b[0m\u001b[0;34m)\u001b[0m\u001b[0;34m\u001b[0m\u001b[0;34m\u001b[0m\u001b[0m\n\u001b[0m\u001b[1;32m     64\u001b[0m \u001b[0;34m\u001b[0m\u001b[0m\n\u001b[1;32m     65\u001b[0m             \u001b[0;31m# extra_args > 0\u001b[0m\u001b[0;34m\u001b[0m\u001b[0;34m\u001b[0m\u001b[0m\n",
            "\u001b[0;32m/usr/local/lib/python3.11/dist-packages/sklearn/ensemble/_stacking.py\u001b[0m in \u001b[0;36mfit\u001b[0;34m(self, X, y, sample_weight, **fit_params)\u001b[0m\n\u001b[1;32m    715\u001b[0m         \u001b[0;32mif\u001b[0m \u001b[0msample_weight\u001b[0m \u001b[0;32mis\u001b[0m \u001b[0;32mnot\u001b[0m \u001b[0;32mNone\u001b[0m\u001b[0;34m:\u001b[0m\u001b[0;34m\u001b[0m\u001b[0;34m\u001b[0m\u001b[0m\n\u001b[1;32m    716\u001b[0m             \u001b[0mfit_params\u001b[0m\u001b[0;34m[\u001b[0m\u001b[0;34m\"sample_weight\"\u001b[0m\u001b[0;34m]\u001b[0m \u001b[0;34m=\u001b[0m \u001b[0msample_weight\u001b[0m\u001b[0;34m\u001b[0m\u001b[0;34m\u001b[0m\u001b[0m\n\u001b[0;32m--> 717\u001b[0;31m         \u001b[0;32mreturn\u001b[0m \u001b[0msuper\u001b[0m\u001b[0;34m(\u001b[0m\u001b[0;34m)\u001b[0m\u001b[0;34m.\u001b[0m\u001b[0mfit\u001b[0m\u001b[0;34m(\u001b[0m\u001b[0mX\u001b[0m\u001b[0;34m,\u001b[0m \u001b[0my_encoded\u001b[0m\u001b[0;34m,\u001b[0m \u001b[0;34m**\u001b[0m\u001b[0mfit_params\u001b[0m\u001b[0;34m)\u001b[0m\u001b[0;34m\u001b[0m\u001b[0;34m\u001b[0m\u001b[0m\n\u001b[0m\u001b[1;32m    718\u001b[0m \u001b[0;34m\u001b[0m\u001b[0m\n\u001b[1;32m    719\u001b[0m     @available_if(\n",
            "\u001b[0;32m/usr/local/lib/python3.11/dist-packages/sklearn/base.py\u001b[0m in \u001b[0;36mwrapper\u001b[0;34m(estimator, *args, **kwargs)\u001b[0m\n\u001b[1;32m   1387\u001b[0m                 )\n\u001b[1;32m   1388\u001b[0m             ):\n\u001b[0;32m-> 1389\u001b[0;31m                 \u001b[0;32mreturn\u001b[0m \u001b[0mfit_method\u001b[0m\u001b[0;34m(\u001b[0m\u001b[0mestimator\u001b[0m\u001b[0;34m,\u001b[0m \u001b[0;34m*\u001b[0m\u001b[0margs\u001b[0m\u001b[0;34m,\u001b[0m \u001b[0;34m**\u001b[0m\u001b[0mkwargs\u001b[0m\u001b[0;34m)\u001b[0m\u001b[0;34m\u001b[0m\u001b[0;34m\u001b[0m\u001b[0m\n\u001b[0m\u001b[1;32m   1390\u001b[0m \u001b[0;34m\u001b[0m\u001b[0m\n\u001b[1;32m   1391\u001b[0m         \u001b[0;32mreturn\u001b[0m \u001b[0mwrapper\u001b[0m\u001b[0;34m\u001b[0m\u001b[0;34m\u001b[0m\u001b[0m\n",
            "\u001b[0;32m/usr/local/lib/python3.11/dist-packages/sklearn/ensemble/_stacking.py\u001b[0m in \u001b[0;36mfit\u001b[0;34m(self, X, y, **fit_params)\u001b[0m\n\u001b[1;32m    252\u001b[0m                 \u001b[0mcv\u001b[0m\u001b[0;34m.\u001b[0m\u001b[0mrandom_state\u001b[0m \u001b[0;34m=\u001b[0m \u001b[0mnp\u001b[0m\u001b[0;34m.\u001b[0m\u001b[0mrandom\u001b[0m\u001b[0;34m.\u001b[0m\u001b[0mRandomState\u001b[0m\u001b[0;34m(\u001b[0m\u001b[0;34m)\u001b[0m\u001b[0;34m\u001b[0m\u001b[0;34m\u001b[0m\u001b[0m\n\u001b[1;32m    253\u001b[0m \u001b[0;34m\u001b[0m\u001b[0m\n\u001b[0;32m--> 254\u001b[0;31m             predictions = Parallel(n_jobs=self.n_jobs)(\n\u001b[0m\u001b[1;32m    255\u001b[0m                 delayed(cross_val_predict)(\n\u001b[1;32m    256\u001b[0m                     \u001b[0mclone\u001b[0m\u001b[0;34m(\u001b[0m\u001b[0mest\u001b[0m\u001b[0;34m)\u001b[0m\u001b[0;34m,\u001b[0m\u001b[0;34m\u001b[0m\u001b[0;34m\u001b[0m\u001b[0m\n",
            "\u001b[0;32m/usr/local/lib/python3.11/dist-packages/sklearn/utils/parallel.py\u001b[0m in \u001b[0;36m__call__\u001b[0;34m(self, iterable)\u001b[0m\n\u001b[1;32m     75\u001b[0m             \u001b[0;32mfor\u001b[0m \u001b[0mdelayed_func\u001b[0m\u001b[0;34m,\u001b[0m \u001b[0margs\u001b[0m\u001b[0;34m,\u001b[0m \u001b[0mkwargs\u001b[0m \u001b[0;32min\u001b[0m \u001b[0miterable\u001b[0m\u001b[0;34m\u001b[0m\u001b[0;34m\u001b[0m\u001b[0m\n\u001b[1;32m     76\u001b[0m         )\n\u001b[0;32m---> 77\u001b[0;31m         \u001b[0;32mreturn\u001b[0m \u001b[0msuper\u001b[0m\u001b[0;34m(\u001b[0m\u001b[0;34m)\u001b[0m\u001b[0;34m.\u001b[0m\u001b[0m__call__\u001b[0m\u001b[0;34m(\u001b[0m\u001b[0miterable_with_config\u001b[0m\u001b[0;34m)\u001b[0m\u001b[0;34m\u001b[0m\u001b[0;34m\u001b[0m\u001b[0m\n\u001b[0m\u001b[1;32m     78\u001b[0m \u001b[0;34m\u001b[0m\u001b[0m\n\u001b[1;32m     79\u001b[0m \u001b[0;34m\u001b[0m\u001b[0m\n",
            "\u001b[0;32m/usr/local/lib/python3.11/dist-packages/joblib/parallel.py\u001b[0m in \u001b[0;36m__call__\u001b[0;34m(self, iterable)\u001b[0m\n\u001b[1;32m   1916\u001b[0m             \u001b[0moutput\u001b[0m \u001b[0;34m=\u001b[0m \u001b[0mself\u001b[0m\u001b[0;34m.\u001b[0m\u001b[0m_get_sequential_output\u001b[0m\u001b[0;34m(\u001b[0m\u001b[0miterable\u001b[0m\u001b[0;34m)\u001b[0m\u001b[0;34m\u001b[0m\u001b[0;34m\u001b[0m\u001b[0m\n\u001b[1;32m   1917\u001b[0m             \u001b[0mnext\u001b[0m\u001b[0;34m(\u001b[0m\u001b[0moutput\u001b[0m\u001b[0;34m)\u001b[0m\u001b[0;34m\u001b[0m\u001b[0;34m\u001b[0m\u001b[0m\n\u001b[0;32m-> 1918\u001b[0;31m             \u001b[0;32mreturn\u001b[0m \u001b[0moutput\u001b[0m \u001b[0;32mif\u001b[0m \u001b[0mself\u001b[0m\u001b[0;34m.\u001b[0m\u001b[0mreturn_generator\u001b[0m \u001b[0;32melse\u001b[0m \u001b[0mlist\u001b[0m\u001b[0;34m(\u001b[0m\u001b[0moutput\u001b[0m\u001b[0;34m)\u001b[0m\u001b[0;34m\u001b[0m\u001b[0;34m\u001b[0m\u001b[0m\n\u001b[0m\u001b[1;32m   1919\u001b[0m \u001b[0;34m\u001b[0m\u001b[0m\n\u001b[1;32m   1920\u001b[0m         \u001b[0;31m# Let's create an ID that uniquely identifies the current call. If the\u001b[0m\u001b[0;34m\u001b[0m\u001b[0;34m\u001b[0m\u001b[0m\n",
            "\u001b[0;32m/usr/local/lib/python3.11/dist-packages/joblib/parallel.py\u001b[0m in \u001b[0;36m_get_sequential_output\u001b[0;34m(self, iterable)\u001b[0m\n\u001b[1;32m   1845\u001b[0m                 \u001b[0mself\u001b[0m\u001b[0;34m.\u001b[0m\u001b[0mn_dispatched_batches\u001b[0m \u001b[0;34m+=\u001b[0m \u001b[0;36m1\u001b[0m\u001b[0;34m\u001b[0m\u001b[0;34m\u001b[0m\u001b[0m\n\u001b[1;32m   1846\u001b[0m                 \u001b[0mself\u001b[0m\u001b[0;34m.\u001b[0m\u001b[0mn_dispatched_tasks\u001b[0m \u001b[0;34m+=\u001b[0m \u001b[0;36m1\u001b[0m\u001b[0;34m\u001b[0m\u001b[0;34m\u001b[0m\u001b[0m\n\u001b[0;32m-> 1847\u001b[0;31m                 \u001b[0mres\u001b[0m \u001b[0;34m=\u001b[0m \u001b[0mfunc\u001b[0m\u001b[0;34m(\u001b[0m\u001b[0;34m*\u001b[0m\u001b[0margs\u001b[0m\u001b[0;34m,\u001b[0m \u001b[0;34m**\u001b[0m\u001b[0mkwargs\u001b[0m\u001b[0;34m)\u001b[0m\u001b[0;34m\u001b[0m\u001b[0;34m\u001b[0m\u001b[0m\n\u001b[0m\u001b[1;32m   1848\u001b[0m                 \u001b[0mself\u001b[0m\u001b[0;34m.\u001b[0m\u001b[0mn_completed_tasks\u001b[0m \u001b[0;34m+=\u001b[0m \u001b[0;36m1\u001b[0m\u001b[0;34m\u001b[0m\u001b[0;34m\u001b[0m\u001b[0m\n\u001b[1;32m   1849\u001b[0m                 \u001b[0mself\u001b[0m\u001b[0;34m.\u001b[0m\u001b[0mprint_progress\u001b[0m\u001b[0;34m(\u001b[0m\u001b[0;34m)\u001b[0m\u001b[0;34m\u001b[0m\u001b[0;34m\u001b[0m\u001b[0m\n",
            "\u001b[0;32m/usr/local/lib/python3.11/dist-packages/sklearn/utils/parallel.py\u001b[0m in \u001b[0;36m__call__\u001b[0;34m(self, *args, **kwargs)\u001b[0m\n\u001b[1;32m    137\u001b[0m             \u001b[0mconfig\u001b[0m \u001b[0;34m=\u001b[0m \u001b[0;34m{\u001b[0m\u001b[0;34m}\u001b[0m\u001b[0;34m\u001b[0m\u001b[0;34m\u001b[0m\u001b[0m\n\u001b[1;32m    138\u001b[0m         \u001b[0;32mwith\u001b[0m \u001b[0mconfig_context\u001b[0m\u001b[0;34m(\u001b[0m\u001b[0;34m**\u001b[0m\u001b[0mconfig\u001b[0m\u001b[0;34m)\u001b[0m\u001b[0;34m:\u001b[0m\u001b[0;34m\u001b[0m\u001b[0;34m\u001b[0m\u001b[0m\n\u001b[0;32m--> 139\u001b[0;31m             \u001b[0;32mreturn\u001b[0m \u001b[0mself\u001b[0m\u001b[0;34m.\u001b[0m\u001b[0mfunction\u001b[0m\u001b[0;34m(\u001b[0m\u001b[0;34m*\u001b[0m\u001b[0margs\u001b[0m\u001b[0;34m,\u001b[0m \u001b[0;34m**\u001b[0m\u001b[0mkwargs\u001b[0m\u001b[0;34m)\u001b[0m\u001b[0;34m\u001b[0m\u001b[0;34m\u001b[0m\u001b[0m\n\u001b[0m\u001b[1;32m    140\u001b[0m \u001b[0;34m\u001b[0m\u001b[0m\n\u001b[1;32m    141\u001b[0m \u001b[0;34m\u001b[0m\u001b[0m\n",
            "\u001b[0;32m/usr/local/lib/python3.11/dist-packages/sklearn/utils/_param_validation.py\u001b[0m in \u001b[0;36mwrapper\u001b[0;34m(*args, **kwargs)\u001b[0m\n\u001b[1;32m    214\u001b[0m                     )\n\u001b[1;32m    215\u001b[0m                 ):\n\u001b[0;32m--> 216\u001b[0;31m                     \u001b[0;32mreturn\u001b[0m \u001b[0mfunc\u001b[0m\u001b[0;34m(\u001b[0m\u001b[0;34m*\u001b[0m\u001b[0margs\u001b[0m\u001b[0;34m,\u001b[0m \u001b[0;34m**\u001b[0m\u001b[0mkwargs\u001b[0m\u001b[0;34m)\u001b[0m\u001b[0;34m\u001b[0m\u001b[0;34m\u001b[0m\u001b[0m\n\u001b[0m\u001b[1;32m    217\u001b[0m             \u001b[0;32mexcept\u001b[0m \u001b[0mInvalidParameterError\u001b[0m \u001b[0;32mas\u001b[0m \u001b[0me\u001b[0m\u001b[0;34m:\u001b[0m\u001b[0;34m\u001b[0m\u001b[0;34m\u001b[0m\u001b[0m\n\u001b[1;32m    218\u001b[0m                 \u001b[0;31m# When the function is just a wrapper around an estimator, we allow\u001b[0m\u001b[0;34m\u001b[0m\u001b[0;34m\u001b[0m\u001b[0m\n",
            "\u001b[0;32m/usr/local/lib/python3.11/dist-packages/sklearn/model_selection/_validation.py\u001b[0m in \u001b[0;36mcross_val_predict\u001b[0;34m(estimator, X, y, groups, cv, n_jobs, verbose, params, pre_dispatch, method)\u001b[0m\n\u001b[1;32m   1245\u001b[0m     \u001b[0;31m# independent, and that it is pickle-able.\u001b[0m\u001b[0;34m\u001b[0m\u001b[0;34m\u001b[0m\u001b[0m\n\u001b[1;32m   1246\u001b[0m     \u001b[0mparallel\u001b[0m \u001b[0;34m=\u001b[0m \u001b[0mParallel\u001b[0m\u001b[0;34m(\u001b[0m\u001b[0mn_jobs\u001b[0m\u001b[0;34m=\u001b[0m\u001b[0mn_jobs\u001b[0m\u001b[0;34m,\u001b[0m \u001b[0mverbose\u001b[0m\u001b[0;34m=\u001b[0m\u001b[0mverbose\u001b[0m\u001b[0;34m,\u001b[0m \u001b[0mpre_dispatch\u001b[0m\u001b[0;34m=\u001b[0m\u001b[0mpre_dispatch\u001b[0m\u001b[0;34m)\u001b[0m\u001b[0;34m\u001b[0m\u001b[0;34m\u001b[0m\u001b[0m\n\u001b[0;32m-> 1247\u001b[0;31m     predictions = parallel(\n\u001b[0m\u001b[1;32m   1248\u001b[0m         delayed(_fit_and_predict)(\n\u001b[1;32m   1249\u001b[0m             \u001b[0mclone\u001b[0m\u001b[0;34m(\u001b[0m\u001b[0mestimator\u001b[0m\u001b[0;34m)\u001b[0m\u001b[0;34m,\u001b[0m\u001b[0;34m\u001b[0m\u001b[0;34m\u001b[0m\u001b[0m\n",
            "\u001b[0;32m/usr/local/lib/python3.11/dist-packages/sklearn/utils/parallel.py\u001b[0m in \u001b[0;36m__call__\u001b[0;34m(self, iterable)\u001b[0m\n\u001b[1;32m     75\u001b[0m             \u001b[0;32mfor\u001b[0m \u001b[0mdelayed_func\u001b[0m\u001b[0;34m,\u001b[0m \u001b[0margs\u001b[0m\u001b[0;34m,\u001b[0m \u001b[0mkwargs\u001b[0m \u001b[0;32min\u001b[0m \u001b[0miterable\u001b[0m\u001b[0;34m\u001b[0m\u001b[0;34m\u001b[0m\u001b[0m\n\u001b[1;32m     76\u001b[0m         )\n\u001b[0;32m---> 77\u001b[0;31m         \u001b[0;32mreturn\u001b[0m \u001b[0msuper\u001b[0m\u001b[0;34m(\u001b[0m\u001b[0;34m)\u001b[0m\u001b[0;34m.\u001b[0m\u001b[0m__call__\u001b[0m\u001b[0;34m(\u001b[0m\u001b[0miterable_with_config\u001b[0m\u001b[0;34m)\u001b[0m\u001b[0;34m\u001b[0m\u001b[0;34m\u001b[0m\u001b[0m\n\u001b[0m\u001b[1;32m     78\u001b[0m \u001b[0;34m\u001b[0m\u001b[0m\n\u001b[1;32m     79\u001b[0m \u001b[0;34m\u001b[0m\u001b[0m\n",
            "\u001b[0;32m/usr/local/lib/python3.11/dist-packages/joblib/parallel.py\u001b[0m in \u001b[0;36m__call__\u001b[0;34m(self, iterable)\u001b[0m\n\u001b[1;32m   1916\u001b[0m             \u001b[0moutput\u001b[0m \u001b[0;34m=\u001b[0m \u001b[0mself\u001b[0m\u001b[0;34m.\u001b[0m\u001b[0m_get_sequential_output\u001b[0m\u001b[0;34m(\u001b[0m\u001b[0miterable\u001b[0m\u001b[0;34m)\u001b[0m\u001b[0;34m\u001b[0m\u001b[0;34m\u001b[0m\u001b[0m\n\u001b[1;32m   1917\u001b[0m             \u001b[0mnext\u001b[0m\u001b[0;34m(\u001b[0m\u001b[0moutput\u001b[0m\u001b[0;34m)\u001b[0m\u001b[0;34m\u001b[0m\u001b[0;34m\u001b[0m\u001b[0m\n\u001b[0;32m-> 1918\u001b[0;31m             \u001b[0;32mreturn\u001b[0m \u001b[0moutput\u001b[0m \u001b[0;32mif\u001b[0m \u001b[0mself\u001b[0m\u001b[0;34m.\u001b[0m\u001b[0mreturn_generator\u001b[0m \u001b[0;32melse\u001b[0m \u001b[0mlist\u001b[0m\u001b[0;34m(\u001b[0m\u001b[0moutput\u001b[0m\u001b[0;34m)\u001b[0m\u001b[0;34m\u001b[0m\u001b[0;34m\u001b[0m\u001b[0m\n\u001b[0m\u001b[1;32m   1919\u001b[0m \u001b[0;34m\u001b[0m\u001b[0m\n\u001b[1;32m   1920\u001b[0m         \u001b[0;31m# Let's create an ID that uniquely identifies the current call. If the\u001b[0m\u001b[0;34m\u001b[0m\u001b[0;34m\u001b[0m\u001b[0m\n",
            "\u001b[0;32m/usr/local/lib/python3.11/dist-packages/joblib/parallel.py\u001b[0m in \u001b[0;36m_get_sequential_output\u001b[0;34m(self, iterable)\u001b[0m\n\u001b[1;32m   1845\u001b[0m                 \u001b[0mself\u001b[0m\u001b[0;34m.\u001b[0m\u001b[0mn_dispatched_batches\u001b[0m \u001b[0;34m+=\u001b[0m \u001b[0;36m1\u001b[0m\u001b[0;34m\u001b[0m\u001b[0;34m\u001b[0m\u001b[0m\n\u001b[1;32m   1846\u001b[0m                 \u001b[0mself\u001b[0m\u001b[0;34m.\u001b[0m\u001b[0mn_dispatched_tasks\u001b[0m \u001b[0;34m+=\u001b[0m \u001b[0;36m1\u001b[0m\u001b[0;34m\u001b[0m\u001b[0;34m\u001b[0m\u001b[0m\n\u001b[0;32m-> 1847\u001b[0;31m                 \u001b[0mres\u001b[0m \u001b[0;34m=\u001b[0m \u001b[0mfunc\u001b[0m\u001b[0;34m(\u001b[0m\u001b[0;34m*\u001b[0m\u001b[0margs\u001b[0m\u001b[0;34m,\u001b[0m \u001b[0;34m**\u001b[0m\u001b[0mkwargs\u001b[0m\u001b[0;34m)\u001b[0m\u001b[0;34m\u001b[0m\u001b[0;34m\u001b[0m\u001b[0m\n\u001b[0m\u001b[1;32m   1848\u001b[0m                 \u001b[0mself\u001b[0m\u001b[0;34m.\u001b[0m\u001b[0mn_completed_tasks\u001b[0m \u001b[0;34m+=\u001b[0m \u001b[0;36m1\u001b[0m\u001b[0;34m\u001b[0m\u001b[0;34m\u001b[0m\u001b[0m\n\u001b[1;32m   1849\u001b[0m                 \u001b[0mself\u001b[0m\u001b[0;34m.\u001b[0m\u001b[0mprint_progress\u001b[0m\u001b[0;34m(\u001b[0m\u001b[0;34m)\u001b[0m\u001b[0;34m\u001b[0m\u001b[0;34m\u001b[0m\u001b[0m\n",
            "\u001b[0;32m/usr/local/lib/python3.11/dist-packages/sklearn/utils/parallel.py\u001b[0m in \u001b[0;36m__call__\u001b[0;34m(self, *args, **kwargs)\u001b[0m\n\u001b[1;32m    137\u001b[0m             \u001b[0mconfig\u001b[0m \u001b[0;34m=\u001b[0m \u001b[0;34m{\u001b[0m\u001b[0;34m}\u001b[0m\u001b[0;34m\u001b[0m\u001b[0;34m\u001b[0m\u001b[0m\n\u001b[1;32m    138\u001b[0m         \u001b[0;32mwith\u001b[0m \u001b[0mconfig_context\u001b[0m\u001b[0;34m(\u001b[0m\u001b[0;34m**\u001b[0m\u001b[0mconfig\u001b[0m\u001b[0;34m)\u001b[0m\u001b[0;34m:\u001b[0m\u001b[0;34m\u001b[0m\u001b[0;34m\u001b[0m\u001b[0m\n\u001b[0;32m--> 139\u001b[0;31m             \u001b[0;32mreturn\u001b[0m \u001b[0mself\u001b[0m\u001b[0;34m.\u001b[0m\u001b[0mfunction\u001b[0m\u001b[0;34m(\u001b[0m\u001b[0;34m*\u001b[0m\u001b[0margs\u001b[0m\u001b[0;34m,\u001b[0m \u001b[0;34m**\u001b[0m\u001b[0mkwargs\u001b[0m\u001b[0;34m)\u001b[0m\u001b[0;34m\u001b[0m\u001b[0;34m\u001b[0m\u001b[0m\n\u001b[0m\u001b[1;32m    140\u001b[0m \u001b[0;34m\u001b[0m\u001b[0m\n\u001b[1;32m    141\u001b[0m \u001b[0;34m\u001b[0m\u001b[0m\n",
            "\u001b[0;32m/usr/local/lib/python3.11/dist-packages/sklearn/model_selection/_validation.py\u001b[0m in \u001b[0;36m_fit_and_predict\u001b[0;34m(estimator, X, y, train, test, fit_params, method)\u001b[0m\n\u001b[1;32m   1332\u001b[0m         \u001b[0mestimator\u001b[0m\u001b[0;34m.\u001b[0m\u001b[0mfit\u001b[0m\u001b[0;34m(\u001b[0m\u001b[0mX_train\u001b[0m\u001b[0;34m,\u001b[0m \u001b[0my_train\u001b[0m\u001b[0;34m,\u001b[0m \u001b[0;34m**\u001b[0m\u001b[0mfit_params\u001b[0m\u001b[0;34m)\u001b[0m\u001b[0;34m\u001b[0m\u001b[0;34m\u001b[0m\u001b[0m\n\u001b[1;32m   1333\u001b[0m     \u001b[0mfunc\u001b[0m \u001b[0;34m=\u001b[0m \u001b[0mgetattr\u001b[0m\u001b[0;34m(\u001b[0m\u001b[0mestimator\u001b[0m\u001b[0;34m,\u001b[0m \u001b[0mmethod\u001b[0m\u001b[0;34m)\u001b[0m\u001b[0;34m\u001b[0m\u001b[0;34m\u001b[0m\u001b[0m\n\u001b[0;32m-> 1334\u001b[0;31m     \u001b[0mpredictions\u001b[0m \u001b[0;34m=\u001b[0m \u001b[0mfunc\u001b[0m\u001b[0;34m(\u001b[0m\u001b[0mX_test\u001b[0m\u001b[0;34m)\u001b[0m\u001b[0;34m\u001b[0m\u001b[0;34m\u001b[0m\u001b[0m\n\u001b[0m\u001b[1;32m   1335\u001b[0m \u001b[0;34m\u001b[0m\u001b[0m\n\u001b[1;32m   1336\u001b[0m     encode = (\n",
            "\u001b[0;32m/usr/local/lib/python3.11/dist-packages/sklearn/pipeline.py\u001b[0m in \u001b[0;36mpredict_proba\u001b[0;34m(self, X, **params)\u001b[0m\n\u001b[1;32m    896\u001b[0m         \"\"\"\n\u001b[1;32m    897\u001b[0m         \u001b[0;31m# TODO(1.8): Remove the context manager and use check_is_fitted(self)\u001b[0m\u001b[0;34m\u001b[0m\u001b[0;34m\u001b[0m\u001b[0m\n\u001b[0;32m--> 898\u001b[0;31m         \u001b[0;32mwith\u001b[0m \u001b[0m_raise_or_warn_if_not_fitted\u001b[0m\u001b[0;34m(\u001b[0m\u001b[0mself\u001b[0m\u001b[0;34m)\u001b[0m\u001b[0;34m:\u001b[0m\u001b[0;34m\u001b[0m\u001b[0;34m\u001b[0m\u001b[0m\n\u001b[0m\u001b[1;32m    899\u001b[0m             \u001b[0mXt\u001b[0m \u001b[0;34m=\u001b[0m \u001b[0mX\u001b[0m\u001b[0;34m\u001b[0m\u001b[0;34m\u001b[0m\u001b[0m\n\u001b[1;32m    900\u001b[0m \u001b[0;34m\u001b[0m\u001b[0m\n",
            "\u001b[0;32m/usr/lib/python3.11/contextlib.py\u001b[0m in \u001b[0;36m__exit__\u001b[0;34m(self, typ, value, traceback)\u001b[0m\n\u001b[1;32m    142\u001b[0m         \u001b[0;32mif\u001b[0m \u001b[0mtyp\u001b[0m \u001b[0;32mis\u001b[0m \u001b[0;32mNone\u001b[0m\u001b[0;34m:\u001b[0m\u001b[0;34m\u001b[0m\u001b[0;34m\u001b[0m\u001b[0m\n\u001b[1;32m    143\u001b[0m             \u001b[0;32mtry\u001b[0m\u001b[0;34m:\u001b[0m\u001b[0;34m\u001b[0m\u001b[0;34m\u001b[0m\u001b[0m\n\u001b[0;32m--> 144\u001b[0;31m                 \u001b[0mnext\u001b[0m\u001b[0;34m(\u001b[0m\u001b[0mself\u001b[0m\u001b[0;34m.\u001b[0m\u001b[0mgen\u001b[0m\u001b[0;34m)\u001b[0m\u001b[0;34m\u001b[0m\u001b[0;34m\u001b[0m\u001b[0m\n\u001b[0m\u001b[1;32m    145\u001b[0m             \u001b[0;32mexcept\u001b[0m \u001b[0mStopIteration\u001b[0m\u001b[0;34m:\u001b[0m\u001b[0;34m\u001b[0m\u001b[0;34m\u001b[0m\u001b[0m\n\u001b[1;32m    146\u001b[0m                 \u001b[0;32mreturn\u001b[0m \u001b[0;32mFalse\u001b[0m\u001b[0;34m\u001b[0m\u001b[0;34m\u001b[0m\u001b[0m\n",
            "\u001b[0;32m/usr/local/lib/python3.11/dist-packages/sklearn/pipeline.py\u001b[0m in \u001b[0;36m_raise_or_warn_if_not_fitted\u001b[0;34m(estimator)\u001b[0m\n\u001b[1;32m     58\u001b[0m     \u001b[0;31m# we only get here if the above didn't raise\u001b[0m\u001b[0;34m\u001b[0m\u001b[0;34m\u001b[0m\u001b[0m\n\u001b[1;32m     59\u001b[0m     \u001b[0;32mtry\u001b[0m\u001b[0;34m:\u001b[0m\u001b[0;34m\u001b[0m\u001b[0;34m\u001b[0m\u001b[0m\n\u001b[0;32m---> 60\u001b[0;31m         \u001b[0mcheck_is_fitted\u001b[0m\u001b[0;34m(\u001b[0m\u001b[0mestimator\u001b[0m\u001b[0;34m)\u001b[0m\u001b[0;34m\u001b[0m\u001b[0;34m\u001b[0m\u001b[0m\n\u001b[0m\u001b[1;32m     61\u001b[0m     \u001b[0;32mexcept\u001b[0m \u001b[0mNotFittedError\u001b[0m\u001b[0;34m:\u001b[0m\u001b[0;34m\u001b[0m\u001b[0;34m\u001b[0m\u001b[0m\n\u001b[1;32m     62\u001b[0m         warnings.warn(\n",
            "\u001b[0;32m/usr/local/lib/python3.11/dist-packages/sklearn/utils/validation.py\u001b[0m in \u001b[0;36mcheck_is_fitted\u001b[0;34m(estimator, attributes, msg, all_or_any)\u001b[0m\n\u001b[1;32m   1754\u001b[0m         \u001b[0;32mreturn\u001b[0m\u001b[0;34m\u001b[0m\u001b[0;34m\u001b[0m\u001b[0m\n\u001b[1;32m   1755\u001b[0m \u001b[0;34m\u001b[0m\u001b[0m\n\u001b[0;32m-> 1756\u001b[0;31m     \u001b[0;32mif\u001b[0m \u001b[0;32mnot\u001b[0m \u001b[0m_is_fitted\u001b[0m\u001b[0;34m(\u001b[0m\u001b[0mestimator\u001b[0m\u001b[0;34m,\u001b[0m \u001b[0mattributes\u001b[0m\u001b[0;34m,\u001b[0m \u001b[0mall_or_any\u001b[0m\u001b[0;34m)\u001b[0m\u001b[0;34m:\u001b[0m\u001b[0;34m\u001b[0m\u001b[0;34m\u001b[0m\u001b[0m\n\u001b[0m\u001b[1;32m   1757\u001b[0m         \u001b[0;32mraise\u001b[0m \u001b[0mNotFittedError\u001b[0m\u001b[0;34m(\u001b[0m\u001b[0mmsg\u001b[0m \u001b[0;34m%\u001b[0m \u001b[0;34m{\u001b[0m\u001b[0;34m\"name\"\u001b[0m\u001b[0;34m:\u001b[0m \u001b[0mtype\u001b[0m\u001b[0;34m(\u001b[0m\u001b[0mestimator\u001b[0m\u001b[0;34m)\u001b[0m\u001b[0;34m.\u001b[0m\u001b[0m__name__\u001b[0m\u001b[0;34m}\u001b[0m\u001b[0;34m)\u001b[0m\u001b[0;34m\u001b[0m\u001b[0;34m\u001b[0m\u001b[0m\n\u001b[1;32m   1758\u001b[0m \u001b[0;34m\u001b[0m\u001b[0m\n",
            "\u001b[0;32m/usr/local/lib/python3.11/dist-packages/sklearn/utils/validation.py\u001b[0m in \u001b[0;36m_is_fitted\u001b[0;34m(estimator, attributes, all_or_any)\u001b[0m\n\u001b[1;32m   1663\u001b[0m \u001b[0;34m\u001b[0m\u001b[0m\n\u001b[1;32m   1664\u001b[0m     \u001b[0;32mif\u001b[0m \u001b[0mhasattr\u001b[0m\u001b[0;34m(\u001b[0m\u001b[0mestimator\u001b[0m\u001b[0;34m,\u001b[0m \u001b[0;34m\"__sklearn_is_fitted__\"\u001b[0m\u001b[0;34m)\u001b[0m\u001b[0;34m:\u001b[0m\u001b[0;34m\u001b[0m\u001b[0;34m\u001b[0m\u001b[0m\n\u001b[0;32m-> 1665\u001b[0;31m         \u001b[0;32mreturn\u001b[0m \u001b[0mestimator\u001b[0m\u001b[0;34m.\u001b[0m\u001b[0m__sklearn_is_fitted__\u001b[0m\u001b[0;34m(\u001b[0m\u001b[0;34m)\u001b[0m\u001b[0;34m\u001b[0m\u001b[0;34m\u001b[0m\u001b[0m\n\u001b[0m\u001b[1;32m   1666\u001b[0m \u001b[0;34m\u001b[0m\u001b[0m\n\u001b[1;32m   1667\u001b[0m     fitted_attrs = [\n",
            "\u001b[0;32m/usr/local/lib/python3.11/dist-packages/sklearn/pipeline.py\u001b[0m in \u001b[0;36m__sklearn_is_fitted__\u001b[0;34m(self)\u001b[0m\n\u001b[1;32m   1319\u001b[0m             \u001b[0;31m# means the previous steps should also be fit. This is faster than\u001b[0m\u001b[0;34m\u001b[0m\u001b[0;34m\u001b[0m\u001b[0m\n\u001b[1;32m   1320\u001b[0m             \u001b[0;31m# checking if every step of the pipeline is fit.\u001b[0m\u001b[0;34m\u001b[0m\u001b[0;34m\u001b[0m\u001b[0m\n\u001b[0;32m-> 1321\u001b[0;31m             \u001b[0mcheck_is_fitted\u001b[0m\u001b[0;34m(\u001b[0m\u001b[0mlast_step\u001b[0m\u001b[0;34m)\u001b[0m\u001b[0;34m\u001b[0m\u001b[0;34m\u001b[0m\u001b[0m\n\u001b[0m\u001b[1;32m   1322\u001b[0m             \u001b[0;32mreturn\u001b[0m \u001b[0;32mTrue\u001b[0m\u001b[0;34m\u001b[0m\u001b[0;34m\u001b[0m\u001b[0m\n\u001b[1;32m   1323\u001b[0m         \u001b[0;32mexcept\u001b[0m \u001b[0mNotFittedError\u001b[0m\u001b[0;34m:\u001b[0m\u001b[0;34m\u001b[0m\u001b[0;34m\u001b[0m\u001b[0m\n",
            "\u001b[0;32m/usr/local/lib/python3.11/dist-packages/sklearn/utils/validation.py\u001b[0m in \u001b[0;36mcheck_is_fitted\u001b[0;34m(estimator, attributes, msg, all_or_any)\u001b[0m\n\u001b[1;32m   1749\u001b[0m         \u001b[0;32mraise\u001b[0m \u001b[0mTypeError\u001b[0m\u001b[0;34m(\u001b[0m\u001b[0;34m\"%s is not an estimator instance.\"\u001b[0m \u001b[0;34m%\u001b[0m \u001b[0;34m(\u001b[0m\u001b[0mestimator\u001b[0m\u001b[0;34m)\u001b[0m\u001b[0;34m)\u001b[0m\u001b[0;34m\u001b[0m\u001b[0;34m\u001b[0m\u001b[0m\n\u001b[1;32m   1750\u001b[0m \u001b[0;34m\u001b[0m\u001b[0m\n\u001b[0;32m-> 1751\u001b[0;31m     \u001b[0mtags\u001b[0m \u001b[0;34m=\u001b[0m \u001b[0mget_tags\u001b[0m\u001b[0;34m(\u001b[0m\u001b[0mestimator\u001b[0m\u001b[0;34m)\u001b[0m\u001b[0;34m\u001b[0m\u001b[0;34m\u001b[0m\u001b[0m\n\u001b[0m\u001b[1;32m   1752\u001b[0m \u001b[0;34m\u001b[0m\u001b[0m\n\u001b[1;32m   1753\u001b[0m     \u001b[0;32mif\u001b[0m \u001b[0;32mnot\u001b[0m \u001b[0mtags\u001b[0m\u001b[0;34m.\u001b[0m\u001b[0mrequires_fit\u001b[0m \u001b[0;32mand\u001b[0m \u001b[0mattributes\u001b[0m \u001b[0;32mis\u001b[0m \u001b[0;32mNone\u001b[0m\u001b[0;34m:\u001b[0m\u001b[0;34m\u001b[0m\u001b[0;34m\u001b[0m\u001b[0m\n",
            "\u001b[0;32m/usr/local/lib/python3.11/dist-packages/sklearn/utils/_tags.py\u001b[0m in \u001b[0;36mget_tags\u001b[0;34m(estimator)\u001b[0m\n\u001b[1;32m    428\u001b[0m         \u001b[0;32mfor\u001b[0m \u001b[0mklass\u001b[0m \u001b[0;32min\u001b[0m \u001b[0mreversed\u001b[0m\u001b[0;34m(\u001b[0m\u001b[0mtype\u001b[0m\u001b[0;34m(\u001b[0m\u001b[0mestimator\u001b[0m\u001b[0;34m)\u001b[0m\u001b[0;34m.\u001b[0m\u001b[0mmro\u001b[0m\u001b[0;34m(\u001b[0m\u001b[0;34m)\u001b[0m\u001b[0;34m)\u001b[0m\u001b[0;34m:\u001b[0m\u001b[0;34m\u001b[0m\u001b[0;34m\u001b[0m\u001b[0m\n\u001b[1;32m    429\u001b[0m             \u001b[0;32mif\u001b[0m \u001b[0;34m\"__sklearn_tags__\"\u001b[0m \u001b[0;32min\u001b[0m \u001b[0mvars\u001b[0m\u001b[0;34m(\u001b[0m\u001b[0mklass\u001b[0m\u001b[0;34m)\u001b[0m\u001b[0;34m:\u001b[0m\u001b[0;34m\u001b[0m\u001b[0;34m\u001b[0m\u001b[0m\n\u001b[0;32m--> 430\u001b[0;31m                 \u001b[0msklearn_tags_provider\u001b[0m\u001b[0;34m[\u001b[0m\u001b[0mklass\u001b[0m\u001b[0;34m]\u001b[0m \u001b[0;34m=\u001b[0m \u001b[0mklass\u001b[0m\u001b[0;34m.\u001b[0m\u001b[0m__sklearn_tags__\u001b[0m\u001b[0;34m(\u001b[0m\u001b[0mestimator\u001b[0m\u001b[0;34m)\u001b[0m  \u001b[0;31m# type: ignore[attr-defined]\u001b[0m\u001b[0;34m\u001b[0m\u001b[0;34m\u001b[0m\u001b[0m\n\u001b[0m\u001b[1;32m    431\u001b[0m                 \u001b[0mclass_order\u001b[0m\u001b[0;34m.\u001b[0m\u001b[0mappend\u001b[0m\u001b[0;34m(\u001b[0m\u001b[0mklass\u001b[0m\u001b[0;34m)\u001b[0m\u001b[0;34m\u001b[0m\u001b[0;34m\u001b[0m\u001b[0m\n\u001b[1;32m    432\u001b[0m             \u001b[0;32melif\u001b[0m \u001b[0;34m\"_more_tags\"\u001b[0m \u001b[0;32min\u001b[0m \u001b[0mvars\u001b[0m\u001b[0;34m(\u001b[0m\u001b[0mklass\u001b[0m\u001b[0;34m)\u001b[0m\u001b[0;34m:\u001b[0m\u001b[0;34m\u001b[0m\u001b[0;34m\u001b[0m\u001b[0m\n",
            "\u001b[0;32m/usr/local/lib/python3.11/dist-packages/sklearn/base.py\u001b[0m in \u001b[0;36m__sklearn_tags__\u001b[0;34m(self)\u001b[0m\n\u001b[1;32m    538\u001b[0m \u001b[0;34m\u001b[0m\u001b[0m\n\u001b[1;32m    539\u001b[0m     \u001b[0;32mdef\u001b[0m \u001b[0m__sklearn_tags__\u001b[0m\u001b[0;34m(\u001b[0m\u001b[0mself\u001b[0m\u001b[0;34m)\u001b[0m\u001b[0;34m:\u001b[0m\u001b[0;34m\u001b[0m\u001b[0;34m\u001b[0m\u001b[0m\n\u001b[0;32m--> 540\u001b[0;31m         \u001b[0mtags\u001b[0m \u001b[0;34m=\u001b[0m \u001b[0msuper\u001b[0m\u001b[0;34m(\u001b[0m\u001b[0;34m)\u001b[0m\u001b[0;34m.\u001b[0m\u001b[0m__sklearn_tags__\u001b[0m\u001b[0;34m(\u001b[0m\u001b[0;34m)\u001b[0m\u001b[0;34m\u001b[0m\u001b[0;34m\u001b[0m\u001b[0m\n\u001b[0m\u001b[1;32m    541\u001b[0m         \u001b[0mtags\u001b[0m\u001b[0;34m.\u001b[0m\u001b[0mestimator_type\u001b[0m \u001b[0;34m=\u001b[0m \u001b[0;34m\"classifier\"\u001b[0m\u001b[0;34m\u001b[0m\u001b[0;34m\u001b[0m\u001b[0m\n\u001b[1;32m    542\u001b[0m         \u001b[0mtags\u001b[0m\u001b[0;34m.\u001b[0m\u001b[0mclassifier_tags\u001b[0m \u001b[0;34m=\u001b[0m \u001b[0mClassifierTags\u001b[0m\u001b[0;34m(\u001b[0m\u001b[0;34m)\u001b[0m\u001b[0;34m\u001b[0m\u001b[0;34m\u001b[0m\u001b[0m\n",
            "\u001b[0;31mAttributeError\u001b[0m: 'super' object has no attribute '__sklearn_tags__'"
          ]
        }
      ]
    },
    {
      "cell_type": "code",
      "source": [
        "import shap\n",
        "import lime\n",
        "import lime.lime_tabular\n",
        "import pickle\n",
        "import numpy as np\n",
        "import pandas as pd\n",
        "import matplotlib.pyplot as plt\n",
        "\n",
        "# Load trained models\n",
        "with open('nn_model.pkl', 'rb') as file:\n",
        "    nn_model = pickle.load(file)\n",
        "\n",
        "with open('svm_model_tuned.pkl', 'rb') as file:\n",
        "    svm_model = pickle.load(file)\n",
        "\n",
        "with open('xgb_model.pkl', 'rb') as file:\n",
        "    xgb_model = pickle.load(file)\n",
        "\n",
        "# Load scaler and feature names\n",
        "with open('scaler.pkl', 'rb') as file:\n",
        "    scaler = pickle.load(file)\n",
        "\n",
        "with open('feature_names.pkl', 'rb') as file:\n",
        "    feature_names = pickle.load(file)\n",
        "\n",
        "# Assume input_scaled is already prepared\n",
        "# input_scaled = scaler.transform(input_df)\n",
        "\n",
        "# --- SHAP Analysis ---\n",
        "shap.initjs()\n",
        "\n",
        "# SHAP for XGBoost (Tree-based model)\n",
        "explainer_xgb = shap.Explainer(xgb_model, feature_names=feature_names)\n",
        "shap_values_xgb = explainer_xgb(input_scaled)\n",
        "shap.summary_plot(shap_values_xgb, feature_names=feature_names)\n",
        "plt.show()\n",
        "\n",
        "# SHAP for Neural Network (Kernel-based method)\n",
        "explainer_nn = shap.KernelExplainer(nn_model.predict_proba, shap.sample(input_scaled, 100))\n",
        "shap_values_nn = explainer_nn.shap_values(input_scaled)\n",
        "shap.summary_plot(shap_values_nn[1], feature_names=feature_names)\n",
        "plt.show()\n",
        "\n",
        "# SHAP for SVM\n",
        "explainer_svm = shap.KernelExplainer(svm_model.predict_proba, shap.sample(input_scaled, 100))\n",
        "shap_values_svm = explainer_svm.shap_values(input_scaled)\n",
        "shap.summary_plot(shap_values_svm[1], feature_names=feature_names)\n",
        "plt.show()\n",
        "\n",
        "# --- LIME Analysis ---\n",
        "lime_explainer = lime.lime_tabular.LimeTabularExplainer(\n",
        "    training_data=scaler.transform(pd.DataFrame([user_data], columns=feature_names)),\n",
        "    feature_names=feature_names,\n",
        "    class_names=['No Cancer', 'Cancer'],\n",
        "    discretize_continuous=True\n",
        ")\n",
        "\n",
        "# Explain the prediction\n",
        "exp = lime_explainer.explain_instance(input_scaled[0], nn_model.predict_proba, num_features=len(feature_names))\n",
        "exp.show_in_notebook()"
      ],
      "metadata": {
        "id": "zaosI8DCG3QD"
      },
      "execution_count": null,
      "outputs": []
    },
    {
      "cell_type": "markdown",
      "metadata": {
        "id": "QTwbQnT_hU07"
      },
      "source": [
        "# **Accuracy comparison of models**"
      ]
    },
    {
      "cell_type": "code",
      "execution_count": null,
      "metadata": {
        "id": "bc3YWBQwhVK4"
      },
      "outputs": [],
      "source": [
        "# Create a dictionary to store the results\n",
        "results = {\n",
        "    'Model': ['SVM', 'Neural Network', 'XGBoost'],\n",
        "    'Train Accuracy': [\n",
        "        accuracy_score(y_train, svm_model_best.predict(X_train_scaled)),\n",
        "        accuracy_score(y_train, nn_model_best.predict(X_train_scaled)),\n",
        "        accuracy_score(y_train, xgb_model.predict(X_train_scaled))\n",
        "    ],\n",
        "    'Test Accuracy': [\n",
        "        accuracy_score(y_test, svm_model_best.predict(X_test_scaled)),\n",
        "        accuracy_score(y_test, nn_model_best.predict(X_test_scaled)),\n",
        "        accuracy_score(y_test, xgb_model.predict(X_test_scaled))\n",
        "    ]\n",
        "}\n",
        "\n",
        "# Convert the results into a DataFrame\n",
        "results_df = pd.DataFrame(results)\n",
        "\n",
        "# Plot the comparison\n",
        "results_df.set_index('Model').plot(kind='bar', figsize=(10, 6), color=['skyblue', 'lightgreen'], edgecolor='black')\n",
        "plt.title('Training and Testing Accuracy Comparison of Models')\n",
        "plt.ylabel('Accuracy')\n",
        "plt.xlabel('Models')\n",
        "plt.xticks(rotation=0)\n",
        "plt.ylim(0, 1)  # Set the y-axis limit from 0 to 1 for accuracy\n",
        "plt.show()\n",
        "\n",
        "# Print the results DataFrame\n",
        "print(results_df)\n"
      ]
    },
    {
      "cell_type": "markdown",
      "metadata": {
        "id": "iKUFYIl8kYml"
      },
      "source": []
    },
    {
      "cell_type": "code",
      "execution_count": null,
      "metadata": {
        "id": "pZD5igN9kZIU"
      },
      "outputs": [],
      "source": [
        "import shap\n",
        "import numpy as np\n",
        "import matplotlib.pyplot as plt\n",
        "\n",
        "# Use k-means to summarize the background data\n",
        "background_data = shap.kmeans(X_train_scaled, 100)\n",
        "# Initialize SHAP explainer with the k-means summarized background data\n",
        "explainer = shap.KernelExplainer(nn_model_best.predict_proba, background_data)\n",
        "\n",
        "# Calculate SHAP values for the test data\n",
        "shap_values = explainer.shap_values(X_test_scaled)\n",
        "\n",
        "# Visualize feature importance (summary plot)\n",
        "shap.summary_plot(shap_values, X_test_scaled, feature_names=X.columns)\n",
        "\n",
        "# Visualize SHAP values for a single prediction (force plot)\n",
        "# Use the correct index for sample data\n",
        "sample_index = 0  # Choose the sample index (adjust as needed)\n",
        "\n",
        "# Ensure X_test_scaled is a pandas DataFrame\n",
        "X_test_scaled_df = pd.DataFrame(X_test_scaled, columns=X.columns)\n",
        "\n",
        "shap.force_plot(\n",
        "    explainer.expected_value[1],\n",
        "    shap_values[1][sample_index, :],\n",
        "    X_test_scaled_df.iloc[sample_index, :],\n",
        "    matplotlib=True\n",
        ")\n",
        "\n",
        "# Feature importance bar plot\n",
        "plt.figure(figsize=(5, 5))\n",
        "shap.summary_plot(shap_values, X_test_scaled, feature_names=X.columns, plot_type=\"bar\")\n"
      ]
    },
    {
      "cell_type": "code",
      "execution_count": null,
      "metadata": {
        "id": "ATwTbIFvvZn8"
      },
      "outputs": [],
      "source": [
        "# Install the LIME package if not already installed\n",
        "!pip install lime\n",
        "\n",
        "import lime\n",
        "from lime.lime_tabular import LimeTabularExplainer\n",
        "import numpy as np\n",
        "\n",
        "# Initialize the LIME explainer for the neural network model\n",
        "explainer = LimeTabularExplainer(\n",
        "    training_data=X_train_scaled.values,\n",
        "    feature_names=X.columns,\n",
        "    class_names=['Non-Cancer', 'Cancer'],\n",
        "    mode='classification'\n",
        ")\n",
        "\n",
        "# Select a random sample from the test set for explanation\n",
        "sample_index = np.random.randint(0, len(X_test_scaled))\n",
        "sample_data = X_test_scaled.iloc[sample_index]\n",
        "\n",
        "# Convert the sample data to a NumPy array\n",
        "sample_data_array = sample_data.values.reshape(1, -1)\n",
        "\n",
        "# Generate LIME explanation for the selected sample\n",
        "explanation = explainer.explain_instance(\n",
        "    data_row=sample_data_array[0],\n",
        "    predict_fn=nn_model_best.predict_proba\n",
        ")\n",
        "\n",
        "# Visualize the explanation in the notebook\n",
        "explanation.show_in_notebook(show_table=True)\n",
        "\n",
        "# Save the explanation as an HTML file (optional)\n",
        "explanation.save_to_file(\"lime_explanation_neural_network.html\")\n",
        "\n",
        "print(\"LIME explanation saved as 'lime_explanation_neural_network.html'.\")\n"
      ]
    }
  ],
  "metadata": {
    "colab": {
      "provenance": [],
      "include_colab_link": true
    },
    "kernelspec": {
      "display_name": "Python 3",
      "name": "python3"
    },
    "language_info": {
      "name": "python"
    }
  },
  "nbformat": 4,
  "nbformat_minor": 0
}