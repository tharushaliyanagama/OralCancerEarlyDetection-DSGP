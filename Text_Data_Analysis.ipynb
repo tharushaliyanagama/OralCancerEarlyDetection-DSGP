{
  "cells": [
    {
      "cell_type": "markdown",
      "metadata": {
        "id": "view-in-github",
        "colab_type": "text"
      },
      "source": [
        "<a href=\"https://colab.research.google.com/github/tharushaliyanagama/OralCancerEarlyDetection-DSGP/blob/Prediction-of-textual-data-I/Text_Data_Analysis.ipynb\" target=\"_parent\"><img src=\"https://colab.research.google.com/assets/colab-badge.svg\" alt=\"Open In Colab\"/></a>"
      ]
    },
    {
      "cell_type": "markdown",
      "metadata": {
        "id": "PWKt2ukqSy2Z"
      },
      "source": [
        "# ***Dataset Analysis***"
      ]
    },
    {
      "cell_type": "markdown",
      "metadata": {
        "id": "_dUEfxAVgR6d"
      },
      "source": [
        "**1. Import Libraries**"
      ]
    },
    {
      "cell_type": "code",
      "execution_count": 33,
      "metadata": {
        "id": "MAC91i2y6AKc"
      },
      "outputs": [],
      "source": [
        "# Import necessary libraries\n",
        "import pandas as pd\n",
        "import numpy as np\n",
        "import seaborn as sns\n",
        "import matplotlib.pyplot as plt\n",
        "from sklearn.model_selection import train_test_split, GridSearchCV, RandomizedSearchCV\n",
        "from sklearn.preprocessing import StandardScaler, OneHotEncoder, LabelEncoder\n",
        "from sklearn.compose import ColumnTransformer\n",
        "from sklearn.impute import SimpleImputer\n",
        "from sklearn.ensemble import RandomForestClassifier\n",
        "from sklearn.linear_model import LogisticRegression\n",
        "from sklearn.svm import SVC\n",
        "from sklearn.neural_network import MLPClassifier\n",
        "from sklearn.metrics import (classification_report, roc_auc_score, accuracy_score, precision_score, recall_score, f1_score)\n",
        "from imblearn.over_sampling import SMOTE\n",
        "from xgboost import XGBClassifier\n",
        "import pickle"
      ]
    },
    {
      "cell_type": "markdown",
      "metadata": {
        "id": "ZJ4I7oWFUrpR"
      },
      "source": [
        "**2. Load and Inspect the Dataset**"
      ]
    },
    {
      "cell_type": "code",
      "execution_count": 34,
      "metadata": {
        "colab": {
          "base_uri": "https://localhost:8080/"
        },
        "id": "iEYu5rBfJdOU",
        "outputId": "5aa79977-7133-4698-d556-536b9632bb22"
      },
      "outputs": [
        {
          "output_type": "stream",
          "name": "stdout",
          "text": [
            "Drive already mounted at /content/drive; to attempt to forcibly remount, call drive.mount(\"/content/drive\", force_remount=True).\n"
          ]
        }
      ],
      "source": [
        "from google.colab import drive\n",
        "drive.mount('/content/drive')"
      ]
    },
    {
      "cell_type": "code",
      "execution_count": 35,
      "metadata": {
        "id": "-ZyWIf9IKqp-"
      },
      "outputs": [],
      "source": [
        "data = pd.read_csv('/content/drive/MyDrive/DSGP/DatasetNewII_risk.csv')"
      ]
    },
    {
      "cell_type": "code",
      "execution_count": 36,
      "metadata": {
        "colab": {
          "base_uri": "https://localhost:8080/"
        },
        "id": "hhg8nrwgSJJm",
        "outputId": "7c12d0d0-9717-43e9-b3e4-ac2b1137a1c2"
      },
      "outputs": [
        {
          "output_type": "stream",
          "name": "stdout",
          "text": [
            "Dataset Info:\n",
            "<class 'pandas.core.frame.DataFrame'>\n",
            "RangeIndex: 2237 entries, 0 to 2236\n",
            "Data columns (total 12 columns):\n",
            " #   Column               Non-Null Count  Dtype  \n",
            "---  ------               --------------  -----  \n",
            " 0   public_id            2237 non-null   int64  \n",
            " 1   lesion_id            2237 non-null   int64  \n",
            " 2   patient_id           2237 non-null   int64  \n",
            " 3   localization         2237 non-null   object \n",
            " 4   larger_size          2237 non-null   float64\n",
            " 5   tobacco_use          2237 non-null   object \n",
            " 6   alcohol_consumption  2237 non-null   object \n",
            " 7   sun_exposure         2237 non-null   object \n",
            " 8   gender               2237 non-null   object \n",
            " 9   skin_color           2237 non-null   object \n",
            " 10  age                  2237 non-null   int64  \n",
            " 11  risk_level           2237 non-null   object \n",
            "dtypes: float64(1), int64(4), object(7)\n",
            "memory usage: 209.8+ KB\n",
            "None\n"
          ]
        }
      ],
      "source": [
        "#Display information\n",
        "print(\"Dataset Info:\")\n",
        "print(data.info())"
      ]
    },
    {
      "cell_type": "code",
      "execution_count": 37,
      "metadata": {
        "colab": {
          "base_uri": "https://localhost:8080/"
        },
        "id": "MrNQnwlR2jSn",
        "outputId": "38ea7567-e5e1-49f0-817a-18f85a59088b"
      },
      "outputs": [
        {
          "output_type": "stream",
          "name": "stdout",
          "text": [
            "\n",
            "First 5 rows:\n",
            "   public_id  lesion_id  patient_id localization  larger_size tobacco_use  \\\n",
            "0          0         50          48       Tongue          2.0         Yes   \n",
            "1          1         50          48       Tongue          2.0         Yes   \n",
            "2          2         41          39       Tongue          2.5         Yes   \n",
            "3          3         41          39       Tongue          2.5         Yes   \n",
            "4          4         87          81          Lip          1.5      Former   \n",
            "\n",
            "  alcohol_consumption sun_exposure gender skin_color  age   risk_level  \n",
            "0                  No           No      M      Black   76    High Risk  \n",
            "1                  No           No      M      Black   86    High Risk  \n",
            "2              Former          Yes      M      White   36    High Risk  \n",
            "3              Former          Yes      M      White   32    High Risk  \n",
            "4                 Yes          Yes      F      White   31  Medium Risk  \n"
          ]
        }
      ],
      "source": [
        "#Load 5 rows\n",
        "print(\"\\nFirst 5 rows:\")\n",
        "print(data.head())"
      ]
    },
    {
      "cell_type": "markdown",
      "metadata": {
        "id": "Ron73mnpW3ru"
      },
      "source": [
        "**3. Understand Numerical Features**"
      ]
    },
    {
      "cell_type": "code",
      "execution_count": 38,
      "metadata": {
        "colab": {
          "base_uri": "https://localhost:8080/"
        },
        "id": "XSJCa9PSAoBc",
        "outputId": "1250fce6-3d3b-45fb-ef40-bc410163618c"
      },
      "outputs": [
        {
          "output_type": "stream",
          "name": "stdout",
          "text": [
            "\n",
            "Dropping columns: ['patient_id', 'public_id', 'lesion_id']\n"
          ]
        }
      ],
      "source": [
        "# Remove unnecessary features based on correlation and domain knowledge\n",
        "columns_to_drop = ['patient_id', 'public_id', 'lesion_id']  # Irrelevant for prediction\n",
        "print(f\"\\nDropping columns: {columns_to_drop}\")\n",
        "data = data.drop(columns=columns_to_drop)"
      ]
    },
    {
      "cell_type": "code",
      "execution_count": 39,
      "metadata": {
        "colab": {
          "base_uri": "https://localhost:8080/"
        },
        "id": "skRB_AeWN4bA",
        "outputId": "ff5b1c5a-6209-4ed5-afe1-981ff1030aec"
      },
      "outputs": [
        {
          "output_type": "stream",
          "name": "stdout",
          "text": [
            "Numeric Variables:\n",
            "   larger_size  age\n",
            "0          2.0   76\n",
            "1          2.0   86\n",
            "2          2.5   36\n",
            "3          2.5   32\n",
            "4          1.5   31\n"
          ]
        }
      ],
      "source": [
        "# Select numeric variables\n",
        "numeric_columns = data.select_dtypes(include=['int64', 'float64'])\n",
        "\n",
        "# Print numeric variables\n",
        "print(\"Numeric Variables:\")\n",
        "print(numeric_columns.head())"
      ]
    },
    {
      "cell_type": "markdown",
      "metadata": {
        "id": "3IBT_cHKU-7V"
      },
      "source": [
        "**4. Histograms for Numerical Features**"
      ]
    },
    {
      "cell_type": "code",
      "execution_count": 40,
      "metadata": {
        "colab": {
          "base_uri": "https://localhost:8080/",
          "height": 866
        },
        "id": "puqDN0Grb-cr",
        "outputId": "4fa354a8-c7aa-4662-bf3c-6fc299e49f44"
      },
      "outputs": [
        {
          "output_type": "display_data",
          "data": {
            "text/plain": [
              "<Figure size 800x500 with 1 Axes>"
            ],
            "image/png": "[encoded data removed]"
          },
          "metadata": {}
        },
        {
          "output_type": "display_data",
          "data": {
            "text/plain": [
              "<Figure size 800x500 with 1 Axes>"
            ],
            "image/png": "[encoded data removed]"
          },
          "metadata": {}
        }
      ],
      "source": [
        "# Plot histograms for specific numerical variables\n",
        "for column in ['larger_size', 'age']:\n",
        "    if column in data.select_dtypes(include=['number']).columns:\n",
        "        plt.figure(figsize=(8, 5))\n",
        "        sns.histplot(data, x=column, bins=20, color='skyblue', edgecolor='black')\n",
        "        plt.title(f\"Histogram of {column}\")\n",
        "        plt.xlabel(column)\n",
        "        plt.ylabel(\"Frequency\")\n",
        "        plt.grid(axis='y', alpha=0.75)\n",
        "        plt.show()\n"
      ]
    },
    {
      "cell_type": "markdown",
      "metadata": {
        "id": "CyUhsif0XkR-"
      },
      "source": [
        "**5. Box Plot to Identify Outliers**"
      ]
    },
    {
      "cell_type": "code",
      "execution_count": 41,
      "metadata": {
        "id": "yxW7dE7KfVz1",
        "colab": {
          "base_uri": "https://localhost:8080/",
          "height": 933
        },
        "outputId": "7e108cfc-d08d-40af-cf33-e14e2f825e80"
      },
      "outputs": [
        {
          "output_type": "display_data",
          "data": {
            "text/plain": [
              "<Figure size 800x500 with 1 Axes>"
            ],
            "image/png": "[encoded data removed]"
          },
          "metadata": {}
        },
        {
          "output_type": "display_data",
          "data": {
            "text/plain": [
              "<Figure size 800x500 with 1 Axes>"
            ],
            "image/png": "[encoded data removed]"
          },
          "metadata": {}
        }
      ],
      "source": [
        "# Plot box plots for specific numerical variables to identify outliers\n",
        "for column in ['larger_size', 'age']:\n",
        "    if column in data.select_dtypes(include=['number']).columns:\n",
        "        plt.figure(figsize=(8, 5))\n",
        "        sns.boxplot(data=data, x=column, color='lightcoral')\n",
        "        plt.title(f\"Box Plot of {column}\")\n",
        "        plt.xlabel(column)\n",
        "        plt.grid(axis='y', alpha=0.75)\n",
        "        plt.show()"
      ]
    },
    {
      "cell_type": "markdown",
      "metadata": {
        "id": "LBF6hXdYX1pM"
      },
      "source": [
        "**6. Handle Outliers using IQR method**"
      ]
    },
    {
      "cell_type": "code",
      "execution_count": 42,
      "metadata": {
        "id": "pU0sfxMTe-IJ",
        "colab": {
          "base_uri": "https://localhost:8080/"
        },
        "outputId": "501331d1-ed7e-486f-ea06-1daf5b06a63b"
      },
      "outputs": [
        {
          "output_type": "stream",
          "name": "stdout",
          "text": [
            "Outliers removed: 2237 remaining rows\n",
            "Number of rows removed: 67\n"
          ]
        }
      ],
      "source": [
        "# Calculate the IQR for the 'larger_size' column\n",
        "Q1 = data['larger_size'].quantile(0.25)  # 25th percentile\n",
        "Q3 = data['larger_size'].quantile(0.75)  # 75th percentile\n",
        "IQR = Q3 - Q1  # Interquartile range\n",
        "\n",
        "# Define the lower and upper bounds for outliers\n",
        "lower_bound = Q1 - 1.5 * IQR\n",
        "upper_bound = Q3 + 1.5 * IQR\n",
        "\n",
        "# Filter the data to exclude outliers\n",
        "filtered_data = data[(data['larger_size'] >= lower_bound) & (data['larger_size'] <= upper_bound)]\n",
        "\n",
        "# Display the number of rows removed\n",
        "removed_rows = len(data) - len(filtered_data)\n",
        "print(f\"Outliers removed: {len(data)} remaining rows\")\n",
        "print(f\"Number of rows removed: {removed_rows}\")"
      ]
    },
    {
      "cell_type": "markdown",
      "metadata": {
        "id": "B8oGmXDMWl_Q"
      },
      "source": [
        "**7. Understand Categorical Features**"
      ]
    },
    {
      "cell_type": "code",
      "execution_count": 43,
      "metadata": {
        "id": "30n9qqWFOAmZ",
        "colab": {
          "base_uri": "https://localhost:8080/"
        },
        "outputId": "77bf3b31-af41-43a4-e429-8b54d0039797"
      },
      "outputs": [
        {
          "output_type": "stream",
          "name": "stdout",
          "text": [
            "Categorical Variables:\n",
            "  localization tobacco_use alcohol_consumption sun_exposure gender skin_color  \\\n",
            "0       Tongue         Yes                  No           No      M      Black   \n",
            "1       Tongue         Yes                  No           No      M      Black   \n",
            "2       Tongue         Yes              Former          Yes      M      White   \n",
            "3       Tongue         Yes              Former          Yes      M      White   \n",
            "4          Lip      Former                 Yes          Yes      F      White   \n",
            "\n",
            "    risk_level  \n",
            "0    High Risk  \n",
            "1    High Risk  \n",
            "2    High Risk  \n",
            "3    High Risk  \n",
            "4  Medium Risk  \n"
          ]
        }
      ],
      "source": [
        "# Select categorical variables\n",
        "categorical_columns = data.select_dtypes(include=['object'])\n",
        "\n",
        "# Print categorical variables\n",
        "print(\"Categorical Variables:\")\n",
        "print(categorical_columns.head())"
      ]
    },
    {
      "cell_type": "markdown",
      "metadata": {
        "id": "oEEruxFvYl47"
      },
      "source": [
        "**8. Unique values of each column**"
      ]
    },
    {
      "cell_type": "code",
      "execution_count": 44,
      "metadata": {
        "id": "B6pimpVSFWMy",
        "colab": {
          "base_uri": "https://localhost:8080/"
        },
        "outputId": "f33b069d-8b9e-4125-a9f8-d31b38658074"
      },
      "outputs": [
        {
          "output_type": "stream",
          "name": "stdout",
          "text": [
            "Column: localization\n",
            "Unique values before encoding: ['Tongue' 'Lip' 'Floor of mouth' 'Buccal mucosa' 'Palate' 'Gingiva'\n",
            " 'Cheek' 'Gum' 'Buccal Mucosa']\n",
            "Unique values after encoding: [8 6 3 1 7 4 2 5 0]\n",
            "-\n",
            "Column: tobacco_use\n",
            "Unique values before encoding: ['Yes' 'Former' 'No' 'Not informed']\n",
            "Unique values after encoding: [3 0 1 2]\n",
            "-\n",
            "Column: alcohol_consumption\n",
            "Unique values before encoding: ['No' 'Former' 'Yes' 'Not informed']\n",
            "Unique values after encoding: [1 0 3 2]\n",
            "-\n",
            "Column: sun_exposure\n",
            "Unique values before encoding: ['No' 'Yes' 'Not informed']\n",
            "Unique values after encoding: [0 2 1]\n",
            "-\n",
            "Column: gender\n",
            "Unique values before encoding: ['M' 'F']\n",
            "Unique values after encoding: [1 0]\n",
            "-\n",
            "Column: skin_color\n",
            "Unique values before encoding: ['Black' 'White' 'Not informed' 'Brown' 'Asian' 'Hispanic']\n",
            "Unique values after encoding: [1 5 4 2 0 3]\n",
            "-\n",
            "\n",
            "Encoding Criteria for 'age': ['age > 60' → 0, '40 <= age <= 60' → 1, 'age < 40' → 2]\n",
            "Unique values of 'age' after encoding: [2 0 1]\n"
          ]
        }
      ],
      "source": [
        "# Encode categorical variables\n",
        "categorical_columns = data.select_dtypes(include=['object']).columns\n",
        "for column in categorical_columns:\n",
        "    if column != 'risk_level':\n",
        "        print(f\"Column: {column}\")\n",
        "        print(f\"Unique values before encoding: {data[column].unique()}\")\n",
        "\n",
        "        # Apply LabelEncoder\n",
        "        le = LabelEncoder()\n",
        "        data[column] = le.fit_transform(data[column])\n",
        "\n",
        "        print(f\"Unique values after encoding: {data[column].unique()}\")\n",
        "        print(\"-\")\n",
        "\n",
        "# Encode 'age' into groups\n",
        "def age_group(age):\n",
        "    if age < 40:\n",
        "        return 0\n",
        "    elif 40 <= age <= 60:\n",
        "        return 1\n",
        "    else:\n",
        "        return 2\n",
        "\n",
        "data['age'] = data['age'].apply(age_group)\n",
        "\n",
        "print(\"\\nEncoding Criteria for 'age': ['age > 60' → 0, '40 <= age <= 60' → 1, 'age < 40' → 2]\")\n",
        "print(\"Unique values of 'age' after encoding:\", data['age'].unique())"
      ]
    },
    {
      "cell_type": "markdown",
      "metadata": {
        "id": "xmrmBzH1Tp1I"
      },
      "source": [
        "# **Data Cleaning**"
      ]
    },
    {
      "cell_type": "markdown",
      "metadata": {
        "id": "iw9r-UQfY2b4"
      },
      "source": [
        "**9. Handle Missing Values**"
      ]
    },
    {
      "cell_type": "code",
      "execution_count": 45,
      "metadata": {
        "id": "gPaCAZQYGKr7",
        "colab": {
          "base_uri": "https://localhost:8080/"
        },
        "outputId": "8335b902-c228-4341-9249-dfd94d738398"
      },
      "outputs": [
        {
          "output_type": "stream",
          "name": "stdout",
          "text": [
            "\n",
            "Checking for missing values:\n",
            "localization           0\n",
            "larger_size            0\n",
            "tobacco_use            0\n",
            "alcohol_consumption    0\n",
            "sun_exposure           0\n",
            "gender                 0\n",
            "skin_color             0\n",
            "age                    0\n",
            "risk_level             0\n",
            "dtype: int64\n"
          ]
        }
      ],
      "source": [
        "# Check for missing values\n",
        "print(\"\\nChecking for missing values:\")\n",
        "print(data.isnull().sum())"
      ]
    },
    {
      "cell_type": "markdown",
      "metadata": {
        "id": "CxELsjKSZBWd"
      },
      "source": [
        "**10. Handle Duplicate Values**"
      ]
    },
    {
      "cell_type": "code",
      "execution_count": 46,
      "metadata": {
        "id": "ROIS_DQWGYn7",
        "colab": {
          "base_uri": "https://localhost:8080/"
        },
        "outputId": "67c8f986-d583-460b-c39e-63f6b66350c8"
      },
      "outputs": [
        {
          "output_type": "stream",
          "name": "stdout",
          "text": [
            "\n",
            "Number of duplicate rows before removal: 113\n"
          ]
        }
      ],
      "source": [
        "# Check for duplicate rows\n",
        "print(f\"\\nNumber of duplicate rows before removal: {data.duplicated().sum()}\")"
      ]
    },
    {
      "cell_type": "markdown",
      "metadata": {
        "id": "Ia0vF7D-T2JQ"
      },
      "source": [
        "# **Feature Engineering**"
      ]
    },
    {
      "cell_type": "markdown",
      "metadata": {
        "id": "JzHz8THOZTz9"
      },
      "source": [
        "**11. Label Encoding**"
      ]
    },
    {
      "cell_type": "markdown",
      "metadata": {
        "id": "yqvgJ7K_Vm5L"
      },
      "source": [
        "**12. Map Target Variable**"
      ]
    },
    {
      "cell_type": "code",
      "execution_count": 47,
      "metadata": {
        "id": "qkMIuk2j9SA9"
      },
      "outputs": [],
      "source": [
        "# Map risk levels to numerical categories\n",
        "data['risk_level'] = data['risk_level'].map({'Low Risk': 0, 'Medium Risk': 1, 'High Risk': 2})"
      ]
    },
    {
      "cell_type": "code",
      "source": [
        "# Force data type conversion\n",
        "data['risk_level'] = pd.to_numeric(data['risk_level'])"
      ],
      "metadata": {
        "id": "XWUrN1Cq3y7z"
      },
      "execution_count": 48,
      "outputs": []
    },
    {
      "cell_type": "markdown",
      "metadata": {
        "id": "pKY9DJdCV5wq"
      },
      "source": [
        "**13. Check Imbalacing of Dataset**"
      ]
    },
    {
      "cell_type": "code",
      "execution_count": 49,
      "metadata": {
        "id": "MgyCSoOO1jrE",
        "colab": {
          "base_uri": "https://localhost:8080/"
        },
        "outputId": "46868863-8c3e-4797-c8e0-151405d4187f"
      },
      "outputs": [
        {
          "output_type": "stream",
          "name": "stdout",
          "text": [
            "\n",
            "Target value distribution:\n",
            "risk_level\n",
            "1    1229\n",
            "2    1002\n",
            "0       6\n",
            "Name: count, dtype: int64\n"
          ]
        }
      ],
      "source": [
        "#Analyze Target Imbalance\n",
        "target_column = 'risk_level'\n",
        "print(\"\\nTarget value distribution:\")\n",
        "print(data[target_column].value_counts())"
      ]
    },
    {
      "cell_type": "code",
      "execution_count": 50,
      "metadata": {
        "id": "QyG4d3wr3TwB",
        "colab": {
          "base_uri": "https://localhost:8080/",
          "height": 461
        },
        "outputId": "53d56d0e-45ab-4b45-d459-2be6eedaf241"
      },
      "outputs": [
        {
          "output_type": "execute_result",
          "data": {
            "text/plain": [
              "<Axes: xlabel='risk_level'>"
            ]
          },
          "metadata": {},
          "execution_count": 50
        },
        {
          "output_type": "display_data",
          "data": {
            "text/plain": [
              "<Figure size 640x480 with 1 Axes>"
            ],
            "image/png": "[encoded data removed]"
          },
          "metadata": {}
        }
      ],
      "source": [
        "#Plot Imbalance dataset\n",
        "data[target_column].value_counts().plot(kind='bar')"
      ]
    },
    {
      "cell_type": "markdown",
      "metadata": {
        "id": "B0Pa2_4fZ-qS"
      },
      "source": [
        "**14. Handle Imbalancing Uning SMOTE**"
      ]
    },
    {
      "cell_type": "code",
      "execution_count": 51,
      "metadata": {
        "id": "xx1jqZ7I2GIa",
        "colab": {
          "base_uri": "https://localhost:8080/"
        },
        "outputId": "98ffe88b-17c0-48dc-815a-f7320b5fd968"
      },
      "outputs": [
        {
          "output_type": "stream",
          "name": "stdout",
          "text": [
            "\n",
            "Class distribution after SMOTE:\n",
            "risk_level\n",
            "2    1229\n",
            "1    1229\n",
            "0    1229\n",
            "Name: count, dtype: int64\n"
          ]
        }
      ],
      "source": [
        "# Handle class imbalance using SMOTE\n",
        "X = data.drop(columns=[target_column])\n",
        "y = data[target_column]\n",
        "\n",
        "smote = SMOTE(random_state=42)\n",
        "X_resampled, y_resampled = smote.fit_resample(X, y)\n",
        "\n",
        "print(\"\\nClass distribution after SMOTE:\")\n",
        "print(pd.Series(y_resampled).value_counts())"
      ]
    },
    {
      "cell_type": "code",
      "execution_count": 52,
      "metadata": {
        "id": "3AD9iurZ31gH",
        "colab": {
          "base_uri": "https://localhost:8080/",
          "height": 461
        },
        "outputId": "9c1eee61-c810-4e2e-98d2-ebe3f7d1061c"
      },
      "outputs": [
        {
          "output_type": "execute_result",
          "data": {
            "text/plain": [
              "<Axes: xlabel='risk_level'>"
            ]
          },
          "metadata": {},
          "execution_count": 52
        },
        {
          "output_type": "display_data",
          "data": {
            "text/plain": [
              "<Figure size 640x480 with 1 Axes>"
            ],
            "image/png": "[encoded data removed]"
          },
          "metadata": {}
        }
      ],
      "source": [
        " #Plot the balace dataset\n",
        " pd.Series(y_resampled).value_counts().plot(kind='bar')"
      ]
    },
    {
      "cell_type": "markdown",
      "metadata": {
        "id": "xSgu5PSS9ldx"
      },
      "source": [
        "**15. Correlation Analysis**"
      ]
    },
    {
      "cell_type": "code",
      "execution_count": 53,
      "metadata": {
        "id": "eiar0bmM9kM5",
        "colab": {
          "base_uri": "https://localhost:8080/"
        },
        "outputId": "e67e4542-bf2c-43b6-e6d4-e71d820d8f24"
      },
      "outputs": [
        {
          "output_type": "stream",
          "name": "stdout",
          "text": [
            "\n",
            "Correlation Analysis:\n",
            "risk_level             1.000000\n",
            "age                    0.345579\n",
            "tobacco_use            0.303233\n",
            "larger_size            0.231703\n",
            "alcohol_consumption    0.218649\n",
            "sun_exposure           0.183826\n",
            "skin_color             0.084218\n",
            "gender                 0.077698\n",
            "localization           0.031048\n",
            "Name: risk_level, dtype: float64\n"
          ]
        }
      ],
      "source": [
        "print(\"\\nCorrelation Analysis:\")\n",
        "correlation_matrix = data.corr()\n",
        "correlation_with_target = correlation_matrix['risk_level'].sort_values(ascending=False)\n",
        "print(correlation_with_target)"
      ]
    },
    {
      "cell_type": "markdown",
      "metadata": {
        "id": "Ooc4yCK_ajb_"
      },
      "source": [
        "**16. Visualization of Correlation values**"
      ]
    },
    {
      "cell_type": "code",
      "execution_count": 54,
      "metadata": {
        "id": "R7b91vmy94_u",
        "colab": {
          "base_uri": "https://localhost:8080/",
          "height": 514
        },
        "outputId": "0cfeb910-41ea-453a-d96f-311a3b8b770c"
      },
      "outputs": [
        {
          "output_type": "display_data",
          "data": {
            "text/plain": [
              "<Figure size 1200x800 with 2 Axes>"
            ],
            "image/png": "[encoded data removed]"
          },
          "metadata": {}
        }
      ],
      "source": [
        "# Visualize correlation with a heatmap\n",
        "plt.figure(figsize=(12, 8))\n",
        "sns.heatmap(correlation_matrix, annot=True, cmap='coolwarm', fmt=\".2f\")\n",
        "plt.title(\"Correlation Matrix\")\n",
        "plt.show()"
      ]
    },
    {
      "cell_type": "markdown",
      "metadata": {
        "id": "EmctJ5g2WCVZ"
      },
      "source": [
        "**17. Features Selection**"
      ]
    },
    {
      "cell_type": "markdown",
      "metadata": {
        "id": "4khU2LQAWK9U"
      },
      "source": [
        "**18. Dataset Splitting**"
      ]
    },
    {
      "cell_type": "code",
      "execution_count": 55,
      "metadata": {
        "id": "dgWxWaA4eRWz",
        "colab": {
          "base_uri": "https://localhost:8080/"
        },
        "outputId": "c8881859-c33e-4014-f079-634f49545bd7"
      },
      "outputs": [
        {
          "output_type": "stream",
          "name": "stdout",
          "text": [
            "\n",
            "Remaining features after dropping unnecessary columns:\n",
            "['localization', 'larger_size', 'tobacco_use', 'alcohol_consumption', 'sun_exposure', 'gender', 'skin_color', 'age', 'risk_level']\n"
          ]
        }
      ],
      "source": [
        "# Print remaining features\n",
        "print(\"\\nRemaining features after dropping unnecessary columns:\")\n",
        "print(list(data.columns))"
      ]
    },
    {
      "cell_type": "code",
      "execution_count": 56,
      "metadata": {
        "id": "kBHS_vi6m6W4",
        "colab": {
          "base_uri": "https://localhost:8080/"
        },
        "outputId": "bee945a7-17f0-4651-8d1c-5d5a16c80ea2"
      },
      "outputs": [
        {
          "output_type": "stream",
          "name": "stdout",
          "text": [
            "Training set size: 2580\n",
            "Test set size: 1107\n"
          ]
        }
      ],
      "source": [
        "X_train, X_test, y_train, y_test = train_test_split(X_resampled, y_resampled, test_size=0.3, random_state=42)\n",
        "\n",
        "print(f\"Training set size: {X_train.shape[0]}\")\n",
        "print(f\"Test set size: {X_test.shape[0]}\")"
      ]
    },
    {
      "cell_type": "code",
      "source": [
        "# Save feature names before scaling (to maintain correct order)\n",
        "feature_names = X_train.columns.tolist()\n",
        "print(feature_names)\n",
        "with open('feature_names.pkl', 'wb') as file:\n",
        "    pickle.dump(feature_names, file)"
      ],
      "metadata": {
        "id": "nPHwsa8tRL7-",
        "colab": {
          "base_uri": "https://localhost:8080/"
        },
        "outputId": "6e40193d-ef54-4055-e25f-929377717716"
      },
      "execution_count": 57,
      "outputs": [
        {
          "output_type": "stream",
          "name": "stdout",
          "text": [
            "['localization', 'larger_size', 'tobacco_use', 'alcohol_consumption', 'sun_exposure', 'gender', 'skin_color', 'age']\n"
          ]
        }
      ]
    },
    {
      "cell_type": "markdown",
      "metadata": {
        "id": "RWjJ0wmbWP99"
      },
      "source": [
        "**19. Feature Scaling**"
      ]
    },
    {
      "cell_type": "code",
      "execution_count": 58,
      "metadata": {
        "id": "eQ_tjA_cD4eZ",
        "colab": {
          "base_uri": "https://localhost:8080/"
        },
        "outputId": "84d9a1d1-3b13-4e57-9e1d-ab3b4ab7d05a"
      },
      "outputs": [
        {
          "output_type": "stream",
          "name": "stdout",
          "text": [
            "Data preprocessing completed.\n"
          ]
        }
      ],
      "source": [
        "# Standard Scaling\n",
        "scaler = StandardScaler()\n",
        "X_train_scaled = scaler.fit_transform(X_train)\n",
        "X_test_scaled = scaler.transform(X_test)\n",
        "\n",
        "# Save the scaler to use during predictions\n",
        "with open('scaler.pkl', 'wb') as file:\n",
        "    pickle.dump(scaler, file)\n",
        "\n",
        "print(\"Data preprocessing completed.\")"
      ]
    },
    {
      "cell_type": "markdown",
      "metadata": {
        "id": "7hS_CjaMSNPC"
      },
      "source": [
        "# **SVM Model Training**"
      ]
    },
    {
      "cell_type": "code",
      "execution_count": 59,
      "metadata": {
        "id": "qj-bctiIUVg9",
        "colab": {
          "base_uri": "https://localhost:8080/"
        },
        "outputId": "8618454b-92ec-4e27-8aa7-66914de6dcbd"
      },
      "outputs": [
        {
          "output_type": "stream",
          "name": "stdout",
          "text": [
            "Fitting 5 folds for each of 12 candidates, totalling 60 fits\n",
            "\n",
            "✅ Best SVR Parameters: {'C': 1, 'gamma': 'auto', 'kernel': 'rbf'}\n",
            "\n",
            "🔹 SVR Regression Metrics on Test Data:\n",
            "   🔹 Mean Squared Error (MSE): 0.0625\n",
            "   🔹 R-squared Score (R²): 0.9053\n",
            "\n",
            "🔹 SVR Regression Metrics on Training Data:\n",
            "   🔹 Mean Squared Error (MSE): 0.0432\n",
            "   🔹 R-squared Score (R²): 0.9355\n",
            "\n",
            "🔹 SVR Classification Report on Test Data:\n",
            "              precision    recall  f1-score   support\n",
            "\n",
            "           0       0.99      1.00      0.99       357\n",
            "           1       0.89      0.87      0.88       376\n",
            "           2       0.88      0.89      0.88       374\n",
            "\n",
            "    accuracy                           0.92      1107\n",
            "   macro avg       0.92      0.92      0.92      1107\n",
            "weighted avg       0.92      0.92      0.92      1107\n",
            "\n",
            "\n",
            "🔹 SVR Classification Report on Training Data:\n",
            "              precision    recall  f1-score   support\n",
            "\n",
            "           0       0.98      1.00      0.99       872\n",
            "           1       0.93      0.91      0.92       853\n",
            "           2       0.93      0.93      0.93       855\n",
            "\n",
            "    accuracy                           0.95      2580\n",
            "   macro avg       0.95      0.95      0.95      2580\n",
            "weighted avg       0.95      0.95      0.95      2580\n",
            "\n",
            "\n",
            "✅ SVR model saved as 'svr_model.pkl'.\n"
          ]
        }
      ],
      "source": [
        "import pickle\n",
        "import numpy as np\n",
        "from sklearn.svm import SVR\n",
        "from sklearn.metrics import mean_squared_error, r2_score, classification_report\n",
        "from sklearn.model_selection import GridSearchCV\n",
        "\n",
        "# Load saved feature names\n",
        "with open('feature_names.pkl', 'rb') as file:\n",
        "    feature_names = pickle.load(file)\n",
        "\n",
        "# Define SVR Hyperparameter Grid\n",
        "param_grid_svr = {\n",
        "    'C': [0.1, 1, 10],\n",
        "    'kernel': ['linear', 'rbf'],\n",
        "    'gamma': ['scale', 'auto']\n",
        "}\n",
        "\n",
        "# Initialize SVR Model\n",
        "svr_model = SVR()\n",
        "\n",
        "# Perform Grid Search for Best Parameters\n",
        "grid_search_svr = GridSearchCV(svr_model, param_grid_svr, cv=5, scoring='r2', verbose=1, n_jobs=-1)\n",
        "grid_search_svr.fit(X_train_scaled, y_train)\n",
        "\n",
        "# Retrieve Best SVR Model\n",
        "best_svr = grid_search_svr.best_estimator_\n",
        "print(\"\\n✅ Best SVR Parameters:\", grid_search_svr.best_params_)\n",
        "\n",
        "# Predict on Test Data\n",
        "y_pred_svr = best_svr.predict(X_test_scaled)\n",
        "\n",
        "print(\"\\n🔹 SVR Regression Metrics on Test Data:\")\n",
        "print(f\"   🔹 Mean Squared Error (MSE): {mean_squared_error(y_test, y_pred_svr):.4f}\")\n",
        "print(f\"   🔹 R-squared Score (R²): {r2_score(y_test, y_pred_svr):.4f}\")\n",
        "\n",
        "# Predict on Training Data\n",
        "y_train_pred_svr = best_svr.predict(X_train_scaled)\n",
        "\n",
        "print(\"\\n🔹 SVR Regression Metrics on Training Data:\")\n",
        "print(f\"   🔹 Mean Squared Error (MSE): {mean_squared_error(y_train, y_train_pred_svr):.4f}\")\n",
        "print(f\"   🔹 R-squared Score (R²): {r2_score(y_train, y_train_pred_svr):.4f}\")\n",
        "\n",
        "# Convert Regression Predictions to Categories (Ordinal Classification)\n",
        "def categorize_predictions(y_pred):\n",
        "    return np.round(y_pred).astype(int)  # Rounding to nearest integer (assuming labels 0,1,2)\n",
        "\n",
        "y_test_class = categorize_predictions(y_pred_svr)\n",
        "y_train_class = categorize_predictions(y_train_pred_svr)\n",
        "\n",
        "# Classification Reports\n",
        "print(\"\\n🔹 SVR Classification Report on Test Data:\")\n",
        "print(classification_report(y_test, y_test_class))\n",
        "\n",
        "print(\"\\n🔹 SVR Classification Report on Training Data:\")\n",
        "print(classification_report(y_train, y_train_class))\n",
        "\n",
        "# Save the trained SVR model\n",
        "with open('svr_model.pkl', 'wb') as file:\n",
        "    pickle.dump(best_svr, file)\n",
        "\n",
        "print(\"\\n✅ SVR model saved as 'svr_model.pkl'.\")"
      ]
    },
    {
      "cell_type": "code",
      "source": [
        "pip install tensorflow scikit-learn numpy matplotlib"
      ],
      "metadata": {
        "colab": {
          "base_uri": "https://localhost:8080/"
        },
        "id": "Nbi6VTeF9NwU",
        "outputId": "bd6b5e82-3e22-44d7-8f0e-f21432764e4f"
      },
      "execution_count": 60,
      "outputs": [
        {
          "output_type": "stream",
          "name": "stdout",
          "text": [
            "Requirement already satisfied: tensorflow in /usr/local/lib/python3.11/dist-packages (2.18.0)\n",
            "Requirement already satisfied: scikit-learn in /usr/local/lib/python3.11/dist-packages (1.6.1)\n",
            "Requirement already satisfied: numpy in /usr/local/lib/python3.11/dist-packages (1.26.4)\n",
            "Requirement already satisfied: matplotlib in /usr/local/lib/python3.11/dist-packages (3.10.0)\n",
            "Requirement already satisfied: absl-py>=1.0.0 in /usr/local/lib/python3.11/dist-packages (from tensorflow) (1.4.0)\n",
            "Requirement already satisfied: astunparse>=1.6.0 in /usr/local/lib/python3.11/dist-packages (from tensorflow) (1.6.3)\n",
            "Requirement already satisfied: flatbuffers>=24.3.25 in /usr/local/lib/python3.11/dist-packages (from tensorflow) (25.2.10)\n",
            "Requirement already satisfied: gast!=0.5.0,!=0.5.1,!=0.5.2,>=0.2.1 in /usr/local/lib/python3.11/dist-packages (from tensorflow) (0.6.0)\n",
            "Requirement already satisfied: google-pasta>=0.1.1 in /usr/local/lib/python3.11/dist-packages (from tensorflow) (0.2.0)\n",
            "Requirement already satisfied: libclang>=13.0.0 in /usr/local/lib/python3.11/dist-packages (from tensorflow) (18.1.1)\n",
            "Requirement already satisfied: opt-einsum>=2.3.2 in /usr/local/lib/python3.11/dist-packages (from tensorflow) (3.4.0)\n",
            "Requirement already satisfied: packaging in /usr/local/lib/python3.11/dist-packages (from tensorflow) (24.2)\n",
            "Requirement already satisfied: protobuf!=4.21.0,!=4.21.1,!=4.21.2,!=4.21.3,!=4.21.4,!=4.21.5,<6.0.0dev,>=3.20.3 in /usr/local/lib/python3.11/dist-packages (from tensorflow) (4.25.6)\n",
            "Requirement already satisfied: requests<3,>=2.21.0 in /usr/local/lib/python3.11/dist-packages (from tensorflow) (2.32.3)\n",
            "Requirement already satisfied: setuptools in /usr/local/lib/python3.11/dist-packages (from tensorflow) (75.1.0)\n",
            "Requirement already satisfied: six>=1.12.0 in /usr/local/lib/python3.11/dist-packages (from tensorflow) (1.17.0)\n",
            "Requirement already satisfied: termcolor>=1.1.0 in /usr/local/lib/python3.11/dist-packages (from tensorflow) (2.5.0)\n",
            "Requirement already satisfied: typing-extensions>=3.6.6 in /usr/local/lib/python3.11/dist-packages (from tensorflow) (4.12.2)\n",
            "Requirement already satisfied: wrapt>=1.11.0 in /usr/local/lib/python3.11/dist-packages (from tensorflow) (1.17.2)\n",
            "Requirement already satisfied: grpcio<2.0,>=1.24.3 in /usr/local/lib/python3.11/dist-packages (from tensorflow) (1.70.0)\n",
            "Requirement already satisfied: tensorboard<2.19,>=2.18 in /usr/local/lib/python3.11/dist-packages (from tensorflow) (2.18.0)\n",
            "Requirement already satisfied: keras>=3.5.0 in /usr/local/lib/python3.11/dist-packages (from tensorflow) (3.8.0)\n",
            "Requirement already satisfied: h5py>=3.11.0 in /usr/local/lib/python3.11/dist-packages (from tensorflow) (3.12.1)\n",
            "Requirement already satisfied: ml-dtypes<0.5.0,>=0.4.0 in /usr/local/lib/python3.11/dist-packages (from tensorflow) (0.4.1)\n",
            "Requirement already satisfied: tensorflow-io-gcs-filesystem>=0.23.1 in /usr/local/lib/python3.11/dist-packages (from tensorflow) (0.37.1)\n",
            "Requirement already satisfied: scipy>=1.6.0 in /usr/local/lib/python3.11/dist-packages (from scikit-learn) (1.13.1)\n",
            "Requirement already satisfied: joblib>=1.2.0 in /usr/local/lib/python3.11/dist-packages (from scikit-learn) (1.4.2)\n",
            "Requirement already satisfied: threadpoolctl>=3.1.0 in /usr/local/lib/python3.11/dist-packages (from scikit-learn) (3.5.0)\n",
            "Requirement already satisfied: contourpy>=1.0.1 in /usr/local/lib/python3.11/dist-packages (from matplotlib) (1.3.1)\n",
            "Requirement already satisfied: cycler>=0.10 in /usr/local/lib/python3.11/dist-packages (from matplotlib) (0.12.1)\n",
            "Requirement already satisfied: fonttools>=4.22.0 in /usr/local/lib/python3.11/dist-packages (from matplotlib) (4.56.0)\n",
            "Requirement already satisfied: kiwisolver>=1.3.1 in /usr/local/lib/python3.11/dist-packages (from matplotlib) (1.4.8)\n",
            "Requirement already satisfied: pillow>=8 in /usr/local/lib/python3.11/dist-packages (from matplotlib) (11.1.0)\n",
            "Requirement already satisfied: pyparsing>=2.3.1 in /usr/local/lib/python3.11/dist-packages (from matplotlib) (3.2.1)\n",
            "Requirement already satisfied: python-dateutil>=2.7 in /usr/local/lib/python3.11/dist-packages (from matplotlib) (2.8.2)\n",
            "Requirement already satisfied: wheel<1.0,>=0.23.0 in /usr/local/lib/python3.11/dist-packages (from astunparse>=1.6.0->tensorflow) (0.45.1)\n",
            "Requirement already satisfied: rich in /usr/local/lib/python3.11/dist-packages (from keras>=3.5.0->tensorflow) (13.9.4)\n",
            "Requirement already satisfied: namex in /usr/local/lib/python3.11/dist-packages (from keras>=3.5.0->tensorflow) (0.0.8)\n",
            "Requirement already satisfied: optree in /usr/local/lib/python3.11/dist-packages (from keras>=3.5.0->tensorflow) (0.14.0)\n",
            "Requirement already satisfied: charset-normalizer<4,>=2 in /usr/local/lib/python3.11/dist-packages (from requests<3,>=2.21.0->tensorflow) (3.4.1)\n",
            "Requirement already satisfied: idna<4,>=2.5 in /usr/local/lib/python3.11/dist-packages (from requests<3,>=2.21.0->tensorflow) (3.10)\n",
            "Requirement already satisfied: urllib3<3,>=1.21.1 in /usr/local/lib/python3.11/dist-packages (from requests<3,>=2.21.0->tensorflow) (2.3.0)\n",
            "Requirement already satisfied: certifi>=2017.4.17 in /usr/local/lib/python3.11/dist-packages (from requests<3,>=2.21.0->tensorflow) (2025.1.31)\n",
            "Requirement already satisfied: markdown>=2.6.8 in /usr/local/lib/python3.11/dist-packages (from tensorboard<2.19,>=2.18->tensorflow) (3.7)\n",
            "Requirement already satisfied: tensorboard-data-server<0.8.0,>=0.7.0 in /usr/local/lib/python3.11/dist-packages (from tensorboard<2.19,>=2.18->tensorflow) (0.7.2)\n",
            "Requirement already satisfied: werkzeug>=1.0.1 in /usr/local/lib/python3.11/dist-packages (from tensorboard<2.19,>=2.18->tensorflow) (3.1.3)\n",
            "Requirement already satisfied: MarkupSafe>=2.1.1 in /usr/local/lib/python3.11/dist-packages (from werkzeug>=1.0.1->tensorboard<2.19,>=2.18->tensorflow) (3.0.2)\n",
            "Requirement already satisfied: markdown-it-py>=2.2.0 in /usr/local/lib/python3.11/dist-packages (from rich->keras>=3.5.0->tensorflow) (3.0.0)\n",
            "Requirement already satisfied: pygments<3.0.0,>=2.13.0 in /usr/local/lib/python3.11/dist-packages (from rich->keras>=3.5.0->tensorflow) (2.18.0)\n",
            "Requirement already satisfied: mdurl~=0.1 in /usr/local/lib/python3.11/dist-packages (from markdown-it-py>=2.2.0->rich->keras>=3.5.0->tensorflow) (0.1.2)\n"
          ]
        }
      ]
    },
    {
      "cell_type": "code",
      "source": [
        "pip install tensorflow"
      ],
      "metadata": {
        "colab": {
          "base_uri": "https://localhost:8080/"
        },
        "id": "xVmySoMZ_6TR",
        "outputId": "481f830b-e97b-4771-d43e-d88748691ccd"
      },
      "execution_count": 61,
      "outputs": [
        {
          "output_type": "stream",
          "name": "stdout",
          "text": [
            "Requirement already satisfied: tensorflow in /usr/local/lib/python3.11/dist-packages (2.18.0)\n",
            "Requirement already satisfied: absl-py>=1.0.0 in /usr/local/lib/python3.11/dist-packages (from tensorflow) (1.4.0)\n",
            "Requirement already satisfied: astunparse>=1.6.0 in /usr/local/lib/python3.11/dist-packages (from tensorflow) (1.6.3)\n",
            "Requirement already satisfied: flatbuffers>=24.3.25 in /usr/local/lib/python3.11/dist-packages (from tensorflow) (25.2.10)\n",
            "Requirement already satisfied: gast!=0.5.0,!=0.5.1,!=0.5.2,>=0.2.1 in /usr/local/lib/python3.11/dist-packages (from tensorflow) (0.6.0)\n",
            "Requirement already satisfied: google-pasta>=0.1.1 in /usr/local/lib/python3.11/dist-packages (from tensorflow) (0.2.0)\n",
            "Requirement already satisfied: libclang>=13.0.0 in /usr/local/lib/python3.11/dist-packages (from tensorflow) (18.1.1)\n",
            "Requirement already satisfied: opt-einsum>=2.3.2 in /usr/local/lib/python3.11/dist-packages (from tensorflow) (3.4.0)\n",
            "Requirement already satisfied: packaging in /usr/local/lib/python3.11/dist-packages (from tensorflow) (24.2)\n",
            "Requirement already satisfied: protobuf!=4.21.0,!=4.21.1,!=4.21.2,!=4.21.3,!=4.21.4,!=4.21.5,<6.0.0dev,>=3.20.3 in /usr/local/lib/python3.11/dist-packages (from tensorflow) (4.25.6)\n",
            "Requirement already satisfied: requests<3,>=2.21.0 in /usr/local/lib/python3.11/dist-packages (from tensorflow) (2.32.3)\n",
            "Requirement already satisfied: setuptools in /usr/local/lib/python3.11/dist-packages (from tensorflow) (75.1.0)\n",
            "Requirement already satisfied: six>=1.12.0 in /usr/local/lib/python3.11/dist-packages (from tensorflow) (1.17.0)\n",
            "Requirement already satisfied: termcolor>=1.1.0 in /usr/local/lib/python3.11/dist-packages (from tensorflow) (2.5.0)\n",
            "Requirement already satisfied: typing-extensions>=3.6.6 in /usr/local/lib/python3.11/dist-packages (from tensorflow) (4.12.2)\n",
            "Requirement already satisfied: wrapt>=1.11.0 in /usr/local/lib/python3.11/dist-packages (from tensorflow) (1.17.2)\n",
            "Requirement already satisfied: grpcio<2.0,>=1.24.3 in /usr/local/lib/python3.11/dist-packages (from tensorflow) (1.70.0)\n",
            "Requirement already satisfied: tensorboard<2.19,>=2.18 in /usr/local/lib/python3.11/dist-packages (from tensorflow) (2.18.0)\n",
            "Requirement already satisfied: keras>=3.5.0 in /usr/local/lib/python3.11/dist-packages (from tensorflow) (3.8.0)\n",
            "Requirement already satisfied: numpy<2.1.0,>=1.26.0 in /usr/local/lib/python3.11/dist-packages (from tensorflow) (1.26.4)\n",
            "Requirement already satisfied: h5py>=3.11.0 in /usr/local/lib/python3.11/dist-packages (from tensorflow) (3.12.1)\n",
            "Requirement already satisfied: ml-dtypes<0.5.0,>=0.4.0 in /usr/local/lib/python3.11/dist-packages (from tensorflow) (0.4.1)\n",
            "Requirement already satisfied: tensorflow-io-gcs-filesystem>=0.23.1 in /usr/local/lib/python3.11/dist-packages (from tensorflow) (0.37.1)\n",
            "Requirement already satisfied: wheel<1.0,>=0.23.0 in /usr/local/lib/python3.11/dist-packages (from astunparse>=1.6.0->tensorflow) (0.45.1)\n",
            "Requirement already satisfied: rich in /usr/local/lib/python3.11/dist-packages (from keras>=3.5.0->tensorflow) (13.9.4)\n",
            "Requirement already satisfied: namex in /usr/local/lib/python3.11/dist-packages (from keras>=3.5.0->tensorflow) (0.0.8)\n",
            "Requirement already satisfied: optree in /usr/local/lib/python3.11/dist-packages (from keras>=3.5.0->tensorflow) (0.14.0)\n",
            "Requirement already satisfied: charset-normalizer<4,>=2 in /usr/local/lib/python3.11/dist-packages (from requests<3,>=2.21.0->tensorflow) (3.4.1)\n",
            "Requirement already satisfied: idna<4,>=2.5 in /usr/local/lib/python3.11/dist-packages (from requests<3,>=2.21.0->tensorflow) (3.10)\n",
            "Requirement already satisfied: urllib3<3,>=1.21.1 in /usr/local/lib/python3.11/dist-packages (from requests<3,>=2.21.0->tensorflow) (2.3.0)\n",
            "Requirement already satisfied: certifi>=2017.4.17 in /usr/local/lib/python3.11/dist-packages (from requests<3,>=2.21.0->tensorflow) (2025.1.31)\n",
            "Requirement already satisfied: markdown>=2.6.8 in /usr/local/lib/python3.11/dist-packages (from tensorboard<2.19,>=2.18->tensorflow) (3.7)\n",
            "Requirement already satisfied: tensorboard-data-server<0.8.0,>=0.7.0 in /usr/local/lib/python3.11/dist-packages (from tensorboard<2.19,>=2.18->tensorflow) (0.7.2)\n",
            "Requirement already satisfied: werkzeug>=1.0.1 in /usr/local/lib/python3.11/dist-packages (from tensorboard<2.19,>=2.18->tensorflow) (3.1.3)\n",
            "Requirement already satisfied: MarkupSafe>=2.1.1 in /usr/local/lib/python3.11/dist-packages (from werkzeug>=1.0.1->tensorboard<2.19,>=2.18->tensorflow) (3.0.2)\n",
            "Requirement already satisfied: markdown-it-py>=2.2.0 in /usr/local/lib/python3.11/dist-packages (from rich->keras>=3.5.0->tensorflow) (3.0.0)\n",
            "Requirement already satisfied: pygments<3.0.0,>=2.13.0 in /usr/local/lib/python3.11/dist-packages (from rich->keras>=3.5.0->tensorflow) (2.18.0)\n",
            "Requirement already satisfied: mdurl~=0.1 in /usr/local/lib/python3.11/dist-packages (from markdown-it-py>=2.2.0->rich->keras>=3.5.0->tensorflow) (0.1.2)\n"
          ]
        }
      ]
    },
    {
      "cell_type": "code",
      "execution_count": 62,
      "metadata": {
        "id": "F9pNJm2chpOY",
        "colab": {
          "base_uri": "https://localhost:8080/",
          "height": 1000
        },
        "outputId": "82311508-1426-48c4-8210-4941927f1266"
      },
      "outputs": [
        {
          "output_type": "stream",
          "name": "stderr",
          "text": [
            "/usr/local/lib/python3.11/dist-packages/keras/src/layers/core/dense.py:87: UserWarning: Do not pass an `input_shape`/`input_dim` argument to a layer. When using Sequential models, prefer using an `Input(shape)` object as the first layer in the model instead.\n",
            "  super().__init__(activity_regularizer=activity_regularizer, **kwargs)\n"
          ]
        },
        {
          "output_type": "stream",
          "name": "stdout",
          "text": [
            "Epoch 1/100\n",
            "\u001b[1m73/73\u001b[0m \u001b[32m━━━━━━━━━━━━━━━━━━━━\u001b[0m\u001b[37m\u001b[0m \u001b[1m9s\u001b[0m 36ms/step - accuracy: 0.5629 - loss: 0.9506 - val_accuracy: 0.7984 - val_loss: 0.4481\n",
            "Epoch 2/100\n",
            "\u001b[1m73/73\u001b[0m \u001b[32m━━━━━━━━━━━━━━━━━━━━\u001b[0m\u001b[37m\u001b[0m \u001b[1m3s\u001b[0m 7ms/step - accuracy: 0.7919 - loss: 0.4582 - val_accuracy: 0.8295 - val_loss: 0.3488\n",
            "Epoch 3/100\n",
            "\u001b[1m73/73\u001b[0m \u001b[32m━━━━━━━━━━━━━━━━━━━━\u001b[0m\u001b[37m\u001b[0m \u001b[1m1s\u001b[0m 13ms/step - accuracy: 0.8180 - loss: 0.3927 - val_accuracy: 0.8450 - val_loss: 0.3146\n",
            "Epoch 4/100\n",
            "\u001b[1m73/73\u001b[0m \u001b[32m━━━━━━━━━━━━━━━━━━━━\u001b[0m\u001b[37m\u001b[0m \u001b[1m1s\u001b[0m 9ms/step - accuracy: 0.8467 - loss: 0.3475 - val_accuracy: 0.8760 - val_loss: 0.2921\n",
            "Epoch 5/100\n",
            "\u001b[1m73/73\u001b[0m \u001b[32m━━━━━━━━━━━━━━━━━━━━\u001b[0m\u001b[37m\u001b[0m \u001b[1m1s\u001b[0m 11ms/step - accuracy: 0.8364 - loss: 0.3246 - val_accuracy: 0.8798 - val_loss: 0.2787\n",
            "Epoch 6/100\n",
            "\u001b[1m73/73\u001b[0m \u001b[32m━━━━━━━━━━━━━━━━━━━━\u001b[0m\u001b[37m\u001b[0m \u001b[1m1s\u001b[0m 11ms/step - accuracy: 0.8815 - loss: 0.2843 - val_accuracy: 0.8798 - val_loss: 0.2623\n",
            "Epoch 7/100\n",
            "\u001b[1m73/73\u001b[0m \u001b[32m━━━━━━━━━━━━━━━━━━━━\u001b[0m\u001b[37m\u001b[0m \u001b[1m1s\u001b[0m 8ms/step - accuracy: 0.8708 - loss: 0.2974 - val_accuracy: 0.8760 - val_loss: 0.2577\n",
            "Epoch 8/100\n",
            "\u001b[1m73/73\u001b[0m \u001b[32m━━━━━━━━━━━━━━━━━━━━\u001b[0m\u001b[37m\u001b[0m \u001b[1m1s\u001b[0m 4ms/step - accuracy: 0.8766 - loss: 0.2649 - val_accuracy: 0.8837 - val_loss: 0.2481\n",
            "Epoch 9/100\n",
            "\u001b[1m73/73\u001b[0m \u001b[32m━━━━━━━━━━━━━━━━━━━━\u001b[0m\u001b[37m\u001b[0m \u001b[1m1s\u001b[0m 4ms/step - accuracy: 0.8810 - loss: 0.2654 - val_accuracy: 0.8915 - val_loss: 0.2347\n",
            "Epoch 10/100\n",
            "\u001b[1m73/73\u001b[0m \u001b[32m━━━━━━━━━━━━━━━━━━━━\u001b[0m\u001b[37m\u001b[0m \u001b[1m0s\u001b[0m 4ms/step - accuracy: 0.9030 - loss: 0.2277 - val_accuracy: 0.8682 - val_loss: 0.2431\n",
            "Epoch 11/100\n",
            "\u001b[1m73/73\u001b[0m \u001b[32m━━━━━━━━━━━━━━━━━━━━\u001b[0m\u001b[37m\u001b[0m \u001b[1m1s\u001b[0m 7ms/step - accuracy: 0.9045 - loss: 0.2279 - val_accuracy: 0.8798 - val_loss: 0.2245\n",
            "Epoch 12/100\n",
            "\u001b[1m73/73\u001b[0m \u001b[32m━━━━━━━━━━━━━━━━━━━━\u001b[0m\u001b[37m\u001b[0m \u001b[1m1s\u001b[0m 7ms/step - accuracy: 0.9144 - loss: 0.2297 - val_accuracy: 0.8915 - val_loss: 0.2257\n",
            "Epoch 13/100\n",
            "\u001b[1m73/73\u001b[0m \u001b[32m━━━━━━━━━━━━━━━━━━━━\u001b[0m\u001b[37m\u001b[0m \u001b[1m1s\u001b[0m 8ms/step - accuracy: 0.8990 - loss: 0.2269 - val_accuracy: 0.8876 - val_loss: 0.2276\n",
            "Epoch 14/100\n",
            "\u001b[1m73/73\u001b[0m \u001b[32m━━━━━━━━━━━━━━━━━━━━\u001b[0m\u001b[37m\u001b[0m \u001b[1m1s\u001b[0m 6ms/step - accuracy: 0.9167 - loss: 0.2181 - val_accuracy: 0.8876 - val_loss: 0.2143\n",
            "Epoch 15/100\n",
            "\u001b[1m73/73\u001b[0m \u001b[32m━━━━━━━━━━━━━━━━━━━━\u001b[0m\u001b[37m\u001b[0m \u001b[1m1s\u001b[0m 6ms/step - accuracy: 0.9151 - loss: 0.2120 - val_accuracy: 0.8915 - val_loss: 0.2180\n",
            "Epoch 16/100\n",
            "\u001b[1m73/73\u001b[0m \u001b[32m━━━━━━━━━━━━━━━━━━━━\u001b[0m\u001b[37m\u001b[0m \u001b[1m0s\u001b[0m 4ms/step - accuracy: 0.9253 - loss: 0.1869 - val_accuracy: 0.9070 - val_loss: 0.2166\n",
            "Epoch 17/100\n",
            "\u001b[1m73/73\u001b[0m \u001b[32m━━━━━━━━━━━━━━━━━━━━\u001b[0m\u001b[37m\u001b[0m \u001b[1m1s\u001b[0m 4ms/step - accuracy: 0.9166 - loss: 0.1942 - val_accuracy: 0.9031 - val_loss: 0.2040\n",
            "Epoch 18/100\n",
            "\u001b[1m73/73\u001b[0m \u001b[32m━━━━━━━━━━━━━━━━━━━━\u001b[0m\u001b[37m\u001b[0m \u001b[1m0s\u001b[0m 5ms/step - accuracy: 0.9041 - loss: 0.2194 - val_accuracy: 0.9070 - val_loss: 0.2098\n",
            "Epoch 19/100\n",
            "\u001b[1m73/73\u001b[0m \u001b[32m━━━━━━━━━━━━━━━━━━━━\u001b[0m\u001b[37m\u001b[0m \u001b[1m1s\u001b[0m 4ms/step - accuracy: 0.9174 - loss: 0.1796 - val_accuracy: 0.9109 - val_loss: 0.2157\n",
            "Epoch 20/100\n",
            "\u001b[1m73/73\u001b[0m \u001b[32m━━━━━━━━━━━━━━━━━━━━\u001b[0m\u001b[37m\u001b[0m \u001b[1m1s\u001b[0m 4ms/step - accuracy: 0.9239 - loss: 0.1917 - val_accuracy: 0.9070 - val_loss: 0.2088\n",
            "Epoch 21/100\n",
            "\u001b[1m73/73\u001b[0m \u001b[32m━━━━━━━━━━━━━━━━━━━━\u001b[0m\u001b[37m\u001b[0m \u001b[1m0s\u001b[0m 4ms/step - accuracy: 0.9272 - loss: 0.1808 - val_accuracy: 0.9109 - val_loss: 0.1945\n",
            "Epoch 22/100\n",
            "\u001b[1m73/73\u001b[0m \u001b[32m━━━━━━━━━━━━━━━━━━━━\u001b[0m\u001b[37m\u001b[0m \u001b[1m0s\u001b[0m 4ms/step - accuracy: 0.9353 - loss: 0.1615 - val_accuracy: 0.9109 - val_loss: 0.1972\n",
            "Epoch 23/100\n",
            "\u001b[1m73/73\u001b[0m \u001b[32m━━━━━━━━━━━━━━━━━━━━\u001b[0m\u001b[37m\u001b[0m \u001b[1m1s\u001b[0m 4ms/step - accuracy: 0.9196 - loss: 0.1888 - val_accuracy: 0.8953 - val_loss: 0.2027\n",
            "Epoch 24/100\n",
            "\u001b[1m73/73\u001b[0m \u001b[32m━━━━━━━━━━━━━━━━━━━━\u001b[0m\u001b[37m\u001b[0m \u001b[1m1s\u001b[0m 4ms/step - accuracy: 0.9362 - loss: 0.1658 - val_accuracy: 0.9031 - val_loss: 0.1938\n",
            "Epoch 25/100\n",
            "\u001b[1m73/73\u001b[0m \u001b[32m━━━━━━━━━━━━━━━━━━━━\u001b[0m\u001b[37m\u001b[0m \u001b[1m1s\u001b[0m 4ms/step - accuracy: 0.9261 - loss: 0.1629 - val_accuracy: 0.9070 - val_loss: 0.1989\n",
            "Epoch 26/100\n",
            "\u001b[1m73/73\u001b[0m \u001b[32m━━━━━━━━━━━━━━━━━━━━\u001b[0m\u001b[37m\u001b[0m \u001b[1m0s\u001b[0m 4ms/step - accuracy: 0.9325 - loss: 0.1611 - val_accuracy: 0.9186 - val_loss: 0.2015\n",
            "Epoch 27/100\n",
            "\u001b[1m73/73\u001b[0m \u001b[32m━━━━━━━━━━━━━━━━━━━━\u001b[0m\u001b[37m\u001b[0m \u001b[1m1s\u001b[0m 4ms/step - accuracy: 0.9297 - loss: 0.1774 - val_accuracy: 0.9109 - val_loss: 0.2025\n",
            "Epoch 28/100\n",
            "\u001b[1m73/73\u001b[0m \u001b[32m━━━━━━━━━━━━━━━━━━━━\u001b[0m\u001b[37m\u001b[0m \u001b[1m0s\u001b[0m 4ms/step - accuracy: 0.9385 - loss: 0.1477 - val_accuracy: 0.9147 - val_loss: 0.1900\n",
            "Epoch 29/100\n",
            "\u001b[1m73/73\u001b[0m \u001b[32m━━━━━━━━━━━━━━━━━━━━\u001b[0m\u001b[37m\u001b[0m \u001b[1m0s\u001b[0m 4ms/step - accuracy: 0.9346 - loss: 0.1494 - val_accuracy: 0.9109 - val_loss: 0.2002\n",
            "Epoch 30/100\n",
            "\u001b[1m73/73\u001b[0m \u001b[32m━━━━━━━━━━━━━━━━━━━━\u001b[0m\u001b[37m\u001b[0m \u001b[1m0s\u001b[0m 4ms/step - accuracy: 0.9413 - loss: 0.1479 - val_accuracy: 0.9186 - val_loss: 0.1867\n",
            "Epoch 31/100\n",
            "\u001b[1m73/73\u001b[0m \u001b[32m━━━━━━━━━━━━━━━━━━━━\u001b[0m\u001b[37m\u001b[0m \u001b[1m0s\u001b[0m 4ms/step - accuracy: 0.9359 - loss: 0.1644 - val_accuracy: 0.9147 - val_loss: 0.1821\n",
            "Epoch 32/100\n",
            "\u001b[1m73/73\u001b[0m \u001b[32m━━━━━━━━━━━━━━━━━━━━\u001b[0m\u001b[37m\u001b[0m \u001b[1m0s\u001b[0m 4ms/step - accuracy: 0.9367 - loss: 0.1593 - val_accuracy: 0.9147 - val_loss: 0.1916\n",
            "Epoch 33/100\n",
            "\u001b[1m73/73\u001b[0m \u001b[32m━━━━━━━━━━━━━━━━━━━━\u001b[0m\u001b[37m\u001b[0m \u001b[1m1s\u001b[0m 4ms/step - accuracy: 0.9405 - loss: 0.1476 - val_accuracy: 0.9147 - val_loss: 0.2004\n",
            "Epoch 34/100\n",
            "\u001b[1m73/73\u001b[0m \u001b[32m━━━━━━━━━━━━━━━━━━━━\u001b[0m\u001b[37m\u001b[0m \u001b[1m0s\u001b[0m 4ms/step - accuracy: 0.9325 - loss: 0.1599 - val_accuracy: 0.9147 - val_loss: 0.1874\n",
            "Epoch 35/100\n",
            "\u001b[1m73/73\u001b[0m \u001b[32m━━━━━━━━━━━━━━━━━━━━\u001b[0m\u001b[37m\u001b[0m \u001b[1m1s\u001b[0m 4ms/step - accuracy: 0.9465 - loss: 0.1394 - val_accuracy: 0.9186 - val_loss: 0.1902\n",
            "Epoch 36/100\n",
            "\u001b[1m73/73\u001b[0m \u001b[32m━━━━━━━━━━━━━━━━━━━━\u001b[0m\u001b[37m\u001b[0m \u001b[1m0s\u001b[0m 4ms/step - accuracy: 0.9523 - loss: 0.1278 - val_accuracy: 0.9225 - val_loss: 0.2086\n",
            "Epoch 37/100\n",
            "\u001b[1m73/73\u001b[0m \u001b[32m━━━━━━━━━━━━━━━━━━━━\u001b[0m\u001b[37m\u001b[0m \u001b[1m1s\u001b[0m 4ms/step - accuracy: 0.9533 - loss: 0.1226 - val_accuracy: 0.9147 - val_loss: 0.1912\n",
            "Epoch 38/100\n",
            "\u001b[1m73/73\u001b[0m \u001b[32m━━━━━━━━━━━━━━━━━━━━\u001b[0m\u001b[37m\u001b[0m \u001b[1m1s\u001b[0m 7ms/step - accuracy: 0.9300 - loss: 0.1511 - val_accuracy: 0.9147 - val_loss: 0.1942\n",
            "Epoch 39/100\n",
            "\u001b[1m73/73\u001b[0m \u001b[32m━━━━━━━━━━━━━━━━━━━━\u001b[0m\u001b[37m\u001b[0m \u001b[1m0s\u001b[0m 6ms/step - accuracy: 0.9329 - loss: 0.1505 - val_accuracy: 0.9186 - val_loss: 0.1925\n",
            "Epoch 40/100\n",
            "\u001b[1m73/73\u001b[0m \u001b[32m━━━━━━━━━━━━━━━━━━━━\u001b[0m\u001b[37m\u001b[0m \u001b[1m1s\u001b[0m 7ms/step - accuracy: 0.9436 - loss: 0.1382 - val_accuracy: 0.9225 - val_loss: 0.2133\n",
            "Epoch 41/100\n",
            "\u001b[1m73/73\u001b[0m \u001b[32m━━━━━━━━━━━━━━━━━━━━\u001b[0m\u001b[37m\u001b[0m \u001b[1m1s\u001b[0m 6ms/step - accuracy: 0.9502 - loss: 0.1260 - val_accuracy: 0.9147 - val_loss: 0.2020\n",
            "Epoch 42/100\n",
            "\u001b[1m73/73\u001b[0m \u001b[32m━━━━━━━━━━━━━━━━━━━━\u001b[0m\u001b[37m\u001b[0m \u001b[1m1s\u001b[0m 6ms/step - accuracy: 0.9463 - loss: 0.1354 - val_accuracy: 0.9147 - val_loss: 0.1865\n",
            "Epoch 43/100\n",
            "\u001b[1m73/73\u001b[0m \u001b[32m━━━━━━━━━━━━━━━━━━━━\u001b[0m\u001b[37m\u001b[0m \u001b[1m1s\u001b[0m 7ms/step - accuracy: 0.9494 - loss: 0.1296 - val_accuracy: 0.9264 - val_loss: 0.1804\n",
            "Epoch 44/100\n",
            "\u001b[1m73/73\u001b[0m \u001b[32m━━━━━━━━━━━━━━━━━━━━\u001b[0m\u001b[37m\u001b[0m \u001b[1m0s\u001b[0m 4ms/step - accuracy: 0.9456 - loss: 0.1341 - val_accuracy: 0.9225 - val_loss: 0.2012\n",
            "Epoch 45/100\n",
            "\u001b[1m73/73\u001b[0m \u001b[32m━━━━━━━━━━━━━━━━━━━━\u001b[0m\u001b[37m\u001b[0m \u001b[1m0s\u001b[0m 4ms/step - accuracy: 0.9494 - loss: 0.1260 - val_accuracy: 0.9186 - val_loss: 0.2021\n",
            "Epoch 46/100\n",
            "\u001b[1m73/73\u001b[0m \u001b[32m━━━━━━━━━━━━━━━━━━━━\u001b[0m\u001b[37m\u001b[0m \u001b[1m0s\u001b[0m 4ms/step - accuracy: 0.9464 - loss: 0.1321 - val_accuracy: 0.9147 - val_loss: 0.2032\n",
            "Epoch 47/100\n",
            "\u001b[1m73/73\u001b[0m \u001b[32m━━━━━━━━━━━━━━━━━━━━\u001b[0m\u001b[37m\u001b[0m \u001b[1m1s\u001b[0m 4ms/step - accuracy: 0.9442 - loss: 0.1311 - val_accuracy: 0.9147 - val_loss: 0.1996\n",
            "Epoch 48/100\n",
            "\u001b[1m73/73\u001b[0m \u001b[32m━━━━━━━━━━━━━━━━━━━━\u001b[0m\u001b[37m\u001b[0m \u001b[1m0s\u001b[0m 4ms/step - accuracy: 0.9495 - loss: 0.1298 - val_accuracy: 0.9147 - val_loss: 0.1962\n",
            "Epoch 49/100\n",
            "\u001b[1m73/73\u001b[0m \u001b[32m━━━━━━━━━━━━━━━━━━━━\u001b[0m\u001b[37m\u001b[0m \u001b[1m0s\u001b[0m 4ms/step - accuracy: 0.9430 - loss: 0.1420 - val_accuracy: 0.9109 - val_loss: 0.2061\n",
            "Epoch 50/100\n",
            "\u001b[1m73/73\u001b[0m \u001b[32m━━━━━━━━━━━━━━━━━━━━\u001b[0m\u001b[37m\u001b[0m \u001b[1m0s\u001b[0m 4ms/step - accuracy: 0.9560 - loss: 0.1192 - val_accuracy: 0.9264 - val_loss: 0.2025\n",
            "Epoch 51/100\n",
            "\u001b[1m73/73\u001b[0m \u001b[32m━━━━━━━━━━━━━━━━━━━━\u001b[0m\u001b[37m\u001b[0m \u001b[1m0s\u001b[0m 4ms/step - accuracy: 0.9405 - loss: 0.1412 - val_accuracy: 0.9186 - val_loss: 0.2005\n",
            "Epoch 52/100\n",
            "\u001b[1m73/73\u001b[0m \u001b[32m━━━━━━━━━━━━━━━━━━━━\u001b[0m\u001b[37m\u001b[0m \u001b[1m0s\u001b[0m 5ms/step - accuracy: 0.9526 - loss: 0.1165 - val_accuracy: 0.9186 - val_loss: 0.1921\n",
            "Epoch 53/100\n",
            "\u001b[1m73/73\u001b[0m \u001b[32m━━━━━━━━━━━━━━━━━━━━\u001b[0m\u001b[37m\u001b[0m \u001b[1m0s\u001b[0m 4ms/step - accuracy: 0.9541 - loss: 0.1157 - val_accuracy: 0.9186 - val_loss: 0.1888\n",
            "Epoch 54/100\n",
            "\u001b[1m73/73\u001b[0m \u001b[32m━━━━━━━━━━━━━━━━━━━━\u001b[0m\u001b[37m\u001b[0m \u001b[1m0s\u001b[0m 4ms/step - accuracy: 0.9540 - loss: 0.1268 - val_accuracy: 0.9225 - val_loss: 0.2013\n",
            "Epoch 55/100\n",
            "\u001b[1m73/73\u001b[0m \u001b[32m━━━━━━━━━━━━━━━━━━━━\u001b[0m\u001b[37m\u001b[0m \u001b[1m0s\u001b[0m 4ms/step - accuracy: 0.9534 - loss: 0.1123 - val_accuracy: 0.9109 - val_loss: 0.1996\n",
            "Epoch 56/100\n",
            "\u001b[1m73/73\u001b[0m \u001b[32m━━━━━━━━━━━━━━━━━━━━\u001b[0m\u001b[37m\u001b[0m \u001b[1m0s\u001b[0m 4ms/step - accuracy: 0.9527 - loss: 0.1232 - val_accuracy: 0.9264 - val_loss: 0.2100\n",
            "Epoch 57/100\n",
            "\u001b[1m73/73\u001b[0m \u001b[32m━━━━━━━━━━━━━━━━━━━━\u001b[0m\u001b[37m\u001b[0m \u001b[1m1s\u001b[0m 4ms/step - accuracy: 0.9604 - loss: 0.1031 - val_accuracy: 0.9225 - val_loss: 0.1968\n",
            "Epoch 58/100\n",
            "\u001b[1m73/73\u001b[0m \u001b[32m━━━━━━━━━━━━━━━━━━━━\u001b[0m\u001b[37m\u001b[0m \u001b[1m0s\u001b[0m 4ms/step - accuracy: 0.9558 - loss: 0.1111 - val_accuracy: 0.9186 - val_loss: 0.1885\n",
            "Epoch 59/100\n",
            "\u001b[1m73/73\u001b[0m \u001b[32m━━━━━━━━━━━━━━━━━━━━\u001b[0m\u001b[37m\u001b[0m \u001b[1m0s\u001b[0m 4ms/step - accuracy: 0.9504 - loss: 0.1153 - val_accuracy: 0.9225 - val_loss: 0.2063\n",
            "Epoch 60/100\n",
            "\u001b[1m73/73\u001b[0m \u001b[32m━━━━━━━━━━━━━━━━━━━━\u001b[0m\u001b[37m\u001b[0m \u001b[1m0s\u001b[0m 4ms/step - accuracy: 0.9552 - loss: 0.1066 - val_accuracy: 0.9109 - val_loss: 0.2028\n",
            "Epoch 61/100\n",
            "\u001b[1m73/73\u001b[0m \u001b[32m━━━━━━━━━━━━━━━━━━━━\u001b[0m\u001b[37m\u001b[0m \u001b[1m1s\u001b[0m 4ms/step - accuracy: 0.9467 - loss: 0.1154 - val_accuracy: 0.9147 - val_loss: 0.2020\n",
            "Epoch 62/100\n",
            "\u001b[1m73/73\u001b[0m \u001b[32m━━━━━━━━━━━━━━━━━━━━\u001b[0m\u001b[37m\u001b[0m \u001b[1m0s\u001b[0m 4ms/step - accuracy: 0.9456 - loss: 0.1291 - val_accuracy: 0.9225 - val_loss: 0.1838\n",
            "Epoch 63/100\n",
            "\u001b[1m73/73\u001b[0m \u001b[32m━━━━━━━━━━━━━━━━━━━━\u001b[0m\u001b[37m\u001b[0m \u001b[1m1s\u001b[0m 4ms/step - accuracy: 0.9487 - loss: 0.1193 - val_accuracy: 0.9225 - val_loss: 0.1938\n",
            "Epoch 64/100\n",
            "\u001b[1m73/73\u001b[0m \u001b[32m━━━━━━━━━━━━━━━━━━━━\u001b[0m\u001b[37m\u001b[0m \u001b[1m1s\u001b[0m 4ms/step - accuracy: 0.9574 - loss: 0.1176 - val_accuracy: 0.9186 - val_loss: 0.1921\n",
            "Epoch 65/100\n",
            "\u001b[1m73/73\u001b[0m \u001b[32m━━━━━━━━━━━━━━━━━━━━\u001b[0m\u001b[37m\u001b[0m \u001b[1m0s\u001b[0m 4ms/step - accuracy: 0.9524 - loss: 0.1163 - val_accuracy: 0.9186 - val_loss: 0.1995\n",
            "Epoch 66/100\n",
            "\u001b[1m73/73\u001b[0m \u001b[32m━━━━━━━━━━━━━━━━━━━━\u001b[0m\u001b[37m\u001b[0m \u001b[1m1s\u001b[0m 4ms/step - accuracy: 0.9543 - loss: 0.1041 - val_accuracy: 0.9186 - val_loss: 0.2118\n",
            "Epoch 67/100\n",
            "\u001b[1m73/73\u001b[0m \u001b[32m━━━━━━━━━━━━━━━━━━━━\u001b[0m\u001b[37m\u001b[0m \u001b[1m0s\u001b[0m 4ms/step - accuracy: 0.9607 - loss: 0.0948 - val_accuracy: 0.9264 - val_loss: 0.2039\n",
            "Epoch 68/100\n",
            "\u001b[1m73/73\u001b[0m \u001b[32m━━━━━━━━━━━━━━━━━━━━\u001b[0m\u001b[37m\u001b[0m \u001b[1m1s\u001b[0m 4ms/step - accuracy: 0.9568 - loss: 0.1063 - val_accuracy: 0.9264 - val_loss: 0.2014\n",
            "Epoch 69/100\n",
            "\u001b[1m73/73\u001b[0m \u001b[32m━━━━━━━━━━━━━━━━━━━━\u001b[0m\u001b[37m\u001b[0m \u001b[1m1s\u001b[0m 6ms/step - accuracy: 0.9503 - loss: 0.1193 - val_accuracy: 0.9147 - val_loss: 0.2111\n",
            "Epoch 70/100\n",
            "\u001b[1m73/73\u001b[0m \u001b[32m━━━━━━━━━━━━━━━━━━━━\u001b[0m\u001b[37m\u001b[0m \u001b[1m0s\u001b[0m 6ms/step - accuracy: 0.9574 - loss: 0.1034 - val_accuracy: 0.9225 - val_loss: 0.2029\n",
            "Epoch 71/100\n",
            "\u001b[1m73/73\u001b[0m \u001b[32m━━━━━━━━━━━━━━━━━━━━\u001b[0m\u001b[37m\u001b[0m \u001b[1m1s\u001b[0m 6ms/step - accuracy: 0.9616 - loss: 0.1035 - val_accuracy: 0.9225 - val_loss: 0.2047\n",
            "Epoch 72/100\n",
            "\u001b[1m73/73\u001b[0m \u001b[32m━━━━━━━━━━━━━━━━━━━━\u001b[0m\u001b[37m\u001b[0m \u001b[1m1s\u001b[0m 7ms/step - accuracy: 0.9626 - loss: 0.0969 - val_accuracy: 0.9225 - val_loss: 0.2262\n",
            "Epoch 73/100\n",
            "\u001b[1m73/73\u001b[0m \u001b[32m━━━━━━━━━━━━━━━━━━━━\u001b[0m\u001b[37m\u001b[0m \u001b[1m1s\u001b[0m 6ms/step - accuracy: 0.9597 - loss: 0.1002 - val_accuracy: 0.9225 - val_loss: 0.1992\n",
            "Epoch 74/100\n",
            "\u001b[1m73/73\u001b[0m \u001b[32m━━━━━━━━━━━━━━━━━━━━\u001b[0m\u001b[37m\u001b[0m \u001b[1m1s\u001b[0m 7ms/step - accuracy: 0.9595 - loss: 0.0971 - val_accuracy: 0.9225 - val_loss: 0.2037\n",
            "Epoch 75/100\n",
            "\u001b[1m73/73\u001b[0m \u001b[32m━━━━━━━━━━━━━━━━━━━━\u001b[0m\u001b[37m\u001b[0m \u001b[1m1s\u001b[0m 5ms/step - accuracy: 0.9558 - loss: 0.0980 - val_accuracy: 0.9225 - val_loss: 0.2103\n",
            "Epoch 76/100\n",
            "\u001b[1m73/73\u001b[0m \u001b[32m━━━━━━━━━━━━━━━━━━━━\u001b[0m\u001b[37m\u001b[0m \u001b[1m0s\u001b[0m 4ms/step - accuracy: 0.9541 - loss: 0.1052 - val_accuracy: 0.9186 - val_loss: 0.1914\n",
            "Epoch 77/100\n",
            "\u001b[1m73/73\u001b[0m \u001b[32m━━━━━━━━━━━━━━━━━━━━\u001b[0m\u001b[37m\u001b[0m \u001b[1m0s\u001b[0m 4ms/step - accuracy: 0.9663 - loss: 0.0953 - val_accuracy: 0.9264 - val_loss: 0.1984\n",
            "Epoch 78/100\n",
            "\u001b[1m73/73\u001b[0m \u001b[32m━━━━━━━━━━━━━━━━━━━━\u001b[0m\u001b[37m\u001b[0m \u001b[1m1s\u001b[0m 4ms/step - accuracy: 0.9573 - loss: 0.0985 - val_accuracy: 0.9225 - val_loss: 0.2017\n",
            "Epoch 79/100\n",
            "\u001b[1m73/73\u001b[0m \u001b[32m━━━━━━━━━━━━━━━━━━━━\u001b[0m\u001b[37m\u001b[0m \u001b[1m0s\u001b[0m 4ms/step - accuracy: 0.9621 - loss: 0.0996 - val_accuracy: 0.9225 - val_loss: 0.2082\n",
            "Epoch 80/100\n",
            "\u001b[1m73/73\u001b[0m \u001b[32m━━━━━━━━━━━━━━━━━━━━\u001b[0m\u001b[37m\u001b[0m \u001b[1m0s\u001b[0m 4ms/step - accuracy: 0.9581 - loss: 0.0987 - val_accuracy: 0.9186 - val_loss: 0.2099\n",
            "Epoch 81/100\n",
            "\u001b[1m73/73\u001b[0m \u001b[32m━━━━━━━━━━━━━━━━━━━━\u001b[0m\u001b[37m\u001b[0m \u001b[1m0s\u001b[0m 4ms/step - accuracy: 0.9505 - loss: 0.1106 - val_accuracy: 0.9225 - val_loss: 0.2025\n",
            "Epoch 82/100\n",
            "\u001b[1m73/73\u001b[0m \u001b[32m━━━━━━━━━━━━━━━━━━━━\u001b[0m\u001b[37m\u001b[0m \u001b[1m0s\u001b[0m 4ms/step - accuracy: 0.9622 - loss: 0.0912 - val_accuracy: 0.9225 - val_loss: 0.2081\n",
            "Epoch 83/100\n",
            "\u001b[1m73/73\u001b[0m \u001b[32m━━━━━━━━━━━━━━━━━━━━\u001b[0m\u001b[37m\u001b[0m \u001b[1m0s\u001b[0m 4ms/step - accuracy: 0.9558 - loss: 0.0988 - val_accuracy: 0.9264 - val_loss: 0.1901\n",
            "Epoch 84/100\n",
            "\u001b[1m73/73\u001b[0m \u001b[32m━━━━━━━━━━━━━━━━━━━━\u001b[0m\u001b[37m\u001b[0m \u001b[1m1s\u001b[0m 4ms/step - accuracy: 0.9643 - loss: 0.0992 - val_accuracy: 0.9264 - val_loss: 0.2088\n",
            "Epoch 85/100\n",
            "\u001b[1m73/73\u001b[0m \u001b[32m━━━━━━━━━━━━━━━━━━━━\u001b[0m\u001b[37m\u001b[0m \u001b[1m0s\u001b[0m 4ms/step - accuracy: 0.9661 - loss: 0.0863 - val_accuracy: 0.9264 - val_loss: 0.1975\n",
            "Epoch 86/100\n",
            "\u001b[1m73/73\u001b[0m \u001b[32m━━━━━━━━━━━━━━━━━━━━\u001b[0m\u001b[37m\u001b[0m \u001b[1m0s\u001b[0m 4ms/step - accuracy: 0.9595 - loss: 0.0956 - val_accuracy: 0.9186 - val_loss: 0.2213\n",
            "Epoch 87/100\n",
            "\u001b[1m73/73\u001b[0m \u001b[32m━━━━━━━━━━━━━━━━━━━━\u001b[0m\u001b[37m\u001b[0m \u001b[1m0s\u001b[0m 4ms/step - accuracy: 0.9552 - loss: 0.0975 - val_accuracy: 0.9264 - val_loss: 0.1942\n",
            "Epoch 88/100\n",
            "\u001b[1m73/73\u001b[0m \u001b[32m━━━━━━━━━━━━━━━━━━━━\u001b[0m\u001b[37m\u001b[0m \u001b[1m0s\u001b[0m 4ms/step - accuracy: 0.9580 - loss: 0.0973 - val_accuracy: 0.9225 - val_loss: 0.1932\n",
            "Epoch 89/100\n",
            "\u001b[1m73/73\u001b[0m \u001b[32m━━━━━━━━━━━━━━━━━━━━\u001b[0m\u001b[37m\u001b[0m \u001b[1m0s\u001b[0m 4ms/step - accuracy: 0.9696 - loss: 0.0868 - val_accuracy: 0.9302 - val_loss: 0.2031\n",
            "Epoch 90/100\n",
            "\u001b[1m73/73\u001b[0m \u001b[32m━━━━━━━━━━━━━━━━━━━━\u001b[0m\u001b[37m\u001b[0m \u001b[1m1s\u001b[0m 4ms/step - accuracy: 0.9558 - loss: 0.0948 - val_accuracy: 0.9147 - val_loss: 0.2214\n",
            "Epoch 91/100\n",
            "\u001b[1m73/73\u001b[0m \u001b[32m━━━━━━━━━━━━━━━━━━━━\u001b[0m\u001b[37m\u001b[0m \u001b[1m1s\u001b[0m 4ms/step - accuracy: 0.9549 - loss: 0.0960 - val_accuracy: 0.9380 - val_loss: 0.2009\n",
            "Epoch 92/100\n",
            "\u001b[1m73/73\u001b[0m \u001b[32m━━━━━━━━━━━━━━━━━━━━\u001b[0m\u001b[37m\u001b[0m \u001b[1m1s\u001b[0m 4ms/step - accuracy: 0.9622 - loss: 0.0927 - val_accuracy: 0.9109 - val_loss: 0.2303\n",
            "Epoch 93/100\n",
            "\u001b[1m73/73\u001b[0m \u001b[32m━━━━━━━━━━━━━━━━━━━━\u001b[0m\u001b[37m\u001b[0m \u001b[1m1s\u001b[0m 4ms/step - accuracy: 0.9648 - loss: 0.0955 - val_accuracy: 0.9147 - val_loss: 0.2158\n",
            "Epoch 94/100\n",
            "\u001b[1m73/73\u001b[0m \u001b[32m━━━━━━━━━━━━━━━━━━━━\u001b[0m\u001b[37m\u001b[0m \u001b[1m0s\u001b[0m 4ms/step - accuracy: 0.9646 - loss: 0.0864 - val_accuracy: 0.9225 - val_loss: 0.2155\n",
            "Epoch 95/100\n",
            "\u001b[1m73/73\u001b[0m \u001b[32m━━━━━━━━━━━━━━━━━━━━\u001b[0m\u001b[37m\u001b[0m \u001b[1m0s\u001b[0m 4ms/step - accuracy: 0.9570 - loss: 0.1036 - val_accuracy: 0.9186 - val_loss: 0.2087\n",
            "Epoch 96/100\n",
            "\u001b[1m73/73\u001b[0m \u001b[32m━━━━━━━━━━━━━━━━━━━━\u001b[0m\u001b[37m\u001b[0m \u001b[1m0s\u001b[0m 5ms/step - accuracy: 0.9620 - loss: 0.0866 - val_accuracy: 0.9186 - val_loss: 0.1960\n",
            "Epoch 97/100\n",
            "\u001b[1m73/73\u001b[0m \u001b[32m━━━━━━━━━━━━━━━━━━━━\u001b[0m\u001b[37m\u001b[0m \u001b[1m1s\u001b[0m 4ms/step - accuracy: 0.9644 - loss: 0.0863 - val_accuracy: 0.9341 - val_loss: 0.2011\n",
            "Epoch 98/100\n",
            "\u001b[1m73/73\u001b[0m \u001b[32m━━━━━━━━━━━━━━━━━━━━\u001b[0m\u001b[37m\u001b[0m \u001b[1m1s\u001b[0m 5ms/step - accuracy: 0.9518 - loss: 0.1016 - val_accuracy: 0.9341 - val_loss: 0.2033\n",
            "Epoch 99/100\n",
            "\u001b[1m73/73\u001b[0m \u001b[32m━━━━━━━━━━━━━━━━━━━━\u001b[0m\u001b[37m\u001b[0m \u001b[1m1s\u001b[0m 7ms/step - accuracy: 0.9507 - loss: 0.1093 - val_accuracy: 0.9186 - val_loss: 0.2018\n",
            "Epoch 100/100\n",
            "\u001b[1m73/73\u001b[0m \u001b[32m━━━━━━━━━━━━━━━━━━━━\u001b[0m\u001b[37m\u001b[0m \u001b[1m1s\u001b[0m 6ms/step - accuracy: 0.9627 - loss: 0.1027 - val_accuracy: 0.9109 - val_loss: 0.2130\n",
            "\n",
            "🔹 Training Accuracy: 0.97\n",
            "🔹 Test Accuracy: 0.93\n",
            "\u001b[1m35/35\u001b[0m \u001b[32m━━━━━━━━━━━━━━━━━━━━\u001b[0m\u001b[37m\u001b[0m \u001b[1m0s\u001b[0m 4ms/step\n",
            "\n",
            "🔹 Neural Network Classification Report on Test Data:\n",
            "              precision    recall  f1-score   support\n",
            "\n",
            "           0       1.00      1.00      1.00       357\n",
            "           1       0.89      0.90      0.90       376\n",
            "           2       0.90      0.89      0.89       374\n",
            "\n",
            "    accuracy                           0.93      1107\n",
            "   macro avg       0.93      0.93      0.93      1107\n",
            "weighted avg       0.93      0.93      0.93      1107\n",
            "\n",
            "🔹 Neural Network ROC-AUC Score on Test Data: 0.99\n",
            "\u001b[1m81/81\u001b[0m \u001b[32m━━━━━━━━━━━━━━━━━━━━\u001b[0m\u001b[37m\u001b[0m \u001b[1m0s\u001b[0m 2ms/step\n",
            "\n",
            "🔹 Neural Network Classification Report on Training Data:\n",
            "              precision    recall  f1-score   support\n",
            "\n",
            "           0       1.00      1.00      1.00       872\n",
            "           1       0.95      0.97      0.96       853\n",
            "           2       0.97      0.95      0.96       855\n",
            "\n",
            "    accuracy                           0.97      2580\n",
            "   macro avg       0.97      0.97      0.97      2580\n",
            "weighted avg       0.97      0.97      0.97      2580\n",
            "\n",
            "🔹 Neural Network ROC-AUC Score on Training Data: 1.00\n"
          ]
        },
        {
          "output_type": "display_data",
          "data": {
            "text/plain": [
              "<Figure size 1200x500 with 2 Axes>"
            ],
            "image/png": "[encoded data removed]"
          },
          "metadata": {}
        },
        {
          "output_type": "stream",
          "name": "stderr",
          "text": [
            "WARNING:absl:You are saving your model as an HDF5 file via `model.save()` or `keras.saving.save_model(model)`. This file format is considered legacy. We recommend using instead the native Keras format, e.g. `model.save('my_model.keras')` or `keras.saving.save_model(model, 'my_model.keras')`. \n"
          ]
        },
        {
          "output_type": "stream",
          "name": "stdout",
          "text": [
            "\n",
            "✅ Neural Network model saved as 'nn_model.h5'.\n"
          ]
        }
      ],
      "source": [
        "import pickle\n",
        "import numpy as np\n",
        "import matplotlib.pyplot as plt\n",
        "from sklearn.metrics import classification_report, roc_auc_score\n",
        "from tensorflow.keras.models import Sequential\n",
        "from tensorflow.keras.layers import Dense, Dropout\n",
        "from tensorflow.keras.optimizers import Adam\n",
        "from tensorflow.keras.utils import to_categorical\n",
        "\n",
        "# Load saved feature names\n",
        "with open('feature_names.pkl', 'rb') as file:\n",
        "    feature_names = pickle.load(file)\n",
        "\n",
        "# Prepare the data (Ensure X_train_scaled, X_test_scaled, y_train, y_test are preprocessed)\n",
        "num_classes = len(np.unique(y_train))\n",
        "y_train_onehot = to_categorical(y_train, num_classes)\n",
        "y_test_onehot = to_categorical(y_test, num_classes)\n",
        "\n",
        "# Build the Neural Network model\n",
        "model = Sequential([\n",
        "    Dense(256, activation='relu', input_shape=(X_train_scaled.shape[1],)),  # Increased neurons\n",
        "    Dropout(0.3),\n",
        "    Dense(128, activation='relu'),\n",
        "    Dropout(0.3),\n",
        "    Dense(64, activation='relu'),\n",
        "    Dense(num_classes, activation='softmax')  # Softmax for multi-class classification\n",
        "])\n",
        "\n",
        "# Compile the model\n",
        "model.compile(optimizer=Adam(learning_rate=0.0005),  # Reduced learning rate for stability\n",
        "              loss='categorical_crossentropy',\n",
        "              metrics=['accuracy'])\n",
        "\n",
        "# Train the model\n",
        "history = model.fit(X_train_scaled, y_train_onehot,\n",
        "                    validation_split=0.1,\n",
        "                    epochs=100,  # Increased epochs for better training\n",
        "                    batch_size=32,\n",
        "                    verbose=1)\n",
        "\n",
        "# Evaluate the model on the test data\n",
        "train_loss, train_accuracy = model.evaluate(X_train_scaled, y_train_onehot, verbose=0)\n",
        "test_loss, test_accuracy = model.evaluate(X_test_scaled, y_test_onehot, verbose=0)\n",
        "\n",
        "print(f\"\\n🔹 Training Accuracy: {train_accuracy:.2f}\")\n",
        "print(f\"🔹 Test Accuracy: {test_accuracy:.2f}\")\n",
        "\n",
        "# Make predictions\n",
        "y_prob_nn = model.predict(X_test_scaled)\n",
        "y_pred_nn = np.argmax(y_prob_nn, axis=1)\n",
        "\n",
        "# Classification report and ROC-AUC score\n",
        "print(\"\\n🔹 Neural Network Classification Report on Test Data:\")\n",
        "print(classification_report(y_test, y_pred_nn))\n",
        "print(f\"🔹 Neural Network ROC-AUC Score on Test Data: {roc_auc_score(y_test, y_prob_nn, multi_class='ovr'):.2f}\")\n",
        "\n",
        "# Classification report for training data\n",
        "y_train_prob_nn = model.predict(X_train_scaled)\n",
        "y_train_pred_nn = np.argmax(y_train_prob_nn, axis=1)\n",
        "\n",
        "print(\"\\n🔹 Neural Network Classification Report on Training Data:\")\n",
        "print(classification_report(y_train, y_train_pred_nn))\n",
        "print(f\"🔹 Neural Network ROC-AUC Score on Training Data: {roc_auc_score(y_train, y_train_prob_nn, multi_class='ovr'):.2f}\")\n",
        "\n",
        "# Plot training history\n",
        "plt.figure(figsize=(12, 5))\n",
        "plt.subplot(1, 2, 1)\n",
        "plt.plot(history.history['accuracy'], label='Training Accuracy')\n",
        "plt.plot(history.history['val_accuracy'], label='Validation Accuracy')\n",
        "plt.xlabel('Epochs')\n",
        "plt.ylabel('Accuracy')\n",
        "plt.title('Training vs Validation Accuracy')\n",
        "plt.legend()\n",
        "\n",
        "plt.subplot(1, 2, 2)\n",
        "plt.plot(history.history['loss'], label='Training Loss')\n",
        "plt.plot(history.history['val_loss'], label='Validation Loss')\n",
        "plt.xlabel('Epochs')\n",
        "plt.ylabel('Loss')\n",
        "plt.title('Training vs Validation Loss')\n",
        "plt.legend()\n",
        "\n",
        "plt.show()\n",
        "\n",
        "# Save the trained model\n",
        "model.save('nn_model.h5')\n",
        "\n",
        "print(\"\\n✅ Neural Network model saved as 'nn_model.h5'.\")"
      ]
    },
    {
      "cell_type": "code",
      "execution_count": 63,
      "metadata": {
        "id": "5IStulUlWgzi",
        "colab": {
          "base_uri": "https://localhost:8080/"
        },
        "outputId": "dfa78688-9dc8-4cd1-bd70-fe882e92e699"
      },
      "outputs": [
        {
          "output_type": "stream",
          "name": "stdout",
          "text": [
            "\n",
            "🔹 XGBoost Regression Metrics on Test Data:\n",
            "   🔹 Mean Squared Error (MSE): 0.0476\n",
            "   🔹 R-squared Score (R²): 0.9279\n",
            "\n",
            "🔹 XGBoost Regression Metrics on Training Data:\n",
            "   🔹 Mean Squared Error (MSE): 0.0149\n",
            "   🔹 R-squared Score (R²): 0.9778\n",
            "\n",
            "🔹 XGBoost Classification Report on Test Data:\n",
            "              precision    recall  f1-score   support\n",
            "\n",
            "           0       1.00      1.00      1.00       357\n",
            "           1       0.94      0.88      0.91       376\n",
            "           2       0.89      0.94      0.92       374\n",
            "\n",
            "    accuracy                           0.94      1107\n",
            "   macro avg       0.94      0.94      0.94      1107\n",
            "weighted avg       0.94      0.94      0.94      1107\n",
            "\n",
            "\n",
            "🔹 XGBoost Classification Report on Training Data:\n",
            "              precision    recall  f1-score   support\n",
            "\n",
            "           0       0.99      1.00      1.00       872\n",
            "           1       1.00      0.98      0.99       853\n",
            "           2       0.99      1.00      0.99       855\n",
            "\n",
            "    accuracy                           0.99      2580\n",
            "   macro avg       0.99      0.99      0.99      2580\n",
            "weighted avg       0.99      0.99      0.99      2580\n",
            "\n",
            "\n",
            "✅ XGBoost Regressor model saved as 'xgb_regressor.pkl'.\n"
          ]
        }
      ],
      "source": [
        "import pickle\n",
        "import numpy as np\n",
        "from xgboost import XGBRegressor\n",
        "from sklearn.metrics import mean_squared_error, r2_score, classification_report\n",
        "\n",
        "# Load saved feature names\n",
        "with open('feature_names.pkl', 'rb') as file:\n",
        "    feature_names = pickle.load(file)\n",
        "\n",
        "# Initialize XGBoost Regressor\n",
        "xgb_model = XGBRegressor(objective='reg:squarederror', random_state=42, n_estimators=100, learning_rate=0.1)\n",
        "\n",
        "# Train the model\n",
        "xgb_model.fit(X_train_scaled, y_train)\n",
        "\n",
        "# Predict on Test Data\n",
        "y_pred_xgb = xgb_model.predict(X_test_scaled)\n",
        "\n",
        "print(\"\\n🔹 XGBoost Regression Metrics on Test Data:\")\n",
        "print(f\"   🔹 Mean Squared Error (MSE): {mean_squared_error(y_test, y_pred_xgb):.4f}\")\n",
        "print(f\"   🔹 R-squared Score (R²): {r2_score(y_test, y_pred_xgb):.4f}\")\n",
        "\n",
        "# Predict on Training Data\n",
        "y_train_pred_xgb = xgb_model.predict(X_train_scaled)\n",
        "\n",
        "print(\"\\n🔹 XGBoost Regression Metrics on Training Data:\")\n",
        "print(f\"   🔹 Mean Squared Error (MSE): {mean_squared_error(y_train, y_train_pred_xgb):.4f}\")\n",
        "print(f\"   🔹 R-squared Score (R²): {r2_score(y_train, y_train_pred_xgb):.4f}\")\n",
        "\n",
        "# Convert Regression Predictions to Categories (Ordinal Classification)\n",
        "def categorize_predictions(y_pred):\n",
        "    return np.round(y_pred).astype(int)  # Rounding to nearest integer (assuming labels 0,1,2)\n",
        "\n",
        "y_test_class = categorize_predictions(y_pred_xgb)\n",
        "y_train_class = categorize_predictions(y_train_pred_xgb)\n",
        "\n",
        "# Classification Reports\n",
        "print(\"\\n🔹 XGBoost Classification Report on Test Data:\")\n",
        "print(classification_report(y_test, y_test_class))\n",
        "\n",
        "print(\"\\n🔹 XGBoost Classification Report on Training Data:\")\n",
        "print(classification_report(y_train, y_train_class))\n",
        "\n",
        "# Save the trained XGBoost model\n",
        "with open('xgb_regressor.pkl', 'wb') as file:\n",
        "    pickle.dump(xgb_model, file)\n",
        "\n",
        "print(\"\\n✅ XGBoost Regressor model saved as 'xgb_regressor.pkl'.\")"
      ]
    },
    {
      "cell_type": "code",
      "source": [
        "pip install keras"
      ],
      "metadata": {
        "colab": {
          "base_uri": "https://localhost:8080/"
        },
        "id": "aQ80mLM5AwXO",
        "outputId": "ed3d660b-af6c-46c0-cccf-dfeb4d14f346"
      },
      "execution_count": 64,
      "outputs": [
        {
          "output_type": "stream",
          "name": "stdout",
          "text": [
            "Requirement already satisfied: keras in /usr/local/lib/python3.11/dist-packages (3.8.0)\n",
            "Requirement already satisfied: absl-py in /usr/local/lib/python3.11/dist-packages (from keras) (1.4.0)\n",
            "Requirement already satisfied: numpy in /usr/local/lib/python3.11/dist-packages (from keras) (1.26.4)\n",
            "Requirement already satisfied: rich in /usr/local/lib/python3.11/dist-packages (from keras) (13.9.4)\n",
            "Requirement already satisfied: namex in /usr/local/lib/python3.11/dist-packages (from keras) (0.0.8)\n",
            "Requirement already satisfied: h5py in /usr/local/lib/python3.11/dist-packages (from keras) (3.12.1)\n",
            "Requirement already satisfied: optree in /usr/local/lib/python3.11/dist-packages (from keras) (0.14.0)\n",
            "Requirement already satisfied: ml-dtypes in /usr/local/lib/python3.11/dist-packages (from keras) (0.4.1)\n",
            "Requirement already satisfied: packaging in /usr/local/lib/python3.11/dist-packages (from keras) (24.2)\n",
            "Requirement already satisfied: typing-extensions>=4.5.0 in /usr/local/lib/python3.11/dist-packages (from optree->keras) (4.12.2)\n",
            "Requirement already satisfied: markdown-it-py>=2.2.0 in /usr/local/lib/python3.11/dist-packages (from rich->keras) (3.0.0)\n",
            "Requirement already satisfied: pygments<3.0.0,>=2.13.0 in /usr/local/lib/python3.11/dist-packages (from rich->keras) (2.18.0)\n",
            "Requirement already satisfied: mdurl~=0.1 in /usr/local/lib/python3.11/dist-packages (from markdown-it-py>=2.2.0->rich->keras) (0.1.2)\n"
          ]
        }
      ]
    },
    {
      "cell_type": "code",
      "execution_count": 68,
      "metadata": {
        "id": "njWZiDFag2Au",
        "colab": {
          "base_uri": "https://localhost:8080/"
        },
        "outputId": "894838c9-ed2a-4a93-ca74-ed08f4b08c4d"
      },
      "outputs": [
        {
          "output_type": "stream",
          "name": "stderr",
          "text": [
            "WARNING:absl:Compiled the loaded model, but the compiled metrics have yet to be built. `model.compile_metrics` will be empty until you train or evaluate the model.\n"
          ]
        },
        {
          "output_type": "stream",
          "name": "stdout",
          "text": [
            "\n",
            "🔹 Enter values for the following features:\n",
            "   localization: Lip\n",
            "   tobacco_use: Yes\n",
            "   alcohol_consumption: Yes\n",
            "   sun_exposure: No\n",
            "   gender: F\n",
            "   skin_color: Brown\n",
            "   larger_size: 4\n",
            "   age: 45\n",
            "\u001b[1m1/1\u001b[0m \u001b[32m━━━━━━━━━━━━━━━━━━━━\u001b[0m\u001b[37m\u001b[0m \u001b[1m0s\u001b[0m 114ms/step\n",
            "\n",
            "🔹 Model Predictions for Oral Cancer Risk:\n",
            "   🧠 Neural Network Probability: 0.0000\n",
            "   ⚡ SVM Probability: 1.0000\n",
            "   🚀 XGBoost Probability: 1.0000\n",
            "   🎯 **Final Risk Probability: 0.6667** (Scale: 0 to 1)\n",
            "   ⚠️ **Medium Risk of Cancer Detected**\n"
          ]
        }
      ],
      "source": [
        "import pickle\n",
        "import numpy as np\n",
        "import pandas as pd\n",
        "from sklearn.preprocessing import StandardScaler, LabelEncoder\n",
        "from tensorflow.keras.models import load_model\n",
        "\n",
        "# Load trained models\n",
        "with open('svr_model.pkl', 'rb') as file:\n",
        "    svm_model = pickle.load(file)\n",
        "\n",
        "with open('xgb_regressor.pkl', 'rb') as file:\n",
        "    xgb_model = pickle.load(file)\n",
        "\n",
        "# Load the neural network model correctly\n",
        "nn_model = load_model('nn_model.h5')\n",
        "\n",
        "# Load the scaler and feature names from training\n",
        "with open('scaler.pkl', 'rb') as file:\n",
        "    scaler = pickle.load(file)\n",
        "\n",
        "with open('feature_names.pkl', 'rb') as file:\n",
        "    feature_names = pickle.load(file)  # Ensures correct feature order\n",
        "\n",
        "# Define categorical and numerical features\n",
        "categorical_features = ['localization', 'tobacco_use', 'alcohol_consumption', 'sun_exposure', 'gender', 'skin_color']\n",
        "numerical_features = ['larger_size', 'age_group']\n",
        "\n",
        "# Define LabelEncoders (Use mappings from training)\n",
        "label_encoders = {\n",
        "    'localization': LabelEncoder().fit(['Tongue', 'Lip', 'Floor of mouth', 'Buccal mucosa', 'Palate', 'Gingiva', 'Cheek', 'Gum', 'Buccal Mucosa']),\n",
        "    'tobacco_use': LabelEncoder().fit(['Yes', 'Former', 'No', 'Not informed']),\n",
        "    'alcohol_consumption': LabelEncoder().fit(['No', 'Former', 'Yes', 'Not informed']),\n",
        "    'sun_exposure': LabelEncoder().fit(['No', 'Yes', 'Not informed']),\n",
        "    'gender': LabelEncoder().fit(['M', 'F']),\n",
        "    'skin_color': LabelEncoder().fit(['Black', 'White', 'Not informed', 'Brown', 'Asian', 'Hispanic']),\n",
        "}\n",
        "\n",
        "# Function to categorize age into groups\n",
        "def categorize_age(age):\n",
        "    \"\"\"Categorize age into risk groups.\"\"\"\n",
        "    try:\n",
        "        age = int(age)\n",
        "        return 0 if age < 40 else 1 if 40 <= age <= 60 else 2\n",
        "    except ValueError:\n",
        "        print(\"⚠️ Invalid input for age. Defaulting to group 1 (40-60 years).\")\n",
        "        return 1  # Default to medium age risk\n",
        "\n",
        "# Function to get user input\n",
        "def get_user_input():\n",
        "    \"\"\"Take user input for all required features and return a dictionary.\"\"\"\n",
        "    user_data = {}\n",
        "\n",
        "    print(\"\\n🔹 Enter values for the following features:\")\n",
        "    for feature in categorical_features + ['larger_size', 'age']:\n",
        "        user_data[feature] = input(f\"   {feature}: \").strip()\n",
        "\n",
        "    return user_data\n",
        "\n",
        "# Take user input\n",
        "user_data = get_user_input()\n",
        "\n",
        "# Convert age input to numeric and categorize it\n",
        "user_data['age_group'] = categorize_age(user_data['age'])\n",
        "\n",
        "# Convert input data into a DataFrame\n",
        "input_df = pd.DataFrame([user_data])\n",
        "\n",
        "# Apply Label Encoding to categorical features (ensuring consistency with training)\n",
        "for feature in categorical_features:\n",
        "    if user_data[feature] in label_encoders[feature].classes_:\n",
        "        input_df[feature] = label_encoders[feature].transform([user_data[feature]])\n",
        "    else:\n",
        "        default_value = 'Not informed' if 'Not informed' in label_encoders[feature].classes_ else label_encoders[feature].classes_[0]\n",
        "        print(f\"⚠️ Warning: Unseen category '{user_data[feature]}' for {feature}. Using '{default_value}' as default.\")\n",
        "        input_df[feature] = label_encoders[feature].transform([default_value])\n",
        "\n",
        "# Ensure numerical columns are correctly formatted\n",
        "input_df[['larger_size', 'age_group']] = input_df[['larger_size', 'age_group']].astype(float)\n",
        "\n",
        "# Ensure features are in the same order as training\n",
        "input_df = input_df.reindex(columns=feature_names, fill_value=0)\n",
        "\n",
        "# Standard Scaling (Use same scaler from training)\n",
        "input_scaled = scaler.transform(input_df)\n",
        "\n",
        "# Make predictions using all three models\n",
        "nn_prob = nn_model.predict(input_scaled)[0][0]\n",
        "svm_prob = svm_model.predict(input_scaled)[0]\n",
        "xgb_prob = xgb_model.predict(input_scaled)[0]\n",
        "\n",
        "# Ensure probabilities are within bounds (0-1)\n",
        "svm_prob = max(0, min(1, svm_prob))\n",
        "xgb_prob = max(0, min(1, xgb_prob))\n",
        "\n",
        "# Final Probability Calculation (Averaging Model Outputs)\n",
        "final_probability = (nn_prob + svm_prob + xgb_prob) / 3\n",
        "\n",
        "# Display results\n",
        "print(\"\\n🔹 Model Predictions for Oral Cancer Risk:\")\n",
        "print(f\"   🧠 Neural Network Probability: {nn_prob:.4f}\")\n",
        "print(f\"   ⚡ SVM Probability: {svm_prob:.4f}\")\n",
        "print(f\"   🚀 XGBoost Probability: {xgb_prob:.4f}\")\n",
        "print(f\"   🎯 **Final Risk Probability: {final_probability:.4f}** (Scale: 0 to 1)\")\n",
        "\n",
        "# Interpretation based on probability thresholds\n",
        "threshold_high = 0.7\n",
        "threshold_medium = 0.4\n",
        "\n",
        "if final_probability >= threshold_high:\n",
        "    print(\"   🛑 **High Risk of Cancer Detected**\")\n",
        "elif final_probability >= threshold_medium:\n",
        "    print(\"   ⚠️ **Medium Risk of Cancer Detected**\")\n",
        "else:\n",
        "    print(\"   ✅ **Low Risk - No Cancer Detected**\")\n"
      ]
    },
    {
      "cell_type": "code",
      "source": [
        "from sklearn.ensemble import StackingClassifier\n",
        "from sklearn.linear_model import LogisticRegression\n",
        "from sklearn.svm import SVC\n",
        "from xgboost import XGBClassifier\n",
        "from sklearn.pipeline import Pipeline\n",
        "from sklearn.preprocessing import StandardScaler\n",
        "\n",
        "# Wrap XGBoost and SVM in a pipeline to ensure compatibility\n",
        "xgb_model = XGBClassifier(use_label_encoder=False, eval_metric='logloss', random_state=42)\n",
        "svm_model = SVC(probability=True, random_state=42)\n",
        "\n",
        "# Define base models\n",
        "base_models = [\n",
        "    ('xgb', Pipeline([('scaler', StandardScaler()), ('xgb', xgb_model)])),\n",
        "    ('svm', Pipeline([('scaler', StandardScaler()), ('svm', svm_model)]))\n",
        "]\n",
        "\n",
        "# Define the meta-model\n",
        "meta_model = LogisticRegression()\n",
        "\n",
        "# Create StackingClassifier\n",
        "stacking_model = StackingClassifier(estimators=base_models, final_estimator=meta_model)\n",
        "\n",
        "# Train the stacking model\n",
        "stacking_model.fit(X_train_scaled, y_train)\n",
        "\n",
        "# Make predictions\n",
        "stacking_preds = stacking_model.predict(X_test_scaled)"
      ],
      "metadata": {
        "colab": {
          "base_uri": "https://localhost:8080/",
          "height": 515
        },
        "id": "FCGMWtqqEWJO",
        "outputId": "f2a8a1a8-d81d-45bd-a884-bf3d0cafad54"
      },
      "execution_count": null,
      "outputs": [
        {
          "output_type": "stream",
          "name": "stderr",
          "text": [
            "/usr/local/lib/python3.11/dist-packages/xgboost/core.py:158: UserWarning: [18:56:52] WARNING: /workspace/src/learner.cc:740: \n",
            "Parameters: { \"use_label_encoder\" } are not used.\n",
            "\n",
            "  warnings.warn(smsg, UserWarning)\n",
            "/usr/local/lib/python3.11/dist-packages/xgboost/core.py:158: UserWarning: [18:56:53] WARNING: /workspace/src/learner.cc:740: \n",
            "Parameters: { \"use_label_encoder\" } are not used.\n",
            "\n",
            "  warnings.warn(smsg, UserWarning)\n"
          ]
        },
        {
          "output_type": "error",
          "ename": "AttributeError",
          "evalue": "'super' object has no attribute '__sklearn_tags__'",
          "traceback": [
            "\u001b[0;31m---------------------------------------------------------------------------\u001b[0m",
            "\u001b[0;31mAttributeError\u001b[0m                            Traceback (most recent call last)",
            "\u001b[0;32m<ipython-input-148-cab4fb54df40>\u001b[0m in \u001b[0;36m<cell line: 0>\u001b[0;34m()\u001b[0m\n\u001b[1;32m     23\u001b[0m \u001b[0;34m\u001b[0m\u001b[0m\n\u001b[1;32m     24\u001b[0m \u001b[0;31m# Train the stacking model\u001b[0m\u001b[0;34m\u001b[0m\u001b[0;34m\u001b[0m\u001b[0m\n\u001b[0;32m---> 25\u001b[0;31m \u001b[0mstacking_model\u001b[0m\u001b[0;34m.\u001b[0m\u001b[0mfit\u001b[0m\u001b[0;34m(\u001b[0m\u001b[0mX_train_scaled\u001b[0m\u001b[0;34m,\u001b[0m \u001b[0my_train\u001b[0m\u001b[0;34m)\u001b[0m\u001b[0;34m\u001b[0m\u001b[0;34m\u001b[0m\u001b[0m\n\u001b[0m\u001b[1;32m     26\u001b[0m \u001b[0;34m\u001b[0m\u001b[0m\n\u001b[1;32m     27\u001b[0m \u001b[0;31m# Make predictions\u001b[0m\u001b[0;34m\u001b[0m\u001b[0;34m\u001b[0m\u001b[0m\n",
            "\u001b[0;32m/usr/local/lib/python3.11/dist-packages/sklearn/utils/validation.py\u001b[0m in \u001b[0;36minner_f\u001b[0;34m(*args, **kwargs)\u001b[0m\n\u001b[1;32m     61\u001b[0m             \u001b[0mextra_args\u001b[0m \u001b[0;34m=\u001b[0m \u001b[0mlen\u001b[0m\u001b[0;34m(\u001b[0m\u001b[0margs\u001b[0m\u001b[0;34m)\u001b[0m \u001b[0;34m-\u001b[0m \u001b[0mlen\u001b[0m\u001b[0;34m(\u001b[0m\u001b[0mall_args\u001b[0m\u001b[0;34m)\u001b[0m\u001b[0;34m\u001b[0m\u001b[0;34m\u001b[0m\u001b[0m\n\u001b[1;32m     62\u001b[0m             \u001b[0;32mif\u001b[0m \u001b[0mextra_args\u001b[0m \u001b[0;34m<=\u001b[0m \u001b[0;36m0\u001b[0m\u001b[0;34m:\u001b[0m\u001b[0;34m\u001b[0m\u001b[0;34m\u001b[0m\u001b[0m\n\u001b[0;32m---> 63\u001b[0;31m                 \u001b[0;32mreturn\u001b[0m \u001b[0mf\u001b[0m\u001b[0;34m(\u001b[0m\u001b[0;34m*\u001b[0m\u001b[0margs\u001b[0m\u001b[0;34m,\u001b[0m \u001b[0;34m**\u001b[0m\u001b[0mkwargs\u001b[0m\u001b[0;34m)\u001b[0m\u001b[0;34m\u001b[0m\u001b[0;34m\u001b[0m\u001b[0m\n\u001b[0m\u001b[1;32m     64\u001b[0m \u001b[0;34m\u001b[0m\u001b[0m\n\u001b[1;32m     65\u001b[0m             \u001b[0;31m# extra_args > 0\u001b[0m\u001b[0;34m\u001b[0m\u001b[0;34m\u001b[0m\u001b[0m\n",
            "\u001b[0;32m/usr/local/lib/python3.11/dist-packages/sklearn/ensemble/_stacking.py\u001b[0m in \u001b[0;36mfit\u001b[0;34m(self, X, y, sample_weight, **fit_params)\u001b[0m\n\u001b[1;32m    715\u001b[0m         \u001b[0;32mif\u001b[0m \u001b[0msample_weight\u001b[0m \u001b[0;32mis\u001b[0m \u001b[0;32mnot\u001b[0m \u001b[0;32mNone\u001b[0m\u001b[0;34m:\u001b[0m\u001b[0;34m\u001b[0m\u001b[0;34m\u001b[0m\u001b[0m\n\u001b[1;32m    716\u001b[0m             \u001b[0mfit_params\u001b[0m\u001b[0;34m[\u001b[0m\u001b[0;34m\"sample_weight\"\u001b[0m\u001b[0;34m]\u001b[0m \u001b[0;34m=\u001b[0m \u001b[0msample_weight\u001b[0m\u001b[0;34m\u001b[0m\u001b[0;34m\u001b[0m\u001b[0m\n\u001b[0;32m--> 717\u001b[0;31m         \u001b[0;32mreturn\u001b[0m \u001b[0msuper\u001b[0m\u001b[0;34m(\u001b[0m\u001b[0;34m)\u001b[0m\u001b[0;34m.\u001b[0m\u001b[0mfit\u001b[0m\u001b[0;34m(\u001b[0m\u001b[0mX\u001b[0m\u001b[0;34m,\u001b[0m \u001b[0my_encoded\u001b[0m\u001b[0;34m,\u001b[0m \u001b[0;34m**\u001b[0m\u001b[0mfit_params\u001b[0m\u001b[0;34m)\u001b[0m\u001b[0;34m\u001b[0m\u001b[0;34m\u001b[0m\u001b[0m\n\u001b[0m\u001b[1;32m    718\u001b[0m \u001b[0;34m\u001b[0m\u001b[0m\n\u001b[1;32m    719\u001b[0m     @available_if(\n",
            "\u001b[0;32m/usr/local/lib/python3.11/dist-packages/sklearn/base.py\u001b[0m in \u001b[0;36mwrapper\u001b[0;34m(estimator, *args, **kwargs)\u001b[0m\n\u001b[1;32m   1387\u001b[0m                 )\n\u001b[1;32m   1388\u001b[0m             ):\n\u001b[0;32m-> 1389\u001b[0;31m                 \u001b[0;32mreturn\u001b[0m \u001b[0mfit_method\u001b[0m\u001b[0;34m(\u001b[0m\u001b[0mestimator\u001b[0m\u001b[0;34m,\u001b[0m \u001b[0;34m*\u001b[0m\u001b[0margs\u001b[0m\u001b[0;34m,\u001b[0m \u001b[0;34m**\u001b[0m\u001b[0mkwargs\u001b[0m\u001b[0;34m)\u001b[0m\u001b[0;34m\u001b[0m\u001b[0;34m\u001b[0m\u001b[0m\n\u001b[0m\u001b[1;32m   1390\u001b[0m \u001b[0;34m\u001b[0m\u001b[0m\n\u001b[1;32m   1391\u001b[0m         \u001b[0;32mreturn\u001b[0m \u001b[0mwrapper\u001b[0m\u001b[0;34m\u001b[0m\u001b[0;34m\u001b[0m\u001b[0m\n",
            "\u001b[0;32m/usr/local/lib/python3.11/dist-packages/sklearn/ensemble/_stacking.py\u001b[0m in \u001b[0;36mfit\u001b[0;34m(self, X, y, **fit_params)\u001b[0m\n\u001b[1;32m    252\u001b[0m                 \u001b[0mcv\u001b[0m\u001b[0;34m.\u001b[0m\u001b[0mrandom_state\u001b[0m \u001b[0;34m=\u001b[0m \u001b[0mnp\u001b[0m\u001b[0;34m.\u001b[0m\u001b[0mrandom\u001b[0m\u001b[0;34m.\u001b[0m\u001b[0mRandomState\u001b[0m\u001b[0;34m(\u001b[0m\u001b[0;34m)\u001b[0m\u001b[0;34m\u001b[0m\u001b[0;34m\u001b[0m\u001b[0m\n\u001b[1;32m    253\u001b[0m \u001b[0;34m\u001b[0m\u001b[0m\n\u001b[0;32m--> 254\u001b[0;31m             predictions = Parallel(n_jobs=self.n_jobs)(\n\u001b[0m\u001b[1;32m    255\u001b[0m                 delayed(cross_val_predict)(\n\u001b[1;32m    256\u001b[0m                     \u001b[0mclone\u001b[0m\u001b[0;34m(\u001b[0m\u001b[0mest\u001b[0m\u001b[0;34m)\u001b[0m\u001b[0;34m,\u001b[0m\u001b[0;34m\u001b[0m\u001b[0;34m\u001b[0m\u001b[0m\n",
            "\u001b[0;32m/usr/local/lib/python3.11/dist-packages/sklearn/utils/parallel.py\u001b[0m in \u001b[0;36m__call__\u001b[0;34m(self, iterable)\u001b[0m\n\u001b[1;32m     75\u001b[0m             \u001b[0;32mfor\u001b[0m \u001b[0mdelayed_func\u001b[0m\u001b[0;34m,\u001b[0m \u001b[0margs\u001b[0m\u001b[0;34m,\u001b[0m \u001b[0mkwargs\u001b[0m \u001b[0;32min\u001b[0m \u001b[0miterable\u001b[0m\u001b[0;34m\u001b[0m\u001b[0;34m\u001b[0m\u001b[0m\n\u001b[1;32m     76\u001b[0m         )\n\u001b[0;32m---> 77\u001b[0;31m         \u001b[0;32mreturn\u001b[0m \u001b[0msuper\u001b[0m\u001b[0;34m(\u001b[0m\u001b[0;34m)\u001b[0m\u001b[0;34m.\u001b[0m\u001b[0m__call__\u001b[0m\u001b[0;34m(\u001b[0m\u001b[0miterable_with_config\u001b[0m\u001b[0;34m)\u001b[0m\u001b[0;34m\u001b[0m\u001b[0;34m\u001b[0m\u001b[0m\n\u001b[0m\u001b[1;32m     78\u001b[0m \u001b[0;34m\u001b[0m\u001b[0m\n\u001b[1;32m     79\u001b[0m \u001b[0;34m\u001b[0m\u001b[0m\n",
            "\u001b[0;32m/usr/local/lib/python3.11/dist-packages/joblib/parallel.py\u001b[0m in \u001b[0;36m__call__\u001b[0;34m(self, iterable)\u001b[0m\n\u001b[1;32m   1916\u001b[0m             \u001b[0moutput\u001b[0m \u001b[0;34m=\u001b[0m \u001b[0mself\u001b[0m\u001b[0;34m.\u001b[0m\u001b[0m_get_sequential_output\u001b[0m\u001b[0;34m(\u001b[0m\u001b[0miterable\u001b[0m\u001b[0;34m)\u001b[0m\u001b[0;34m\u001b[0m\u001b[0;34m\u001b[0m\u001b[0m\n\u001b[1;32m   1917\u001b[0m             \u001b[0mnext\u001b[0m\u001b[0;34m(\u001b[0m\u001b[0moutput\u001b[0m\u001b[0;34m)\u001b[0m\u001b[0;34m\u001b[0m\u001b[0;34m\u001b[0m\u001b[0m\n\u001b[0;32m-> 1918\u001b[0;31m             \u001b[0;32mreturn\u001b[0m \u001b[0moutput\u001b[0m \u001b[0;32mif\u001b[0m \u001b[0mself\u001b[0m\u001b[0;34m.\u001b[0m\u001b[0mreturn_generator\u001b[0m \u001b[0;32melse\u001b[0m \u001b[0mlist\u001b[0m\u001b[0;34m(\u001b[0m\u001b[0moutput\u001b[0m\u001b[0;34m)\u001b[0m\u001b[0;34m\u001b[0m\u001b[0;34m\u001b[0m\u001b[0m\n\u001b[0m\u001b[1;32m   1919\u001b[0m \u001b[0;34m\u001b[0m\u001b[0m\n\u001b[1;32m   1920\u001b[0m         \u001b[0;31m# Let's create an ID that uniquely identifies the current call. If the\u001b[0m\u001b[0;34m\u001b[0m\u001b[0;34m\u001b[0m\u001b[0m\n",
            "\u001b[0;32m/usr/local/lib/python3.11/dist-packages/joblib/parallel.py\u001b[0m in \u001b[0;36m_get_sequential_output\u001b[0;34m(self, iterable)\u001b[0m\n\u001b[1;32m   1845\u001b[0m                 \u001b[0mself\u001b[0m\u001b[0;34m.\u001b[0m\u001b[0mn_dispatched_batches\u001b[0m \u001b[0;34m+=\u001b[0m \u001b[0;36m1\u001b[0m\u001b[0;34m\u001b[0m\u001b[0;34m\u001b[0m\u001b[0m\n\u001b[1;32m   1846\u001b[0m                 \u001b[0mself\u001b[0m\u001b[0;34m.\u001b[0m\u001b[0mn_dispatched_tasks\u001b[0m \u001b[0;34m+=\u001b[0m \u001b[0;36m1\u001b[0m\u001b[0;34m\u001b[0m\u001b[0;34m\u001b[0m\u001b[0m\n\u001b[0;32m-> 1847\u001b[0;31m                 \u001b[0mres\u001b[0m \u001b[0;34m=\u001b[0m \u001b[0mfunc\u001b[0m\u001b[0;34m(\u001b[0m\u001b[0;34m*\u001b[0m\u001b[0margs\u001b[0m\u001b[0;34m,\u001b[0m \u001b[0;34m**\u001b[0m\u001b[0mkwargs\u001b[0m\u001b[0;34m)\u001b[0m\u001b[0;34m\u001b[0m\u001b[0;34m\u001b[0m\u001b[0m\n\u001b[0m\u001b[1;32m   1848\u001b[0m                 \u001b[0mself\u001b[0m\u001b[0;34m.\u001b[0m\u001b[0mn_completed_tasks\u001b[0m \u001b[0;34m+=\u001b[0m \u001b[0;36m1\u001b[0m\u001b[0;34m\u001b[0m\u001b[0;34m\u001b[0m\u001b[0m\n\u001b[1;32m   1849\u001b[0m                 \u001b[0mself\u001b[0m\u001b[0;34m.\u001b[0m\u001b[0mprint_progress\u001b[0m\u001b[0;34m(\u001b[0m\u001b[0;34m)\u001b[0m\u001b[0;34m\u001b[0m\u001b[0;34m\u001b[0m\u001b[0m\n",
            "\u001b[0;32m/usr/local/lib/python3.11/dist-packages/sklearn/utils/parallel.py\u001b[0m in \u001b[0;36m__call__\u001b[0;34m(self, *args, **kwargs)\u001b[0m\n\u001b[1;32m    137\u001b[0m             \u001b[0mconfig\u001b[0m \u001b[0;34m=\u001b[0m \u001b[0;34m{\u001b[0m\u001b[0;34m}\u001b[0m\u001b[0;34m\u001b[0m\u001b[0;34m\u001b[0m\u001b[0m\n\u001b[1;32m    138\u001b[0m         \u001b[0;32mwith\u001b[0m \u001b[0mconfig_context\u001b[0m\u001b[0;34m(\u001b[0m\u001b[0;34m**\u001b[0m\u001b[0mconfig\u001b[0m\u001b[0;34m)\u001b[0m\u001b[0;34m:\u001b[0m\u001b[0;34m\u001b[0m\u001b[0;34m\u001b[0m\u001b[0m\n\u001b[0;32m--> 139\u001b[0;31m             \u001b[0;32mreturn\u001b[0m \u001b[0mself\u001b[0m\u001b[0;34m.\u001b[0m\u001b[0mfunction\u001b[0m\u001b[0;34m(\u001b[0m\u001b[0;34m*\u001b[0m\u001b[0margs\u001b[0m\u001b[0;34m,\u001b[0m \u001b[0;34m**\u001b[0m\u001b[0mkwargs\u001b[0m\u001b[0;34m)\u001b[0m\u001b[0;34m\u001b[0m\u001b[0;34m\u001b[0m\u001b[0m\n\u001b[0m\u001b[1;32m    140\u001b[0m \u001b[0;34m\u001b[0m\u001b[0m\n\u001b[1;32m    141\u001b[0m \u001b[0;34m\u001b[0m\u001b[0m\n",
            "\u001b[0;32m/usr/local/lib/python3.11/dist-packages/sklearn/utils/_param_validation.py\u001b[0m in \u001b[0;36mwrapper\u001b[0;34m(*args, **kwargs)\u001b[0m\n\u001b[1;32m    214\u001b[0m                     )\n\u001b[1;32m    215\u001b[0m                 ):\n\u001b[0;32m--> 216\u001b[0;31m                     \u001b[0;32mreturn\u001b[0m \u001b[0mfunc\u001b[0m\u001b[0;34m(\u001b[0m\u001b[0;34m*\u001b[0m\u001b[0margs\u001b[0m\u001b[0;34m,\u001b[0m \u001b[0;34m**\u001b[0m\u001b[0mkwargs\u001b[0m\u001b[0;34m)\u001b[0m\u001b[0;34m\u001b[0m\u001b[0;34m\u001b[0m\u001b[0m\n\u001b[0m\u001b[1;32m    217\u001b[0m             \u001b[0;32mexcept\u001b[0m \u001b[0mInvalidParameterError\u001b[0m \u001b[0;32mas\u001b[0m \u001b[0me\u001b[0m\u001b[0;34m:\u001b[0m\u001b[0;34m\u001b[0m\u001b[0;34m\u001b[0m\u001b[0m\n\u001b[1;32m    218\u001b[0m                 \u001b[0;31m# When the function is just a wrapper around an estimator, we allow\u001b[0m\u001b[0;34m\u001b[0m\u001b[0;34m\u001b[0m\u001b[0m\n",
            "\u001b[0;32m/usr/local/lib/python3.11/dist-packages/sklearn/model_selection/_validation.py\u001b[0m in \u001b[0;36mcross_val_predict\u001b[0;34m(estimator, X, y, groups, cv, n_jobs, verbose, params, pre_dispatch, method)\u001b[0m\n\u001b[1;32m   1245\u001b[0m     \u001b[0;31m# independent, and that it is pickle-able.\u001b[0m\u001b[0;34m\u001b[0m\u001b[0;34m\u001b[0m\u001b[0m\n\u001b[1;32m   1246\u001b[0m     \u001b[0mparallel\u001b[0m \u001b[0;34m=\u001b[0m \u001b[0mParallel\u001b[0m\u001b[0;34m(\u001b[0m\u001b[0mn_jobs\u001b[0m\u001b[0;34m=\u001b[0m\u001b[0mn_jobs\u001b[0m\u001b[0;34m,\u001b[0m \u001b[0mverbose\u001b[0m\u001b[0;34m=\u001b[0m\u001b[0mverbose\u001b[0m\u001b[0;34m,\u001b[0m \u001b[0mpre_dispatch\u001b[0m\u001b[0;34m=\u001b[0m\u001b[0mpre_dispatch\u001b[0m\u001b[0;34m)\u001b[0m\u001b[0;34m\u001b[0m\u001b[0;34m\u001b[0m\u001b[0m\n\u001b[0;32m-> 1247\u001b[0;31m     predictions = parallel(\n\u001b[0m\u001b[1;32m   1248\u001b[0m         delayed(_fit_and_predict)(\n\u001b[1;32m   1249\u001b[0m             \u001b[0mclone\u001b[0m\u001b[0;34m(\u001b[0m\u001b[0mestimator\u001b[0m\u001b[0;34m)\u001b[0m\u001b[0;34m,\u001b[0m\u001b[0;34m\u001b[0m\u001b[0;34m\u001b[0m\u001b[0m\n",
            "\u001b[0;32m/usr/local/lib/python3.11/dist-packages/sklearn/utils/parallel.py\u001b[0m in \u001b[0;36m__call__\u001b[0;34m(self, iterable)\u001b[0m\n\u001b[1;32m     75\u001b[0m             \u001b[0;32mfor\u001b[0m \u001b[0mdelayed_func\u001b[0m\u001b[0;34m,\u001b[0m \u001b[0margs\u001b[0m\u001b[0;34m,\u001b[0m \u001b[0mkwargs\u001b[0m \u001b[0;32min\u001b[0m \u001b[0miterable\u001b[0m\u001b[0;34m\u001b[0m\u001b[0;34m\u001b[0m\u001b[0m\n\u001b[1;32m     76\u001b[0m         )\n\u001b[0;32m---> 77\u001b[0;31m         \u001b[0;32mreturn\u001b[0m \u001b[0msuper\u001b[0m\u001b[0;34m(\u001b[0m\u001b[0;34m)\u001b[0m\u001b[0;34m.\u001b[0m\u001b[0m__call__\u001b[0m\u001b[0;34m(\u001b[0m\u001b[0miterable_with_config\u001b[0m\u001b[0;34m)\u001b[0m\u001b[0;34m\u001b[0m\u001b[0;34m\u001b[0m\u001b[0m\n\u001b[0m\u001b[1;32m     78\u001b[0m \u001b[0;34m\u001b[0m\u001b[0m\n\u001b[1;32m     79\u001b[0m \u001b[0;34m\u001b[0m\u001b[0m\n",
            "\u001b[0;32m/usr/local/lib/python3.11/dist-packages/joblib/parallel.py\u001b[0m in \u001b[0;36m__call__\u001b[0;34m(self, iterable)\u001b[0m\n\u001b[1;32m   1916\u001b[0m             \u001b[0moutput\u001b[0m \u001b[0;34m=\u001b[0m \u001b[0mself\u001b[0m\u001b[0;34m.\u001b[0m\u001b[0m_get_sequential_output\u001b[0m\u001b[0;34m(\u001b[0m\u001b[0miterable\u001b[0m\u001b[0;34m)\u001b[0m\u001b[0;34m\u001b[0m\u001b[0;34m\u001b[0m\u001b[0m\n\u001b[1;32m   1917\u001b[0m             \u001b[0mnext\u001b[0m\u001b[0;34m(\u001b[0m\u001b[0moutput\u001b[0m\u001b[0;34m)\u001b[0m\u001b[0;34m\u001b[0m\u001b[0;34m\u001b[0m\u001b[0m\n\u001b[0;32m-> 1918\u001b[0;31m             \u001b[0;32mreturn\u001b[0m \u001b[0moutput\u001b[0m \u001b[0;32mif\u001b[0m \u001b[0mself\u001b[0m\u001b[0;34m.\u001b[0m\u001b[0mreturn_generator\u001b[0m \u001b[0;32melse\u001b[0m \u001b[0mlist\u001b[0m\u001b[0;34m(\u001b[0m\u001b[0moutput\u001b[0m\u001b[0;34m)\u001b[0m\u001b[0;34m\u001b[0m\u001b[0;34m\u001b[0m\u001b[0m\n\u001b[0m\u001b[1;32m   1919\u001b[0m \u001b[0;34m\u001b[0m\u001b[0m\n\u001b[1;32m   1920\u001b[0m         \u001b[0;31m# Let's create an ID that uniquely identifies the current call. If the\u001b[0m\u001b[0;34m\u001b[0m\u001b[0;34m\u001b[0m\u001b[0m\n",
            "\u001b[0;32m/usr/local/lib/python3.11/dist-packages/joblib/parallel.py\u001b[0m in \u001b[0;36m_get_sequential_output\u001b[0;34m(self, iterable)\u001b[0m\n\u001b[1;32m   1845\u001b[0m                 \u001b[0mself\u001b[0m\u001b[0;34m.\u001b[0m\u001b[0mn_dispatched_batches\u001b[0m \u001b[0;34m+=\u001b[0m \u001b[0;36m1\u001b[0m\u001b[0;34m\u001b[0m\u001b[0;34m\u001b[0m\u001b[0m\n\u001b[1;32m   1846\u001b[0m                 \u001b[0mself\u001b[0m\u001b[0;34m.\u001b[0m\u001b[0mn_dispatched_tasks\u001b[0m \u001b[0;34m+=\u001b[0m \u001b[0;36m1\u001b[0m\u001b[0;34m\u001b[0m\u001b[0;34m\u001b[0m\u001b[0m\n\u001b[0;32m-> 1847\u001b[0;31m                 \u001b[0mres\u001b[0m \u001b[0;34m=\u001b[0m \u001b[0mfunc\u001b[0m\u001b[0;34m(\u001b[0m\u001b[0;34m*\u001b[0m\u001b[0margs\u001b[0m\u001b[0;34m,\u001b[0m \u001b[0;34m**\u001b[0m\u001b[0mkwargs\u001b[0m\u001b[0;34m)\u001b[0m\u001b[0;34m\u001b[0m\u001b[0;34m\u001b[0m\u001b[0m\n\u001b[0m\u001b[1;32m   1848\u001b[0m                 \u001b[0mself\u001b[0m\u001b[0;34m.\u001b[0m\u001b[0mn_completed_tasks\u001b[0m \u001b[0;34m+=\u001b[0m \u001b[0;36m1\u001b[0m\u001b[0;34m\u001b[0m\u001b[0;34m\u001b[0m\u001b[0m\n\u001b[1;32m   1849\u001b[0m                 \u001b[0mself\u001b[0m\u001b[0;34m.\u001b[0m\u001b[0mprint_progress\u001b[0m\u001b[0;34m(\u001b[0m\u001b[0;34m)\u001b[0m\u001b[0;34m\u001b[0m\u001b[0;34m\u001b[0m\u001b[0m\n",
            "\u001b[0;32m/usr/local/lib/python3.11/dist-packages/sklearn/utils/parallel.py\u001b[0m in \u001b[0;36m__call__\u001b[0;34m(self, *args, **kwargs)\u001b[0m\n\u001b[1;32m    137\u001b[0m             \u001b[0mconfig\u001b[0m \u001b[0;34m=\u001b[0m \u001b[0;34m{\u001b[0m\u001b[0;34m}\u001b[0m\u001b[0;34m\u001b[0m\u001b[0;34m\u001b[0m\u001b[0m\n\u001b[1;32m    138\u001b[0m         \u001b[0;32mwith\u001b[0m \u001b[0mconfig_context\u001b[0m\u001b[0;34m(\u001b[0m\u001b[0;34m**\u001b[0m\u001b[0mconfig\u001b[0m\u001b[0;34m)\u001b[0m\u001b[0;34m:\u001b[0m\u001b[0;34m\u001b[0m\u001b[0;34m\u001b[0m\u001b[0m\n\u001b[0;32m--> 139\u001b[0;31m             \u001b[0;32mreturn\u001b[0m \u001b[0mself\u001b[0m\u001b[0;34m.\u001b[0m\u001b[0mfunction\u001b[0m\u001b[0;34m(\u001b[0m\u001b[0;34m*\u001b[0m\u001b[0margs\u001b[0m\u001b[0;34m,\u001b[0m \u001b[0;34m**\u001b[0m\u001b[0mkwargs\u001b[0m\u001b[0;34m)\u001b[0m\u001b[0;34m\u001b[0m\u001b[0;34m\u001b[0m\u001b[0m\n\u001b[0m\u001b[1;32m    140\u001b[0m \u001b[0;34m\u001b[0m\u001b[0m\n\u001b[1;32m    141\u001b[0m \u001b[0;34m\u001b[0m\u001b[0m\n",
            "\u001b[0;32m/usr/local/lib/python3.11/dist-packages/sklearn/model_selection/_validation.py\u001b[0m in \u001b[0;36m_fit_and_predict\u001b[0;34m(estimator, X, y, train, test, fit_params, method)\u001b[0m\n\u001b[1;32m   1332\u001b[0m         \u001b[0mestimator\u001b[0m\u001b[0;34m.\u001b[0m\u001b[0mfit\u001b[0m\u001b[0;34m(\u001b[0m\u001b[0mX_train\u001b[0m\u001b[0;34m,\u001b[0m \u001b[0my_train\u001b[0m\u001b[0;34m,\u001b[0m \u001b[0;34m**\u001b[0m\u001b[0mfit_params\u001b[0m\u001b[0;34m)\u001b[0m\u001b[0;34m\u001b[0m\u001b[0;34m\u001b[0m\u001b[0m\n\u001b[1;32m   1333\u001b[0m     \u001b[0mfunc\u001b[0m \u001b[0;34m=\u001b[0m \u001b[0mgetattr\u001b[0m\u001b[0;34m(\u001b[0m\u001b[0mestimator\u001b[0m\u001b[0;34m,\u001b[0m \u001b[0mmethod\u001b[0m\u001b[0;34m)\u001b[0m\u001b[0;34m\u001b[0m\u001b[0;34m\u001b[0m\u001b[0m\n\u001b[0;32m-> 1334\u001b[0;31m     \u001b[0mpredictions\u001b[0m \u001b[0;34m=\u001b[0m \u001b[0mfunc\u001b[0m\u001b[0;34m(\u001b[0m\u001b[0mX_test\u001b[0m\u001b[0;34m)\u001b[0m\u001b[0;34m\u001b[0m\u001b[0;34m\u001b[0m\u001b[0m\n\u001b[0m\u001b[1;32m   1335\u001b[0m \u001b[0;34m\u001b[0m\u001b[0m\n\u001b[1;32m   1336\u001b[0m     encode = (\n",
            "\u001b[0;32m/usr/local/lib/python3.11/dist-packages/sklearn/pipeline.py\u001b[0m in \u001b[0;36mpredict_proba\u001b[0;34m(self, X, **params)\u001b[0m\n\u001b[1;32m    896\u001b[0m         \"\"\"\n\u001b[1;32m    897\u001b[0m         \u001b[0;31m# TODO(1.8): Remove the context manager and use check_is_fitted(self)\u001b[0m\u001b[0;34m\u001b[0m\u001b[0;34m\u001b[0m\u001b[0m\n\u001b[0;32m--> 898\u001b[0;31m         \u001b[0;32mwith\u001b[0m \u001b[0m_raise_or_warn_if_not_fitted\u001b[0m\u001b[0;34m(\u001b[0m\u001b[0mself\u001b[0m\u001b[0;34m)\u001b[0m\u001b[0;34m:\u001b[0m\u001b[0;34m\u001b[0m\u001b[0;34m\u001b[0m\u001b[0m\n\u001b[0m\u001b[1;32m    899\u001b[0m             \u001b[0mXt\u001b[0m \u001b[0;34m=\u001b[0m \u001b[0mX\u001b[0m\u001b[0;34m\u001b[0m\u001b[0;34m\u001b[0m\u001b[0m\n\u001b[1;32m    900\u001b[0m \u001b[0;34m\u001b[0m\u001b[0m\n",
            "\u001b[0;32m/usr/lib/python3.11/contextlib.py\u001b[0m in \u001b[0;36m__exit__\u001b[0;34m(self, typ, value, traceback)\u001b[0m\n\u001b[1;32m    142\u001b[0m         \u001b[0;32mif\u001b[0m \u001b[0mtyp\u001b[0m \u001b[0;32mis\u001b[0m \u001b[0;32mNone\u001b[0m\u001b[0;34m:\u001b[0m\u001b[0;34m\u001b[0m\u001b[0;34m\u001b[0m\u001b[0m\n\u001b[1;32m    143\u001b[0m             \u001b[0;32mtry\u001b[0m\u001b[0;34m:\u001b[0m\u001b[0;34m\u001b[0m\u001b[0;34m\u001b[0m\u001b[0m\n\u001b[0;32m--> 144\u001b[0;31m                 \u001b[0mnext\u001b[0m\u001b[0;34m(\u001b[0m\u001b[0mself\u001b[0m\u001b[0;34m.\u001b[0m\u001b[0mgen\u001b[0m\u001b[0;34m)\u001b[0m\u001b[0;34m\u001b[0m\u001b[0;34m\u001b[0m\u001b[0m\n\u001b[0m\u001b[1;32m    145\u001b[0m             \u001b[0;32mexcept\u001b[0m \u001b[0mStopIteration\u001b[0m\u001b[0;34m:\u001b[0m\u001b[0;34m\u001b[0m\u001b[0;34m\u001b[0m\u001b[0m\n\u001b[1;32m    146\u001b[0m                 \u001b[0;32mreturn\u001b[0m \u001b[0;32mFalse\u001b[0m\u001b[0;34m\u001b[0m\u001b[0;34m\u001b[0m\u001b[0m\n",
            "\u001b[0;32m/usr/local/lib/python3.11/dist-packages/sklearn/pipeline.py\u001b[0m in \u001b[0;36m_raise_or_warn_if_not_fitted\u001b[0;34m(estimator)\u001b[0m\n\u001b[1;32m     58\u001b[0m     \u001b[0;31m# we only get here if the above didn't raise\u001b[0m\u001b[0;34m\u001b[0m\u001b[0;34m\u001b[0m\u001b[0m\n\u001b[1;32m     59\u001b[0m     \u001b[0;32mtry\u001b[0m\u001b[0;34m:\u001b[0m\u001b[0;34m\u001b[0m\u001b[0;34m\u001b[0m\u001b[0m\n\u001b[0;32m---> 60\u001b[0;31m         \u001b[0mcheck_is_fitted\u001b[0m\u001b[0;34m(\u001b[0m\u001b[0mestimator\u001b[0m\u001b[0;34m)\u001b[0m\u001b[0;34m\u001b[0m\u001b[0;34m\u001b[0m\u001b[0m\n\u001b[0m\u001b[1;32m     61\u001b[0m     \u001b[0;32mexcept\u001b[0m \u001b[0mNotFittedError\u001b[0m\u001b[0;34m:\u001b[0m\u001b[0;34m\u001b[0m\u001b[0;34m\u001b[0m\u001b[0m\n\u001b[1;32m     62\u001b[0m         warnings.warn(\n",
            "\u001b[0;32m/usr/local/lib/python3.11/dist-packages/sklearn/utils/validation.py\u001b[0m in \u001b[0;36mcheck_is_fitted\u001b[0;34m(estimator, attributes, msg, all_or_any)\u001b[0m\n\u001b[1;32m   1754\u001b[0m         \u001b[0;32mreturn\u001b[0m\u001b[0;34m\u001b[0m\u001b[0;34m\u001b[0m\u001b[0m\n\u001b[1;32m   1755\u001b[0m \u001b[0;34m\u001b[0m\u001b[0m\n\u001b[0;32m-> 1756\u001b[0;31m     \u001b[0;32mif\u001b[0m \u001b[0;32mnot\u001b[0m \u001b[0m_is_fitted\u001b[0m\u001b[0;34m(\u001b[0m\u001b[0mestimator\u001b[0m\u001b[0;34m,\u001b[0m \u001b[0mattributes\u001b[0m\u001b[0;34m,\u001b[0m \u001b[0mall_or_any\u001b[0m\u001b[0;34m)\u001b[0m\u001b[0;34m:\u001b[0m\u001b[0;34m\u001b[0m\u001b[0;34m\u001b[0m\u001b[0m\n\u001b[0m\u001b[1;32m   1757\u001b[0m         \u001b[0;32mraise\u001b[0m \u001b[0mNotFittedError\u001b[0m\u001b[0;34m(\u001b[0m\u001b[0mmsg\u001b[0m \u001b[0;34m%\u001b[0m \u001b[0;34m{\u001b[0m\u001b[0;34m\"name\"\u001b[0m\u001b[0;34m:\u001b[0m \u001b[0mtype\u001b[0m\u001b[0;34m(\u001b[0m\u001b[0mestimator\u001b[0m\u001b[0;34m)\u001b[0m\u001b[0;34m.\u001b[0m\u001b[0m__name__\u001b[0m\u001b[0;34m}\u001b[0m\u001b[0;34m)\u001b[0m\u001b[0;34m\u001b[0m\u001b[0;34m\u001b[0m\u001b[0m\n\u001b[1;32m   1758\u001b[0m \u001b[0;34m\u001b[0m\u001b[0m\n",
            "\u001b[0;32m/usr/local/lib/python3.11/dist-packages/sklearn/utils/validation.py\u001b[0m in \u001b[0;36m_is_fitted\u001b[0;34m(estimator, attributes, all_or_any)\u001b[0m\n\u001b[1;32m   1663\u001b[0m \u001b[0;34m\u001b[0m\u001b[0m\n\u001b[1;32m   1664\u001b[0m     \u001b[0;32mif\u001b[0m \u001b[0mhasattr\u001b[0m\u001b[0;34m(\u001b[0m\u001b[0mestimator\u001b[0m\u001b[0;34m,\u001b[0m \u001b[0;34m\"__sklearn_is_fitted__\"\u001b[0m\u001b[0;34m)\u001b[0m\u001b[0;34m:\u001b[0m\u001b[0;34m\u001b[0m\u001b[0;34m\u001b[0m\u001b[0m\n\u001b[0;32m-> 1665\u001b[0;31m         \u001b[0;32mreturn\u001b[0m \u001b[0mestimator\u001b[0m\u001b[0;34m.\u001b[0m\u001b[0m__sklearn_is_fitted__\u001b[0m\u001b[0;34m(\u001b[0m\u001b[0;34m)\u001b[0m\u001b[0;34m\u001b[0m\u001b[0;34m\u001b[0m\u001b[0m\n\u001b[0m\u001b[1;32m   1666\u001b[0m \u001b[0;34m\u001b[0m\u001b[0m\n\u001b[1;32m   1667\u001b[0m     fitted_attrs = [\n",
            "\u001b[0;32m/usr/local/lib/python3.11/dist-packages/sklearn/pipeline.py\u001b[0m in \u001b[0;36m__sklearn_is_fitted__\u001b[0;34m(self)\u001b[0m\n\u001b[1;32m   1319\u001b[0m             \u001b[0;31m# means the previous steps should also be fit. This is faster than\u001b[0m\u001b[0;34m\u001b[0m\u001b[0;34m\u001b[0m\u001b[0m\n\u001b[1;32m   1320\u001b[0m             \u001b[0;31m# checking if every step of the pipeline is fit.\u001b[0m\u001b[0;34m\u001b[0m\u001b[0;34m\u001b[0m\u001b[0m\n\u001b[0;32m-> 1321\u001b[0;31m             \u001b[0mcheck_is_fitted\u001b[0m\u001b[0;34m(\u001b[0m\u001b[0mlast_step\u001b[0m\u001b[0;34m)\u001b[0m\u001b[0;34m\u001b[0m\u001b[0;34m\u001b[0m\u001b[0m\n\u001b[0m\u001b[1;32m   1322\u001b[0m             \u001b[0;32mreturn\u001b[0m \u001b[0;32mTrue\u001b[0m\u001b[0;34m\u001b[0m\u001b[0;34m\u001b[0m\u001b[0m\n\u001b[1;32m   1323\u001b[0m         \u001b[0;32mexcept\u001b[0m \u001b[0mNotFittedError\u001b[0m\u001b[0;34m:\u001b[0m\u001b[0;34m\u001b[0m\u001b[0;34m\u001b[0m\u001b[0m\n",
            "\u001b[0;32m/usr/local/lib/python3.11/dist-packages/sklearn/utils/validation.py\u001b[0m in \u001b[0;36mcheck_is_fitted\u001b[0;34m(estimator, attributes, msg, all_or_any)\u001b[0m\n\u001b[1;32m   1749\u001b[0m         \u001b[0;32mraise\u001b[0m \u001b[0mTypeError\u001b[0m\u001b[0;34m(\u001b[0m\u001b[0;34m\"%s is not an estimator instance.\"\u001b[0m \u001b[0;34m%\u001b[0m \u001b[0;34m(\u001b[0m\u001b[0mestimator\u001b[0m\u001b[0;34m)\u001b[0m\u001b[0;34m)\u001b[0m\u001b[0;34m\u001b[0m\u001b[0;34m\u001b[0m\u001b[0m\n\u001b[1;32m   1750\u001b[0m \u001b[0;34m\u001b[0m\u001b[0m\n\u001b[0;32m-> 1751\u001b[0;31m     \u001b[0mtags\u001b[0m \u001b[0;34m=\u001b[0m \u001b[0mget_tags\u001b[0m\u001b[0;34m(\u001b[0m\u001b[0mestimator\u001b[0m\u001b[0;34m)\u001b[0m\u001b[0;34m\u001b[0m\u001b[0;34m\u001b[0m\u001b[0m\n\u001b[0m\u001b[1;32m   1752\u001b[0m \u001b[0;34m\u001b[0m\u001b[0m\n\u001b[1;32m   1753\u001b[0m     \u001b[0;32mif\u001b[0m \u001b[0;32mnot\u001b[0m \u001b[0mtags\u001b[0m\u001b[0;34m.\u001b[0m\u001b[0mrequires_fit\u001b[0m \u001b[0;32mand\u001b[0m \u001b[0mattributes\u001b[0m \u001b[0;32mis\u001b[0m \u001b[0;32mNone\u001b[0m\u001b[0;34m:\u001b[0m\u001b[0;34m\u001b[0m\u001b[0;34m\u001b[0m\u001b[0m\n",
            "\u001b[0;32m/usr/local/lib/python3.11/dist-packages/sklearn/utils/_tags.py\u001b[0m in \u001b[0;36mget_tags\u001b[0;34m(estimator)\u001b[0m\n\u001b[1;32m    428\u001b[0m         \u001b[0;32mfor\u001b[0m \u001b[0mklass\u001b[0m \u001b[0;32min\u001b[0m \u001b[0mreversed\u001b[0m\u001b[0;34m(\u001b[0m\u001b[0mtype\u001b[0m\u001b[0;34m(\u001b[0m\u001b[0mestimator\u001b[0m\u001b[0;34m)\u001b[0m\u001b[0;34m.\u001b[0m\u001b[0mmro\u001b[0m\u001b[0;34m(\u001b[0m\u001b[0;34m)\u001b[0m\u001b[0;34m)\u001b[0m\u001b[0;34m:\u001b[0m\u001b[0;34m\u001b[0m\u001b[0;34m\u001b[0m\u001b[0m\n\u001b[1;32m    429\u001b[0m             \u001b[0;32mif\u001b[0m \u001b[0;34m\"__sklearn_tags__\"\u001b[0m \u001b[0;32min\u001b[0m \u001b[0mvars\u001b[0m\u001b[0;34m(\u001b[0m\u001b[0mklass\u001b[0m\u001b[0;34m)\u001b[0m\u001b[0;34m:\u001b[0m\u001b[0;34m\u001b[0m\u001b[0;34m\u001b[0m\u001b[0m\n\u001b[0;32m--> 430\u001b[0;31m                 \u001b[0msklearn_tags_provider\u001b[0m\u001b[0;34m[\u001b[0m\u001b[0mklass\u001b[0m\u001b[0;34m]\u001b[0m \u001b[0;34m=\u001b[0m \u001b[0mklass\u001b[0m\u001b[0;34m.\u001b[0m\u001b[0m__sklearn_tags__\u001b[0m\u001b[0;34m(\u001b[0m\u001b[0mestimator\u001b[0m\u001b[0;34m)\u001b[0m  \u001b[0;31m# type: ignore[attr-defined]\u001b[0m\u001b[0;34m\u001b[0m\u001b[0;34m\u001b[0m\u001b[0m\n\u001b[0m\u001b[1;32m    431\u001b[0m                 \u001b[0mclass_order\u001b[0m\u001b[0;34m.\u001b[0m\u001b[0mappend\u001b[0m\u001b[0;34m(\u001b[0m\u001b[0mklass\u001b[0m\u001b[0;34m)\u001b[0m\u001b[0;34m\u001b[0m\u001b[0;34m\u001b[0m\u001b[0m\n\u001b[1;32m    432\u001b[0m             \u001b[0;32melif\u001b[0m \u001b[0;34m\"_more_tags\"\u001b[0m \u001b[0;32min\u001b[0m \u001b[0mvars\u001b[0m\u001b[0;34m(\u001b[0m\u001b[0mklass\u001b[0m\u001b[0;34m)\u001b[0m\u001b[0;34m:\u001b[0m\u001b[0;34m\u001b[0m\u001b[0;34m\u001b[0m\u001b[0m\n",
            "\u001b[0;32m/usr/local/lib/python3.11/dist-packages/sklearn/base.py\u001b[0m in \u001b[0;36m__sklearn_tags__\u001b[0;34m(self)\u001b[0m\n\u001b[1;32m    538\u001b[0m \u001b[0;34m\u001b[0m\u001b[0m\n\u001b[1;32m    539\u001b[0m     \u001b[0;32mdef\u001b[0m \u001b[0m__sklearn_tags__\u001b[0m\u001b[0;34m(\u001b[0m\u001b[0mself\u001b[0m\u001b[0;34m)\u001b[0m\u001b[0;34m:\u001b[0m\u001b[0;34m\u001b[0m\u001b[0;34m\u001b[0m\u001b[0m\n\u001b[0;32m--> 540\u001b[0;31m         \u001b[0mtags\u001b[0m \u001b[0;34m=\u001b[0m \u001b[0msuper\u001b[0m\u001b[0;34m(\u001b[0m\u001b[0;34m)\u001b[0m\u001b[0;34m.\u001b[0m\u001b[0m__sklearn_tags__\u001b[0m\u001b[0;34m(\u001b[0m\u001b[0;34m)\u001b[0m\u001b[0;34m\u001b[0m\u001b[0;34m\u001b[0m\u001b[0m\n\u001b[0m\u001b[1;32m    541\u001b[0m         \u001b[0mtags\u001b[0m\u001b[0;34m.\u001b[0m\u001b[0mestimator_type\u001b[0m \u001b[0;34m=\u001b[0m \u001b[0;34m\"classifier\"\u001b[0m\u001b[0;34m\u001b[0m\u001b[0;34m\u001b[0m\u001b[0m\n\u001b[1;32m    542\u001b[0m         \u001b[0mtags\u001b[0m\u001b[0;34m.\u001b[0m\u001b[0mclassifier_tags\u001b[0m \u001b[0;34m=\u001b[0m \u001b[0mClassifierTags\u001b[0m\u001b[0;34m(\u001b[0m\u001b[0;34m)\u001b[0m\u001b[0;34m\u001b[0m\u001b[0;34m\u001b[0m\u001b[0m\n",
            "\u001b[0;31mAttributeError\u001b[0m: 'super' object has no attribute '__sklearn_tags__'"
          ]
        }
      ]
    },
    {
      "cell_type": "code",
      "source": [
        "import shap\n",
        "import lime\n",
        "import lime.lime_tabular\n",
        "import pickle\n",
        "import numpy as np\n",
        "import pandas as pd\n",
        "import matplotlib.pyplot as plt\n",
        "\n",
        "# Load trained models\n",
        "with open('nn_model.pkl', 'rb') as file:\n",
        "    nn_model = pickle.load(file)\n",
        "\n",
        "with open('svm_model_tuned.pkl', 'rb') as file:\n",
        "    svm_model = pickle.load(file)\n",
        "\n",
        "with open('xgb_model.pkl', 'rb') as file:\n",
        "    xgb_model = pickle.load(file)\n",
        "\n",
        "# Load scaler and feature names\n",
        "with open('scaler.pkl', 'rb') as file:\n",
        "    scaler = pickle.load(file)\n",
        "\n",
        "with open('feature_names.pkl', 'rb') as file:\n",
        "    feature_names = pickle.load(file)\n",
        "\n",
        "# Assume input_scaled is already prepared\n",
        "# input_scaled = scaler.transform(input_df)\n",
        "\n",
        "# --- SHAP Analysis ---\n",
        "shap.initjs()\n",
        "\n",
        "# SHAP for XGBoost (Tree-based model)\n",
        "explainer_xgb = shap.Explainer(xgb_model, feature_names=feature_names)\n",
        "shap_values_xgb = explainer_xgb(input_scaled)\n",
        "shap.summary_plot(shap_values_xgb, feature_names=feature_names)\n",
        "plt.show()\n",
        "\n",
        "# SHAP for Neural Network (Kernel-based method)\n",
        "explainer_nn = shap.KernelExplainer(nn_model.predict_proba, shap.sample(input_scaled, 100))\n",
        "shap_values_nn = explainer_nn.shap_values(input_scaled)\n",
        "shap.summary_plot(shap_values_nn[1], feature_names=feature_names)\n",
        "plt.show()\n",
        "\n",
        "# SHAP for SVM\n",
        "explainer_svm = shap.KernelExplainer(svm_model.predict_proba, shap.sample(input_scaled, 100))\n",
        "shap_values_svm = explainer_svm.shap_values(input_scaled)\n",
        "shap.summary_plot(shap_values_svm[1], feature_names=feature_names)\n",
        "plt.show()\n",
        "\n",
        "# --- LIME Analysis ---\n",
        "lime_explainer = lime.lime_tabular.LimeTabularExplainer(\n",
        "    training_data=scaler.transform(pd.DataFrame([user_data], columns=feature_names)),\n",
        "    feature_names=feature_names,\n",
        "    class_names=['No Cancer', 'Cancer'],\n",
        "    discretize_continuous=True\n",
        ")\n",
        "\n",
        "# Explain the prediction\n",
        "exp = lime_explainer.explain_instance(input_scaled[0], nn_model.predict_proba, num_features=len(feature_names))\n",
        "exp.show_in_notebook()"
      ],
      "metadata": {
        "id": "zaosI8DCG3QD"
      },
      "execution_count": null,
      "outputs": []
    },
    {
      "cell_type": "markdown",
      "metadata": {
        "id": "QTwbQnT_hU07"
      },
      "source": [
        "# **Accuracy comparison of models**"
      ]
    },
    {
      "cell_type": "code",
      "execution_count": null,
      "metadata": {
        "id": "bc3YWBQwhVK4"
      },
      "outputs": [],
      "source": [
        "# Create a dictionary to store the results\n",
        "results = {\n",
        "    'Model': ['SVM', 'Neural Network', 'XGBoost'],\n",
        "    'Train Accuracy': [\n",
        "        accuracy_score(y_train, svm_model_best.predict(X_train_scaled)),\n",
        "        accuracy_score(y_train, nn_model_best.predict(X_train_scaled)),\n",
        "        accuracy_score(y_train, xgb_model.predict(X_train_scaled))\n",
        "    ],\n",
        "    'Test Accuracy': [\n",
        "        accuracy_score(y_test, svm_model_best.predict(X_test_scaled)),\n",
        "        accuracy_score(y_test, nn_model_best.predict(X_test_scaled)),\n",
        "        accuracy_score(y_test, xgb_model.predict(X_test_scaled))\n",
        "    ]\n",
        "}\n",
        "\n",
        "# Convert the results into a DataFrame\n",
        "results_df = pd.DataFrame(results)\n",
        "\n",
        "# Plot the comparison\n",
        "results_df.set_index('Model').plot(kind='bar', figsize=(10, 6), color=['skyblue', 'lightgreen'], edgecolor='black')\n",
        "plt.title('Training and Testing Accuracy Comparison of Models')\n",
        "plt.ylabel('Accuracy')\n",
        "plt.xlabel('Models')\n",
        "plt.xticks(rotation=0)\n",
        "plt.ylim(0, 1)  # Set the y-axis limit from 0 to 1 for accuracy\n",
        "plt.show()\n",
        "\n",
        "# Print the results DataFrame\n",
        "print(results_df)\n"
      ]
    },
    {
      "cell_type": "markdown",
      "metadata": {
        "id": "iKUFYIl8kYml"
      },
      "source": []
    },
    {
      "cell_type": "code",
      "execution_count": null,
      "metadata": {
        "id": "pZD5igN9kZIU"
      },
      "outputs": [],
      "source": [
        "import shap\n",
        "import numpy as np\n",
        "import matplotlib.pyplot as plt\n",
        "\n",
        "# Use k-means to summarize the background data\n",
        "background_data = shap.kmeans(X_train_scaled, 100)\n",
        "# Initialize SHAP explainer with the k-means summarized background data\n",
        "explainer = shap.KernelExplainer(nn_model_best.predict_proba, background_data)\n",
        "\n",
        "# Calculate SHAP values for the test data\n",
        "shap_values = explainer.shap_values(X_test_scaled)\n",
        "\n",
        "# Visualize feature importance (summary plot)\n",
        "shap.summary_plot(shap_values, X_test_scaled, feature_names=X.columns)\n",
        "\n",
        "# Visualize SHAP values for a single prediction (force plot)\n",
        "# Use the correct index for sample data\n",
        "sample_index = 0  # Choose the sample index (adjust as needed)\n",
        "\n",
        "# Ensure X_test_scaled is a pandas DataFrame\n",
        "X_test_scaled_df = pd.DataFrame(X_test_scaled, columns=X.columns)\n",
        "\n",
        "shap.force_plot(\n",
        "    explainer.expected_value[1],\n",
        "    shap_values[1][sample_index, :],\n",
        "    X_test_scaled_df.iloc[sample_index, :],\n",
        "    matplotlib=True\n",
        ")\n",
        "\n",
        "# Feature importance bar plot\n",
        "plt.figure(figsize=(5, 5))\n",
        "shap.summary_plot(shap_values, X_test_scaled, feature_names=X.columns, plot_type=\"bar\")\n"
      ]
    },
    {
      "cell_type": "code",
      "execution_count": null,
      "metadata": {
        "id": "ATwTbIFvvZn8"
      },
      "outputs": [],
      "source": [
        "# Install the LIME package if not already installed\n",
        "!pip install lime\n",
        "\n",
        "import lime\n",
        "from lime.lime_tabular import LimeTabularExplainer\n",
        "import numpy as np\n",
        "\n",
        "# Initialize the LIME explainer for the neural network model\n",
        "explainer = LimeTabularExplainer(\n",
        "    training_data=X_train_scaled.values,\n",
        "    feature_names=X.columns,\n",
        "    class_names=['Non-Cancer', 'Cancer'],\n",
        "    mode='classification'\n",
        ")\n",
        "\n",
        "# Select a random sample from the test set for explanation\n",
        "sample_index = np.random.randint(0, len(X_test_scaled))\n",
        "sample_data = X_test_scaled.iloc[sample_index]\n",
        "\n",
        "# Convert the sample data to a NumPy array\n",
        "sample_data_array = sample_data.values.reshape(1, -1)\n",
        "\n",
        "# Generate LIME explanation for the selected sample\n",
        "explanation = explainer.explain_instance(\n",
        "    data_row=sample_data_array[0],\n",
        "    predict_fn=nn_model_best.predict_proba\n",
        ")\n",
        "\n",
        "# Visualize the explanation in the notebook\n",
        "explanation.show_in_notebook(show_table=True)\n",
        "\n",
        "# Save the explanation as an HTML file (optional)\n",
        "explanation.save_to_file(\"lime_explanation_neural_network.html\")\n",
        "\n",
        "print(\"LIME explanation saved as 'lime_explanation_neural_network.html'.\")\n"
      ]
    }
  ],
  "metadata": {
    "colab": {
      "provenance": [],
      "include_colab_link": true
    },
    "kernelspec": {
      "display_name": "Python 3",
      "name": "python3"
    },
    "language_info": {
      "name": "python"
    }
  },
  "nbformat": 4,
  "nbformat_minor": 0
}