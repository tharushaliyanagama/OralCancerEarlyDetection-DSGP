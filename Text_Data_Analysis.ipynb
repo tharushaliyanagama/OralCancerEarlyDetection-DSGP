{
  "cells": [
    {
      "cell_type": "markdown",
      "metadata": {
        "id": "view-in-github",
        "colab_type": "text"
      },
      "source": [
        "<a href=\"https://colab.research.google.com/github/tharushaliyanagama/OralCancerEarlyDetection-DSGP/blob/Prediction-of-textual-data-I/Text_Data_Analysis.ipynb\" target=\"_parent\"><img src=\"https://colab.research.google.com/assets/colab-badge.svg\" alt=\"Open In Colab\"/></a>"
      ]
    },
    {
      "cell_type": "markdown",
      "metadata": {
        "id": "PWKt2ukqSy2Z"
      },
      "source": [
        "# ***Dataset Analysis***"
      ]
    },
    {
      "cell_type": "markdown",
      "metadata": {
        "id": "_dUEfxAVgR6d"
      },
      "source": [
        "**1. Import Libraries**"
      ]
    },
    {
      "cell_type": "code",
      "execution_count": null,
      "metadata": {
        "id": "MAC91i2y6AKc"
      },
      "outputs": [],
      "source": [
        "# Import necessary libraries\n",
        "import pandas as pd\n",
        "import numpy as np\n",
        "import seaborn as sns\n",
        "import matplotlib.pyplot as plt\n",
        "from sklearn.model_selection import train_test_split, GridSearchCV, RandomizedSearchCV\n",
        "from sklearn.preprocessing import StandardScaler, OneHotEncoder, LabelEncoder\n",
        "from sklearn.compose import ColumnTransformer\n",
        "from sklearn.impute import SimpleImputer\n",
        "from sklearn.ensemble import RandomForestClassifier\n",
        "from sklearn.linear_model import LogisticRegression\n",
        "from sklearn.svm import SVC\n",
        "from sklearn.neural_network import MLPClassifier\n",
        "from sklearn.metrics import (classification_report, roc_auc_score, accuracy_score, precision_score, recall_score, f1_score)\n",
        "from imblearn.over_sampling import SMOTE\n",
        "from xgboost import XGBClassifier\n",
        "import pickle"
      ]
    },
    {
      "cell_type": "markdown",
      "metadata": {
        "id": "ZJ4I7oWFUrpR"
      },
      "source": [
        "**2. Load and Inspect the Dataset**"
      ]
    },
    {
      "cell_type": "code",
      "execution_count": null,
      "metadata": {
        "colab": {
          "base_uri": "https://localhost:8080/"
        },
        "id": "iEYu5rBfJdOU",
        "outputId": "29f9a228-d47d-4925-ccdc-cbad5b533ebe"
      },
      "outputs": [
        {
          "output_type": "stream",
          "name": "stdout",
          "text": [
            "Drive already mounted at /content/drive; to attempt to forcibly remount, call drive.mount(\"/content/drive\", force_remount=True).\n"
          ]
        }
      ],
      "source": [
        "from google.colab import drive\n",
        "drive.mount('/content/drive')"
      ]
    },
    {
      "cell_type": "code",
      "execution_count": null,
      "metadata": {
        "id": "-ZyWIf9IKqp-"
      },
      "outputs": [],
      "source": [
        "data = pd.read_csv('/content/drive/MyDrive/DSGP/DatasetNewII.csv')"
      ]
    },
    {
      "cell_type": "code",
      "execution_count": null,
      "metadata": {
        "colab": {
          "base_uri": "https://localhost:8080/"
        },
        "id": "hhg8nrwgSJJm",
        "outputId": "fe19bb09-9f85-42f2-de04-a30bb47097fc"
      },
      "outputs": [
        {
          "output_type": "stream",
          "name": "stdout",
          "text": [
            "Dataset Info:\n",
            "<class 'pandas.core.frame.DataFrame'>\n",
            "RangeIndex: 2237 entries, 0 to 2236\n",
            "Data columns (total 12 columns):\n",
            " #   Column                Non-Null Count  Dtype  \n",
            "---  ------                --------------  -----  \n",
            " 0   public_id             2237 non-null   int64  \n",
            " 1   lesion_id             2237 non-null   int64  \n",
            " 2   patient_id            2237 non-null   int64  \n",
            " 3   localization          2237 non-null   object \n",
            " 4   larger_size           2237 non-null   float64\n",
            " 5   tobacco_use           2237 non-null   object \n",
            " 6   alcohol_consumption   2237 non-null   object \n",
            " 7   sun_exposure          2237 non-null   object \n",
            " 8   gender                2237 non-null   object \n",
            " 9   skin_color            2237 non-null   object \n",
            " 10  age                   2237 non-null   int64  \n",
            " 11  cancer_or_non_cancer  2237 non-null   object \n",
            "dtypes: float64(1), int64(4), object(7)\n",
            "memory usage: 209.8+ KB\n",
            "None\n"
          ]
        }
      ],
      "source": [
        "#Display information\n",
        "print(\"Dataset Info:\")\n",
        "print(data.info())"
      ]
    },
    {
      "cell_type": "code",
      "execution_count": null,
      "metadata": {
        "colab": {
          "base_uri": "https://localhost:8080/"
        },
        "id": "MrNQnwlR2jSn",
        "outputId": "a876c531-c30a-4491-a69c-7296144c2641"
      },
      "outputs": [
        {
          "output_type": "stream",
          "name": "stdout",
          "text": [
            "\n",
            "First 5 rows:\n",
            "   public_id  lesion_id  patient_id localization  larger_size tobacco_use  \\\n",
            "0          0         50          48       Tongue          2.0         Yes   \n",
            "1          1         50          48       Tongue          2.0         Yes   \n",
            "2          2         41          39       Tongue          2.5         Yes   \n",
            "3          3         41          39       Tongue          2.5         Yes   \n",
            "4          4         87          81          Lip          1.5      Former   \n",
            "\n",
            "  alcohol_consumption sun_exposure gender skin_color  age cancer_or_non_cancer  \n",
            "0                  No           No      M      Black   76               Cancer  \n",
            "1                  No           No      M      Black   86               Cancer  \n",
            "2              Former          Yes      M      White   36               Cancer  \n",
            "3              Former          Yes      M      White   32               Cancer  \n",
            "4                 Yes          Yes      F      White   31               Cancer  \n"
          ]
        }
      ],
      "source": [
        "#Load 5 rows\n",
        "print(\"\\nFirst 5 rows:\")\n",
        "print(data.head())"
      ]
    },
    {
      "cell_type": "markdown",
      "metadata": {
        "id": "Ron73mnpW3ru"
      },
      "source": [
        "**3. Understand Numerical Features**"
      ]
    },
    {
      "cell_type": "code",
      "execution_count": null,
      "metadata": {
        "colab": {
          "base_uri": "https://localhost:8080/"
        },
        "id": "XSJCa9PSAoBc",
        "outputId": "bcd40bda-a23c-4420-b377-a3ab7d18dbab"
      },
      "outputs": [
        {
          "output_type": "stream",
          "name": "stdout",
          "text": [
            "\n",
            "Dropping columns: ['patient_id', 'public_id', 'lesion_id']\n"
          ]
        }
      ],
      "source": [
        "# Remove unnecessary features based on correlation and domain knowledge\n",
        "columns_to_drop = ['patient_id', 'public_id', 'lesion_id']  # Irrelevant for prediction\n",
        "print(f\"\\nDropping columns: {columns_to_drop}\")\n",
        "data = data.drop(columns=columns_to_drop)"
      ]
    },
    {
      "cell_type": "code",
      "execution_count": null,
      "metadata": {
        "colab": {
          "base_uri": "https://localhost:8080/"
        },
        "id": "skRB_AeWN4bA",
        "outputId": "e98b818c-d26a-4b22-ed44-49131a0914c7"
      },
      "outputs": [
        {
          "output_type": "stream",
          "name": "stdout",
          "text": [
            "Numeric Variables:\n",
            "   larger_size  age\n",
            "0          2.0   76\n",
            "1          2.0   86\n",
            "2          2.5   36\n",
            "3          2.5   32\n",
            "4          1.5   31\n"
          ]
        }
      ],
      "source": [
        "# Select numeric variables\n",
        "numeric_columns = data.select_dtypes(include=['int64', 'float64'])\n",
        "\n",
        "# Print numeric variables\n",
        "print(\"Numeric Variables:\")\n",
        "print(numeric_columns.head())"
      ]
    },
    {
      "cell_type": "markdown",
      "metadata": {
        "id": "3IBT_cHKU-7V"
      },
      "source": [
        "**4. Histograms for Numerical Features**"
      ]
    },
    {
      "cell_type": "code",
      "execution_count": null,
      "metadata": {
        "colab": {
          "base_uri": "https://localhost:8080/",
          "height": 957
        },
        "id": "puqDN0Grb-cr",
        "outputId": "0a4f8be6-8c12-4a8a-e113-b1a3d96264a8"
      },
      "outputs": [
        {
          "output_type": "display_data",
          "data": {
            "text/plain": [
              "<Figure size 800x500 with 1 Axes>"
            ],
            "image/png": "[encoded data removed]"
          },
          "metadata": {}
        },
        {
          "output_type": "display_data",
          "data": {
            "text/plain": [
              "<Figure size 800x500 with 1 Axes>"
            ],
            "image/png": "[encoded data removed]"
          },
          "metadata": {}
        }
      ],
      "source": [
        "# Plot histograms for specific numerical variables\n",
        "for column in ['larger_size', 'age']:\n",
        "    if column in data.select_dtypes(include=['number']).columns:\n",
        "        plt.figure(figsize=(8, 5))\n",
        "        sns.histplot(data, x=column, bins=20, color='skyblue', edgecolor='black')\n",
        "        plt.title(f\"Histogram of {column}\")\n",
        "        plt.xlabel(column)\n",
        "        plt.ylabel(\"Frequency\")\n",
        "        plt.grid(axis='y', alpha=0.75)\n",
        "        plt.show()\n"
      ]
    },
    {
      "cell_type": "markdown",
      "metadata": {
        "id": "CyUhsif0XkR-"
      },
      "source": [
        "**5. Box Plot to Identify Outliers**"
      ]
    },
    {
      "cell_type": "code",
      "execution_count": null,
      "metadata": {
        "id": "yxW7dE7KfVz1",
        "colab": {
          "base_uri": "https://localhost:8080/",
          "height": 487
        },
        "outputId": "625798b0-b083-4f64-b770-f9cf75886702"
      },
      "outputs": [
        {
          "output_type": "display_data",
          "data": {
            "text/plain": [
              "<Figure size 800x500 with 1 Axes>"
            ],
            "image/png": "[encoded data removed]"
          },
          "metadata": {}
        }
      ],
      "source": [
        "# Plot box plots for specific numerical variables to identify outliers\n",
        "for column in ['larger_size', 'age_group']:\n",
        "    if column in data.select_dtypes(include=['number']).columns:\n",
        "        plt.figure(figsize=(8, 5))\n",
        "        sns.boxplot(data=data, x=column, color='lightcoral')\n",
        "        plt.title(f\"Box Plot of {column}\")\n",
        "        plt.xlabel(column)\n",
        "        plt.grid(axis='y', alpha=0.75)\n",
        "        plt.show()"
      ]
    },
    {
      "cell_type": "markdown",
      "metadata": {
        "id": "LBF6hXdYX1pM"
      },
      "source": [
        "**6. Handle Outliers using IQR method**"
      ]
    },
    {
      "cell_type": "code",
      "execution_count": null,
      "metadata": {
        "id": "pU0sfxMTe-IJ",
        "colab": {
          "base_uri": "https://localhost:8080/"
        },
        "outputId": "edaca7e8-ab65-4e1e-d31a-65a60c14e448"
      },
      "outputs": [
        {
          "output_type": "stream",
          "name": "stdout",
          "text": [
            "Outliers removed: 2237 remaining rows\n",
            "Number of rows removed: 67\n"
          ]
        }
      ],
      "source": [
        "# Calculate the IQR for the 'larger_size' column\n",
        "Q1 = data['larger_size'].quantile(0.25)  # 25th percentile\n",
        "Q3 = data['larger_size'].quantile(0.75)  # 75th percentile\n",
        "IQR = Q3 - Q1  # Interquartile range\n",
        "\n",
        "# Define the lower and upper bounds for outliers\n",
        "lower_bound = Q1 - 1.5 * IQR\n",
        "upper_bound = Q3 + 1.5 * IQR\n",
        "\n",
        "# Filter the data to exclude outliers\n",
        "filtered_data = data[(data['larger_size'] >= lower_bound) & (data['larger_size'] <= upper_bound)]\n",
        "\n",
        "# Display the number of rows removed\n",
        "removed_rows = len(data) - len(filtered_data)\n",
        "print(f\"Outliers removed: {len(data)} remaining rows\")\n",
        "print(f\"Number of rows removed: {removed_rows}\")"
      ]
    },
    {
      "cell_type": "markdown",
      "metadata": {
        "id": "B8oGmXDMWl_Q"
      },
      "source": [
        "**7. Understand Categorical Features**"
      ]
    },
    {
      "cell_type": "code",
      "execution_count": null,
      "metadata": {
        "id": "30n9qqWFOAmZ",
        "colab": {
          "base_uri": "https://localhost:8080/"
        },
        "outputId": "5bde9391-3ff2-41ff-e403-3667d8054c91"
      },
      "outputs": [
        {
          "output_type": "stream",
          "name": "stdout",
          "text": [
            "Categorical Variables:\n",
            "  localization tobacco_use alcohol_consumption sun_exposure gender skin_color  \\\n",
            "0       Tongue         Yes                  No           No      M      Black   \n",
            "1       Tongue         Yes                  No           No      M      Black   \n",
            "2       Tongue         Yes              Former          Yes      M      White   \n",
            "3       Tongue         Yes              Former          Yes      M      White   \n",
            "4          Lip      Former                 Yes          Yes      F      White   \n",
            "\n",
            "  cancer_or_non_cancer  \n",
            "0               Cancer  \n",
            "1               Cancer  \n",
            "2               Cancer  \n",
            "3               Cancer  \n",
            "4               Cancer  \n"
          ]
        }
      ],
      "source": [
        "# Select categorical variables\n",
        "categorical_columns = data.select_dtypes(include=['object'])\n",
        "\n",
        "# Print categorical variables\n",
        "print(\"Categorical Variables:\")\n",
        "print(categorical_columns.head())"
      ]
    },
    {
      "cell_type": "markdown",
      "metadata": {
        "id": "oEEruxFvYl47"
      },
      "source": [
        "**8. Unique values of each column**"
      ]
    },
    {
      "cell_type": "code",
      "execution_count": null,
      "metadata": {
        "id": "8s13LlOvOUJq",
        "colab": {
          "base_uri": "https://localhost:8080/"
        },
        "outputId": "9e311ad3-f443-44cf-b9af-2cc8b8d2ce30"
      },
      "outputs": [
        {
          "output_type": "stream",
          "name": "stdout",
          "text": [
            "\n",
            "Unique Values in Each Categorical Column:\n",
            "Column: localization\n",
            "Unique Values: ['Tongue' 'Lip' 'Floor of mouth' 'Buccal mucosa' 'Palate' 'Gingiva'\n",
            " 'Cheek' 'Gum' 'Buccal Mucosa']\n",
            "----\n",
            "Column: tobacco_use\n",
            "Unique Values: ['Yes' 'Former' 'No' 'Not informed']\n",
            "----\n",
            "Column: alcohol_consumption\n",
            "Unique Values: ['No' 'Former' 'Yes' 'Not informed']\n",
            "----\n",
            "Column: sun_exposure\n",
            "Unique Values: ['No' 'Yes' 'Not informed']\n",
            "----\n",
            "Column: gender\n",
            "Unique Values: ['M' 'F']\n",
            "----\n",
            "Column: skin_color\n",
            "Unique Values: ['Black' 'White' 'Not informed' 'Brown' 'Asian' 'Hispanic']\n",
            "----\n",
            "Column: cancer_or_non_cancer\n",
            "Unique Values: ['Cancer' 'Non-Cancer']\n",
            "----\n"
          ]
        }
      ],
      "source": [
        "# Print unique values for each categorical column\n",
        "print(\"\\nUnique Values in Each Categorical Column:\")\n",
        "for column in categorical_columns.columns:\n",
        "    unique_values = categorical_columns[column].unique()\n",
        "    print(f\"Column: {column}\")\n",
        "    print(f\"Unique Values: {unique_values}\")\n",
        "    print(\"----\")"
      ]
    },
    {
      "cell_type": "markdown",
      "metadata": {
        "id": "xmrmBzH1Tp1I"
      },
      "source": [
        "# **Data Cleaning**"
      ]
    },
    {
      "cell_type": "markdown",
      "metadata": {
        "id": "iw9r-UQfY2b4"
      },
      "source": [
        "**9. Handle Missing Values**"
      ]
    },
    {
      "cell_type": "code",
      "execution_count": null,
      "metadata": {
        "id": "gPaCAZQYGKr7",
        "colab": {
          "base_uri": "https://localhost:8080/"
        },
        "outputId": "23cf7ef0-d326-4662-8c53-992b62099cde"
      },
      "outputs": [
        {
          "output_type": "stream",
          "name": "stdout",
          "text": [
            "\n",
            "Checking for missing values:\n",
            "localization            0\n",
            "larger_size             0\n",
            "tobacco_use             0\n",
            "alcohol_consumption     0\n",
            "sun_exposure            0\n",
            "gender                  0\n",
            "skin_color              0\n",
            "age                     0\n",
            "cancer_or_non_cancer    0\n",
            "dtype: int64\n"
          ]
        }
      ],
      "source": [
        "# Check for missing values\n",
        "print(\"\\nChecking for missing values:\")\n",
        "print(data.isnull().sum())"
      ]
    },
    {
      "cell_type": "markdown",
      "metadata": {
        "id": "CxELsjKSZBWd"
      },
      "source": [
        "**10. Handle Duplicate Values**"
      ]
    },
    {
      "cell_type": "code",
      "execution_count": null,
      "metadata": {
        "id": "ROIS_DQWGYn7",
        "colab": {
          "base_uri": "https://localhost:8080/"
        },
        "outputId": "67ed7f63-4980-4340-83dc-623262ba3179"
      },
      "outputs": [
        {
          "output_type": "stream",
          "name": "stdout",
          "text": [
            "\n",
            "Number of duplicate rows before removal: 7\n"
          ]
        }
      ],
      "source": [
        "# Check for duplicate rows\n",
        "print(f\"\\nNumber of duplicate rows before removal: {data.duplicated().sum()}\")"
      ]
    },
    {
      "cell_type": "markdown",
      "metadata": {
        "id": "Ia0vF7D-T2JQ"
      },
      "source": [
        "# **Feature Engineering**"
      ]
    },
    {
      "cell_type": "markdown",
      "metadata": {
        "id": "JzHz8THOZTz9"
      },
      "source": [
        "**11. Label Encoding**"
      ]
    },
    {
      "cell_type": "code",
      "execution_count": null,
      "metadata": {
        "colab": {
          "base_uri": "https://localhost:8080/"
        },
        "id": "B6pimpVSFWMy",
        "outputId": "cd152064-1c11-40aa-9913-fc1de6f83506"
      },
      "outputs": [
        {
          "output_type": "stream",
          "name": "stdout",
          "text": [
            "Column: localization\n",
            "Unique values before encoding: ['Tongue' 'Lip' 'Floor of mouth' 'Buccal mucosa' 'Palate' 'Gingiva'\n",
            " 'Cheek' 'Gum' 'Buccal Mucosa']\n",
            "Unique values after encoding: [8 6 3 1 7 4 2 5 0]\n",
            "-\n",
            "Column: tobacco_use\n",
            "Unique values before encoding: ['Yes' 'Former' 'No' 'Not informed']\n",
            "Unique values after encoding: [3 0 1 2]\n",
            "-\n",
            "Column: alcohol_consumption\n",
            "Unique values before encoding: ['No' 'Former' 'Yes' 'Not informed']\n",
            "Unique values after encoding: [1 0 3 2]\n",
            "-\n",
            "Column: sun_exposure\n",
            "Unique values before encoding: ['No' 'Yes' 'Not informed']\n",
            "Unique values after encoding: [0 2 1]\n",
            "-\n",
            "Column: gender\n",
            "Unique values before encoding: ['M' 'F']\n",
            "Unique values after encoding: [1 0]\n",
            "-\n",
            "Column: skin_color\n",
            "Unique values before encoding: ['Black' 'White' 'Not informed' 'Brown' 'Asian' 'Hispanic']\n",
            "Unique values after encoding: [1 5 4 2 0 3]\n",
            "-\n",
            "\n",
            "Encoding Criteria for 'age': ['age > 60' → 0, '40 <= age <= 60' → 1, 'age < 40' → 2]\n",
            "Unique values of 'age' after encoding: [2 0 1]\n"
          ]
        }
      ],
      "source": [
        "# Encode categorical variables\n",
        "categorical_columns = data.select_dtypes(include=['object']).columns\n",
        "for column in categorical_columns:\n",
        "    if column != 'cancer_or_non_cancer':\n",
        "        print(f\"Column: {column}\")\n",
        "        print(f\"Unique values before encoding: {data[column].unique()}\")\n",
        "\n",
        "        # Apply LabelEncoder\n",
        "        le = LabelEncoder()\n",
        "        data[column] = le.fit_transform(data[column])\n",
        "\n",
        "        print(f\"Unique values after encoding: {data[column].unique()}\")\n",
        "        print(\"-\")\n",
        "\n",
        "# Encode 'age' into groups\n",
        "def age_group(age):\n",
        "    if age < 40:\n",
        "        return 0\n",
        "    elif 40 <= age <= 60:\n",
        "        return 1\n",
        "    else:\n",
        "        return 2\n",
        "\n",
        "data['age'] = data['age'].apply(age_group)\n",
        "\n",
        "print(\"\\nEncoding Criteria for 'age': ['age > 60' → 0, '40 <= age <= 60' → 1, 'age < 40' → 2]\")\n",
        "print(\"Unique values of 'age' after encoding:\", data['age'].unique())"
      ]
    },
    {
      "cell_type": "markdown",
      "metadata": {
        "id": "yqvgJ7K_Vm5L"
      },
      "source": [
        "**12. Map Target Variable**"
      ]
    },
    {
      "cell_type": "code",
      "execution_count": null,
      "metadata": {
        "id": "qkMIuk2j9SA9"
      },
      "outputs": [],
      "source": [
        "# Map target variable to binary\n",
        "data['cancer_or_non_cancer'] = data['cancer_or_non_cancer'].map({'Cancer': 1, 'Non-Cancer': 0})"
      ]
    },
    {
      "cell_type": "markdown",
      "metadata": {
        "id": "pKY9DJdCV5wq"
      },
      "source": [
        "**13. Check Imbalacing of Dataset**"
      ]
    },
    {
      "cell_type": "code",
      "execution_count": null,
      "metadata": {
        "colab": {
          "base_uri": "https://localhost:8080/"
        },
        "id": "MgyCSoOO1jrE",
        "outputId": "aaa95c73-91be-435b-9188-f2086ff0e830"
      },
      "outputs": [
        {
          "output_type": "stream",
          "name": "stdout",
          "text": [
            "\n",
            "Target value distribution:\n",
            "cancer_or_non_cancer\n",
            "0    1633\n",
            "1     604\n",
            "Name: count, dtype: int64\n"
          ]
        }
      ],
      "source": [
        "#Analyze Target Imbalance\n",
        "target_column = 'cancer_or_non_cancer'\n",
        "print(\"\\nTarget value distribution:\")\n",
        "print(data[target_column].value_counts())"
      ]
    },
    {
      "cell_type": "code",
      "execution_count": null,
      "metadata": {
        "colab": {
          "base_uri": "https://localhost:8080/",
          "height": 462
        },
        "id": "QyG4d3wr3TwB",
        "outputId": "a8d2218e-6d10-46e6-df49-d56514fe0a10"
      },
      "outputs": [
        {
          "output_type": "execute_result",
          "data": {
            "text/plain": [
              "<Axes: xlabel='cancer_or_non_cancer'>"
            ]
          },
          "metadata": {},
          "execution_count": 22
        },
        {
          "output_type": "display_data",
          "data": {
            "text/plain": [
              "<Figure size 640x480 with 1 Axes>"
            ],
            "image/png": "[encoded data removed]"
          },
          "metadata": {}
        }
      ],
      "source": [
        "#Plot Imbalance dataset\n",
        "data[target_column].value_counts().plot(kind='bar')"
      ]
    },
    {
      "cell_type": "markdown",
      "metadata": {
        "id": "B0Pa2_4fZ-qS"
      },
      "source": [
        "**14. Handle Imbalancing Uning SMOTE**"
      ]
    },
    {
      "cell_type": "code",
      "execution_count": null,
      "metadata": {
        "colab": {
          "base_uri": "https://localhost:8080/"
        },
        "id": "xx1jqZ7I2GIa",
        "outputId": "499c6fd3-bbd4-406b-cd6b-40db53d74cd2"
      },
      "outputs": [
        {
          "output_type": "stream",
          "name": "stdout",
          "text": [
            "\n",
            "Class distribution after SMOTE:\n",
            "cancer_or_non_cancer\n",
            "1    1633\n",
            "0    1633\n",
            "Name: count, dtype: int64\n"
          ]
        }
      ],
      "source": [
        "# Handle class imbalance using SMOTE\n",
        "X = data.drop(columns=[target_column])\n",
        "y = data[target_column]\n",
        "\n",
        "smote = SMOTE(random_state=42)\n",
        "X_resampled, y_resampled = smote.fit_resample(X, y)\n",
        "\n",
        "print(\"\\nClass distribution after SMOTE:\")\n",
        "print(pd.Series(y_resampled).value_counts())"
      ]
    },
    {
      "cell_type": "code",
      "execution_count": null,
      "metadata": {
        "colab": {
          "base_uri": "https://localhost:8080/",
          "height": 462
        },
        "id": "3AD9iurZ31gH",
        "outputId": "52cf3a2b-581b-4fe1-e772-ab52db8af519"
      },
      "outputs": [
        {
          "output_type": "execute_result",
          "data": {
            "text/plain": [
              "<Axes: xlabel='cancer_or_non_cancer'>"
            ]
          },
          "metadata": {},
          "execution_count": 24
        },
        {
          "output_type": "display_data",
          "data": {
            "text/plain": [
              "<Figure size 640x480 with 1 Axes>"
            ],
            "image/png": "[encoded data removed]"
          },
          "metadata": {}
        }
      ],
      "source": [
        " #Plot the balace dataset\n",
        " pd.Series(y_resampled).value_counts().plot(kind='bar')"
      ]
    },
    {
      "cell_type": "markdown",
      "metadata": {
        "id": "xSgu5PSS9ldx"
      },
      "source": [
        "**15. Correlation Analysis**"
      ]
    },
    {
      "cell_type": "code",
      "execution_count": null,
      "metadata": {
        "colab": {
          "base_uri": "https://localhost:8080/"
        },
        "id": "eiar0bmM9kM5",
        "outputId": "2f01051d-fd6e-427c-a26d-dd865cc19ad4"
      },
      "outputs": [
        {
          "output_type": "stream",
          "name": "stdout",
          "text": [
            "\n",
            "Correlation Analysis:\n",
            "cancer_or_non_cancer    1.000000\n",
            "localization            0.068836\n",
            "skin_color              0.017312\n",
            "gender                  0.014332\n",
            "age                     0.010503\n",
            "sun_exposure            0.009561\n",
            "alcohol_consumption     0.008785\n",
            "tobacco_use            -0.005747\n",
            "larger_size            -0.010883\n",
            "Name: cancer_or_non_cancer, dtype: float64\n"
          ]
        }
      ],
      "source": [
        "print(\"\\nCorrelation Analysis:\")\n",
        "correlation_matrix = data.corr()\n",
        "correlation_with_target = correlation_matrix['cancer_or_non_cancer'].sort_values(ascending=False)\n",
        "print(correlation_with_target)"
      ]
    },
    {
      "cell_type": "markdown",
      "metadata": {
        "id": "Ooc4yCK_ajb_"
      },
      "source": [
        "**16. Visualization of Correlation values**"
      ]
    },
    {
      "cell_type": "code",
      "execution_count": null,
      "metadata": {
        "colab": {
          "base_uri": "https://localhost:8080/",
          "height": 840
        },
        "id": "R7b91vmy94_u",
        "outputId": "07593b65-8857-42f9-8acd-ece1e5479fe1"
      },
      "outputs": [
        {
          "output_type": "display_data",
          "data": {
            "text/plain": [
              "<Figure size 1200x800 with 2 Axes>"
            ],
            "image/png": "[encoded data removed]"
          },
          "metadata": {}
        }
      ],
      "source": [
        "# Visualize correlation with a heatmap\n",
        "plt.figure(figsize=(12, 8))\n",
        "sns.heatmap(correlation_matrix, annot=True, cmap='coolwarm', fmt=\".2f\")\n",
        "plt.title(\"Correlation Matrix\")\n",
        "plt.show()"
      ]
    },
    {
      "cell_type": "markdown",
      "metadata": {
        "id": "EmctJ5g2WCVZ"
      },
      "source": [
        "**17. Features Selection**"
      ]
    },
    {
      "cell_type": "markdown",
      "metadata": {
        "id": "4khU2LQAWK9U"
      },
      "source": [
        "**18. Dataset Splitting**"
      ]
    },
    {
      "cell_type": "code",
      "execution_count": null,
      "metadata": {
        "colab": {
          "base_uri": "https://localhost:8080/"
        },
        "id": "dgWxWaA4eRWz",
        "outputId": "a59483b7-4ac5-428d-b185-515a3c474ebe"
      },
      "outputs": [
        {
          "output_type": "stream",
          "name": "stdout",
          "text": [
            "\n",
            "Remaining features after dropping unnecessary columns:\n",
            "['localization', 'larger_size', 'tobacco_use', 'alcohol_consumption', 'sun_exposure', 'gender', 'skin_color', 'age', 'cancer_or_non_cancer']\n"
          ]
        }
      ],
      "source": [
        "# Print remaining features\n",
        "print(\"\\nRemaining features after dropping unnecessary columns:\")\n",
        "print(list(data.columns))"
      ]
    },
    {
      "cell_type": "code",
      "execution_count": null,
      "metadata": {
        "colab": {
          "base_uri": "https://localhost:8080/"
        },
        "id": "kBHS_vi6m6W4",
        "outputId": "9b89ac2b-8f11-4f10-cb81-7abd172dc4af"
      },
      "outputs": [
        {
          "output_type": "stream",
          "name": "stdout",
          "text": [
            "Training set size: 2286\n",
            "Test set size: 980\n"
          ]
        }
      ],
      "source": [
        "X_train, X_test, y_train, y_test = train_test_split(X_resampled, y_resampled, test_size=0.3, random_state=42)\n",
        "\n",
        "print(f\"Training set size: {X_train.shape[0]}\")\n",
        "print(f\"Test set size: {X_test.shape[0]}\")"
      ]
    },
    {
      "cell_type": "code",
      "source": [
        "# Save feature names before scaling (to maintain correct order)\n",
        "feature_names = X_train.columns.tolist()\n",
        "print(feature_names)\n",
        "with open('feature_names.pkl', 'wb') as file:\n",
        "    pickle.dump(feature_names, file)"
      ],
      "metadata": {
        "colab": {
          "base_uri": "https://localhost:8080/"
        },
        "id": "nPHwsa8tRL7-",
        "outputId": "ffc5aa68-a3df-4309-db33-8f59c578f466"
      },
      "execution_count": null,
      "outputs": [
        {
          "output_type": "stream",
          "name": "stdout",
          "text": [
            "['localization', 'larger_size', 'tobacco_use', 'alcohol_consumption', 'sun_exposure', 'gender', 'skin_color', 'age']\n"
          ]
        }
      ]
    },
    {
      "cell_type": "markdown",
      "metadata": {
        "id": "RWjJ0wmbWP99"
      },
      "source": [
        "**19. Feature Scaling**"
      ]
    },
    {
      "cell_type": "code",
      "execution_count": null,
      "metadata": {
        "colab": {
          "base_uri": "https://localhost:8080/"
        },
        "id": "eQ_tjA_cD4eZ",
        "outputId": "d16aa452-278e-4129-863a-1a6062a93f64"
      },
      "outputs": [
        {
          "output_type": "stream",
          "name": "stdout",
          "text": [
            "Data preprocessing completed.\n"
          ]
        }
      ],
      "source": [
        "# Standard Scaling\n",
        "scaler = StandardScaler()\n",
        "X_train_scaled = scaler.fit_transform(X_train)\n",
        "X_test_scaled = scaler.transform(X_test)\n",
        "\n",
        "# Save the scaler to use during predictions\n",
        "with open('scaler.pkl', 'wb') as file:\n",
        "    pickle.dump(scaler, file)\n",
        "\n",
        "print(\"Data preprocessing completed.\")"
      ]
    },
    {
      "cell_type": "markdown",
      "metadata": {
        "id": "7hS_CjaMSNPC"
      },
      "source": [
        "# **SVM Model Training**"
      ]
    },
    {
      "cell_type": "code",
      "execution_count": null,
      "metadata": {
        "colab": {
          "base_uri": "https://localhost:8080/"
        },
        "id": "qj-bctiIUVg9",
        "outputId": "f8e4d590-34a1-4977-a876-60c94dff6650"
      },
      "outputs": [
        {
          "output_type": "stream",
          "name": "stdout",
          "text": [
            "Fitting 5 folds for each of 12 candidates, totalling 60 fits\n",
            "\n",
            "Best Parameters for SVM: {'C': 10, 'gamma': 'scale', 'kernel': 'rbf'}\n",
            "\n",
            "🔹 SVM Classification Report on Test Data:\n",
            "              precision    recall  f1-score   support\n",
            "\n",
            "           0       0.68      0.63      0.66       477\n",
            "           1       0.67      0.72      0.70       503\n",
            "\n",
            "    accuracy                           0.68       980\n",
            "   macro avg       0.68      0.68      0.68       980\n",
            "weighted avg       0.68      0.68      0.68       980\n",
            "\n",
            "🔹 SVM ROC-AUC Score on Test Data: 0.74\n",
            "\n",
            "🔹 SVM Classification Report on Training Data:\n",
            "              precision    recall  f1-score   support\n",
            "\n",
            "           0       0.83      0.76      0.80      1156\n",
            "           1       0.77      0.84      0.81      1130\n",
            "\n",
            "    accuracy                           0.80      2286\n",
            "   macro avg       0.80      0.80      0.80      2286\n",
            "weighted avg       0.80      0.80      0.80      2286\n",
            "\n",
            "🔹 SVM ROC-AUC Score on Training Data: 0.88\n",
            "\n",
            "✅ SVM model saved as 'svm_model_tuned.pkl'.\n"
          ]
        }
      ],
      "source": [
        "import pickle\n",
        "from sklearn.svm import SVC\n",
        "from sklearn.model_selection import GridSearchCV\n",
        "from sklearn.metrics import classification_report, roc_auc_score\n",
        "\n",
        "# Load saved feature names\n",
        "with open('feature_names.pkl', 'rb') as file:\n",
        "    feature_names = pickle.load(file)\n",
        "\n",
        "# Define parameter grid for SVM\n",
        "param_grid_svm = {\n",
        "    'C': [0.1, 1, 10],\n",
        "    'kernel': ['linear', 'rbf'],\n",
        "    'gamma': ['scale', 'auto'],\n",
        "}\n",
        "\n",
        "# Initialize SVM model\n",
        "svm_model = SVC(probability=True, random_state=42)\n",
        "\n",
        "# Perform Grid Search for best hyperparameters\n",
        "grid_search_svm = GridSearchCV(svm_model, param_grid_svm, cv=5, scoring='roc_auc', verbose=1, n_jobs=-1)\n",
        "grid_search_svm.fit(X_train_scaled, y_train)\n",
        "\n",
        "# Retrieve best parameters\n",
        "best_params_svm = grid_search_svm.best_params_\n",
        "print(\"\\nBest Parameters for SVM:\", best_params_svm)\n",
        "\n",
        "# Train the best SVM model\n",
        "svm_model_best = grid_search_svm.best_estimator_\n",
        "\n",
        "# Evaluate on Test Data\n",
        "y_pred_svm = svm_model_best.predict(X_test_scaled)\n",
        "y_prob_svm = svm_model_best.predict_proba(X_test_scaled)[:, 1]\n",
        "\n",
        "print(\"\\n🔹 SVM Classification Report on Test Data:\")\n",
        "print(classification_report(y_test, y_pred_svm))\n",
        "print(f\"🔹 SVM ROC-AUC Score on Test Data: {roc_auc_score(y_test, y_prob_svm):.2f}\")\n",
        "\n",
        "# Evaluate on Training Data\n",
        "y_train_pred_svm = svm_model_best.predict(X_train_scaled)\n",
        "y_train_prob_svm = svm_model_best.predict_proba(X_train_scaled)[:, 1]\n",
        "\n",
        "print(\"\\n🔹 SVM Classification Report on Training Data:\")\n",
        "print(classification_report(y_train, y_train_pred_svm))\n",
        "print(f\"🔹 SVM ROC-AUC Score on Training Data: {roc_auc_score(y_train, y_train_prob_svm):.2f}\")\n",
        "\n",
        "# Save the trained SVM model\n",
        "with open('svm_model_tuned.pkl', 'wb') as file:\n",
        "    pickle.dump(svm_model_best, file)\n",
        "\n",
        "print(\"\\n✅ SVM model saved as 'svm_model_tuned.pkl'.\")\n"
      ]
    },
    {
      "cell_type": "markdown",
      "metadata": {
        "id": "o-ehIhF_SXgB"
      },
      "source": [
        "# **Neural Network Model Training**"
      ]
    },
    {
      "cell_type": "code",
      "execution_count": null,
      "metadata": {
        "colab": {
          "base_uri": "https://localhost:8080/"
        },
        "id": "F9pNJm2chpOY",
        "outputId": "dd91818b-e419-4b86-9905-cdb9d6e4924b"
      },
      "outputs": [
        {
          "output_type": "stream",
          "name": "stdout",
          "text": [
            "Fitting 3 folds for each of 20 candidates, totalling 60 fits\n",
            "\n",
            "Best Parameters for Neural Network: {'solver': 'adam', 'max_iter': 300, 'learning_rate': 'adaptive', 'hidden_layer_sizes': (100, 50), 'alpha': 0.1, 'activation': 'relu'}\n",
            "\n",
            "🔹 Neural Network Classification Report on Test Data:\n",
            "              precision    recall  f1-score   support\n",
            "\n",
            "           0       0.54      0.61      0.58       477\n",
            "           1       0.58      0.51      0.54       503\n",
            "\n",
            "    accuracy                           0.56       980\n",
            "   macro avg       0.56      0.56      0.56       980\n",
            "weighted avg       0.56      0.56      0.56       980\n",
            "\n",
            "🔹 Neural Network ROC-AUC Score on Test Data: 0.60\n",
            "\n",
            "🔹 Neural Network Classification Report on Training Data:\n",
            "              precision    recall  f1-score   support\n",
            "\n",
            "           0       0.61      0.67      0.64      1156\n",
            "           1       0.62      0.57      0.60      1130\n",
            "\n",
            "    accuracy                           0.62      2286\n",
            "   macro avg       0.62      0.62      0.62      2286\n",
            "weighted avg       0.62      0.62      0.62      2286\n",
            "\n",
            "🔹 Neural Network ROC-AUC Score on Training Data: 0.66\n",
            "\n",
            "✅ Neural Network model saved as 'nn_model.pkl'.\n"
          ]
        }
      ],
      "source": [
        "import pickle\n",
        "from sklearn.neural_network import MLPClassifier\n",
        "from sklearn.model_selection import RandomizedSearchCV\n",
        "from sklearn.metrics import classification_report, roc_auc_score\n",
        "\n",
        "# Load saved feature names\n",
        "with open('feature_names.pkl', 'rb') as file:\n",
        "    feature_names = pickle.load(file)\n",
        "\n",
        "# Define hyperparameter grid for Neural Network\n",
        "param_grid_nn = {\n",
        "    'hidden_layer_sizes': [(50,), (100,), (50, 50), (100, 100), (100, 50)],\n",
        "    'activation': ['relu', 'tanh'],\n",
        "    'solver': ['adam', 'sgd'],\n",
        "    'learning_rate': ['constant', 'adaptive'],\n",
        "    'max_iter': [300, 500, 1000],\n",
        "    'alpha': [0.0001, 0.001, 0.01, 0.1, 1]\n",
        "}\n",
        "\n",
        "# Initialize Neural Network model\n",
        "nn_model = MLPClassifier(random_state=42, early_stopping=True, validation_fraction=0.1)\n",
        "\n",
        "# Perform Randomized Search\n",
        "random_search_nn = RandomizedSearchCV(nn_model, param_grid_nn, n_iter=20, cv=3, scoring='roc_auc', verbose=1, n_jobs=-1, random_state=42)\n",
        "random_search_nn.fit(X_train_scaled, y_train)\n",
        "\n",
        "# Retrieve best parameters\n",
        "best_params_nn = random_search_nn.best_params_\n",
        "print(\"\\nBest Parameters for Neural Network:\", best_params_nn)\n",
        "\n",
        "# Train the best Neural Network model\n",
        "nn_model_best = random_search_nn.best_estimator_\n",
        "\n",
        "# Evaluate on Test Data\n",
        "y_pred_nn = nn_model_best.predict(X_test_scaled)\n",
        "y_prob_nn = nn_model_best.predict_proba(X_test_scaled)[:, 1]\n",
        "\n",
        "print(\"\\n🔹 Neural Network Classification Report on Test Data:\")\n",
        "print(classification_report(y_test, y_pred_nn))\n",
        "print(f\"🔹 Neural Network ROC-AUC Score on Test Data: {roc_auc_score(y_test, y_prob_nn):.2f}\")\n",
        "\n",
        "# Evaluate on Training Data\n",
        "y_train_pred_nn = nn_model_best.predict(X_train_scaled)\n",
        "y_train_prob_nn = nn_model_best.predict_proba(X_train_scaled)[:, 1]\n",
        "\n",
        "print(\"\\n🔹 Neural Network Classification Report on Training Data:\")\n",
        "print(classification_report(y_train, y_train_pred_nn))\n",
        "print(f\"🔹 Neural Network ROC-AUC Score on Training Data: {roc_auc_score(y_train, y_train_prob_nn):.2f}\")\n",
        "\n",
        "# Save the trained Neural Network model\n",
        "with open('nn_model.pkl', 'wb') as file:\n",
        "    pickle.dump(nn_model_best, file)\n",
        "\n",
        "print(\"\\n✅ Neural Network model saved as 'nn_model.pkl'.\")\n"
      ]
    },
    {
      "cell_type": "code",
      "execution_count": null,
      "metadata": {
        "colab": {
          "base_uri": "https://localhost:8080/"
        },
        "id": "5IStulUlWgzi",
        "outputId": "67b127c6-1b09-4c1a-acb0-f7c319a5bc5b"
      },
      "outputs": [
        {
          "output_type": "stream",
          "name": "stdout",
          "text": [
            "\n",
            "🔹 XGBoost Classification Report on Test Data:\n",
            "              precision    recall  f1-score   support\n",
            "\n",
            "           0       0.73      0.75      0.74       477\n",
            "           1       0.76      0.74      0.75       503\n",
            "\n",
            "    accuracy                           0.75       980\n",
            "   macro avg       0.75      0.75      0.75       980\n",
            "weighted avg       0.75      0.75      0.75       980\n",
            "\n",
            "🔹 XGBoost ROC-AUC Score on Test Data: 0.84\n",
            "\n",
            "🔹 XGBoost Classification Report on Training Data:\n",
            "              precision    recall  f1-score   support\n",
            "\n",
            "           0       0.95      0.99      0.97      1156\n",
            "           1       0.99      0.95      0.97      1130\n",
            "\n",
            "    accuracy                           0.97      2286\n",
            "   macro avg       0.97      0.97      0.97      2286\n",
            "weighted avg       0.97      0.97      0.97      2286\n",
            "\n",
            "🔹 XGBoost ROC-AUC Score on Training Data: 1.00\n",
            "\n",
            "✅ XGBoost model saved as 'xgb_model.pkl'.\n"
          ]
        },
        {
          "output_type": "stream",
          "name": "stderr",
          "text": [
            "/usr/local/lib/python3.11/dist-packages/xgboost/core.py:158: UserWarning: [12:14:48] WARNING: /workspace/src/learner.cc:740: \n",
            "Parameters: { \"use_label_encoder\" } are not used.\n",
            "\n",
            "  warnings.warn(smsg, UserWarning)\n"
          ]
        }
      ],
      "source": [
        "import pickle\n",
        "from xgboost import XGBClassifier\n",
        "from sklearn.metrics import classification_report, roc_auc_score\n",
        "\n",
        "# Load saved feature names\n",
        "with open('feature_names.pkl', 'rb') as file:\n",
        "    feature_names = pickle.load(file)\n",
        "\n",
        "# Initialize XGBoost model\n",
        "xgb_model = XGBClassifier(use_label_encoder=False, eval_metric='logloss', random_state=42)\n",
        "\n",
        "# Train the model\n",
        "xgb_model.fit(X_train_scaled, y_train)\n",
        "\n",
        "# Evaluate on Test Data\n",
        "y_pred_xgb = xgb_model.predict(X_test_scaled)\n",
        "y_prob_xgb = xgb_model.predict_proba(X_test_scaled)[:, 1]\n",
        "\n",
        "print(\"\\n🔹 XGBoost Classification Report on Test Data:\")\n",
        "print(classification_report(y_test, y_pred_xgb))\n",
        "print(f\"🔹 XGBoost ROC-AUC Score on Test Data: {roc_auc_score(y_test, y_prob_xgb):.2f}\")\n",
        "\n",
        "# Evaluate on Training Data\n",
        "y_train_pred_xgb = xgb_model.predict(X_train_scaled)\n",
        "y_train_prob_xgb = xgb_model.predict_proba(X_train_scaled)[:, 1]\n",
        "\n",
        "print(\"\\n🔹 XGBoost Classification Report on Training Data:\")\n",
        "print(classification_report(y_train, y_train_pred_xgb))\n",
        "print(f\"🔹 XGBoost ROC-AUC Score on Training Data: {roc_auc_score(y_train, y_train_prob_xgb):.2f}\")\n",
        "\n",
        "# Save the trained XGBoost model\n",
        "with open('xgb_model.pkl', 'wb') as file:\n",
        "    pickle.dump(xgb_model, file)\n",
        "\n",
        "print(\"\\n✅ XGBoost model saved as 'xgb_model.pkl'.\")\n"
      ]
    },
    {
      "cell_type": "code",
      "execution_count": null,
      "metadata": {
        "colab": {
          "base_uri": "https://localhost:8080/"
        },
        "id": "njWZiDFag2Au",
        "outputId": "51a7b4d7-24ca-42bd-80a5-2f8bf406ca8f"
      },
      "outputs": [
        {
          "output_type": "stream",
          "name": "stdout",
          "text": [
            "\n",
            "Enter values for the following features:\n",
            "localization: Gingiva\n",
            "larger_size: 1\n",
            "tobacco_use: Yes\n",
            "alcohol_consumption: Yes\n",
            "sun_exposure: No\n",
            "gender: M\n",
            "skin_color: Asian\n",
            "age: 50\n",
            "\n",
            "🔹 Predicted Probability of Oral Cancer:\n",
            "   0.0000\n",
            "\n",
            "🔹 Final Prediction:\n",
            "   ✅ No Cancer Detected\n"
          ]
        }
      ],
      "source": [
        "import pickle\n",
        "import numpy as np\n",
        "import pandas as pd\n",
        "from sklearn.preprocessing import StandardScaler, LabelEncoder\n",
        "\n",
        "# Load the trained Neural Network model\n",
        "with open('nn_model.pkl', 'rb') as file:\n",
        "    nn_model = pickle.load(file)\n",
        "\n",
        "# Load the scaler and feature names from training\n",
        "with open('scaler.pkl', 'rb') as file:\n",
        "    scaler = pickle.load(file)\n",
        "\n",
        "with open('feature_names.pkl', 'rb') as file:\n",
        "    feature_names = pickle.load(file)  # Ensure correct feature order\n",
        "\n",
        "# Define categorical and numerical features\n",
        "categorical_features = ['localization', 'tobacco_use', 'alcohol_consumption', 'sun_exposure', 'gender', 'skin_color']\n",
        "numerical_features = ['larger_size', 'age_group']\n",
        "\n",
        "# Define LabelEncoders (Use mappings from training)\n",
        "label_encoders = {\n",
        "    'localization': LabelEncoder().fit(['Tongue', 'Lip', 'Floor of mouth', 'Buccal mucosa', 'Palate', 'Gingiva', 'Cheek', 'Gum', 'Buccal Mucosa']),\n",
        "    'tobacco_use': LabelEncoder().fit(['Yes', 'Former', 'No', 'Not informed']),\n",
        "    'alcohol_consumption': LabelEncoder().fit(['No', 'Former', 'Yes', 'Not informed']),\n",
        "    'sun_exposure': LabelEncoder().fit(['No', 'Yes', 'Not informed']),\n",
        "    'gender': LabelEncoder().fit(['M', 'F']),\n",
        "    'skin_color': LabelEncoder().fit(['Black', 'White', 'Not informed', 'Brown', 'Asian', 'Hispanic']),\n",
        "}\n",
        "\n",
        "# Function to categorize age into groups\n",
        "def categorize_age(age):\n",
        "    if age < 40:\n",
        "        return 0\n",
        "    elif 40 <= age <= 60:\n",
        "        return 1\n",
        "    else:\n",
        "        return 2\n",
        "\n",
        "# Function to get user input\n",
        "def get_user_input():\n",
        "    \"\"\"Take user input for all required features and return a dictionary.\"\"\"\n",
        "    features = ['localization', 'larger_size', 'tobacco_use', 'alcohol_consumption', 'sun_exposure', 'gender', 'skin_color', 'age']\n",
        "    user_data = {}\n",
        "\n",
        "    print(\"\\nEnter values for the following features:\")\n",
        "    for feature in features:\n",
        "        user_data[feature] = input(f\"{feature}: \").strip()\n",
        "\n",
        "    return user_data\n",
        "\n",
        "# Take user input\n",
        "user_data = get_user_input()\n",
        "\n",
        "# Convert age input to numeric and categorize it\n",
        "user_data['age'] = int(user_data['age'])\n",
        "user_data['age_group'] = categorize_age(user_data['age'])\n",
        "\n",
        "# Convert input data into a DataFrame\n",
        "input_df = pd.DataFrame([user_data])\n",
        "\n",
        "# Apply Label Encoding to categorical features (ensure consistency with training)\n",
        "for feature in categorical_features:\n",
        "    if user_data[feature] in label_encoders[feature].classes_:\n",
        "        input_df[feature] = label_encoders[feature].transform([user_data[feature]])\n",
        "    else:\n",
        "        print(f\"⚠️ Warning: Unseen category '{user_data[feature]}' for {feature}. Using 'Not informed' as default.\")\n",
        "        input_df[feature] = label_encoders[feature].transform(['Not informed'])\n",
        "\n",
        "# Ensure numerical columns are correctly formatted\n",
        "input_df[['larger_size', 'age_group']] = input_df[['larger_size', 'age_group']].astype(float)\n",
        "\n",
        "# 🔹 **Ensure features are in the same order as training**\n",
        "input_df = input_df.reindex(columns=feature_names, fill_value=0)  # Ensures correct feature order\n",
        "\n",
        "# Standard Scaling (Use same scaler from training)\n",
        "input_scaled = scaler.transform(input_df)\n",
        "\n",
        "# Make prediction using Neural Network\n",
        "nn_prob = nn_model.predict_proba(input_scaled)[:, 1]  # Probability of cancer\n",
        "nn_pred = (nn_prob >= 0.5).astype(int)  # Convert probability to binary classification\n",
        "\n",
        "# Display results\n",
        "print(\"\\n🔹 Predicted Probability of Oral Cancer:\")\n",
        "print(f\"   {nn_prob[0]:.4f}\")\n",
        "\n",
        "print(\"\\n🔹 Final Prediction:\")\n",
        "print(\"   🛑 Cancer Detected\" if nn_pred[0] == 1 else \"   ✅ No Cancer Detected\")\n"
      ]
    },
    {
      "cell_type": "markdown",
      "metadata": {
        "id": "QDGZtS1KSk8d"
      },
      "source": [
        "# **XGBoost Model Training**"
      ]
    },
    {
      "cell_type": "markdown",
      "metadata": {
        "id": "QTwbQnT_hU07"
      },
      "source": [
        "# **Accuracy comparison of models**"
      ]
    },
    {
      "cell_type": "code",
      "execution_count": null,
      "metadata": {
        "colab": {
          "base_uri": "https://localhost:8080/",
          "height": 637
        },
        "id": "bc3YWBQwhVK4",
        "outputId": "9fc173b7-31d1-4d89-b50d-a214068c703f"
      },
      "outputs": [
        {
          "output_type": "display_data",
          "data": {
            "text/plain": [
              "<Figure size 1000x600 with 1 Axes>"
            ],
            "image/png": "[encoded data removed]"
          },
          "metadata": {}
        },
        {
          "output_type": "stream",
          "name": "stdout",
          "text": [
            "            Model  Train Accuracy  Test Accuracy\n",
            "0             SVM        0.801837       0.678571\n",
            "1  Neural Network        0.617673       0.560204\n",
            "2         XGBoost        0.968504       0.747959\n"
          ]
        }
      ],
      "source": [
        "# Create a dictionary to store the results\n",
        "results = {\n",
        "    'Model': ['SVM', 'Neural Network', 'XGBoost'],\n",
        "    'Train Accuracy': [\n",
        "        accuracy_score(y_train, svm_model_best.predict(X_train_scaled)),\n",
        "        accuracy_score(y_train, nn_model_best.predict(X_train_scaled)),\n",
        "        accuracy_score(y_train, xgb_model.predict(X_train_scaled))\n",
        "    ],\n",
        "    'Test Accuracy': [\n",
        "        accuracy_score(y_test, svm_model_best.predict(X_test_scaled)),\n",
        "        accuracy_score(y_test, nn_model_best.predict(X_test_scaled)),\n",
        "        accuracy_score(y_test, xgb_model.predict(X_test_scaled))\n",
        "    ]\n",
        "}\n",
        "\n",
        "# Convert the results into a DataFrame\n",
        "results_df = pd.DataFrame(results)\n",
        "\n",
        "# Plot the comparison\n",
        "results_df.set_index('Model').plot(kind='bar', figsize=(10, 6), color=['skyblue', 'lightgreen'], edgecolor='black')\n",
        "plt.title('Training and Testing Accuracy Comparison of Models')\n",
        "plt.ylabel('Accuracy')\n",
        "plt.xlabel('Models')\n",
        "plt.xticks(rotation=0)\n",
        "plt.ylim(0, 1)  # Set the y-axis limit from 0 to 1 for accuracy\n",
        "plt.show()\n",
        "\n",
        "# Print the results DataFrame\n",
        "print(results_df)\n"
      ]
    },
    {
      "cell_type": "markdown",
      "metadata": {
        "id": "iKUFYIl8kYml"
      },
      "source": []
    },
    {
      "cell_type": "code",
      "execution_count": null,
      "metadata": {
        "colab": {
          "base_uri": "https://localhost:8080/",
          "height": 1000,
          "referenced_widgets": [
            "a8ec48e7dd164a8a8ca850f647cefc7e",
            "262e1f510d73470ea78b5ba5ce6b4dba",
            "9bd62504b63546709f78e016e5ff32f1",
            "d5f90a505a714b52baa28d79b4161047",
            "4bfd3a43314f4929a86e7ab237cb493b",
            "b04cdd6fb3c847679bd1e963dc6daea3",
            "9ad4bfabf1ba4acc94b583bc45133585",
            "bedc19cd3c8c4212bf09527dff1eb5eb",
            "d906eaa55c2f49ef8803cd5368ac1c20",
            "4e7154fc74fa4efb9357e20d27b21e68",
            "5771e4edf921454d8aacf0646fe94a23"
          ]
        },
        "id": "pZD5igN9kZIU",
        "outputId": "f2d0f0f5-1891-4835-e82f-58364857ea39"
      },
      "outputs": [
        {
          "data": {
            "application/vnd.jupyter.widget-view+json": {
              "model_id": "a8ec48e7dd164a8a8ca850f647cefc7e",
              "version_major": 2,
              "version_minor": 0
            },
            "text/plain": [
              "  0%|          | 0/980 [00:00<?, ?it/s]"
            ]
          },
          "metadata": {},
          "output_type": "display_data"
        },
        {
          "data": {
            "image/png": "[encoded data removed]",
            "text/plain": [
              "<Figure size 1150x660 with 2 Axes>"
            ]
          },
          "metadata": {},
          "output_type": "display_data"
        },
        {
          "ename": "DimensionError",
          "evalue": "Length of features is not equal to the length of shap_values!",
          "output_type": "error",
          "traceback": [
            "\u001b[0;31m---------------------------------------------------------------------------\u001b[0m",
            "\u001b[0;31mDimensionError\u001b[0m                            Traceback (most recent call last)",
            "\u001b[0;32m<ipython-input-29-e9f583ccd3cc>\u001b[0m in \u001b[0;36m<cell line: 0>\u001b[0;34m()\u001b[0m\n\u001b[1;32m     21\u001b[0m \u001b[0mX_test_scaled_df\u001b[0m \u001b[0;34m=\u001b[0m \u001b[0mpd\u001b[0m\u001b[0;34m.\u001b[0m\u001b[0mDataFrame\u001b[0m\u001b[0;34m(\u001b[0m\u001b[0mX_test_scaled\u001b[0m\u001b[0;34m,\u001b[0m \u001b[0mcolumns\u001b[0m\u001b[0;34m=\u001b[0m\u001b[0mX\u001b[0m\u001b[0;34m.\u001b[0m\u001b[0mcolumns\u001b[0m\u001b[0;34m)\u001b[0m\u001b[0;34m\u001b[0m\u001b[0;34m\u001b[0m\u001b[0m\n\u001b[1;32m     22\u001b[0m \u001b[0;34m\u001b[0m\u001b[0m\n\u001b[0;32m---> 23\u001b[0;31m shap.force_plot(\n\u001b[0m\u001b[1;32m     24\u001b[0m     \u001b[0mexplainer\u001b[0m\u001b[0;34m.\u001b[0m\u001b[0mexpected_value\u001b[0m\u001b[0;34m[\u001b[0m\u001b[0;36m1\u001b[0m\u001b[0;34m]\u001b[0m\u001b[0;34m,\u001b[0m\u001b[0;34m\u001b[0m\u001b[0;34m\u001b[0m\u001b[0m\n\u001b[1;32m     25\u001b[0m     \u001b[0mshap_values\u001b[0m\u001b[0;34m[\u001b[0m\u001b[0;36m1\u001b[0m\u001b[0;34m]\u001b[0m\u001b[0;34m[\u001b[0m\u001b[0msample_index\u001b[0m\u001b[0;34m,\u001b[0m \u001b[0;34m:\u001b[0m\u001b[0;34m]\u001b[0m\u001b[0;34m,\u001b[0m\u001b[0;34m\u001b[0m\u001b[0;34m\u001b[0m\u001b[0m\n",
            "\u001b[0;32m/usr/local/lib/python3.11/dist-packages/shap/plots/_force.py\u001b[0m in \u001b[0;36mforce\u001b[0;34m(base_value, shap_values, features, feature_names, out_names, link, plot_cmap, matplotlib, show, figsize, ordering_keys, ordering_keys_time_format, text_rotation, contribution_threshold)\u001b[0m\n\u001b[1;32m    179\u001b[0m                     \u001b[0;34m\"as the last column. In this case, just pass the array without the last column.\"\u001b[0m\u001b[0;34m\u001b[0m\u001b[0;34m\u001b[0m\u001b[0m\n\u001b[1;32m    180\u001b[0m                 )\n\u001b[0;32m--> 181\u001b[0;31m             \u001b[0;32mraise\u001b[0m \u001b[0mDimensionError\u001b[0m\u001b[0;34m(\u001b[0m\u001b[0memsg\u001b[0m\u001b[0;34m)\u001b[0m\u001b[0;34m\u001b[0m\u001b[0;34m\u001b[0m\u001b[0m\n\u001b[0m\u001b[1;32m    182\u001b[0m \u001b[0;34m\u001b[0m\u001b[0m\n\u001b[1;32m    183\u001b[0m         \u001b[0minstance\u001b[0m \u001b[0;34m=\u001b[0m \u001b[0mInstance\u001b[0m\u001b[0;34m(\u001b[0m\u001b[0mnp\u001b[0m\u001b[0;34m.\u001b[0m\u001b[0mzeros\u001b[0m\u001b[0;34m(\u001b[0m\u001b[0;34m(\u001b[0m\u001b[0;36m1\u001b[0m\u001b[0;34m,\u001b[0m \u001b[0mlen\u001b[0m\u001b[0;34m(\u001b[0m\u001b[0mfeature_names\u001b[0m\u001b[0;34m)\u001b[0m\u001b[0;34m)\u001b[0m\u001b[0;34m)\u001b[0m\u001b[0;34m,\u001b[0m \u001b[0mfeatures\u001b[0m\u001b[0;34m)\u001b[0m\u001b[0;34m\u001b[0m\u001b[0;34m\u001b[0m\u001b[0m\n",
            "\u001b[0;31mDimensionError\u001b[0m: Length of features is not equal to the length of shap_values!"
          ]
        }
      ],
      "source": [
        "import shap\n",
        "import numpy as np\n",
        "import matplotlib.pyplot as plt\n",
        "\n",
        "# Use k-means to summarize the background data\n",
        "background_data = shap.kmeans(X_train_scaled, 100)\n",
        "# Initialize SHAP explainer with the k-means summarized background data\n",
        "explainer = shap.KernelExplainer(nn_model_best.predict_proba, background_data)\n",
        "\n",
        "# Calculate SHAP values for the test data\n",
        "shap_values = explainer.shap_values(X_test_scaled)\n",
        "\n",
        "# Visualize feature importance (summary plot)\n",
        "shap.summary_plot(shap_values, X_test_scaled, feature_names=X.columns)\n",
        "\n",
        "# Visualize SHAP values for a single prediction (force plot)\n",
        "# Use the correct index for sample data\n",
        "sample_index = 0  # Choose the sample index (adjust as needed)\n",
        "\n",
        "# Ensure X_test_scaled is a pandas DataFrame\n",
        "X_test_scaled_df = pd.DataFrame(X_test_scaled, columns=X.columns)\n",
        "\n",
        "shap.force_plot(\n",
        "    explainer.expected_value[1],\n",
        "    shap_values[1][sample_index, :],\n",
        "    X_test_scaled_df.iloc[sample_index, :],\n",
        "    matplotlib=True\n",
        ")\n",
        "\n",
        "# Feature importance bar plot\n",
        "plt.figure(figsize=(5, 5))\n",
        "shap.summary_plot(shap_values, X_test_scaled, feature_names=X.columns, plot_type=\"bar\")\n"
      ]
    },
    {
      "cell_type": "code",
      "execution_count": null,
      "metadata": {
        "colab": {
          "base_uri": "https://localhost:8080/",
          "height": 766
        },
        "id": "ATwTbIFvvZn8",
        "outputId": "196dae43-8b84-45e0-d9eb-f28f07de265a"
      },
      "outputs": [
        {
          "name": "stdout",
          "output_type": "stream",
          "text": [
            "Collecting lime\n",
            "  Downloading lime-0.2.0.1.tar.gz (275 kB)\n",
            "\u001b[?25l     \u001b[90m━━━━━━━━━━━━━━━━━━━━━━━━━━━━━━━━━━━━━━━━\u001b[0m \u001b[32m0.0/275.7 kB\u001b[0m \u001b[31m?\u001b[0m eta \u001b[36m-:--:--\u001b[0m\r\u001b[2K     \u001b[91m━━━━━━━━━━━━━━━━━━━━━━━━━━━━━━━━━━━━━━\u001b[0m\u001b[91m╸\u001b[0m\u001b[90m━\u001b[0m \u001b[32m266.2/275.7 kB\u001b[0m \u001b[31m9.8 MB/s\u001b[0m eta \u001b[36m0:00:01\u001b[0m\r\u001b[2K     \u001b[90m━━━━━━━━━━━━━━━━━━━━━━━━━━━━━━━━━━━━━━━━\u001b[0m \u001b[32m275.7/275.7 kB\u001b[0m \u001b[31m6.8 MB/s\u001b[0m eta \u001b[36m0:00:00\u001b[0m\n",
            "\u001b[?25h  Preparing metadata (setup.py) ... \u001b[?25l\u001b[?25hdone\n",
            "Requirement already satisfied: matplotlib in /usr/local/lib/python3.11/dist-packages (from lime) (3.10.0)\n",
            "Requirement already satisfied: numpy in /usr/local/lib/python3.11/dist-packages (from lime) (1.26.4)\n",
            "Requirement already satisfied: scipy in /usr/local/lib/python3.11/dist-packages (from lime) (1.13.1)\n",
            "Requirement already satisfied: tqdm in /usr/local/lib/python3.11/dist-packages (from lime) (4.67.1)\n",
            "Requirement already satisfied: scikit-learn>=0.18 in /usr/local/lib/python3.11/dist-packages (from lime) (1.6.1)\n",
            "Requirement already satisfied: scikit-image>=0.12 in /usr/local/lib/python3.11/dist-packages (from lime) (0.25.0)\n",
            "Requirement already satisfied: networkx>=3.0 in /usr/local/lib/python3.11/dist-packages (from scikit-image>=0.12->lime) (3.4.2)\n",
            "Requirement already satisfied: pillow>=10.1 in /usr/local/lib/python3.11/dist-packages (from scikit-image>=0.12->lime) (11.1.0)\n",
            "Requirement already satisfied: imageio!=2.35.0,>=2.33 in /usr/local/lib/python3.11/dist-packages (from scikit-image>=0.12->lime) (2.36.1)\n",
            "Requirement already satisfied: tifffile>=2022.8.12 in /usr/local/lib/python3.11/dist-packages (from scikit-image>=0.12->lime) (2025.1.10)\n",
            "Requirement already satisfied: packaging>=21 in /usr/local/lib/python3.11/dist-packages (from scikit-image>=0.12->lime) (24.2)\n",
            "Requirement already satisfied: lazy-loader>=0.4 in /usr/local/lib/python3.11/dist-packages (from scikit-image>=0.12->lime) (0.4)\n",
            "Requirement already satisfied: joblib>=1.2.0 in /usr/local/lib/python3.11/dist-packages (from scikit-learn>=0.18->lime) (1.4.2)\n",
            "Requirement already satisfied: threadpoolctl>=3.1.0 in /usr/local/lib/python3.11/dist-packages (from scikit-learn>=0.18->lime) (3.5.0)\n",
            "Requirement already satisfied: contourpy>=1.0.1 in /usr/local/lib/python3.11/dist-packages (from matplotlib->lime) (1.3.1)\n",
            "Requirement already satisfied: cycler>=0.10 in /usr/local/lib/python3.11/dist-packages (from matplotlib->lime) (0.12.1)\n",
            "Requirement already satisfied: fonttools>=4.22.0 in /usr/local/lib/python3.11/dist-packages (from matplotlib->lime) (4.55.4)\n",
            "Requirement already satisfied: kiwisolver>=1.3.1 in /usr/local/lib/python3.11/dist-packages (from matplotlib->lime) (1.4.8)\n",
            "Requirement already satisfied: pyparsing>=2.3.1 in /usr/local/lib/python3.11/dist-packages (from matplotlib->lime) (3.2.1)\n",
            "Requirement already satisfied: python-dateutil>=2.7 in /usr/local/lib/python3.11/dist-packages (from matplotlib->lime) (2.8.2)\n",
            "Requirement already satisfied: six>=1.5 in /usr/local/lib/python3.11/dist-packages (from python-dateutil>=2.7->matplotlib->lime) (1.17.0)\n",
            "Building wheels for collected packages: lime\n",
            "  Building wheel for lime (setup.py) ... \u001b[?25l\u001b[?25hdone\n",
            "  Created wheel for lime: filename=lime-0.2.0.1-py3-none-any.whl size=283834 sha256=c5ca80e44af9a491103caa7edb80d9119583f6bbb2fd8618842e3904d24cf4b9\n",
            "  Stored in directory: /root/.cache/pip/wheels/85/fa/a3/9c2d44c9f3cd77cf4e533b58900b2bf4487f2a17e8ec212a3d\n",
            "Successfully built lime\n",
            "Installing collected packages: lime\n",
            "Successfully installed lime-0.2.0.1\n"
          ]
        },
        {
          "ename": "AttributeError",
          "evalue": "'numpy.ndarray' object has no attribute 'values'",
          "output_type": "error",
          "traceback": [
            "\u001b[0;31m---------------------------------------------------------------------------\u001b[0m",
            "\u001b[0;31mAttributeError\u001b[0m                            Traceback (most recent call last)",
            "\u001b[0;32m<ipython-input-75-78d55915e5f7>\u001b[0m in \u001b[0;36m<cell line: 0>\u001b[0;34m()\u001b[0m\n\u001b[1;32m      8\u001b[0m \u001b[0;31m# Initialize the LIME explainer for the neural network model\u001b[0m\u001b[0;34m\u001b[0m\u001b[0;34m\u001b[0m\u001b[0m\n\u001b[1;32m      9\u001b[0m explainer = LimeTabularExplainer(\n\u001b[0;32m---> 10\u001b[0;31m     \u001b[0mtraining_data\u001b[0m\u001b[0;34m=\u001b[0m\u001b[0mX_train_scaled\u001b[0m\u001b[0;34m.\u001b[0m\u001b[0mvalues\u001b[0m\u001b[0;34m,\u001b[0m  \u001b[0;31m# Convert X_train_scaled to NumPy array using .values\u001b[0m\u001b[0;34m\u001b[0m\u001b[0;34m\u001b[0m\u001b[0m\n\u001b[0m\u001b[1;32m     11\u001b[0m     \u001b[0mfeature_names\u001b[0m\u001b[0;34m=\u001b[0m\u001b[0mX\u001b[0m\u001b[0;34m.\u001b[0m\u001b[0mcolumns\u001b[0m\u001b[0;34m,\u001b[0m\u001b[0;34m\u001b[0m\u001b[0;34m\u001b[0m\u001b[0m\n\u001b[1;32m     12\u001b[0m     \u001b[0mclass_names\u001b[0m\u001b[0;34m=\u001b[0m\u001b[0;34m[\u001b[0m\u001b[0;34m'Non-Cancer'\u001b[0m\u001b[0;34m,\u001b[0m \u001b[0;34m'Cancer'\u001b[0m\u001b[0;34m]\u001b[0m\u001b[0;34m,\u001b[0m\u001b[0;34m\u001b[0m\u001b[0;34m\u001b[0m\u001b[0m\n",
            "\u001b[0;31mAttributeError\u001b[0m: 'numpy.ndarray' object has no attribute 'values'"
          ]
        }
      ],
      "source": [
        "# Install the LIME package if not already installed\n",
        "!pip install lime\n",
        "\n",
        "import lime\n",
        "from lime.lime_tabular import LimeTabularExplainer\n",
        "import numpy as np\n",
        "\n",
        "# Initialize the LIME explainer for the neural network model\n",
        "explainer = LimeTabularExplainer(\n",
        "    training_data=X_train_scaled.values,\n",
        "    feature_names=X.columns,\n",
        "    class_names=['Non-Cancer', 'Cancer'],\n",
        "    mode='classification'\n",
        ")\n",
        "\n",
        "# Select a random sample from the test set for explanation\n",
        "sample_index = np.random.randint(0, len(X_test_scaled))\n",
        "sample_data = X_test_scaled.iloc[sample_index]\n",
        "\n",
        "# Convert the sample data to a NumPy array\n",
        "sample_data_array = sample_data.values.reshape(1, -1)\n",
        "\n",
        "# Generate LIME explanation for the selected sample\n",
        "explanation = explainer.explain_instance(\n",
        "    data_row=sample_data_array[0],\n",
        "    predict_fn=nn_model_best.predict_proba\n",
        ")\n",
        "\n",
        "# Visualize the explanation in the notebook\n",
        "explanation.show_in_notebook(show_table=True)\n",
        "\n",
        "# Save the explanation as an HTML file (optional)\n",
        "explanation.save_to_file(\"lime_explanation_neural_network.html\")\n",
        "\n",
        "print(\"LIME explanation saved as 'lime_explanation_neural_network.html'.\")\n"
      ]
    },
    {
      "cell_type": "code",
      "execution_count": null,
      "metadata": {
        "colab": {
          "base_uri": "https://localhost:8080/"
        },
        "id": "WrLAPL-g_geq",
        "outputId": "915b2f1b-ebee-48bf-f2d1-d9af7d471be5"
      },
      "outputs": [
        {
          "name": "stdout",
          "output_type": "stream",
          "text": [
            "Fitting 5 folds for each of 12 candidates, totalling 60 fits\n",
            "\n",
            "Best Parameters for SVM: {'C': 10, 'gamma': 'scale', 'kernel': 'rbf'}\n",
            "\n",
            "Tuned SVM Classification Report on Test Data:\n",
            "              precision    recall  f1-score   support\n",
            "\n",
            "           0       0.73      0.68      0.71       477\n",
            "           1       0.72      0.77      0.74       503\n",
            "\n",
            "    accuracy                           0.72       980\n",
            "   macro avg       0.72      0.72      0.72       980\n",
            "weighted avg       0.72      0.72      0.72       980\n",
            "\n",
            "Tuned SVM ROC-AUC Score on Test Data: 0.79\n",
            "\n",
            "Tuned SVM Classification Report on Training Data:\n",
            "              precision    recall  f1-score   support\n",
            "\n",
            "           0       0.92      0.89      0.90      1156\n",
            "           1       0.89      0.92      0.90      1130\n",
            "\n",
            "    accuracy                           0.90      2286\n",
            "   macro avg       0.90      0.90      0.90      2286\n",
            "weighted avg       0.90      0.90      0.90      2286\n",
            "\n",
            "Tuned SVM ROC-AUC Score on Training Data: 0.96\n",
            "\n",
            "Tuned SVM model saved as 'svm_model_tuned.pkl'.\n"
          ]
        }
      ],
      "source": [
        "#svm old\n",
        "# Define the parameter grid for hyperparameter tuning\n",
        "param_grid = {\n",
        "    'C': [0.1, 1, 10],        # Regularization parameter\n",
        "    'kernel': ['linear', 'rbf'], # Kernel types\n",
        "    'gamma': ['scale', 'auto'],  # Kernel coefficient for 'rbf'\n",
        "}\n",
        "\n",
        "# Perform GridSearchCV for SVM\n",
        "svm_model = SVC(probability=True, random_state=42)\n",
        "grid_search = GridSearchCV(estimator=svm_model, param_grid=param_grid, cv=5, scoring='roc_auc', verbose=1, n_jobs=-1)\n",
        "grid_search.fit(X_train_scaled, y_train)\n",
        "\n",
        "# Best parameters from grid search\n",
        "best_params = grid_search.best_params_\n",
        "print(\"\\nBest Parameters for SVM:\", best_params)\n",
        "\n",
        "# Train the SVM model with the best parameters\n",
        "svm_model_best = grid_search.best_estimator_\n",
        "\n",
        "# Evaluate the tuned SVM Model on Test Data\n",
        "y_pred = svm_model_best.predict(X_test_scaled)\n",
        "y_prob = svm_model_best.predict_proba(X_test_scaled)[:, 1]\n",
        "\n",
        "# Print classification report and ROC-AUC score for the test data\n",
        "print(\"\\nTuned SVM Classification Report on Test Data:\")\n",
        "print(classification_report(y_test, y_pred))\n",
        "print(f\"Tuned SVM ROC-AUC Score on Test Data: {roc_auc_score(y_test, y_prob):.2f}\")\n",
        "\n",
        "# Evaluate the tuned SVM Model on Training Data (Optional for Overfitting Check)\n",
        "y_train_pred = svm_model_best.predict(X_train_scaled)\n",
        "y_train_prob = svm_model_best.predict_proba(X_train_scaled)[:, 1]\n",
        "\n",
        "# Print classification report and ROC-AUC score for the training data\n",
        "print(\"\\nTuned SVM Classification Report on Training Data:\")\n",
        "print(classification_report(y_train, y_train_pred))\n",
        "print(f\"Tuned SVM ROC-AUC Score on Training Data: {roc_auc_score(y_train, y_train_prob):.2f}\")\n",
        "\n",
        "# Save the trained tuned SVM model\n",
        "with open('svm_model_tuned.pkl', 'wb') as file:\n",
        "    pickle.dump(svm_model_best, file)\n",
        "\n",
        "print(\"\\nTuned SVM model saved as 'svm_model_tuned.pkl'.\")"
      ]
    }
  ],
  "metadata": {
    "colab": {
      "provenance": [],
      "include_colab_link": true
    },
    "kernelspec": {
      "display_name": "Python 3",
      "name": "python3"
    },
    "language_info": {
      "name": "python"
    },
    "widgets": {
      "application/vnd.jupyter.widget-state+json": {
        "262e1f510d73470ea78b5ba5ce6b4dba": {
          "model_module": "@jupyter-widgets/controls",
          "model_module_version": "1.5.0",
          "model_name": "HTMLModel",
          "state": {
            "_dom_classes": [],
            "_model_module": "@jupyter-widgets/controls",
            "_model_module_version": "1.5.0",
            "_model_name": "HTMLModel",
            "_view_count": null,
            "_view_module": "@jupyter-widgets/controls",
            "_view_module_version": "1.5.0",
            "_view_name": "HTMLView",
            "description": "",
            "description_tooltip": null,
            "layout": "IPY_MODEL_b04cdd6fb3c847679bd1e963dc6daea3",
            "placeholder": "​",
            "style": "IPY_MODEL_9ad4bfabf1ba4acc94b583bc45133585",
            "value": "100%"
          }
        },
        "4bfd3a43314f4929a86e7ab237cb493b": {
          "model_module": "@jupyter-widgets/base",
          "model_module_version": "1.2.0",
          "model_name": "LayoutModel",
          "state": {
            "_model_module": "@jupyter-widgets/base",
            "_model_module_version": "1.2.0",
            "_model_name": "LayoutModel",
            "_view_count": null,
            "_view_module": "@jupyter-widgets/base",
            "_view_module_version": "1.2.0",
            "_view_name": "LayoutView",
            "align_content": null,
            "align_items": null,
            "align_self": null,
            "border": null,
            "bottom": null,
            "display": null,
            "flex": null,
            "flex_flow": null,
            "grid_area": null,
            "grid_auto_columns": null,
            "grid_auto_flow": null,
            "grid_auto_rows": null,
            "grid_column": null,
            "grid_gap": null,
            "grid_row": null,
            "grid_template_areas": null,
            "grid_template_columns": null,
            "grid_template_rows": null,
            "height": null,
            "justify_content": null,
            "justify_items": null,
            "left": null,
            "margin": null,
            "max_height": null,
            "max_width": null,
            "min_height": null,
            "min_width": null,
            "object_fit": null,
            "object_position": null,
            "order": null,
            "overflow": null,
            "overflow_x": null,
            "overflow_y": null,
            "padding": null,
            "right": null,
            "top": null,
            "visibility": null,
            "width": null
          }
        },
        "4e7154fc74fa4efb9357e20d27b21e68": {
          "model_module": "@jupyter-widgets/base",
          "model_module_version": "1.2.0",
          "model_name": "LayoutModel",
          "state": {
            "_model_module": "@jupyter-widgets/base",
            "_model_module_version": "1.2.0",
            "_model_name": "LayoutModel",
            "_view_count": null,
            "_view_module": "@jupyter-widgets/base",
            "_view_module_version": "1.2.0",
            "_view_name": "LayoutView",
            "align_content": null,
            "align_items": null,
            "align_self": null,
            "border": null,
            "bottom": null,
            "display": null,
            "flex": null,
            "flex_flow": null,
            "grid_area": null,
            "grid_auto_columns": null,
            "grid_auto_flow": null,
            "grid_auto_rows": null,
            "grid_column": null,
            "grid_gap": null,
            "grid_row": null,
            "grid_template_areas": null,
            "grid_template_columns": null,
            "grid_template_rows": null,
            "height": null,
            "justify_content": null,
            "justify_items": null,
            "left": null,
            "margin": null,
            "max_height": null,
            "max_width": null,
            "min_height": null,
            "min_width": null,
            "object_fit": null,
            "object_position": null,
            "order": null,
            "overflow": null,
            "overflow_x": null,
            "overflow_y": null,
            "padding": null,
            "right": null,
            "top": null,
            "visibility": null,
            "width": null
          }
        },
        "5771e4edf921454d8aacf0646fe94a23": {
          "model_module": "@jupyter-widgets/controls",
          "model_module_version": "1.5.0",
          "model_name": "DescriptionStyleModel",
          "state": {
            "_model_module": "@jupyter-widgets/controls",
            "_model_module_version": "1.5.0",
            "_model_name": "DescriptionStyleModel",
            "_view_count": null,
            "_view_module": "@jupyter-widgets/base",
            "_view_module_version": "1.2.0",
            "_view_name": "StyleView",
            "description_width": ""
          }
        },
        "9ad4bfabf1ba4acc94b583bc45133585": {
          "model_module": "@jupyter-widgets/controls",
          "model_module_version": "1.5.0",
          "model_name": "DescriptionStyleModel",
          "state": {
            "_model_module": "@jupyter-widgets/controls",
            "_model_module_version": "1.5.0",
            "_model_name": "DescriptionStyleModel",
            "_view_count": null,
            "_view_module": "@jupyter-widgets/base",
            "_view_module_version": "1.2.0",
            "_view_name": "StyleView",
            "description_width": ""
          }
        },
        "9bd62504b63546709f78e016e5ff32f1": {
          "model_module": "@jupyter-widgets/controls",
          "model_module_version": "1.5.0",
          "model_name": "FloatProgressModel",
          "state": {
            "_dom_classes": [],
            "_model_module": "@jupyter-widgets/controls",
            "_model_module_version": "1.5.0",
            "_model_name": "FloatProgressModel",
            "_view_count": null,
            "_view_module": "@jupyter-widgets/controls",
            "_view_module_version": "1.5.0",
            "_view_name": "ProgressView",
            "bar_style": "success",
            "description": "",
            "description_tooltip": null,
            "layout": "IPY_MODEL_bedc19cd3c8c4212bf09527dff1eb5eb",
            "max": 980,
            "min": 0,
            "orientation": "horizontal",
            "style": "IPY_MODEL_d906eaa55c2f49ef8803cd5368ac1c20",
            "value": 980
          }
        },
        "a8ec48e7dd164a8a8ca850f647cefc7e": {
          "model_module": "@jupyter-widgets/controls",
          "model_module_version": "1.5.0",
          "model_name": "HBoxModel",
          "state": {
            "_dom_classes": [],
            "_model_module": "@jupyter-widgets/controls",
            "_model_module_version": "1.5.0",
            "_model_name": "HBoxModel",
            "_view_count": null,
            "_view_module": "@jupyter-widgets/controls",
            "_view_module_version": "1.5.0",
            "_view_name": "HBoxView",
            "box_style": "",
            "children": [
              "IPY_MODEL_262e1f510d73470ea78b5ba5ce6b4dba",
              "IPY_MODEL_9bd62504b63546709f78e016e5ff32f1",
              "IPY_MODEL_d5f90a505a714b52baa28d79b4161047"
            ],
            "layout": "IPY_MODEL_4bfd3a43314f4929a86e7ab237cb493b"
          }
        },
        "b04cdd6fb3c847679bd1e963dc6daea3": {
          "model_module": "@jupyter-widgets/base",
          "model_module_version": "1.2.0",
          "model_name": "LayoutModel",
          "state": {
            "_model_module": "@jupyter-widgets/base",
            "_model_module_version": "1.2.0",
            "_model_name": "LayoutModel",
            "_view_count": null,
            "_view_module": "@jupyter-widgets/base",
            "_view_module_version": "1.2.0",
            "_view_name": "LayoutView",
            "align_content": null,
            "align_items": null,
            "align_self": null,
            "border": null,
            "bottom": null,
            "display": null,
            "flex": null,
            "flex_flow": null,
            "grid_area": null,
            "grid_auto_columns": null,
            "grid_auto_flow": null,
            "grid_auto_rows": null,
            "grid_column": null,
            "grid_gap": null,
            "grid_row": null,
            "grid_template_areas": null,
            "grid_template_columns": null,
            "grid_template_rows": null,
            "height": null,
            "justify_content": null,
            "justify_items": null,
            "left": null,
            "margin": null,
            "max_height": null,
            "max_width": null,
            "min_height": null,
            "min_width": null,
            "object_fit": null,
            "object_position": null,
            "order": null,
            "overflow": null,
            "overflow_x": null,
            "overflow_y": null,
            "padding": null,
            "right": null,
            "top": null,
            "visibility": null,
            "width": null
          }
        },
        "bedc19cd3c8c4212bf09527dff1eb5eb": {
          "model_module": "@jupyter-widgets/base",
          "model_module_version": "1.2.0",
          "model_name": "LayoutModel",
          "state": {
            "_model_module": "@jupyter-widgets/base",
            "_model_module_version": "1.2.0",
            "_model_name": "LayoutModel",
            "_view_count": null,
            "_view_module": "@jupyter-widgets/base",
            "_view_module_version": "1.2.0",
            "_view_name": "LayoutView",
            "align_content": null,
            "align_items": null,
            "align_self": null,
            "border": null,
            "bottom": null,
            "display": null,
            "flex": null,
            "flex_flow": null,
            "grid_area": null,
            "grid_auto_columns": null,
            "grid_auto_flow": null,
            "grid_auto_rows": null,
            "grid_column": null,
            "grid_gap": null,
            "grid_row": null,
            "grid_template_areas": null,
            "grid_template_columns": null,
            "grid_template_rows": null,
            "height": null,
            "justify_content": null,
            "justify_items": null,
            "left": null,
            "margin": null,
            "max_height": null,
            "max_width": null,
            "min_height": null,
            "min_width": null,
            "object_fit": null,
            "object_position": null,
            "order": null,
            "overflow": null,
            "overflow_x": null,
            "overflow_y": null,
            "padding": null,
            "right": null,
            "top": null,
            "visibility": null,
            "width": null
          }
        },
        "d5f90a505a714b52baa28d79b4161047": {
          "model_module": "@jupyter-widgets/controls",
          "model_module_version": "1.5.0",
          "model_name": "HTMLModel",
          "state": {
            "_dom_classes": [],
            "_model_module": "@jupyter-widgets/controls",
            "_model_module_version": "1.5.0",
            "_model_name": "HTMLModel",
            "_view_count": null,
            "_view_module": "@jupyter-widgets/controls",
            "_view_module_version": "1.5.0",
            "_view_name": "HTMLView",
            "description": "",
            "description_tooltip": null,
            "layout": "IPY_MODEL_4e7154fc74fa4efb9357e20d27b21e68",
            "placeholder": "​",
            "style": "IPY_MODEL_5771e4edf921454d8aacf0646fe94a23",
            "value": " 980/980 [20:32&lt;00:00,  1.11s/it]"
          }
        },
        "d906eaa55c2f49ef8803cd5368ac1c20": {
          "model_module": "@jupyter-widgets/controls",
          "model_module_version": "1.5.0",
          "model_name": "ProgressStyleModel",
          "state": {
            "_model_module": "@jupyter-widgets/controls",
            "_model_module_version": "1.5.0",
            "_model_name": "ProgressStyleModel",
            "_view_count": null,
            "_view_module": "@jupyter-widgets/base",
            "_view_module_version": "1.2.0",
            "_view_name": "StyleView",
            "bar_color": null,
            "description_width": ""
          }
        }
      }
    }
  },
  "nbformat": 4,
  "nbformat_minor": 0
}