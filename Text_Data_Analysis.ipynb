{
  "cells": [
    {
      "cell_type": "markdown",
      "metadata": {
        "id": "view-in-github",
        "colab_type": "text"
      },
      "source": [
        "<a href=\"https://colab.research.google.com/github/tharushaliyanagama/OralCancerEarlyDetection-DSGP/blob/Prediction-of-textual-data-I/Text_Data_Analysis.ipynb\" target=\"_parent\"><img src=\"https://colab.research.google.com/assets/colab-badge.svg\" alt=\"Open In Colab\"/></a>"
      ]
    },
    {
      "cell_type": "markdown",
      "metadata": {
        "id": "PWKt2ukqSy2Z"
      },
      "source": [
        "# ***Dataset Analysis***"
      ]
    },
    {
      "cell_type": "markdown",
      "metadata": {
        "id": "_dUEfxAVgR6d"
      },
      "source": [
        "**1. Import Libraries**"
      ]
    },
    {
      "cell_type": "code",
      "execution_count": null,
      "metadata": {
        "id": "MAC91i2y6AKc"
      },
      "outputs": [],
      "source": [
        "# Import necessary libraries\n",
        "import pandas as pd\n",
        "import numpy as np\n",
        "import seaborn as sns\n",
        "import matplotlib.pyplot as plt\n",
        "from sklearn.model_selection import train_test_split, GridSearchCV, RandomizedSearchCV\n",
        "from sklearn.preprocessing import StandardScaler, OneHotEncoder, LabelEncoder\n",
        "from sklearn.compose import ColumnTransformer\n",
        "from sklearn.impute import SimpleImputer\n",
        "from sklearn.ensemble import RandomForestClassifier\n",
        "from sklearn.linear_model import LogisticRegression\n",
        "from sklearn.svm import SVC\n",
        "from sklearn.neural_network import MLPClassifier\n",
        "from sklearn.metrics import (classification_report, roc_auc_score, accuracy_score, precision_score, recall_score, f1_score)\n",
        "from imblearn.over_sampling import SMOTE\n",
        "from xgboost import XGBClassifier\n",
        "import pickle"
      ]
    },
    {
      "cell_type": "markdown",
      "metadata": {
        "id": "ZJ4I7oWFUrpR"
      },
      "source": [
        "**2. Load and Inspect the Dataset**"
      ]
    },
    {
      "cell_type": "code",
      "execution_count": null,
      "metadata": {
        "colab": {
          "base_uri": "https://localhost:8080/"
        },
        "id": "iEYu5rBfJdOU",
        "outputId": "f195a809-9273-4e55-9614-270a59a99c58"
      },
      "outputs": [
        {
          "output_type": "stream",
          "name": "stdout",
          "text": [
            "Mounted at /content/drive\n"
          ]
        }
      ],
      "source": [
        "from google.colab import drive\n",
        "drive.mount('/content/drive')"
      ]
    },
    {
      "cell_type": "code",
      "execution_count": null,
      "metadata": {
        "id": "-ZyWIf9IKqp-"
      },
      "outputs": [],
      "source": [
        "data = pd.read_csv('/content/drive/MyDrive/DSGP/DatasetNewII_risk.csv')"
      ]
    },
    {
      "cell_type": "code",
      "execution_count": null,
      "metadata": {
        "colab": {
          "base_uri": "https://localhost:8080/"
        },
        "id": "hhg8nrwgSJJm",
        "outputId": "675ab956-4895-43ec-e7bb-6de5c373968b"
      },
      "outputs": [
        {
          "output_type": "stream",
          "name": "stdout",
          "text": [
            "Dataset Info:\n",
            "<class 'pandas.core.frame.DataFrame'>\n",
            "RangeIndex: 2237 entries, 0 to 2236\n",
            "Data columns (total 12 columns):\n",
            " #   Column               Non-Null Count  Dtype  \n",
            "---  ------               --------------  -----  \n",
            " 0   public_id            2237 non-null   int64  \n",
            " 1   lesion_id            2237 non-null   int64  \n",
            " 2   patient_id           2237 non-null   int64  \n",
            " 3   localization         2237 non-null   object \n",
            " 4   larger_size          2237 non-null   float64\n",
            " 5   tobacco_use          2237 non-null   object \n",
            " 6   alcohol_consumption  2237 non-null   object \n",
            " 7   sun_exposure         2237 non-null   object \n",
            " 8   gender               2237 non-null   object \n",
            " 9   skin_color           2237 non-null   object \n",
            " 10  age                  2237 non-null   int64  \n",
            " 11  risk_level           2237 non-null   object \n",
            "dtypes: float64(1), int64(4), object(7)\n",
            "memory usage: 209.8+ KB\n",
            "None\n"
          ]
        }
      ],
      "source": [
        "#Display information\n",
        "print(\"Dataset Info:\")\n",
        "print(data.info())"
      ]
    },
    {
      "cell_type": "code",
      "execution_count": null,
      "metadata": {
        "colab": {
          "base_uri": "https://localhost:8080/"
        },
        "id": "MrNQnwlR2jSn",
        "outputId": "87fbe321-3a26-45f7-a739-88a78daadcca"
      },
      "outputs": [
        {
          "output_type": "stream",
          "name": "stdout",
          "text": [
            "\n",
            "First 5 rows:\n",
            "   public_id  lesion_id  patient_id localization  larger_size tobacco_use  \\\n",
            "0          0         50          48       Tongue          2.0         Yes   \n",
            "1          1         50          48       Tongue          2.0         Yes   \n",
            "2          2         41          39       Tongue          2.5         Yes   \n",
            "3          3         41          39       Tongue          2.5         Yes   \n",
            "4          4         87          81          Lip          1.5      Former   \n",
            "\n",
            "  alcohol_consumption sun_exposure gender skin_color  age   risk_level  \n",
            "0                  No           No      M      Black   76  Medium Risk  \n",
            "1                  No           No      M      Black   86  Medium Risk  \n",
            "2              Former          Yes      M      White   36  Medium Risk  \n",
            "3              Former          Yes      M      White   32  Medium Risk  \n",
            "4                 Yes          Yes      F      White   31  Medium Risk  \n"
          ]
        }
      ],
      "source": [
        "#Load 5 rows\n",
        "print(\"\\nFirst 5 rows:\")\n",
        "print(data.head())"
      ]
    },
    {
      "cell_type": "markdown",
      "metadata": {
        "id": "Ron73mnpW3ru"
      },
      "source": [
        "**3. Understand Numerical Features**"
      ]
    },
    {
      "cell_type": "code",
      "execution_count": null,
      "metadata": {
        "colab": {
          "base_uri": "https://localhost:8080/"
        },
        "id": "XSJCa9PSAoBc",
        "outputId": "d8f26bca-9306-4d33-8736-75e8cb562e11"
      },
      "outputs": [
        {
          "output_type": "stream",
          "name": "stdout",
          "text": [
            "\n",
            "Dropping columns: ['patient_id', 'public_id', 'lesion_id']\n"
          ]
        }
      ],
      "source": [
        "# Remove unnecessary features based on correlation and domain knowledge\n",
        "columns_to_drop = ['patient_id', 'public_id', 'lesion_id']  # Irrelevant for prediction\n",
        "print(f\"\\nDropping columns: {columns_to_drop}\")\n",
        "data = data.drop(columns=columns_to_drop)"
      ]
    },
    {
      "cell_type": "code",
      "execution_count": null,
      "metadata": {
        "colab": {
          "base_uri": "https://localhost:8080/"
        },
        "id": "skRB_AeWN4bA",
        "outputId": "f425a3fe-f247-4830-da1a-dc44d5398c35"
      },
      "outputs": [
        {
          "output_type": "stream",
          "name": "stdout",
          "text": [
            "Numeric Variables:\n",
            "   larger_size  age\n",
            "0          2.0   76\n",
            "1          2.0   86\n",
            "2          2.5   36\n",
            "3          2.5   32\n",
            "4          1.5   31\n"
          ]
        }
      ],
      "source": [
        "# Select numeric variables\n",
        "numeric_columns = data.select_dtypes(include=['int64', 'float64'])\n",
        "\n",
        "# Print numeric variables\n",
        "print(\"Numeric Variables:\")\n",
        "print(numeric_columns.head())"
      ]
    },
    {
      "cell_type": "markdown",
      "metadata": {
        "id": "3IBT_cHKU-7V"
      },
      "source": [
        "**4. Histograms for Numerical Features**"
      ]
    },
    {
      "cell_type": "code",
      "execution_count": null,
      "metadata": {
        "colab": {
          "base_uri": "https://localhost:8080/",
          "height": 957
        },
        "id": "puqDN0Grb-cr",
        "outputId": "89301f95-749d-42a6-fd9c-f8bba4d1351a"
      },
      "outputs": [
        {
          "output_type": "display_data",
          "data": {
            "text/plain": [
              "<Figure size 800x500 with 1 Axes>"
            ],
            "image/png": "[encoded data removed]"
          },
          "metadata": {}
        },
        {
          "output_type": "display_data",
          "data": {
            "text/plain": [
              "<Figure size 800x500 with 1 Axes>"
            ],
            "image/png": "[encoded data removed]"
          },
          "metadata": {}
        }
      ],
      "source": [
        "# Plot histograms for specific numerical variables\n",
        "for column in ['larger_size', 'age']:\n",
        "    if column in data.select_dtypes(include=['number']).columns:\n",
        "        plt.figure(figsize=(8, 5))\n",
        "        sns.histplot(data, x=column, bins=20, color='skyblue', edgecolor='black')\n",
        "        plt.title(f\"Histogram of {column}\")\n",
        "        plt.xlabel(column)\n",
        "        plt.ylabel(\"Frequency\")\n",
        "        plt.grid(axis='y', alpha=0.75)\n",
        "        plt.show()\n"
      ]
    },
    {
      "cell_type": "markdown",
      "metadata": {
        "id": "CyUhsif0XkR-"
      },
      "source": [
        "**5. Box Plot to Identify Outliers**"
      ]
    },
    {
      "cell_type": "code",
      "execution_count": null,
      "metadata": {
        "id": "yxW7dE7KfVz1",
        "colab": {
          "base_uri": "https://localhost:8080/",
          "height": 957
        },
        "outputId": "0c2cbe09-3fdd-4e82-ecec-338d5680bc73"
      },
      "outputs": [
        {
          "output_type": "display_data",
          "data": {
            "text/plain": [
              "<Figure size 800x500 with 1 Axes>"
            ],
            "image/png": "[encoded data removed]"
          },
          "metadata": {}
        },
        {
          "output_type": "display_data",
          "data": {
            "text/plain": [
              "<Figure size 800x500 with 1 Axes>"
            ],
            "image/png": "[encoded data removed]"
          },
          "metadata": {}
        }
      ],
      "source": [
        "# Plot box plots for specific numerical variables to identify outliers\n",
        "for column in ['larger_size', 'age']:\n",
        "    if column in data.select_dtypes(include=['number']).columns:\n",
        "        plt.figure(figsize=(8, 5))\n",
        "        sns.boxplot(data=data, x=column, color='lightcoral')\n",
        "        plt.title(f\"Box Plot of {column}\")\n",
        "        plt.xlabel(column)\n",
        "        plt.grid(axis='y', alpha=0.75)\n",
        "        plt.show()"
      ]
    },
    {
      "cell_type": "markdown",
      "metadata": {
        "id": "LBF6hXdYX1pM"
      },
      "source": [
        "**6. Handle Outliers using IQR method**"
      ]
    },
    {
      "cell_type": "code",
      "execution_count": null,
      "metadata": {
        "id": "pU0sfxMTe-IJ",
        "colab": {
          "base_uri": "https://localhost:8080/"
        },
        "outputId": "311a7586-1b9a-492c-ec89-67a02418a5ca"
      },
      "outputs": [
        {
          "output_type": "stream",
          "name": "stdout",
          "text": [
            "Outliers removed: 2237 remaining rows\n",
            "Number of rows removed: 67\n"
          ]
        }
      ],
      "source": [
        "# Calculate the IQR for the 'larger_size' column\n",
        "Q1 = data['larger_size'].quantile(0.25)  # 25th percentile\n",
        "Q3 = data['larger_size'].quantile(0.75)  # 75th percentile\n",
        "IQR = Q3 - Q1  # Interquartile range\n",
        "\n",
        "# Define the lower and upper bounds for outliers\n",
        "lower_bound = Q1 - 1.5 * IQR\n",
        "upper_bound = Q3 + 1.5 * IQR\n",
        "\n",
        "# Filter the data to exclude outliers\n",
        "filtered_data = data[(data['larger_size'] >= lower_bound) & (data['larger_size'] <= upper_bound)]\n",
        "\n",
        "# Display the number of rows removed\n",
        "removed_rows = len(data) - len(filtered_data)\n",
        "print(f\"Outliers removed: {len(data)} remaining rows\")\n",
        "print(f\"Number of rows removed: {removed_rows}\")"
      ]
    },
    {
      "cell_type": "markdown",
      "metadata": {
        "id": "B8oGmXDMWl_Q"
      },
      "source": [
        "**7. Understand Categorical Features**"
      ]
    },
    {
      "cell_type": "code",
      "execution_count": null,
      "metadata": {
        "id": "30n9qqWFOAmZ",
        "colab": {
          "base_uri": "https://localhost:8080/"
        },
        "outputId": "e80bf378-dc21-4fa5-8a9d-3262cee7fb1a"
      },
      "outputs": [
        {
          "output_type": "stream",
          "name": "stdout",
          "text": [
            "Categorical Variables:\n",
            "  localization tobacco_use alcohol_consumption sun_exposure gender skin_color  \\\n",
            "0       Tongue         Yes                  No           No      M      Black   \n",
            "1       Tongue         Yes                  No           No      M      Black   \n",
            "2       Tongue         Yes              Former          Yes      M      White   \n",
            "3       Tongue         Yes              Former          Yes      M      White   \n",
            "4          Lip      Former                 Yes          Yes      F      White   \n",
            "\n",
            "    risk_level  \n",
            "0  Medium Risk  \n",
            "1  Medium Risk  \n",
            "2  Medium Risk  \n",
            "3  Medium Risk  \n",
            "4  Medium Risk  \n"
          ]
        }
      ],
      "source": [
        "# Select categorical variables\n",
        "categorical_columns = data.select_dtypes(include=['object'])\n",
        "\n",
        "# Print categorical variables\n",
        "print(\"Categorical Variables:\")\n",
        "print(categorical_columns.head())"
      ]
    },
    {
      "cell_type": "markdown",
      "metadata": {
        "id": "oEEruxFvYl47"
      },
      "source": [
        "**8. Unique values of each column**"
      ]
    },
    {
      "cell_type": "code",
      "execution_count": null,
      "metadata": {
        "id": "B6pimpVSFWMy",
        "colab": {
          "base_uri": "https://localhost:8080/"
        },
        "outputId": "593a2843-222d-4644-fcb5-ab2a2a7eeac5"
      },
      "outputs": [
        {
          "output_type": "stream",
          "name": "stdout",
          "text": [
            "Column: localization\n",
            "Unique values before encoding: ['Tongue' 'Lip' 'Floor of mouth' 'Buccal mucosa' 'Palate' 'Gingiva'\n",
            " 'Cheek' 'Gum' 'Buccal Mucosa']\n",
            "Unique values after encoding: [8 6 3 1 7 4 2 5 0]\n",
            "-\n",
            "Column: tobacco_use\n",
            "Unique values before encoding: ['Yes' 'Former' 'No' 'Not informed']\n",
            "Unique values after encoding: [3 0 1 2]\n",
            "-\n",
            "Column: alcohol_consumption\n",
            "Unique values before encoding: ['No' 'Former' 'Yes' 'Not informed']\n",
            "Unique values after encoding: [1 0 3 2]\n",
            "-\n",
            "Column: sun_exposure\n",
            "Unique values before encoding: ['No' 'Yes' 'Not informed']\n",
            "Unique values after encoding: [0 2 1]\n",
            "-\n",
            "Column: gender\n",
            "Unique values before encoding: ['M' 'F']\n",
            "Unique values after encoding: [1 0]\n",
            "-\n",
            "Column: skin_color\n",
            "Unique values before encoding: ['Black' 'White' 'Not informed' 'Brown' 'Asian' 'Hispanic']\n",
            "Unique values after encoding: [1 5 4 2 0 3]\n",
            "-\n",
            "\n",
            "Encoding Criteria for 'age': ['age > 60' → 0, '40 <= age <= 60' → 1, 'age < 40' → 2]\n",
            "Unique values of 'age' after encoding: [2 0 1]\n"
          ]
        }
      ],
      "source": [
        "# Encode categorical variables\n",
        "categorical_columns = data.select_dtypes(include=['object']).columns\n",
        "for column in categorical_columns:\n",
        "    if column != 'risk_level':\n",
        "        print(f\"Column: {column}\")\n",
        "        print(f\"Unique values before encoding: {data[column].unique()}\")\n",
        "\n",
        "        # Apply LabelEncoder\n",
        "        le = LabelEncoder()\n",
        "        data[column] = le.fit_transform(data[column])\n",
        "\n",
        "        print(f\"Unique values after encoding: {data[column].unique()}\")\n",
        "        print(\"-\")\n",
        "\n",
        "# Encode 'age' into groups\n",
        "def age_group(age):\n",
        "    if age < 40:\n",
        "        return 0\n",
        "    elif 40 <= age <= 60:\n",
        "        return 1\n",
        "    else:\n",
        "        return 2\n",
        "\n",
        "data['age'] = data['age'].apply(age_group)\n",
        "\n",
        "print(\"\\nEncoding Criteria for 'age': ['age > 60' → 0, '40 <= age <= 60' → 1, 'age < 40' → 2]\")\n",
        "print(\"Unique values of 'age' after encoding:\", data['age'].unique())"
      ]
    },
    {
      "cell_type": "markdown",
      "metadata": {
        "id": "xmrmBzH1Tp1I"
      },
      "source": [
        "# **Data Cleaning**"
      ]
    },
    {
      "cell_type": "markdown",
      "metadata": {
        "id": "iw9r-UQfY2b4"
      },
      "source": [
        "**9. Handle Missing Values**"
      ]
    },
    {
      "cell_type": "code",
      "execution_count": null,
      "metadata": {
        "id": "gPaCAZQYGKr7",
        "colab": {
          "base_uri": "https://localhost:8080/"
        },
        "outputId": "9323fa0f-33e5-4400-995b-3c7e464754de"
      },
      "outputs": [
        {
          "output_type": "stream",
          "name": "stdout",
          "text": [
            "\n",
            "Checking for missing values:\n",
            "localization           0\n",
            "larger_size            0\n",
            "tobacco_use            0\n",
            "alcohol_consumption    0\n",
            "sun_exposure           0\n",
            "gender                 0\n",
            "skin_color             0\n",
            "age                    0\n",
            "risk_level             0\n",
            "dtype: int64\n"
          ]
        }
      ],
      "source": [
        "# Check for missing values\n",
        "print(\"\\nChecking for missing values:\")\n",
        "print(data.isnull().sum())"
      ]
    },
    {
      "cell_type": "markdown",
      "metadata": {
        "id": "CxELsjKSZBWd"
      },
      "source": [
        "**10. Handle Duplicate Values**"
      ]
    },
    {
      "cell_type": "code",
      "execution_count": null,
      "metadata": {
        "id": "ROIS_DQWGYn7",
        "colab": {
          "base_uri": "https://localhost:8080/"
        },
        "outputId": "4268ccb5-e2d9-40b0-f2a9-671adf393b21"
      },
      "outputs": [
        {
          "output_type": "stream",
          "name": "stdout",
          "text": [
            "\n",
            "Number of duplicate rows before removal: 113\n"
          ]
        }
      ],
      "source": [
        "# Check for duplicate rows\n",
        "print(f\"\\nNumber of duplicate rows before removal: {data.duplicated().sum()}\")"
      ]
    },
    {
      "cell_type": "markdown",
      "metadata": {
        "id": "Ia0vF7D-T2JQ"
      },
      "source": [
        "# **Feature Engineering**"
      ]
    },
    {
      "cell_type": "markdown",
      "metadata": {
        "id": "JzHz8THOZTz9"
      },
      "source": [
        "**11. Label Encoding**"
      ]
    },
    {
      "cell_type": "markdown",
      "metadata": {
        "id": "yqvgJ7K_Vm5L"
      },
      "source": [
        "**12. Map Target Variable**"
      ]
    },
    {
      "cell_type": "code",
      "execution_count": null,
      "metadata": {
        "id": "qkMIuk2j9SA9"
      },
      "outputs": [],
      "source": [
        "# Map risk levels to numerical categories\n",
        "data['risk_level'] = data['risk_level'].map({'Low Risk': 0, 'Medium Risk': 1, 'High Risk': 2})"
      ]
    },
    {
      "cell_type": "code",
      "source": [
        "# Force data type conversion\n",
        "data['risk_level'] = pd.to_numeric(data['risk_level'])"
      ],
      "metadata": {
        "id": "XWUrN1Cq3y7z"
      },
      "execution_count": null,
      "outputs": []
    },
    {
      "cell_type": "markdown",
      "metadata": {
        "id": "pKY9DJdCV5wq"
      },
      "source": [
        "**13. Check Imbalacing of Dataset**"
      ]
    },
    {
      "cell_type": "code",
      "execution_count": null,
      "metadata": {
        "id": "MgyCSoOO1jrE",
        "colab": {
          "base_uri": "https://localhost:8080/"
        },
        "outputId": "eff433d6-533e-4e4d-e374-1c62035d91de"
      },
      "outputs": [
        {
          "output_type": "stream",
          "name": "stdout",
          "text": [
            "\n",
            "Target value distribution:\n",
            "risk_level\n",
            "1    2104\n",
            "0     100\n",
            "2      33\n",
            "Name: count, dtype: int64\n"
          ]
        }
      ],
      "source": [
        "#Analyze Target Imbalance\n",
        "target_column = 'risk_level'\n",
        "print(\"\\nTarget value distribution:\")\n",
        "print(data[target_column].value_counts())"
      ]
    },
    {
      "cell_type": "code",
      "execution_count": null,
      "metadata": {
        "id": "QyG4d3wr3TwB",
        "colab": {
          "base_uri": "https://localhost:8080/",
          "height": 461
        },
        "outputId": "7cd5eff5-4ac3-49db-fe91-b0b14aaf9ac2"
      },
      "outputs": [
        {
          "output_type": "execute_result",
          "data": {
            "text/plain": [
              "<Axes: xlabel='risk_level'>"
            ]
          },
          "metadata": {},
          "execution_count": 18
        },
        {
          "output_type": "display_data",
          "data": {
            "text/plain": [
              "<Figure size 640x480 with 1 Axes>"
            ],
            "image/png": "[encoded data removed]"
          },
          "metadata": {}
        }
      ],
      "source": [
        "#Plot Imbalance dataset\n",
        "data[target_column].value_counts().plot(kind='bar')"
      ]
    },
    {
      "cell_type": "markdown",
      "metadata": {
        "id": "B0Pa2_4fZ-qS"
      },
      "source": [
        "**14. Handle Imbalancing Uning SMOTE**"
      ]
    },
    {
      "cell_type": "code",
      "execution_count": null,
      "metadata": {
        "id": "xx1jqZ7I2GIa",
        "colab": {
          "base_uri": "https://localhost:8080/"
        },
        "outputId": "eae4c9bb-a2f7-44d6-965f-d6dc50a330bd"
      },
      "outputs": [
        {
          "output_type": "stream",
          "name": "stdout",
          "text": [
            "\n",
            "Class distribution after SMOTE:\n",
            "risk_level\n",
            "1    2104\n",
            "0    2104\n",
            "2    2104\n",
            "Name: count, dtype: int64\n"
          ]
        }
      ],
      "source": [
        "# Handle class imbalance using SMOTE\n",
        "X = data.drop(columns=[target_column])\n",
        "y = data[target_column]\n",
        "\n",
        "smote = SMOTE(random_state=42)\n",
        "X_resampled, y_resampled = smote.fit_resample(X, y)\n",
        "\n",
        "print(\"\\nClass distribution after SMOTE:\")\n",
        "print(pd.Series(y_resampled).value_counts())"
      ]
    },
    {
      "cell_type": "code",
      "execution_count": null,
      "metadata": {
        "id": "3AD9iurZ31gH",
        "colab": {
          "base_uri": "https://localhost:8080/",
          "height": 461
        },
        "outputId": "6acd291d-0ffa-4205-aeaf-5489dd8e8301"
      },
      "outputs": [
        {
          "output_type": "execute_result",
          "data": {
            "text/plain": [
              "<Axes: xlabel='risk_level'>"
            ]
          },
          "metadata": {},
          "execution_count": 20
        },
        {
          "output_type": "display_data",
          "data": {
            "text/plain": [
              "<Figure size 640x480 with 1 Axes>"
            ],
            "image/png": "[encoded data removed]"
          },
          "metadata": {}
        }
      ],
      "source": [
        " #Plot the balace dataset\n",
        " pd.Series(y_resampled).value_counts().plot(kind='bar')"
      ]
    },
    {
      "cell_type": "markdown",
      "metadata": {
        "id": "xSgu5PSS9ldx"
      },
      "source": [
        "**15. Correlation Analysis**"
      ]
    },
    {
      "cell_type": "code",
      "execution_count": null,
      "metadata": {
        "id": "eiar0bmM9kM5",
        "colab": {
          "base_uri": "https://localhost:8080/"
        },
        "outputId": "21f3b99b-afac-4a1d-f582-00967b35a999"
      },
      "outputs": [
        {
          "output_type": "stream",
          "name": "stdout",
          "text": [
            "\n",
            "Correlation Analysis:\n",
            "risk_level             1.000000\n",
            "age                    0.214166\n",
            "sun_exposure           0.173942\n",
            "localization           0.153007\n",
            "tobacco_use            0.142543\n",
            "larger_size            0.140687\n",
            "alcohol_consumption    0.127380\n",
            "skin_color             0.080333\n",
            "gender                 0.045322\n",
            "Name: risk_level, dtype: float64\n"
          ]
        }
      ],
      "source": [
        "print(\"\\nCorrelation Analysis:\")\n",
        "correlation_matrix = data.corr()\n",
        "correlation_with_target = correlation_matrix['risk_level'].sort_values(ascending=False)\n",
        "print(correlation_with_target)"
      ]
    },
    {
      "cell_type": "markdown",
      "metadata": {
        "id": "Ooc4yCK_ajb_"
      },
      "source": [
        "**16. Visualization of Correlation values**"
      ]
    },
    {
      "cell_type": "code",
      "execution_count": null,
      "metadata": {
        "id": "R7b91vmy94_u",
        "colab": {
          "base_uri": "https://localhost:8080/",
          "height": 831
        },
        "outputId": "d0647e75-ad03-46a4-96f3-0b359ef278ea"
      },
      "outputs": [
        {
          "output_type": "display_data",
          "data": {
            "text/plain": [
              "<Figure size 1200x800 with 2 Axes>"
            ],
            "image/png": "[encoded data removed]"
          },
          "metadata": {}
        }
      ],
      "source": [
        "# Visualize correlation with a heatmap\n",
        "plt.figure(figsize=(12, 8))\n",
        "sns.heatmap(correlation_matrix, annot=True, cmap='coolwarm', fmt=\".2f\")\n",
        "plt.title(\"Correlation Matrix\")\n",
        "plt.show()"
      ]
    },
    {
      "cell_type": "markdown",
      "metadata": {
        "id": "EmctJ5g2WCVZ"
      },
      "source": [
        "**17. Features Selection**"
      ]
    },
    {
      "cell_type": "markdown",
      "metadata": {
        "id": "4khU2LQAWK9U"
      },
      "source": [
        "**18. Dataset Splitting**"
      ]
    },
    {
      "cell_type": "code",
      "execution_count": null,
      "metadata": {
        "id": "dgWxWaA4eRWz",
        "colab": {
          "base_uri": "https://localhost:8080/"
        },
        "outputId": "d90a36ba-21e1-4681-9807-fee2fdaa99d4"
      },
      "outputs": [
        {
          "output_type": "stream",
          "name": "stdout",
          "text": [
            "\n",
            "Remaining features after dropping unnecessary columns:\n",
            "['localization', 'larger_size', 'tobacco_use', 'alcohol_consumption', 'sun_exposure', 'gender', 'skin_color', 'age', 'risk_level']\n"
          ]
        }
      ],
      "source": [
        "# Print remaining features\n",
        "print(\"\\nRemaining features after dropping unnecessary columns:\")\n",
        "print(list(data.columns))"
      ]
    },
    {
      "cell_type": "code",
      "execution_count": null,
      "metadata": {
        "id": "kBHS_vi6m6W4",
        "colab": {
          "base_uri": "https://localhost:8080/"
        },
        "outputId": "db580a42-bd6d-4db5-fc07-91f90a53ced1"
      },
      "outputs": [
        {
          "output_type": "stream",
          "name": "stdout",
          "text": [
            "Training set size: 4418\n",
            "Test set size: 1894\n"
          ]
        }
      ],
      "source": [
        "X_train, X_test, y_train, y_test = train_test_split(X_resampled, y_resampled, test_size=0.3, random_state=42)\n",
        "\n",
        "print(f\"Training set size: {X_train.shape[0]}\")\n",
        "print(f\"Test set size: {X_test.shape[0]}\")"
      ]
    },
    {
      "cell_type": "code",
      "source": [
        "# Save feature names before scaling (to maintain correct order)\n",
        "feature_names = X_train.columns.tolist()\n",
        "print(feature_names)\n",
        "with open('feature_names.pkl', 'wb') as file:\n",
        "    pickle.dump(feature_names, file)"
      ],
      "metadata": {
        "id": "nPHwsa8tRL7-",
        "colab": {
          "base_uri": "https://localhost:8080/"
        },
        "outputId": "d796109a-83dc-4f5f-9abb-cd059d5699a3"
      },
      "execution_count": null,
      "outputs": [
        {
          "output_type": "stream",
          "name": "stdout",
          "text": [
            "['localization', 'larger_size', 'tobacco_use', 'alcohol_consumption', 'sun_exposure', 'gender', 'skin_color', 'age']\n"
          ]
        }
      ]
    },
    {
      "cell_type": "markdown",
      "metadata": {
        "id": "RWjJ0wmbWP99"
      },
      "source": [
        "**19. Feature Scaling**"
      ]
    },
    {
      "cell_type": "code",
      "execution_count": null,
      "metadata": {
        "id": "eQ_tjA_cD4eZ",
        "colab": {
          "base_uri": "https://localhost:8080/"
        },
        "outputId": "f71b1e31-1682-41b7-bf7b-bb7997ae7d65"
      },
      "outputs": [
        {
          "output_type": "stream",
          "name": "stdout",
          "text": [
            "Data preprocessing completed.\n"
          ]
        }
      ],
      "source": [
        "# Standard Scaling\n",
        "scaler = StandardScaler()\n",
        "X_train_scaled = scaler.fit_transform(X_train)\n",
        "X_test_scaled = scaler.transform(X_test)\n",
        "\n",
        "# Save the scaler to use during predictions\n",
        "with open('scaler.pkl', 'wb') as file:\n",
        "    pickle.dump(scaler, file)\n",
        "\n",
        "print(\"Data preprocessing completed.\")"
      ]
    },
    {
      "cell_type": "markdown",
      "metadata": {
        "id": "7hS_CjaMSNPC"
      },
      "source": [
        "# **SVM Model Training**"
      ]
    },
    {
      "cell_type": "code",
      "execution_count": null,
      "metadata": {
        "id": "qj-bctiIUVg9",
        "colab": {
          "base_uri": "https://localhost:8080/"
        },
        "outputId": "b3b40dbc-f598-40c3-bfe2-764cc9e0fc8f"
      },
      "outputs": [
        {
          "output_type": "stream",
          "name": "stdout",
          "text": [
            "Fitting 5 folds for each of 12 candidates, totalling 60 fits\n",
            "\n",
            "✅ Best SVR Parameters: {'C': 10, 'gamma': 'auto', 'kernel': 'rbf'}\n",
            "\n",
            "🔹 SVR Regression Metrics on Test Data:\n",
            "   🔹 Mean Squared Error (MSE): 0.0277\n",
            "   🔹 R-squared Score (R²): 0.9580\n",
            "\n",
            "🔹 SVR Regression Metrics on Training Data:\n",
            "   🔹 Mean Squared Error (MSE): 0.0162\n",
            "   🔹 R-squared Score (R²): 0.9758\n",
            "\n",
            "🔹 SVR Classification Report on Test Data:\n",
            "              precision    recall  f1-score   support\n",
            "\n",
            "           0       0.96      0.99      0.97       631\n",
            "           1       0.99      0.93      0.96       643\n",
            "           2       0.98      1.00      0.99       620\n",
            "\n",
            "    accuracy                           0.97      1894\n",
            "   macro avg       0.97      0.97      0.97      1894\n",
            "weighted avg       0.97      0.97      0.97      1894\n",
            "\n",
            "\n",
            "🔹 SVR Classification Report on Training Data:\n",
            "              precision    recall  f1-score   support\n",
            "\n",
            "           0       0.98      1.00      0.99      1473\n",
            "           1       1.00      0.96      0.98      1461\n",
            "           2       0.98      1.00      0.99      1484\n",
            "\n",
            "    accuracy                           0.99      4418\n",
            "   macro avg       0.99      0.98      0.98      4418\n",
            "weighted avg       0.99      0.99      0.98      4418\n",
            "\n",
            "\n",
            "✅ SVR model saved as 'svr_model.pkl'.\n"
          ]
        }
      ],
      "source": [
        "import pickle\n",
        "import numpy as np\n",
        "from sklearn.svm import SVR\n",
        "from sklearn.metrics import mean_squared_error, r2_score, classification_report\n",
        "from sklearn.model_selection import GridSearchCV\n",
        "\n",
        "# Load saved feature names\n",
        "with open('feature_names.pkl', 'rb') as file:\n",
        "    feature_names = pickle.load(file)\n",
        "\n",
        "# Define SVR Hyperparameter Grid\n",
        "param_grid_svr = {\n",
        "    'C': [0.1, 1, 10],\n",
        "    'kernel': ['linear', 'rbf'],\n",
        "    'gamma': ['scale', 'auto']\n",
        "}\n",
        "\n",
        "# Initialize SVR Model\n",
        "svr_model = SVR()\n",
        "\n",
        "# Perform Grid Search for Best Parameters\n",
        "grid_search_svr = GridSearchCV(svr_model, param_grid_svr, cv=5, scoring='r2', verbose=1, n_jobs=-1)\n",
        "grid_search_svr.fit(X_train_scaled, y_train)\n",
        "\n",
        "# Retrieve Best SVR Model\n",
        "best_svr = grid_search_svr.best_estimator_\n",
        "print(\"\\n✅ Best SVR Parameters:\", grid_search_svr.best_params_)\n",
        "\n",
        "# Predict on Test Data\n",
        "y_pred_svr = best_svr.predict(X_test_scaled)\n",
        "\n",
        "print(\"\\n🔹 SVR Regression Metrics on Test Data:\")\n",
        "print(f\"   🔹 Mean Squared Error (MSE): {mean_squared_error(y_test, y_pred_svr):.4f}\")\n",
        "print(f\"   🔹 R-squared Score (R²): {r2_score(y_test, y_pred_svr):.4f}\")\n",
        "\n",
        "# Predict on Training Data\n",
        "y_train_pred_svr = best_svr.predict(X_train_scaled)\n",
        "\n",
        "print(\"\\n🔹 SVR Regression Metrics on Training Data:\")\n",
        "print(f\"   🔹 Mean Squared Error (MSE): {mean_squared_error(y_train, y_train_pred_svr):.4f}\")\n",
        "print(f\"   🔹 R-squared Score (R²): {r2_score(y_train, y_train_pred_svr):.4f}\")\n",
        "\n",
        "# Convert Regression Predictions to Categories (Ordinal Classification)\n",
        "def categorize_predictions(y_pred):\n",
        "    return np.round(y_pred).astype(int)  # Rounding to nearest integer (assuming labels 0,1,2)\n",
        "\n",
        "y_test_class = categorize_predictions(y_pred_svr)\n",
        "y_train_class = categorize_predictions(y_train_pred_svr)\n",
        "\n",
        "# Classification Reports\n",
        "print(\"\\n🔹 SVR Classification Report on Test Data:\")\n",
        "print(classification_report(y_test, y_test_class))\n",
        "\n",
        "print(\"\\n🔹 SVR Classification Report on Training Data:\")\n",
        "print(classification_report(y_train, y_train_class))\n",
        "\n",
        "# Save the trained SVR model\n",
        "with open('svr_model.pkl', 'wb') as file:\n",
        "    pickle.dump(best_svr, file)\n",
        "\n",
        "print(\"\\n✅ SVR model saved as 'svr_model.pkl'.\")"
      ]
    },
    {
      "cell_type": "code",
      "source": [
        "pip install tensorflow scikit-learn numpy matplotlib"
      ],
      "metadata": {
        "colab": {
          "base_uri": "https://localhost:8080/"
        },
        "id": "Nbi6VTeF9NwU",
        "outputId": "c3ee8a4a-8da0-425d-a394-07d8c639c55c"
      },
      "execution_count": null,
      "outputs": [
        {
          "output_type": "stream",
          "name": "stdout",
          "text": [
            "Requirement already satisfied: tensorflow in /usr/local/lib/python3.11/dist-packages (2.18.0)\n",
            "Requirement already satisfied: scikit-learn in /usr/local/lib/python3.11/dist-packages (1.6.1)\n",
            "Requirement already satisfied: numpy in /usr/local/lib/python3.11/dist-packages (1.26.4)\n",
            "Requirement already satisfied: matplotlib in /usr/local/lib/python3.11/dist-packages (3.10.0)\n",
            "Requirement already satisfied: absl-py>=1.0.0 in /usr/local/lib/python3.11/dist-packages (from tensorflow) (1.4.0)\n",
            "Requirement already satisfied: astunparse>=1.6.0 in /usr/local/lib/python3.11/dist-packages (from tensorflow) (1.6.3)\n",
            "Requirement already satisfied: flatbuffers>=24.3.25 in /usr/local/lib/python3.11/dist-packages (from tensorflow) (25.1.24)\n",
            "Requirement already satisfied: gast!=0.5.0,!=0.5.1,!=0.5.2,>=0.2.1 in /usr/local/lib/python3.11/dist-packages (from tensorflow) (0.6.0)\n",
            "Requirement already satisfied: google-pasta>=0.1.1 in /usr/local/lib/python3.11/dist-packages (from tensorflow) (0.2.0)\n",
            "Requirement already satisfied: libclang>=13.0.0 in /usr/local/lib/python3.11/dist-packages (from tensorflow) (18.1.1)\n",
            "Requirement already satisfied: opt-einsum>=2.3.2 in /usr/local/lib/python3.11/dist-packages (from tensorflow) (3.4.0)\n",
            "Requirement already satisfied: packaging in /usr/local/lib/python3.11/dist-packages (from tensorflow) (24.2)\n",
            "Requirement already satisfied: protobuf!=4.21.0,!=4.21.1,!=4.21.2,!=4.21.3,!=4.21.4,!=4.21.5,<6.0.0dev,>=3.20.3 in /usr/local/lib/python3.11/dist-packages (from tensorflow) (4.25.6)\n",
            "Requirement already satisfied: requests<3,>=2.21.0 in /usr/local/lib/python3.11/dist-packages (from tensorflow) (2.32.3)\n",
            "Requirement already satisfied: setuptools in /usr/local/lib/python3.11/dist-packages (from tensorflow) (75.1.0)\n",
            "Requirement already satisfied: six>=1.12.0 in /usr/local/lib/python3.11/dist-packages (from tensorflow) (1.17.0)\n",
            "Requirement already satisfied: termcolor>=1.1.0 in /usr/local/lib/python3.11/dist-packages (from tensorflow) (2.5.0)\n",
            "Requirement already satisfied: typing-extensions>=3.6.6 in /usr/local/lib/python3.11/dist-packages (from tensorflow) (4.12.2)\n",
            "Requirement already satisfied: wrapt>=1.11.0 in /usr/local/lib/python3.11/dist-packages (from tensorflow) (1.17.2)\n",
            "Requirement already satisfied: grpcio<2.0,>=1.24.3 in /usr/local/lib/python3.11/dist-packages (from tensorflow) (1.70.0)\n",
            "Requirement already satisfied: tensorboard<2.19,>=2.18 in /usr/local/lib/python3.11/dist-packages (from tensorflow) (2.18.0)\n",
            "Requirement already satisfied: keras>=3.5.0 in /usr/local/lib/python3.11/dist-packages (from tensorflow) (3.8.0)\n",
            "Requirement already satisfied: h5py>=3.11.0 in /usr/local/lib/python3.11/dist-packages (from tensorflow) (3.12.1)\n",
            "Requirement already satisfied: ml-dtypes<0.5.0,>=0.4.0 in /usr/local/lib/python3.11/dist-packages (from tensorflow) (0.4.1)\n",
            "Requirement already satisfied: tensorflow-io-gcs-filesystem>=0.23.1 in /usr/local/lib/python3.11/dist-packages (from tensorflow) (0.37.1)\n",
            "Requirement already satisfied: scipy>=1.6.0 in /usr/local/lib/python3.11/dist-packages (from scikit-learn) (1.13.1)\n",
            "Requirement already satisfied: joblib>=1.2.0 in /usr/local/lib/python3.11/dist-packages (from scikit-learn) (1.4.2)\n",
            "Requirement already satisfied: threadpoolctl>=3.1.0 in /usr/local/lib/python3.11/dist-packages (from scikit-learn) (3.5.0)\n",
            "Requirement already satisfied: contourpy>=1.0.1 in /usr/local/lib/python3.11/dist-packages (from matplotlib) (1.3.1)\n",
            "Requirement already satisfied: cycler>=0.10 in /usr/local/lib/python3.11/dist-packages (from matplotlib) (0.12.1)\n",
            "Requirement already satisfied: fonttools>=4.22.0 in /usr/local/lib/python3.11/dist-packages (from matplotlib) (4.55.8)\n",
            "Requirement already satisfied: kiwisolver>=1.3.1 in /usr/local/lib/python3.11/dist-packages (from matplotlib) (1.4.8)\n",
            "Requirement already satisfied: pillow>=8 in /usr/local/lib/python3.11/dist-packages (from matplotlib) (11.1.0)\n",
            "Requirement already satisfied: pyparsing>=2.3.1 in /usr/local/lib/python3.11/dist-packages (from matplotlib) (3.2.1)\n",
            "Requirement already satisfied: python-dateutil>=2.7 in /usr/local/lib/python3.11/dist-packages (from matplotlib) (2.8.2)\n",
            "Requirement already satisfied: wheel<1.0,>=0.23.0 in /usr/local/lib/python3.11/dist-packages (from astunparse>=1.6.0->tensorflow) (0.45.1)\n",
            "Requirement already satisfied: rich in /usr/local/lib/python3.11/dist-packages (from keras>=3.5.0->tensorflow) (13.9.4)\n",
            "Requirement already satisfied: namex in /usr/local/lib/python3.11/dist-packages (from keras>=3.5.0->tensorflow) (0.0.8)\n",
            "Requirement already satisfied: optree in /usr/local/lib/python3.11/dist-packages (from keras>=3.5.0->tensorflow) (0.14.0)\n",
            "Requirement already satisfied: charset-normalizer<4,>=2 in /usr/local/lib/python3.11/dist-packages (from requests<3,>=2.21.0->tensorflow) (3.4.1)\n",
            "Requirement already satisfied: idna<4,>=2.5 in /usr/local/lib/python3.11/dist-packages (from requests<3,>=2.21.0->tensorflow) (3.10)\n",
            "Requirement already satisfied: urllib3<3,>=1.21.1 in /usr/local/lib/python3.11/dist-packages (from requests<3,>=2.21.0->tensorflow) (2.3.0)\n",
            "Requirement already satisfied: certifi>=2017.4.17 in /usr/local/lib/python3.11/dist-packages (from requests<3,>=2.21.0->tensorflow) (2025.1.31)\n",
            "Requirement already satisfied: markdown>=2.6.8 in /usr/local/lib/python3.11/dist-packages (from tensorboard<2.19,>=2.18->tensorflow) (3.7)\n",
            "Requirement already satisfied: tensorboard-data-server<0.8.0,>=0.7.0 in /usr/local/lib/python3.11/dist-packages (from tensorboard<2.19,>=2.18->tensorflow) (0.7.2)\n",
            "Requirement already satisfied: werkzeug>=1.0.1 in /usr/local/lib/python3.11/dist-packages (from tensorboard<2.19,>=2.18->tensorflow) (3.1.3)\n",
            "Requirement already satisfied: MarkupSafe>=2.1.1 in /usr/local/lib/python3.11/dist-packages (from werkzeug>=1.0.1->tensorboard<2.19,>=2.18->tensorflow) (3.0.2)\n",
            "Requirement already satisfied: markdown-it-py>=2.2.0 in /usr/local/lib/python3.11/dist-packages (from rich->keras>=3.5.0->tensorflow) (3.0.0)\n",
            "Requirement already satisfied: pygments<3.0.0,>=2.13.0 in /usr/local/lib/python3.11/dist-packages (from rich->keras>=3.5.0->tensorflow) (2.18.0)\n",
            "Requirement already satisfied: mdurl~=0.1 in /usr/local/lib/python3.11/dist-packages (from markdown-it-py>=2.2.0->rich->keras>=3.5.0->tensorflow) (0.1.2)\n"
          ]
        }
      ]
    },
    {
      "cell_type": "code",
      "source": [
        "pip install tensorflow"
      ],
      "metadata": {
        "colab": {
          "base_uri": "https://localhost:8080/"
        },
        "id": "xVmySoMZ_6TR",
        "outputId": "50cd7823-5a10-4e57-a7d3-46ad9a15c778"
      },
      "execution_count": null,
      "outputs": [
        {
          "output_type": "stream",
          "name": "stdout",
          "text": [
            "Requirement already satisfied: tensorflow in /usr/local/lib/python3.11/dist-packages (2.18.0)\n",
            "Requirement already satisfied: absl-py>=1.0.0 in /usr/local/lib/python3.11/dist-packages (from tensorflow) (1.4.0)\n",
            "Requirement already satisfied: astunparse>=1.6.0 in /usr/local/lib/python3.11/dist-packages (from tensorflow) (1.6.3)\n",
            "Requirement already satisfied: flatbuffers>=24.3.25 in /usr/local/lib/python3.11/dist-packages (from tensorflow) (25.1.24)\n",
            "Requirement already satisfied: gast!=0.5.0,!=0.5.1,!=0.5.2,>=0.2.1 in /usr/local/lib/python3.11/dist-packages (from tensorflow) (0.6.0)\n",
            "Requirement already satisfied: google-pasta>=0.1.1 in /usr/local/lib/python3.11/dist-packages (from tensorflow) (0.2.0)\n",
            "Requirement already satisfied: libclang>=13.0.0 in /usr/local/lib/python3.11/dist-packages (from tensorflow) (18.1.1)\n",
            "Requirement already satisfied: opt-einsum>=2.3.2 in /usr/local/lib/python3.11/dist-packages (from tensorflow) (3.4.0)\n",
            "Requirement already satisfied: packaging in /usr/local/lib/python3.11/dist-packages (from tensorflow) (24.2)\n",
            "Requirement already satisfied: protobuf!=4.21.0,!=4.21.1,!=4.21.2,!=4.21.3,!=4.21.4,!=4.21.5,<6.0.0dev,>=3.20.3 in /usr/local/lib/python3.11/dist-packages (from tensorflow) (4.25.6)\n",
            "Requirement already satisfied: requests<3,>=2.21.0 in /usr/local/lib/python3.11/dist-packages (from tensorflow) (2.32.3)\n",
            "Requirement already satisfied: setuptools in /usr/local/lib/python3.11/dist-packages (from tensorflow) (75.1.0)\n",
            "Requirement already satisfied: six>=1.12.0 in /usr/local/lib/python3.11/dist-packages (from tensorflow) (1.17.0)\n",
            "Requirement already satisfied: termcolor>=1.1.0 in /usr/local/lib/python3.11/dist-packages (from tensorflow) (2.5.0)\n",
            "Requirement already satisfied: typing-extensions>=3.6.6 in /usr/local/lib/python3.11/dist-packages (from tensorflow) (4.12.2)\n",
            "Requirement already satisfied: wrapt>=1.11.0 in /usr/local/lib/python3.11/dist-packages (from tensorflow) (1.17.2)\n",
            "Requirement already satisfied: grpcio<2.0,>=1.24.3 in /usr/local/lib/python3.11/dist-packages (from tensorflow) (1.70.0)\n",
            "Requirement already satisfied: tensorboard<2.19,>=2.18 in /usr/local/lib/python3.11/dist-packages (from tensorflow) (2.18.0)\n",
            "Requirement already satisfied: keras>=3.5.0 in /usr/local/lib/python3.11/dist-packages (from tensorflow) (3.8.0)\n",
            "Requirement already satisfied: numpy<2.1.0,>=1.26.0 in /usr/local/lib/python3.11/dist-packages (from tensorflow) (1.26.4)\n",
            "Requirement already satisfied: h5py>=3.11.0 in /usr/local/lib/python3.11/dist-packages (from tensorflow) (3.12.1)\n",
            "Requirement already satisfied: ml-dtypes<0.5.0,>=0.4.0 in /usr/local/lib/python3.11/dist-packages (from tensorflow) (0.4.1)\n",
            "Requirement already satisfied: tensorflow-io-gcs-filesystem>=0.23.1 in /usr/local/lib/python3.11/dist-packages (from tensorflow) (0.37.1)\n",
            "Requirement already satisfied: wheel<1.0,>=0.23.0 in /usr/local/lib/python3.11/dist-packages (from astunparse>=1.6.0->tensorflow) (0.45.1)\n",
            "Requirement already satisfied: rich in /usr/local/lib/python3.11/dist-packages (from keras>=3.5.0->tensorflow) (13.9.4)\n",
            "Requirement already satisfied: namex in /usr/local/lib/python3.11/dist-packages (from keras>=3.5.0->tensorflow) (0.0.8)\n",
            "Requirement already satisfied: optree in /usr/local/lib/python3.11/dist-packages (from keras>=3.5.0->tensorflow) (0.14.0)\n",
            "Requirement already satisfied: charset-normalizer<4,>=2 in /usr/local/lib/python3.11/dist-packages (from requests<3,>=2.21.0->tensorflow) (3.4.1)\n",
            "Requirement already satisfied: idna<4,>=2.5 in /usr/local/lib/python3.11/dist-packages (from requests<3,>=2.21.0->tensorflow) (3.10)\n",
            "Requirement already satisfied: urllib3<3,>=1.21.1 in /usr/local/lib/python3.11/dist-packages (from requests<3,>=2.21.0->tensorflow) (2.3.0)\n",
            "Requirement already satisfied: certifi>=2017.4.17 in /usr/local/lib/python3.11/dist-packages (from requests<3,>=2.21.0->tensorflow) (2025.1.31)\n",
            "Requirement already satisfied: markdown>=2.6.8 in /usr/local/lib/python3.11/dist-packages (from tensorboard<2.19,>=2.18->tensorflow) (3.7)\n",
            "Requirement already satisfied: tensorboard-data-server<0.8.0,>=0.7.0 in /usr/local/lib/python3.11/dist-packages (from tensorboard<2.19,>=2.18->tensorflow) (0.7.2)\n",
            "Requirement already satisfied: werkzeug>=1.0.1 in /usr/local/lib/python3.11/dist-packages (from tensorboard<2.19,>=2.18->tensorflow) (3.1.3)\n",
            "Requirement already satisfied: MarkupSafe>=2.1.1 in /usr/local/lib/python3.11/dist-packages (from werkzeug>=1.0.1->tensorboard<2.19,>=2.18->tensorflow) (3.0.2)\n",
            "Requirement already satisfied: markdown-it-py>=2.2.0 in /usr/local/lib/python3.11/dist-packages (from rich->keras>=3.5.0->tensorflow) (3.0.0)\n",
            "Requirement already satisfied: pygments<3.0.0,>=2.13.0 in /usr/local/lib/python3.11/dist-packages (from rich->keras>=3.5.0->tensorflow) (2.18.0)\n",
            "Requirement already satisfied: mdurl~=0.1 in /usr/local/lib/python3.11/dist-packages (from markdown-it-py>=2.2.0->rich->keras>=3.5.0->tensorflow) (0.1.2)\n"
          ]
        }
      ]
    },
    {
      "cell_type": "code",
      "execution_count": null,
      "metadata": {
        "id": "F9pNJm2chpOY",
        "colab": {
          "base_uri": "https://localhost:8080/",
          "height": 1000
        },
        "outputId": "87298f18-bbb9-41f9-c741-0a42012a98b2"
      },
      "outputs": [
        {
          "output_type": "stream",
          "name": "stderr",
          "text": [
            "/usr/local/lib/python3.11/dist-packages/keras/src/layers/core/dense.py:87: UserWarning: Do not pass an `input_shape`/`input_dim` argument to a layer. When using Sequential models, prefer using an `Input(shape)` object as the first layer in the model instead.\n",
            "  super().__init__(activity_regularizer=activity_regularizer, **kwargs)\n"
          ]
        },
        {
          "output_type": "stream",
          "name": "stdout",
          "text": [
            "Epoch 1/100\n",
            "\u001b[1m125/125\u001b[0m \u001b[32m━━━━━━━━━━━━━━━━━━━━\u001b[0m\u001b[37m\u001b[0m \u001b[1m6s\u001b[0m 12ms/step - accuracy: 0.7215 - loss: 0.7289 - val_accuracy: 0.9480 - val_loss: 0.1675\n",
            "Epoch 2/100\n",
            "\u001b[1m125/125\u001b[0m \u001b[32m━━━━━━━━━━━━━━━━━━━━\u001b[0m\u001b[37m\u001b[0m \u001b[1m2s\u001b[0m 7ms/step - accuracy: 0.9019 - loss: 0.2561 - val_accuracy: 0.9615 - val_loss: 0.1215\n",
            "Epoch 3/100\n",
            "\u001b[1m125/125\u001b[0m \u001b[32m━━━━━━━━━━━━━━━━━━━━\u001b[0m\u001b[37m\u001b[0m \u001b[1m1s\u001b[0m 6ms/step - accuracy: 0.9356 - loss: 0.1818 - val_accuracy: 0.9661 - val_loss: 0.1031\n",
            "Epoch 4/100\n",
            "\u001b[1m125/125\u001b[0m \u001b[32m━━━━━━━━━━━━━━━━━━━━\u001b[0m\u001b[37m\u001b[0m \u001b[1m1s\u001b[0m 7ms/step - accuracy: 0.9499 - loss: 0.1491 - val_accuracy: 0.9729 - val_loss: 0.0797\n",
            "Epoch 5/100\n",
            "\u001b[1m125/125\u001b[0m \u001b[32m━━━━━━━━━━━━━━━━━━━━\u001b[0m\u001b[37m\u001b[0m \u001b[1m2s\u001b[0m 10ms/step - accuracy: 0.9536 - loss: 0.1420 - val_accuracy: 0.9796 - val_loss: 0.0718\n",
            "Epoch 6/100\n",
            "\u001b[1m125/125\u001b[0m \u001b[32m━━━━━━━━━━━━━━━━━━━━\u001b[0m\u001b[37m\u001b[0m \u001b[1m2s\u001b[0m 10ms/step - accuracy: 0.9601 - loss: 0.1262 - val_accuracy: 0.9774 - val_loss: 0.0687\n",
            "Epoch 7/100\n",
            "\u001b[1m125/125\u001b[0m \u001b[32m━━━━━━━━━━━━━━━━━━━━\u001b[0m\u001b[37m\u001b[0m \u001b[1m2s\u001b[0m 7ms/step - accuracy: 0.9664 - loss: 0.1017 - val_accuracy: 0.9774 - val_loss: 0.0685\n",
            "Epoch 8/100\n",
            "\u001b[1m125/125\u001b[0m \u001b[32m━━━━━━━━━━━━━━━━━━━━\u001b[0m\u001b[37m\u001b[0m \u001b[1m1s\u001b[0m 6ms/step - accuracy: 0.9614 - loss: 0.1113 - val_accuracy: 0.9751 - val_loss: 0.0693\n",
            "Epoch 9/100\n",
            "\u001b[1m125/125\u001b[0m \u001b[32m━━━━━━━━━━━━━━━━━━━━\u001b[0m\u001b[37m\u001b[0m \u001b[1m1s\u001b[0m 6ms/step - accuracy: 0.9710 - loss: 0.0867 - val_accuracy: 0.9751 - val_loss: 0.0596\n",
            "Epoch 10/100\n",
            "\u001b[1m125/125\u001b[0m \u001b[32m━━━━━━━━━━━━━━━━━━━━\u001b[0m\u001b[37m\u001b[0m \u001b[1m2s\u001b[0m 8ms/step - accuracy: 0.9716 - loss: 0.0861 - val_accuracy: 0.9796 - val_loss: 0.0565\n",
            "Epoch 11/100\n",
            "\u001b[1m125/125\u001b[0m \u001b[32m━━━━━━━━━━━━━━━━━━━━\u001b[0m\u001b[37m\u001b[0m \u001b[1m1s\u001b[0m 9ms/step - accuracy: 0.9656 - loss: 0.1003 - val_accuracy: 0.9819 - val_loss: 0.0572\n",
            "Epoch 12/100\n",
            "\u001b[1m125/125\u001b[0m \u001b[32m━━━━━━━━━━━━━━━━━━━━\u001b[0m\u001b[37m\u001b[0m \u001b[1m1s\u001b[0m 9ms/step - accuracy: 0.9705 - loss: 0.0942 - val_accuracy: 0.9774 - val_loss: 0.0639\n",
            "Epoch 13/100\n",
            "\u001b[1m125/125\u001b[0m \u001b[32m━━━━━━━━━━━━━━━━━━━━\u001b[0m\u001b[37m\u001b[0m \u001b[1m1s\u001b[0m 11ms/step - accuracy: 0.9679 - loss: 0.0960 - val_accuracy: 0.9796 - val_loss: 0.0605\n",
            "Epoch 14/100\n",
            "\u001b[1m125/125\u001b[0m \u001b[32m━━━━━━━━━━━━━━━━━━━━\u001b[0m\u001b[37m\u001b[0m \u001b[1m3s\u001b[0m 14ms/step - accuracy: 0.9757 - loss: 0.0802 - val_accuracy: 0.9819 - val_loss: 0.0585\n",
            "Epoch 15/100\n",
            "\u001b[1m125/125\u001b[0m \u001b[32m━━━━━━━━━━━━━━━━━━━━\u001b[0m\u001b[37m\u001b[0m \u001b[1m2s\u001b[0m 12ms/step - accuracy: 0.9811 - loss: 0.0612 - val_accuracy: 0.9819 - val_loss: 0.0720\n",
            "Epoch 16/100\n",
            "\u001b[1m125/125\u001b[0m \u001b[32m━━━━━━━━━━━━━━━━━━━━\u001b[0m\u001b[37m\u001b[0m \u001b[1m2s\u001b[0m 12ms/step - accuracy: 0.9750 - loss: 0.0765 - val_accuracy: 0.9819 - val_loss: 0.0578\n",
            "Epoch 17/100\n",
            "\u001b[1m125/125\u001b[0m \u001b[32m━━━━━━━━━━━━━━━━━━━━\u001b[0m\u001b[37m\u001b[0m \u001b[1m1s\u001b[0m 7ms/step - accuracy: 0.9731 - loss: 0.0858 - val_accuracy: 0.9842 - val_loss: 0.0547\n",
            "Epoch 18/100\n",
            "\u001b[1m125/125\u001b[0m \u001b[32m━━━━━━━━━━━━━━━━━━━━\u001b[0m\u001b[37m\u001b[0m \u001b[1m2s\u001b[0m 9ms/step - accuracy: 0.9815 - loss: 0.0591 - val_accuracy: 0.9842 - val_loss: 0.0585\n",
            "Epoch 19/100\n",
            "\u001b[1m125/125\u001b[0m \u001b[32m━━━━━━━━━━━━━━━━━━━━\u001b[0m\u001b[37m\u001b[0m \u001b[1m1s\u001b[0m 11ms/step - accuracy: 0.9788 - loss: 0.0695 - val_accuracy: 0.9842 - val_loss: 0.0572\n",
            "Epoch 20/100\n",
            "\u001b[1m125/125\u001b[0m \u001b[32m━━━━━━━━━━━━━━━━━━━━\u001b[0m\u001b[37m\u001b[0m \u001b[1m1s\u001b[0m 9ms/step - accuracy: 0.9711 - loss: 0.0799 - val_accuracy: 0.9819 - val_loss: 0.0530\n",
            "Epoch 21/100\n",
            "\u001b[1m125/125\u001b[0m \u001b[32m━━━━━━━━━━━━━━━━━━━━\u001b[0m\u001b[37m\u001b[0m \u001b[1m1s\u001b[0m 10ms/step - accuracy: 0.9742 - loss: 0.0670 - val_accuracy: 0.9842 - val_loss: 0.0579\n",
            "Epoch 22/100\n",
            "\u001b[1m125/125\u001b[0m \u001b[32m━━━━━━━━━━━━━━━━━━━━\u001b[0m\u001b[37m\u001b[0m \u001b[1m0s\u001b[0m 3ms/step - accuracy: 0.9836 - loss: 0.0599 - val_accuracy: 0.9842 - val_loss: 0.0590\n",
            "Epoch 23/100\n",
            "\u001b[1m125/125\u001b[0m \u001b[32m━━━━━━━━━━━━━━━━━━━━\u001b[0m\u001b[37m\u001b[0m \u001b[1m1s\u001b[0m 4ms/step - accuracy: 0.9762 - loss: 0.0725 - val_accuracy: 0.9842 - val_loss: 0.0576\n",
            "Epoch 24/100\n",
            "\u001b[1m125/125\u001b[0m \u001b[32m━━━━━━━━━━━━━━━━━━━━\u001b[0m\u001b[37m\u001b[0m \u001b[1m1s\u001b[0m 4ms/step - accuracy: 0.9817 - loss: 0.0607 - val_accuracy: 0.9842 - val_loss: 0.0525\n",
            "Epoch 25/100\n",
            "\u001b[1m125/125\u001b[0m \u001b[32m━━━━━━━━━━━━━━━━━━━━\u001b[0m\u001b[37m\u001b[0m \u001b[1m1s\u001b[0m 3ms/step - accuracy: 0.9853 - loss: 0.0546 - val_accuracy: 0.9819 - val_loss: 0.0531\n",
            "Epoch 26/100\n",
            "\u001b[1m125/125\u001b[0m \u001b[32m━━━━━━━━━━━━━━━━━━━━\u001b[0m\u001b[37m\u001b[0m \u001b[1m0s\u001b[0m 4ms/step - accuracy: 0.9794 - loss: 0.0639 - val_accuracy: 0.9842 - val_loss: 0.0508\n",
            "Epoch 27/100\n",
            "\u001b[1m125/125\u001b[0m \u001b[32m━━━━━━━━━━━━━━━━━━━━\u001b[0m\u001b[37m\u001b[0m \u001b[1m0s\u001b[0m 4ms/step - accuracy: 0.9817 - loss: 0.0604 - val_accuracy: 0.9819 - val_loss: 0.0540\n",
            "Epoch 28/100\n",
            "\u001b[1m125/125\u001b[0m \u001b[32m━━━━━━━━━━━━━━━━━━━━\u001b[0m\u001b[37m\u001b[0m \u001b[1m1s\u001b[0m 6ms/step - accuracy: 0.9843 - loss: 0.0510 - val_accuracy: 0.9842 - val_loss: 0.0543\n",
            "Epoch 29/100\n",
            "\u001b[1m125/125\u001b[0m \u001b[32m━━━━━━━━━━━━━━━━━━━━\u001b[0m\u001b[37m\u001b[0m \u001b[1m1s\u001b[0m 6ms/step - accuracy: 0.9812 - loss: 0.0654 - val_accuracy: 0.9842 - val_loss: 0.0541\n",
            "Epoch 30/100\n",
            "\u001b[1m125/125\u001b[0m \u001b[32m━━━━━━━━━━━━━━━━━━━━\u001b[0m\u001b[37m\u001b[0m \u001b[1m1s\u001b[0m 7ms/step - accuracy: 0.9843 - loss: 0.0448 - val_accuracy: 0.9864 - val_loss: 0.0511\n",
            "Epoch 31/100\n",
            "\u001b[1m125/125\u001b[0m \u001b[32m━━━━━━━━━━━━━━━━━━━━\u001b[0m\u001b[37m\u001b[0m \u001b[1m1s\u001b[0m 4ms/step - accuracy: 0.9795 - loss: 0.0704 - val_accuracy: 0.9842 - val_loss: 0.0481\n",
            "Epoch 32/100\n",
            "\u001b[1m125/125\u001b[0m \u001b[32m━━━━━━━━━━━━━━━━━━━━\u001b[0m\u001b[37m\u001b[0m \u001b[1m1s\u001b[0m 4ms/step - accuracy: 0.9830 - loss: 0.0492 - val_accuracy: 0.9819 - val_loss: 0.0569\n",
            "Epoch 33/100\n",
            "\u001b[1m125/125\u001b[0m \u001b[32m━━━━━━━━━━━━━━━━━━━━\u001b[0m\u001b[37m\u001b[0m \u001b[1m0s\u001b[0m 4ms/step - accuracy: 0.9830 - loss: 0.0468 - val_accuracy: 0.9842 - val_loss: 0.0549\n",
            "Epoch 34/100\n",
            "\u001b[1m125/125\u001b[0m \u001b[32m━━━━━━━━━━━━━━━━━━━━\u001b[0m\u001b[37m\u001b[0m \u001b[1m0s\u001b[0m 4ms/step - accuracy: 0.9881 - loss: 0.0423 - val_accuracy: 0.9842 - val_loss: 0.0560\n",
            "Epoch 35/100\n",
            "\u001b[1m125/125\u001b[0m \u001b[32m━━━━━━━━━━━━━━━━━━━━\u001b[0m\u001b[37m\u001b[0m \u001b[1m1s\u001b[0m 4ms/step - accuracy: 0.9823 - loss: 0.0504 - val_accuracy: 0.9842 - val_loss: 0.0523\n",
            "Epoch 36/100\n",
            "\u001b[1m125/125\u001b[0m \u001b[32m━━━━━━━━━━━━━━━━━━━━\u001b[0m\u001b[37m\u001b[0m \u001b[1m0s\u001b[0m 3ms/step - accuracy: 0.9854 - loss: 0.0495 - val_accuracy: 0.9864 - val_loss: 0.0538\n",
            "Epoch 37/100\n",
            "\u001b[1m125/125\u001b[0m \u001b[32m━━━━━━━━━━━━━━━━━━━━\u001b[0m\u001b[37m\u001b[0m \u001b[1m1s\u001b[0m 4ms/step - accuracy: 0.9846 - loss: 0.0526 - val_accuracy: 0.9842 - val_loss: 0.0556\n",
            "Epoch 38/100\n",
            "\u001b[1m125/125\u001b[0m \u001b[32m━━━━━━━━━━━━━━━━━━━━\u001b[0m\u001b[37m\u001b[0m \u001b[1m1s\u001b[0m 4ms/step - accuracy: 0.9857 - loss: 0.0465 - val_accuracy: 0.9842 - val_loss: 0.0532\n",
            "Epoch 39/100\n",
            "\u001b[1m125/125\u001b[0m \u001b[32m━━━━━━━━━━━━━━━━━━━━\u001b[0m\u001b[37m\u001b[0m \u001b[1m1s\u001b[0m 4ms/step - accuracy: 0.9876 - loss: 0.0400 - val_accuracy: 0.9842 - val_loss: 0.0462\n",
            "Epoch 40/100\n",
            "\u001b[1m125/125\u001b[0m \u001b[32m━━━━━━━━━━━━━━━━━━━━\u001b[0m\u001b[37m\u001b[0m \u001b[1m1s\u001b[0m 4ms/step - accuracy: 0.9872 - loss: 0.0425 - val_accuracy: 0.9864 - val_loss: 0.0530\n",
            "Epoch 41/100\n",
            "\u001b[1m125/125\u001b[0m \u001b[32m━━━━━━━━━━━━━━━━━━━━\u001b[0m\u001b[37m\u001b[0m \u001b[1m1s\u001b[0m 4ms/step - accuracy: 0.9862 - loss: 0.0465 - val_accuracy: 0.9842 - val_loss: 0.0579\n",
            "Epoch 42/100\n",
            "\u001b[1m125/125\u001b[0m \u001b[32m━━━━━━━━━━━━━━━━━━━━\u001b[0m\u001b[37m\u001b[0m \u001b[1m1s\u001b[0m 4ms/step - accuracy: 0.9823 - loss: 0.0519 - val_accuracy: 0.9842 - val_loss: 0.0547\n",
            "Epoch 43/100\n",
            "\u001b[1m125/125\u001b[0m \u001b[32m━━━━━━━━━━━━━━━━━━━━\u001b[0m\u001b[37m\u001b[0m \u001b[1m0s\u001b[0m 4ms/step - accuracy: 0.9872 - loss: 0.0404 - val_accuracy: 0.9864 - val_loss: 0.0527\n",
            "Epoch 44/100\n",
            "\u001b[1m125/125\u001b[0m \u001b[32m━━━━━━━━━━━━━━━━━━━━\u001b[0m\u001b[37m\u001b[0m \u001b[1m1s\u001b[0m 4ms/step - accuracy: 0.9883 - loss: 0.0408 - val_accuracy: 0.9842 - val_loss: 0.0538\n",
            "Epoch 45/100\n",
            "\u001b[1m125/125\u001b[0m \u001b[32m━━━━━━━━━━━━━━━━━━━━\u001b[0m\u001b[37m\u001b[0m \u001b[1m0s\u001b[0m 4ms/step - accuracy: 0.9823 - loss: 0.0462 - val_accuracy: 0.9864 - val_loss: 0.0566\n",
            "Epoch 46/100\n",
            "\u001b[1m125/125\u001b[0m \u001b[32m━━━━━━━━━━━━━━━━━━━━\u001b[0m\u001b[37m\u001b[0m \u001b[1m1s\u001b[0m 4ms/step - accuracy: 0.9850 - loss: 0.0431 - val_accuracy: 0.9864 - val_loss: 0.0570\n",
            "Epoch 47/100\n",
            "\u001b[1m125/125\u001b[0m \u001b[32m━━━━━━━━━━━━━━━━━━━━\u001b[0m\u001b[37m\u001b[0m \u001b[1m1s\u001b[0m 4ms/step - accuracy: 0.9836 - loss: 0.0503 - val_accuracy: 0.9842 - val_loss: 0.0493\n",
            "Epoch 48/100\n",
            "\u001b[1m125/125\u001b[0m \u001b[32m━━━━━━━━━━━━━━━━━━━━\u001b[0m\u001b[37m\u001b[0m \u001b[1m0s\u001b[0m 3ms/step - accuracy: 0.9856 - loss: 0.0464 - val_accuracy: 0.9864 - val_loss: 0.0590\n",
            "Epoch 49/100\n",
            "\u001b[1m125/125\u001b[0m \u001b[32m━━━━━━━━━━━━━━━━━━━━\u001b[0m\u001b[37m\u001b[0m \u001b[1m1s\u001b[0m 4ms/step - accuracy: 0.9885 - loss: 0.0348 - val_accuracy: 0.9887 - val_loss: 0.0526\n",
            "Epoch 50/100\n",
            "\u001b[1m125/125\u001b[0m \u001b[32m━━━━━━━━━━━━━━━━━━━━\u001b[0m\u001b[37m\u001b[0m \u001b[1m1s\u001b[0m 6ms/step - accuracy: 0.9840 - loss: 0.0458 - val_accuracy: 0.9842 - val_loss: 0.0525\n",
            "Epoch 51/100\n",
            "\u001b[1m125/125\u001b[0m \u001b[32m━━━━━━━━━━━━━━━━━━━━\u001b[0m\u001b[37m\u001b[0m \u001b[1m1s\u001b[0m 6ms/step - accuracy: 0.9889 - loss: 0.0311 - val_accuracy: 0.9842 - val_loss: 0.0553\n",
            "Epoch 52/100\n",
            "\u001b[1m125/125\u001b[0m \u001b[32m━━━━━━━━━━━━━━━━━━━━\u001b[0m\u001b[37m\u001b[0m \u001b[1m1s\u001b[0m 6ms/step - accuracy: 0.9898 - loss: 0.0350 - val_accuracy: 0.9864 - val_loss: 0.0555\n",
            "Epoch 53/100\n",
            "\u001b[1m125/125\u001b[0m \u001b[32m━━━━━━━━━━━━━━━━━━━━\u001b[0m\u001b[37m\u001b[0m \u001b[1m1s\u001b[0m 4ms/step - accuracy: 0.9907 - loss: 0.0284 - val_accuracy: 0.9842 - val_loss: 0.0613\n",
            "Epoch 54/100\n",
            "\u001b[1m125/125\u001b[0m \u001b[32m━━━━━━━━━━━━━━━━━━━━\u001b[0m\u001b[37m\u001b[0m \u001b[1m0s\u001b[0m 4ms/step - accuracy: 0.9890 - loss: 0.0376 - val_accuracy: 0.9842 - val_loss: 0.0595\n",
            "Epoch 55/100\n",
            "\u001b[1m125/125\u001b[0m \u001b[32m━━━━━━━━━━━━━━━━━━━━\u001b[0m\u001b[37m\u001b[0m \u001b[1m1s\u001b[0m 4ms/step - accuracy: 0.9868 - loss: 0.0364 - val_accuracy: 0.9864 - val_loss: 0.0532\n",
            "Epoch 56/100\n",
            "\u001b[1m125/125\u001b[0m \u001b[32m━━━━━━━━━━━━━━━━━━━━\u001b[0m\u001b[37m\u001b[0m \u001b[1m1s\u001b[0m 4ms/step - accuracy: 0.9874 - loss: 0.0455 - val_accuracy: 0.9842 - val_loss: 0.0624\n",
            "Epoch 57/100\n",
            "\u001b[1m125/125\u001b[0m \u001b[32m━━━━━━━━━━━━━━━━━━━━\u001b[0m\u001b[37m\u001b[0m \u001b[1m0s\u001b[0m 4ms/step - accuracy: 0.9889 - loss: 0.0342 - val_accuracy: 0.9842 - val_loss: 0.0580\n",
            "Epoch 58/100\n",
            "\u001b[1m125/125\u001b[0m \u001b[32m━━━━━━━━━━━━━━━━━━━━\u001b[0m\u001b[37m\u001b[0m \u001b[1m0s\u001b[0m 4ms/step - accuracy: 0.9829 - loss: 0.0409 - val_accuracy: 0.9842 - val_loss: 0.0588\n",
            "Epoch 59/100\n",
            "\u001b[1m125/125\u001b[0m \u001b[32m━━━━━━━━━━━━━━━━━━━━\u001b[0m\u001b[37m\u001b[0m \u001b[1m0s\u001b[0m 4ms/step - accuracy: 0.9847 - loss: 0.0381 - val_accuracy: 0.9842 - val_loss: 0.0607\n",
            "Epoch 60/100\n",
            "\u001b[1m125/125\u001b[0m \u001b[32m━━━━━━━━━━━━━━━━━━━━\u001b[0m\u001b[37m\u001b[0m \u001b[1m1s\u001b[0m 4ms/step - accuracy: 0.9897 - loss: 0.0288 - val_accuracy: 0.9842 - val_loss: 0.0515\n",
            "Epoch 61/100\n",
            "\u001b[1m125/125\u001b[0m \u001b[32m━━━━━━━━━━━━━━━━━━━━\u001b[0m\u001b[37m\u001b[0m \u001b[1m1s\u001b[0m 4ms/step - accuracy: 0.9881 - loss: 0.0348 - val_accuracy: 0.9864 - val_loss: 0.0586\n",
            "Epoch 62/100\n",
            "\u001b[1m125/125\u001b[0m \u001b[32m━━━━━━━━━━━━━━━━━━━━\u001b[0m\u001b[37m\u001b[0m \u001b[1m1s\u001b[0m 4ms/step - accuracy: 0.9857 - loss: 0.0490 - val_accuracy: 0.9842 - val_loss: 0.0454\n",
            "Epoch 63/100\n",
            "\u001b[1m125/125\u001b[0m \u001b[32m━━━━━━━━━━━━━━━━━━━━\u001b[0m\u001b[37m\u001b[0m \u001b[1m1s\u001b[0m 4ms/step - accuracy: 0.9882 - loss: 0.0348 - val_accuracy: 0.9842 - val_loss: 0.0570\n",
            "Epoch 64/100\n",
            "\u001b[1m125/125\u001b[0m \u001b[32m━━━━━━━━━━━━━━━━━━━━\u001b[0m\u001b[37m\u001b[0m \u001b[1m1s\u001b[0m 4ms/step - accuracy: 0.9898 - loss: 0.0277 - val_accuracy: 0.9864 - val_loss: 0.0573\n",
            "Epoch 65/100\n",
            "\u001b[1m125/125\u001b[0m \u001b[32m━━━━━━━━━━━━━━━━━━━━\u001b[0m\u001b[37m\u001b[0m \u001b[1m1s\u001b[0m 4ms/step - accuracy: 0.9852 - loss: 0.0427 - val_accuracy: 0.9864 - val_loss: 0.0625\n",
            "Epoch 66/100\n",
            "\u001b[1m125/125\u001b[0m \u001b[32m━━━━━━━━━━━━━━━━━━━━\u001b[0m\u001b[37m\u001b[0m \u001b[1m0s\u001b[0m 4ms/step - accuracy: 0.9869 - loss: 0.0376 - val_accuracy: 0.9864 - val_loss: 0.0577\n",
            "Epoch 67/100\n",
            "\u001b[1m125/125\u001b[0m \u001b[32m━━━━━━━━━━━━━━━━━━━━\u001b[0m\u001b[37m\u001b[0m \u001b[1m1s\u001b[0m 4ms/step - accuracy: 0.9860 - loss: 0.0334 - val_accuracy: 0.9842 - val_loss: 0.0539\n",
            "Epoch 68/100\n",
            "\u001b[1m125/125\u001b[0m \u001b[32m━━━━━━━━━━━━━━━━━━━━\u001b[0m\u001b[37m\u001b[0m \u001b[1m0s\u001b[0m 3ms/step - accuracy: 0.9898 - loss: 0.0370 - val_accuracy: 0.9842 - val_loss: 0.0580\n",
            "Epoch 69/100\n",
            "\u001b[1m125/125\u001b[0m \u001b[32m━━━━━━━━━━━━━━━━━━━━\u001b[0m\u001b[37m\u001b[0m \u001b[1m1s\u001b[0m 4ms/step - accuracy: 0.9895 - loss: 0.0296 - val_accuracy: 0.9864 - val_loss: 0.0638\n",
            "Epoch 70/100\n",
            "\u001b[1m125/125\u001b[0m \u001b[32m━━━━━━━━━━━━━━━━━━━━\u001b[0m\u001b[37m\u001b[0m \u001b[1m1s\u001b[0m 6ms/step - accuracy: 0.9877 - loss: 0.0375 - val_accuracy: 0.9842 - val_loss: 0.0569\n",
            "Epoch 71/100\n",
            "\u001b[1m125/125\u001b[0m \u001b[32m━━━━━━━━━━━━━━━━━━━━\u001b[0m\u001b[37m\u001b[0m \u001b[1m1s\u001b[0m 6ms/step - accuracy: 0.9890 - loss: 0.0348 - val_accuracy: 0.9842 - val_loss: 0.0553\n",
            "Epoch 72/100\n",
            "\u001b[1m125/125\u001b[0m \u001b[32m━━━━━━━━━━━━━━━━━━━━\u001b[0m\u001b[37m\u001b[0m \u001b[1m1s\u001b[0m 6ms/step - accuracy: 0.9884 - loss: 0.0346 - val_accuracy: 0.9864 - val_loss: 0.0572\n",
            "Epoch 73/100\n",
            "\u001b[1m125/125\u001b[0m \u001b[32m━━━━━━━━━━━━━━━━━━━━\u001b[0m\u001b[37m\u001b[0m \u001b[1m1s\u001b[0m 3ms/step - accuracy: 0.9876 - loss: 0.0361 - val_accuracy: 0.9864 - val_loss: 0.0571\n",
            "Epoch 74/100\n",
            "\u001b[1m125/125\u001b[0m \u001b[32m━━━━━━━━━━━━━━━━━━━━\u001b[0m\u001b[37m\u001b[0m \u001b[1m1s\u001b[0m 4ms/step - accuracy: 0.9906 - loss: 0.0276 - val_accuracy: 0.9864 - val_loss: 0.0593\n",
            "Epoch 75/100\n",
            "\u001b[1m125/125\u001b[0m \u001b[32m━━━━━━━━━━━━━━━━━━━━\u001b[0m\u001b[37m\u001b[0m \u001b[1m1s\u001b[0m 4ms/step - accuracy: 0.9882 - loss: 0.0329 - val_accuracy: 0.9864 - val_loss: 0.0502\n",
            "Epoch 76/100\n",
            "\u001b[1m125/125\u001b[0m \u001b[32m━━━━━━━━━━━━━━━━━━━━\u001b[0m\u001b[37m\u001b[0m \u001b[1m1s\u001b[0m 4ms/step - accuracy: 0.9914 - loss: 0.0275 - val_accuracy: 0.9864 - val_loss: 0.0655\n",
            "Epoch 77/100\n",
            "\u001b[1m125/125\u001b[0m \u001b[32m━━━━━━━━━━━━━━━━━━━━\u001b[0m\u001b[37m\u001b[0m \u001b[1m1s\u001b[0m 4ms/step - accuracy: 0.9881 - loss: 0.0313 - val_accuracy: 0.9864 - val_loss: 0.0571\n",
            "Epoch 78/100\n",
            "\u001b[1m125/125\u001b[0m \u001b[32m━━━━━━━━━━━━━━━━━━━━\u001b[0m\u001b[37m\u001b[0m \u001b[1m1s\u001b[0m 3ms/step - accuracy: 0.9919 - loss: 0.0307 - val_accuracy: 0.9864 - val_loss: 0.0534\n",
            "Epoch 79/100\n",
            "\u001b[1m125/125\u001b[0m \u001b[32m━━━━━━━━━━━━━━━━━━━━\u001b[0m\u001b[37m\u001b[0m \u001b[1m1s\u001b[0m 4ms/step - accuracy: 0.9885 - loss: 0.0327 - val_accuracy: 0.9842 - val_loss: 0.0592\n",
            "Epoch 80/100\n",
            "\u001b[1m125/125\u001b[0m \u001b[32m━━━━━━━━━━━━━━━━━━━━\u001b[0m\u001b[37m\u001b[0m \u001b[1m0s\u001b[0m 4ms/step - accuracy: 0.9920 - loss: 0.0269 - val_accuracy: 0.9842 - val_loss: 0.0538\n",
            "Epoch 81/100\n",
            "\u001b[1m125/125\u001b[0m \u001b[32m━━━━━━━━━━━━━━━━━━━━\u001b[0m\u001b[37m\u001b[0m \u001b[1m1s\u001b[0m 4ms/step - accuracy: 0.9900 - loss: 0.0349 - val_accuracy: 0.9864 - val_loss: 0.0648\n",
            "Epoch 82/100\n",
            "\u001b[1m125/125\u001b[0m \u001b[32m━━━━━━━━━━━━━━━━━━━━\u001b[0m\u001b[37m\u001b[0m \u001b[1m1s\u001b[0m 4ms/step - accuracy: 0.9934 - loss: 0.0271 - val_accuracy: 0.9842 - val_loss: 0.0630\n",
            "Epoch 83/100\n",
            "\u001b[1m125/125\u001b[0m \u001b[32m━━━━━━━━━━━━━━━━━━━━\u001b[0m\u001b[37m\u001b[0m \u001b[1m1s\u001b[0m 4ms/step - accuracy: 0.9921 - loss: 0.0237 - val_accuracy: 0.9864 - val_loss: 0.0523\n",
            "Epoch 84/100\n",
            "\u001b[1m125/125\u001b[0m \u001b[32m━━━━━━━━━━━━━━━━━━━━\u001b[0m\u001b[37m\u001b[0m \u001b[1m1s\u001b[0m 4ms/step - accuracy: 0.9917 - loss: 0.0248 - val_accuracy: 0.9864 - val_loss: 0.0529\n",
            "Epoch 85/100\n",
            "\u001b[1m125/125\u001b[0m \u001b[32m━━━━━━━━━━━━━━━━━━━━\u001b[0m\u001b[37m\u001b[0m \u001b[1m1s\u001b[0m 4ms/step - accuracy: 0.9875 - loss: 0.0347 - val_accuracy: 0.9864 - val_loss: 0.0638\n",
            "Epoch 86/100\n",
            "\u001b[1m125/125\u001b[0m \u001b[32m━━━━━━━━━━━━━━━━━━━━\u001b[0m\u001b[37m\u001b[0m \u001b[1m0s\u001b[0m 4ms/step - accuracy: 0.9917 - loss: 0.0271 - val_accuracy: 0.9864 - val_loss: 0.0691\n",
            "Epoch 87/100\n",
            "\u001b[1m125/125\u001b[0m \u001b[32m━━━━━━━━━━━━━━━━━━━━\u001b[0m\u001b[37m\u001b[0m \u001b[1m1s\u001b[0m 4ms/step - accuracy: 0.9916 - loss: 0.0266 - val_accuracy: 0.9864 - val_loss: 0.0602\n",
            "Epoch 88/100\n",
            "\u001b[1m125/125\u001b[0m \u001b[32m━━━━━━━━━━━━━━━━━━━━\u001b[0m\u001b[37m\u001b[0m \u001b[1m1s\u001b[0m 4ms/step - accuracy: 0.9898 - loss: 0.0271 - val_accuracy: 0.9842 - val_loss: 0.0615\n",
            "Epoch 89/100\n",
            "\u001b[1m125/125\u001b[0m \u001b[32m━━━━━━━━━━━━━━━━━━━━\u001b[0m\u001b[37m\u001b[0m \u001b[1m1s\u001b[0m 4ms/step - accuracy: 0.9922 - loss: 0.0262 - val_accuracy: 0.9842 - val_loss: 0.0679\n",
            "Epoch 90/100\n",
            "\u001b[1m125/125\u001b[0m \u001b[32m━━━━━━━━━━━━━━━━━━━━\u001b[0m\u001b[37m\u001b[0m \u001b[1m1s\u001b[0m 6ms/step - accuracy: 0.9928 - loss: 0.0267 - val_accuracy: 0.9864 - val_loss: 0.0552\n",
            "Epoch 91/100\n",
            "\u001b[1m125/125\u001b[0m \u001b[32m━━━━━━━━━━━━━━━━━━━━\u001b[0m\u001b[37m\u001b[0m \u001b[1m1s\u001b[0m 6ms/step - accuracy: 0.9902 - loss: 0.0301 - val_accuracy: 0.9842 - val_loss: 0.0623\n",
            "Epoch 92/100\n",
            "\u001b[1m125/125\u001b[0m \u001b[32m━━━━━━━━━━━━━━━━━━━━\u001b[0m\u001b[37m\u001b[0m \u001b[1m1s\u001b[0m 6ms/step - accuracy: 0.9918 - loss: 0.0311 - val_accuracy: 0.9842 - val_loss: 0.0657\n",
            "Epoch 93/100\n",
            "\u001b[1m125/125\u001b[0m \u001b[32m━━━━━━━━━━━━━━━━━━━━\u001b[0m\u001b[37m\u001b[0m \u001b[1m1s\u001b[0m 4ms/step - accuracy: 0.9920 - loss: 0.0238 - val_accuracy: 0.9842 - val_loss: 0.0624\n",
            "Epoch 94/100\n",
            "\u001b[1m125/125\u001b[0m \u001b[32m━━━━━━━━━━━━━━━━━━━━\u001b[0m\u001b[37m\u001b[0m \u001b[1m1s\u001b[0m 4ms/step - accuracy: 0.9940 - loss: 0.0252 - val_accuracy: 0.9842 - val_loss: 0.0668\n",
            "Epoch 95/100\n",
            "\u001b[1m125/125\u001b[0m \u001b[32m━━━━━━━━━━━━━━━━━━━━\u001b[0m\u001b[37m\u001b[0m \u001b[1m1s\u001b[0m 4ms/step - accuracy: 0.9926 - loss: 0.0217 - val_accuracy: 0.9842 - val_loss: 0.0667\n",
            "Epoch 96/100\n",
            "\u001b[1m125/125\u001b[0m \u001b[32m━━━━━━━━━━━━━━━━━━━━\u001b[0m\u001b[37m\u001b[0m \u001b[1m1s\u001b[0m 4ms/step - accuracy: 0.9912 - loss: 0.0272 - val_accuracy: 0.9842 - val_loss: 0.0638\n",
            "Epoch 97/100\n",
            "\u001b[1m125/125\u001b[0m \u001b[32m━━━━━━━━━━━━━━━━━━━━\u001b[0m\u001b[37m\u001b[0m \u001b[1m1s\u001b[0m 4ms/step - accuracy: 0.9922 - loss: 0.0234 - val_accuracy: 0.9842 - val_loss: 0.0649\n",
            "Epoch 98/100\n",
            "\u001b[1m125/125\u001b[0m \u001b[32m━━━━━━━━━━━━━━━━━━━━\u001b[0m\u001b[37m\u001b[0m \u001b[1m1s\u001b[0m 4ms/step - accuracy: 0.9928 - loss: 0.0245 - val_accuracy: 0.9842 - val_loss: 0.0634\n",
            "Epoch 99/100\n",
            "\u001b[1m125/125\u001b[0m \u001b[32m━━━━━━━━━━━━━━━━━━━━\u001b[0m\u001b[37m\u001b[0m \u001b[1m1s\u001b[0m 4ms/step - accuracy: 0.9899 - loss: 0.0318 - val_accuracy: 0.9864 - val_loss: 0.0555\n",
            "Epoch 100/100\n",
            "\u001b[1m125/125\u001b[0m \u001b[32m━━━━━━━━━━━━━━━━━━━━\u001b[0m\u001b[37m\u001b[0m \u001b[1m1s\u001b[0m 4ms/step - accuracy: 0.9920 - loss: 0.0209 - val_accuracy: 0.9842 - val_loss: 0.0607\n",
            "\n",
            "🔹 Training Accuracy: 1.00\n",
            "🔹 Test Accuracy: 0.98\n",
            "\u001b[1m60/60\u001b[0m \u001b[32m━━━━━━━━━━━━━━━━━━━━\u001b[0m\u001b[37m\u001b[0m \u001b[1m0s\u001b[0m 2ms/step\n",
            "\n",
            "🔹 Neural Network Classification Report on Test Data:\n",
            "              precision    recall  f1-score   support\n",
            "\n",
            "           0       0.97      0.99      0.98       631\n",
            "           1       0.99      0.95      0.97       643\n",
            "           2       0.98      1.00      0.99       620\n",
            "\n",
            "    accuracy                           0.98      1894\n",
            "   macro avg       0.98      0.98      0.98      1894\n",
            "weighted avg       0.98      0.98      0.98      1894\n",
            "\n",
            "🔹 Neural Network ROC-AUC Score on Test Data: 1.00\n",
            "\u001b[1m139/139\u001b[0m \u001b[32m━━━━━━━━━━━━━━━━━━━━\u001b[0m\u001b[37m\u001b[0m \u001b[1m0s\u001b[0m 1ms/step\n",
            "\n",
            "🔹 Neural Network Classification Report on Training Data:\n",
            "              precision    recall  f1-score   support\n",
            "\n",
            "           0       0.99      1.00      0.99      1473\n",
            "           1       1.00      0.99      0.99      1461\n",
            "           2       1.00      1.00      1.00      1484\n",
            "\n",
            "    accuracy                           1.00      4418\n",
            "   macro avg       1.00      1.00      1.00      4418\n",
            "weighted avg       1.00      1.00      1.00      4418\n",
            "\n",
            "🔹 Neural Network ROC-AUC Score on Training Data: 1.00\n"
          ]
        },
        {
          "output_type": "display_data",
          "data": {
            "text/plain": [
              "<Figure size 1200x500 with 2 Axes>"
            ],
            "image/png": "[encoded data removed]"
          },
          "metadata": {}
        },
        {
          "output_type": "stream",
          "name": "stderr",
          "text": [
            "WARNING:absl:You are saving your model as an HDF5 file via `model.save()` or `keras.saving.save_model(model)`. This file format is considered legacy. We recommend using instead the native Keras format, e.g. `model.save('my_model.keras')` or `keras.saving.save_model(model, 'my_model.keras')`. \n"
          ]
        },
        {
          "output_type": "stream",
          "name": "stdout",
          "text": [
            "\n",
            "✅ Neural Network model saved as 'nn_model.h5'.\n"
          ]
        }
      ],
      "source": [
        "import pickle\n",
        "import numpy as np\n",
        "import matplotlib.pyplot as plt\n",
        "from sklearn.metrics import classification_report, roc_auc_score\n",
        "from tensorflow.keras.models import Sequential\n",
        "from tensorflow.keras.layers import Dense, Dropout\n",
        "from tensorflow.keras.optimizers import Adam\n",
        "from tensorflow.keras.utils import to_categorical\n",
        "\n",
        "# Load saved feature names\n",
        "with open('feature_names.pkl', 'rb') as file:\n",
        "    feature_names = pickle.load(file)\n",
        "\n",
        "# Prepare the data (Ensure X_train_scaled, X_test_scaled, y_train, y_test are preprocessed)\n",
        "num_classes = len(np.unique(y_train))\n",
        "y_train_onehot = to_categorical(y_train, num_classes)\n",
        "y_test_onehot = to_categorical(y_test, num_classes)\n",
        "\n",
        "# Build the Neural Network model\n",
        "model = Sequential([\n",
        "    Dense(256, activation='relu', input_shape=(X_train_scaled.shape[1],)),  # Increased neurons\n",
        "    Dropout(0.3),\n",
        "    Dense(128, activation='relu'),\n",
        "    Dropout(0.3),\n",
        "    Dense(64, activation='relu'),\n",
        "    Dense(num_classes, activation='softmax')  # Softmax for multi-class classification\n",
        "])\n",
        "\n",
        "# Compile the model\n",
        "model.compile(optimizer=Adam(learning_rate=0.0005),  # Reduced learning rate for stability\n",
        "              loss='categorical_crossentropy',\n",
        "              metrics=['accuracy'])\n",
        "\n",
        "# Train the model\n",
        "history = model.fit(X_train_scaled, y_train_onehot,\n",
        "                    validation_split=0.1,\n",
        "                    epochs=100,  # Increased epochs for better training\n",
        "                    batch_size=32,\n",
        "                    verbose=1)\n",
        "\n",
        "# Evaluate the model on the test data\n",
        "train_loss, train_accuracy = model.evaluate(X_train_scaled, y_train_onehot, verbose=0)\n",
        "test_loss, test_accuracy = model.evaluate(X_test_scaled, y_test_onehot, verbose=0)\n",
        "\n",
        "print(f\"\\n🔹 Training Accuracy: {train_accuracy:.2f}\")\n",
        "print(f\"🔹 Test Accuracy: {test_accuracy:.2f}\")\n",
        "\n",
        "# Make predictions\n",
        "y_prob_nn = model.predict(X_test_scaled)\n",
        "y_pred_nn = np.argmax(y_prob_nn, axis=1)\n",
        "\n",
        "# Classification report and ROC-AUC score\n",
        "print(\"\\n🔹 Neural Network Classification Report on Test Data:\")\n",
        "print(classification_report(y_test, y_pred_nn))\n",
        "print(f\"🔹 Neural Network ROC-AUC Score on Test Data: {roc_auc_score(y_test, y_prob_nn, multi_class='ovr'):.2f}\")\n",
        "\n",
        "# Classification report for training data\n",
        "y_train_prob_nn = model.predict(X_train_scaled)\n",
        "y_train_pred_nn = np.argmax(y_train_prob_nn, axis=1)\n",
        "\n",
        "print(\"\\n🔹 Neural Network Classification Report on Training Data:\")\n",
        "print(classification_report(y_train, y_train_pred_nn))\n",
        "print(f\"🔹 Neural Network ROC-AUC Score on Training Data: {roc_auc_score(y_train, y_train_prob_nn, multi_class='ovr'):.2f}\")\n",
        "\n",
        "# Plot training history\n",
        "plt.figure(figsize=(12, 5))\n",
        "plt.subplot(1, 2, 1)\n",
        "plt.plot(history.history['accuracy'], label='Training Accuracy')\n",
        "plt.plot(history.history['val_accuracy'], label='Validation Accuracy')\n",
        "plt.xlabel('Epochs')\n",
        "plt.ylabel('Accuracy')\n",
        "plt.title('Training vs Validation Accuracy')\n",
        "plt.legend()\n",
        "\n",
        "plt.subplot(1, 2, 2)\n",
        "plt.plot(history.history['loss'], label='Training Loss')\n",
        "plt.plot(history.history['val_loss'], label='Validation Loss')\n",
        "plt.xlabel('Epochs')\n",
        "plt.ylabel('Loss')\n",
        "plt.title('Training vs Validation Loss')\n",
        "plt.legend()\n",
        "\n",
        "plt.show()\n",
        "\n",
        "# Save the trained model\n",
        "model.save('nn_model.h5')\n",
        "\n",
        "print(\"\\n✅ Neural Network model saved as 'nn_model.h5'.\")"
      ]
    },
    {
      "cell_type": "code",
      "execution_count": null,
      "metadata": {
        "id": "5IStulUlWgzi",
        "colab": {
          "base_uri": "https://localhost:8080/"
        },
        "outputId": "028616e5-240c-4499-d19f-e9cbac383419"
      },
      "outputs": [
        {
          "output_type": "stream",
          "name": "stdout",
          "text": [
            "\n",
            "🔹 XGBoost Regression Metrics on Test Data:\n",
            "   🔹 Mean Squared Error (MSE): 0.0228\n",
            "   🔹 R-squared Score (R²): 0.9655\n",
            "\n",
            "🔹 XGBoost Regression Metrics on Training Data:\n",
            "   🔹 Mean Squared Error (MSE): 0.0066\n",
            "   🔹 R-squared Score (R²): 0.9902\n",
            "\n",
            "🔹 XGBoost Classification Report on Test Data:\n",
            "              precision    recall  f1-score   support\n",
            "\n",
            "           0       0.97      1.00      0.98       631\n",
            "           1       0.99      0.94      0.96       643\n",
            "           2       0.97      1.00      0.98       620\n",
            "\n",
            "    accuracy                           0.98      1894\n",
            "   macro avg       0.98      0.98      0.98      1894\n",
            "weighted avg       0.98      0.98      0.98      1894\n",
            "\n",
            "\n",
            "🔹 XGBoost Classification Report on Training Data:\n",
            "              precision    recall  f1-score   support\n",
            "\n",
            "           0       0.99      1.00      1.00      1473\n",
            "           1       1.00      0.99      0.99      1461\n",
            "           2       0.99      1.00      1.00      1484\n",
            "\n",
            "    accuracy                           1.00      4418\n",
            "   macro avg       1.00      0.99      1.00      4418\n",
            "weighted avg       1.00      1.00      1.00      4418\n",
            "\n",
            "\n",
            "✅ XGBoost Regressor model saved as 'xgb_regressor.pkl'.\n"
          ]
        }
      ],
      "source": [
        "import pickle\n",
        "import numpy as np\n",
        "from xgboost import XGBRegressor\n",
        "from sklearn.metrics import mean_squared_error, r2_score, classification_report\n",
        "\n",
        "# Load saved feature names\n",
        "with open('feature_names.pkl', 'rb') as file:\n",
        "    feature_names = pickle.load(file)\n",
        "\n",
        "# Initialize XGBoost Regressor\n",
        "xgb_model = XGBRegressor(objective='reg:squarederror', random_state=42, n_estimators=100, learning_rate=0.1)\n",
        "\n",
        "# Train the model\n",
        "xgb_model.fit(X_train_scaled, y_train)\n",
        "\n",
        "# Predict on Test Data\n",
        "y_pred_xgb = xgb_model.predict(X_test_scaled)\n",
        "\n",
        "print(\"\\n🔹 XGBoost Regression Metrics on Test Data:\")\n",
        "print(f\"   🔹 Mean Squared Error (MSE): {mean_squared_error(y_test, y_pred_xgb):.4f}\")\n",
        "print(f\"   🔹 R-squared Score (R²): {r2_score(y_test, y_pred_xgb):.4f}\")\n",
        "\n",
        "# Predict on Training Data\n",
        "y_train_pred_xgb = xgb_model.predict(X_train_scaled)\n",
        "\n",
        "print(\"\\n🔹 XGBoost Regression Metrics on Training Data:\")\n",
        "print(f\"   🔹 Mean Squared Error (MSE): {mean_squared_error(y_train, y_train_pred_xgb):.4f}\")\n",
        "print(f\"   🔹 R-squared Score (R²): {r2_score(y_train, y_train_pred_xgb):.4f}\")\n",
        "\n",
        "# Convert Regression Predictions to Categories (Ordinal Classification)\n",
        "def categorize_predictions(y_pred):\n",
        "    return np.round(y_pred).astype(int)  # Rounding to nearest integer (assuming labels 0,1,2)\n",
        "\n",
        "y_test_class = categorize_predictions(y_pred_xgb)\n",
        "y_train_class = categorize_predictions(y_train_pred_xgb)\n",
        "\n",
        "# Classification Reports\n",
        "print(\"\\n🔹 XGBoost Classification Report on Test Data:\")\n",
        "print(classification_report(y_test, y_test_class))\n",
        "\n",
        "print(\"\\n🔹 XGBoost Classification Report on Training Data:\")\n",
        "print(classification_report(y_train, y_train_class))\n",
        "\n",
        "# Save the trained XGBoost model\n",
        "with open('xgb_regressor.pkl', 'wb') as file:\n",
        "    pickle.dump(xgb_model, file)\n",
        "\n",
        "print(\"\\n✅ XGBoost Regressor model saved as 'xgb_regressor.pkl'.\")"
      ]
    },
    {
      "cell_type": "code",
      "source": [
        "pip install keras"
      ],
      "metadata": {
        "colab": {
          "base_uri": "https://localhost:8080/"
        },
        "id": "aQ80mLM5AwXO",
        "outputId": "c7c6e2c8-74f4-46b6-dece-77e5ce527822"
      },
      "execution_count": null,
      "outputs": [
        {
          "output_type": "stream",
          "name": "stdout",
          "text": [
            "Requirement already satisfied: keras in /usr/local/lib/python3.11/dist-packages (3.8.0)\n",
            "Requirement already satisfied: absl-py in /usr/local/lib/python3.11/dist-packages (from keras) (1.4.0)\n",
            "Requirement already satisfied: numpy in /usr/local/lib/python3.11/dist-packages (from keras) (1.26.4)\n",
            "Requirement already satisfied: rich in /usr/local/lib/python3.11/dist-packages (from keras) (13.9.4)\n",
            "Requirement already satisfied: namex in /usr/local/lib/python3.11/dist-packages (from keras) (0.0.8)\n",
            "Requirement already satisfied: h5py in /usr/local/lib/python3.11/dist-packages (from keras) (3.12.1)\n",
            "Requirement already satisfied: optree in /usr/local/lib/python3.11/dist-packages (from keras) (0.14.0)\n",
            "Requirement already satisfied: ml-dtypes in /usr/local/lib/python3.11/dist-packages (from keras) (0.4.1)\n",
            "Requirement already satisfied: packaging in /usr/local/lib/python3.11/dist-packages (from keras) (24.2)\n",
            "Requirement already satisfied: typing-extensions>=4.5.0 in /usr/local/lib/python3.11/dist-packages (from optree->keras) (4.12.2)\n",
            "Requirement already satisfied: markdown-it-py>=2.2.0 in /usr/local/lib/python3.11/dist-packages (from rich->keras) (3.0.0)\n",
            "Requirement already satisfied: pygments<3.0.0,>=2.13.0 in /usr/local/lib/python3.11/dist-packages (from rich->keras) (2.18.0)\n",
            "Requirement already satisfied: mdurl~=0.1 in /usr/local/lib/python3.11/dist-packages (from markdown-it-py>=2.2.0->rich->keras) (0.1.2)\n"
          ]
        }
      ]
    },
    {
      "cell_type": "code",
      "execution_count": null,
      "metadata": {
        "id": "njWZiDFag2Au",
        "colab": {
          "base_uri": "https://localhost:8080/"
        },
        "outputId": "23a41f60-695b-42e2-e115-d3cbde487367"
      },
      "outputs": [
        {
          "output_type": "stream",
          "name": "stdout",
          "text": [
            "\n",
            "🔹 Enter values for the following features:\n",
            "   localization: Lip\n",
            "   tobacco_use: No\n",
            "   alcohol_consumption: Yes\n",
            "   sun_exposure: Yes\n",
            "   gender: F\n",
            "   skin_color: White\n",
            "   larger_size: 0\n",
            "   age: 30\n",
            "\n",
            "🔹 Model Predictions for Oral Cancer Risk:\n",
            "   ⚡ SVM Probability: 1.0000\n",
            "   🚀 XGBoost Probability: 0.9620\n",
            "   🎯 **Final Risk Probability: 0.9810** (Scale: 0 to 1)\n",
            "   🛑 **High Risk of Cancer Detected**\n"
          ]
        }
      ],
      "source": [
        "import pickle\n",
        "import numpy as np\n",
        "import pandas as pd\n",
        "from sklearn.preprocessing import StandardScaler, LabelEncoder\n",
        "from tensorflow.keras.models import load_model\n",
        "\n",
        "with open('svr_model.pkl', 'rb') as file:\n",
        "    svm_model = pickle.load(file)\n",
        "\n",
        "with open('xgb_regressor.pkl', 'rb') as file:\n",
        "    xgb_model = pickle.load(file)\n",
        "\n",
        "# Load the scaler and feature names from training\n",
        "with open('scaler.pkl', 'rb') as file:\n",
        "    scaler = pickle.load(file)\n",
        "\n",
        "with open('feature_names.pkl', 'rb') as file:\n",
        "    feature_names = pickle.load(file)  # Ensures correct feature order\n",
        "\n",
        "# Define categorical and numerical features\n",
        "categorical_features = ['localization', 'tobacco_use', 'alcohol_consumption', 'sun_exposure', 'gender', 'skin_color']\n",
        "numerical_features = ['larger_size', 'age_group']\n",
        "\n",
        "# Define LabelEncoders (Use mappings from training)\n",
        "label_encoders = {\n",
        "    'localization': LabelEncoder().fit(['Tongue', 'Lip', 'Floor of mouth', 'Buccal mucosa', 'Palate', 'Gingiva', 'Cheek', 'Gum', 'Buccal Mucosa']),\n",
        "    'tobacco_use': LabelEncoder().fit(['Yes', 'Former', 'No', 'Not informed']),\n",
        "    'alcohol_consumption': LabelEncoder().fit(['No', 'Former', 'Yes', 'Not informed']),\n",
        "    'sun_exposure': LabelEncoder().fit(['No', 'Yes', 'Not informed']),\n",
        "    'gender': LabelEncoder().fit(['M', 'F']),\n",
        "    'skin_color': LabelEncoder().fit(['Black', 'White', 'Not informed', 'Brown', 'Asian', 'Hispanic']),\n",
        "}\n",
        "\n",
        "# Function to categorize age into groups\n",
        "def categorize_age(age):\n",
        "    \"\"\"Categorize age into risk groups.\"\"\"\n",
        "    try:\n",
        "        age = int(age)\n",
        "        if age < 40:\n",
        "            return 0\n",
        "        elif 40 <= age <= 60:\n",
        "            return 1\n",
        "        else:\n",
        "            return 2\n",
        "    except ValueError:\n",
        "        print(\"⚠️ Invalid input for age. Defaulting to group 1 (40-60 years).\")\n",
        "        return 1  # Default to medium age risk\n",
        "\n",
        "# Function to get user input\n",
        "def get_user_input():\n",
        "    \"\"\"Take user input for all required features and return a dictionary.\"\"\"\n",
        "    user_data = {}\n",
        "\n",
        "    print(\"\\n🔹 Enter values for the following features:\")\n",
        "    for feature in categorical_features + ['larger_size', 'age']:\n",
        "        user_data[feature] = input(f\"   {feature}: \").strip()\n",
        "\n",
        "    return user_data\n",
        "\n",
        "# Take user input\n",
        "user_data = get_user_input()\n",
        "\n",
        "# Convert age input to numeric and categorize it\n",
        "user_data['age_group'] = categorize_age(user_data['age'])\n",
        "\n",
        "# Convert input data into a DataFrame\n",
        "input_df = pd.DataFrame([user_data])\n",
        "\n",
        "# Apply Label Encoding to categorical features (ensuring consistency with training)\n",
        "for feature in categorical_features:\n",
        "    if user_data[feature] in label_encoders[feature].classes_:\n",
        "        input_df[feature] = label_encoders[feature].transform([user_data[feature]])\n",
        "    else:\n",
        "        default_value = 'Not informed' if 'Not informed' in label_encoders[feature].classes_ else label_encoders[feature].classes_[0]\n",
        "        print(f\"⚠️ Warning: Unseen category '{user_data[feature]}' for {feature}. Using '{default_value}' as default.\")\n",
        "        input_df[feature] = label_encoders[feature].transform([default_value])\n",
        "\n",
        "# Ensure numerical columns are correctly formatted\n",
        "input_df[['larger_size', 'age_group']] = input_df[['larger_size', 'age_group']].astype(float)\n",
        "\n",
        "# 🔹 **Ensure features are in the same order as training**\n",
        "input_df = input_df.reindex(columns=feature_names, fill_value=0)  # Ensures correct feature order\n",
        "\n",
        "# Standard Scaling (Use same scaler from training)\n",
        "input_scaled = scaler.transform(input_df)\n",
        "\n",
        "# 🔹 **Make predictions using all three models**\n",
        "svm_prob = svm_model.predict(input_scaled)[0]\n",
        "xgb_prob = xgb_model.predict(input_scaled)[0]\n",
        "\n",
        "# Ensure probabilities are within bounds (0-1)\n",
        "svm_prob = max(0, min(1, svm_prob))\n",
        "xgb_prob = max(0, min(1, xgb_prob))\n",
        "\n",
        "# 🔹 **Final Probability Calculation (Averaging Model Outputs)**\n",
        "final_probability = (svm_prob + xgb_prob) / 2\n",
        "\n",
        "# 🔹 Display results\n",
        "print(\"\\n🔹 Model Predictions for Oral Cancer Risk:\")\n",
        "print(f\"   ⚡ SVM Probability: {svm_prob:.4f}\")\n",
        "print(f\"   🚀 XGBoost Probability: {xgb_prob:.4f}\")\n",
        "print(f\"   🎯 **Final Risk Probability: {final_probability:.4f}** (Scale: 0 to 1)\")\n",
        "\n",
        "# Interpretation based on probability thresholds\n",
        "threshold_high = 0.7\n",
        "threshold_medium = 0.4\n",
        "\n",
        "if final_probability >= threshold_high:\n",
        "    print(\"   🛑 **High Risk of Cancer Detected**\")\n",
        "elif final_probability >= threshold_medium:\n",
        "    print(\"   ⚠️ **Medium Risk of Cancer Detected**\")\n",
        "else:\n",
        "    print(\"   ✅ **Low Risk - No Cancer Detected**\")"
      ]
    },
    {
      "cell_type": "code",
      "source": [
        "import pickle\n",
        "import numpy as np\n",
        "import pandas as pd\n",
        "from sklearn.preprocessing import StandardScaler, LabelEncoder\n",
        "\n",
        "# Load the trained models\n",
        "with open('nn_model.pkl', 'rb') as file:\n",
        "    nn_model = pickle.load(file)\n",
        "\n",
        "with open('svm_model_tuned.pkl', 'rb') as file:\n",
        "    svm_model = pickle.load(file)\n",
        "\n",
        "with open('xgb_model.pkl', 'rb') as file:\n",
        "    xgb_model = pickle.load(file)\n",
        "\n",
        "# Load the scaler and feature names from training\n",
        "with open('scaler.pkl', 'rb') as file:\n",
        "    scaler = pickle.load(file)\n",
        "\n",
        "with open('feature_names.pkl', 'rb') as file:\n",
        "    feature_names = pickle.load(file)  # Ensure correct feature order\n",
        "\n",
        "# Define categorical and numerical features\n",
        "categorical_features = ['localization', 'tobacco_use', 'alcohol_consumption', 'sun_exposure', 'gender', 'skin_color']\n",
        "numerical_features = ['larger_size', 'age_group']\n",
        "\n",
        "# Define LabelEncoders (Use mappings from training)\n",
        "label_encoders = {\n",
        "    'localization': LabelEncoder().fit(['Tongue', 'Lip', 'Floor of mouth', 'Buccal mucosa', 'Palate', 'Gingiva', 'Cheek', 'Gum', 'Buccal Mucosa']),\n",
        "    'tobacco_use': LabelEncoder().fit(['Yes', 'Former', 'No', 'Not informed']),\n",
        "    'alcohol_consumption': LabelEncoder().fit(['No', 'Former', 'Yes', 'Not informed']),\n",
        "    'sun_exposure': LabelEncoder().fit(['No', 'Yes', 'Not informed']),\n",
        "    'gender': LabelEncoder().fit(['M', 'F']),\n",
        "    'skin_color': LabelEncoder().fit(['Black', 'White', 'Not informed', 'Brown', 'Asian', 'Hispanic']),\n",
        "}\n",
        "\n",
        "# Function to categorize age into groups\n",
        "def categorize_age(age):\n",
        "    if age < 40:\n",
        "        return 0\n",
        "    elif 40 <= age <= 60:\n",
        "        return 1\n",
        "    else:\n",
        "        return 2\n",
        "\n",
        "# Function to get user input\n",
        "def get_user_input():\n",
        "    \"\"\"Take user input for all required features and return a dictionary.\"\"\"\n",
        "    features = ['localization', 'larger_size', 'tobacco_use', 'alcohol_consumption', 'sun_exposure', 'gender', 'skin_color', 'age']\n",
        "    user_data = {}\n",
        "\n",
        "    print(\"\\nEnter values for the following features:\")\n",
        "    for feature in features:\n",
        "        user_data[feature] = input(f\"{feature}: \").strip()\n",
        "\n",
        "    return user_data\n",
        "\n",
        "# Take user input\n",
        "user_data = get_user_input()\n",
        "\n",
        "# Convert age input to numeric and categorize it\n",
        "user_data['age'] = int(user_data['age'])\n",
        "user_data['age_group'] = categorize_age(user_data['age'])\n",
        "\n",
        "# Convert input data into a DataFrame\n",
        "input_df = pd.DataFrame([user_data])\n",
        "\n",
        "# Apply Label Encoding to categorical features (ensure consistency with training)\n",
        "for feature in categorical_features:\n",
        "    if user_data[feature] in label_encoders[feature].classes_:\n",
        "        input_df[feature] = label_encoders[feature].transform([user_data[feature]])\n",
        "    else:\n",
        "        print(f\"⚠️ Warning: Unseen category '{user_data[feature]}' for {feature}. Using 'Not informed' as default.\")\n",
        "        input_df[feature] = label_encoders[feature].transform(['Not informed'])\n",
        "\n",
        "# Ensure numerical columns are correctly formatted\n",
        "input_df[['larger_size', 'age_group']] = input_df[['larger_size', 'age_group']].astype(float)\n",
        "\n",
        "# 🔹 **Ensure features are in the same order as training**\n",
        "input_df = input_df.reindex(columns=feature_names, fill_value=0)  # Ensures correct feature order\n",
        "\n",
        "# Standard Scaling (Use same scaler from training)\n",
        "input_scaled = scaler.transform(input_df)\n",
        "\n",
        "# 🔹 **Make predictions using all three models**\n",
        "nn_prob = nn_model.predict_proba(input_scaled)[:, 1]  # Probability of cancer\n",
        "xgb_prob = xgb_model.predict_proba(input_scaled)[:, 1]\n",
        "\n",
        "# 🔹 **Final Probability Calculation**\n",
        "final_probability = (nn_prob + xgb_prob) / 2  # Averaging probabilities\n",
        "\n",
        "# 🔹 Display results\n",
        "print(\"\\n🔹 Model Predictions for Oral Cancer Detection:\")\n",
        "print(f\"   🧠 Neural Network Probability: {nn_prob[0]:.4f}\")\n",
        "print(f\"   🚀 XGBoost Probability: {xgb_prob[0]:.4f}\")\n",
        "\n",
        "print(f\"   🎯 {final_probability[0]:.4f} (Scale: 0 to 1)\")\n",
        "\n",
        "# Interpretation based on probability thresholds\n",
        "threshold_high = 0.8\n",
        "threshold_medium = 0.5\n",
        "\n",
        "if final_probability[0] >= threshold_high:\n",
        "    print(\"   🛑 **High Risk of Cancer Detected**\")\n",
        "elif final_probability[0] >= threshold_medium:\n",
        "    print(\"   ⚠️ **Medium Risk of Cancer Detected**\")\n",
        "else:\n",
        "    print(\"   ✅ **Low Risk - No Cancer Detected**\")"
      ],
      "metadata": {
        "colab": {
          "base_uri": "https://localhost:8080/"
        },
        "id": "IiCUcn7Enbq4",
        "outputId": "3916d54d-9606-4b19-e076-85d580c05b87"
      },
      "execution_count": null,
      "outputs": [
        {
          "output_type": "stream",
          "name": "stdout",
          "text": [
            "\n",
            "Enter values for the following features:\n",
            "localization: Gingiva\n",
            "larger_size: 3\n",
            "tobacco_use: No\n",
            "alcohol_consumption: Yes\n",
            "sun_exposure: No\n",
            "gender: F\n",
            "skin_color: Black\n",
            "age: 25\n",
            "\n",
            "🔹 Model Predictions for Oral Cancer Detection:\n",
            "   🧠 Neural Network Probability: 0.0019\n",
            "   🚀 XGBoost Probability: 0.9783\n",
            "   🎯 0.4901 (Scale: 0 to 1)\n",
            "   ✅ **Low Risk - No Cancer Detected**\n"
          ]
        }
      ]
    },
    {
      "cell_type": "code",
      "source": [
        "import pickle\n",
        "import numpy as np\n",
        "import pandas as pd\n",
        "from sklearn.preprocessing import StandardScaler, LabelEncoder\n",
        "\n",
        "# Load the trained Neural Network model\n",
        "with open('nn_model.pkl', 'rb') as file:\n",
        "    nn_model = pickle.load(file)\n",
        "\n",
        "# Load the scaler and feature names from training\n",
        "with open('scaler.pkl', 'rb') as file:\n",
        "    scaler = pickle.load(file)\n",
        "\n",
        "with open('feature_names.pkl', 'rb') as file:\n",
        "    feature_names = pickle.load(file)  # Ensure correct feature order\n",
        "\n",
        "# Define categorical and numerical features\n",
        "categorical_features = ['localization', 'tobacco_use', 'alcohol_consumption', 'sun_exposure', 'gender', 'skin_color']\n",
        "numerical_features = ['larger_size', 'age_group']\n",
        "\n",
        "# Define LabelEncoders (Use mappings from training)\n",
        "label_encoders = {\n",
        "    'localization': LabelEncoder().fit(['Tongue', 'Lip', 'Floor of mouth', 'Buccal mucosa', 'Palate', 'Gingiva', 'Cheek', 'Gum', 'Buccal Mucosa']),\n",
        "    'tobacco_use': LabelEncoder().fit(['Yes', 'Former', 'No', 'Not informed']),\n",
        "    'alcohol_consumption': LabelEncoder().fit(['No', 'Former', 'Yes', 'Not informed']),\n",
        "    'sun_exposure': LabelEncoder().fit(['No', 'Yes', 'Not informed']),\n",
        "    'gender': LabelEncoder().fit(['M', 'F']),\n",
        "    'skin_color': LabelEncoder().fit(['Black', 'White', 'Not informed', 'Brown', 'Asian', 'Hispanic']),\n",
        "}\n",
        "\n",
        "# Function to categorize age into groups\n",
        "def categorize_age(age):\n",
        "    if age < 40:\n",
        "        return 0\n",
        "    elif 40 <= age <= 60:\n",
        "        return 1\n",
        "    else:\n",
        "        return 2\n",
        "\n",
        "# Function to get user input\n",
        "def get_user_input():\n",
        "    \"\"\"Take user input for all required features and return a dictionary.\"\"\"\n",
        "    features = ['localization', 'larger_size', 'tobacco_use', 'alcohol_consumption', 'sun_exposure', 'gender', 'skin_color', 'age']\n",
        "    user_data = {}\n",
        "\n",
        "    print(\"\\nEnter values for the following features:\")\n",
        "    for feature in features:\n",
        "        user_data[feature] = input(f\"{feature}: \").strip()\n",
        "\n",
        "    return user_data\n",
        "\n",
        "# Take user input\n",
        "user_data = get_user_input()\n",
        "\n",
        "# Convert age input to numeric and categorize it\n",
        "user_data['age'] = int(user_data['age'])\n",
        "user_data['age_group'] = categorize_age(user_data['age'])\n",
        "\n",
        "# Convert input data into a DataFrame\n",
        "input_df = pd.DataFrame([user_data])\n",
        "\n",
        "# Apply Label Encoding to categorical features (ensure consistency with training)\n",
        "for feature in categorical_features:\n",
        "    if user_data[feature] in label_encoders[feature].classes_:\n",
        "        input_df[feature] = label_encoders[feature].transform([user_data[feature]])\n",
        "    else:\n",
        "        print(f\"⚠️ Warning: Unseen category '{user_data[feature]}' for {feature}. Using 'Not informed' as default.\")\n",
        "        input_df[feature] = label_encoders[feature].transform(['Not informed'])\n",
        "\n",
        "# Ensure numerical columns are correctly formatted\n",
        "input_df[['larger_size', 'age_group']] = input_df[['larger_size', 'age_group']].astype(float)\n",
        "\n",
        "# 🔹 **Ensure features are in the same order as training**\n",
        "input_df = input_df.reindex(columns=feature_names, fill_value=0)  # Ensures correct feature order\n",
        "\n",
        "# Standard Scaling (Use same scaler from training)\n",
        "input_scaled = scaler.transform(input_df)\n",
        "\n",
        "# 🔹 **Make predictions using Neural Network model**\n",
        "nn_prob = nn_model.predict_proba(input_scaled)[:, 1]  # Probability of cancer\n",
        "\n",
        "# 🔹 **Display results**\n",
        "print(\"\\n🔹 Model Predictions for Oral Cancer Detection:\")\n",
        "print(f\"   🧠 Neural Network Probability: {nn_prob[0]:.4f}\")\n",
        "\n",
        "# Interpretation based on probability thresholds\n",
        "threshold_high = 0.3\n",
        "threshold_medium = 0.1\n",
        "\n",
        "if nn_prob[0] >= threshold_high:\n",
        "    print(\"   🛑 **High Risk of Cancer Detected**\")\n",
        "elif nn_prob[0] >= threshold_medium:\n",
        "    print(\"   ⚠️ **Medium Risk of Cancer Detected**\")\n",
        "else:\n",
        "    print(\"   ✅ **Low Risk - No Cancer Detected**\")"
      ],
      "metadata": {
        "colab": {
          "base_uri": "https://localhost:8080/"
        },
        "id": "u__jie8ygfhr",
        "outputId": "021dd223-dea6-4303-d5b9-39afe84fc8ed"
      },
      "execution_count": null,
      "outputs": [
        {
          "output_type": "stream",
          "name": "stdout",
          "text": [
            "\n",
            "Enter values for the following features:\n",
            "localization: Tongue\n",
            "larger_size: 2.5\n",
            "tobacco_use: No\n",
            "alcohol_consumption: Yes\n",
            "sun_exposure: Not informed\n",
            "gender: M\n",
            "skin_color: Brown\n",
            "age: 25\n",
            "\n",
            "🔹 Model Predictions for Oral Cancer Detection:\n",
            "   🧠 Neural Network Probability: 0.0017\n",
            "   ✅ **Low Risk - No Cancer Detected**\n"
          ]
        }
      ]
    },
    {
      "cell_type": "code",
      "source": [
        "from sklearn.ensemble import StackingClassifier\n",
        "from sklearn.linear_model import LogisticRegression\n",
        "from sklearn.svm import SVC\n",
        "from xgboost import XGBClassifier\n",
        "from sklearn.pipeline import Pipeline\n",
        "from sklearn.preprocessing import StandardScaler\n",
        "\n",
        "# Wrap XGBoost and SVM in a pipeline to ensure compatibility\n",
        "xgb_model = XGBClassifier(use_label_encoder=False, eval_metric='logloss', random_state=42)\n",
        "svm_model = SVC(probability=True, random_state=42)\n",
        "\n",
        "# Define base models\n",
        "base_models = [\n",
        "    ('xgb', Pipeline([('scaler', StandardScaler()), ('xgb', xgb_model)])),\n",
        "    ('svm', Pipeline([('scaler', StandardScaler()), ('svm', svm_model)]))\n",
        "]\n",
        "\n",
        "# Define the meta-model\n",
        "meta_model = LogisticRegression()\n",
        "\n",
        "# Create StackingClassifier\n",
        "stacking_model = StackingClassifier(estimators=base_models, final_estimator=meta_model)\n",
        "\n",
        "# Train the stacking model\n",
        "stacking_model.fit(X_train_scaled, y_train)\n",
        "\n",
        "# Make predictions\n",
        "stacking_preds = stacking_model.predict(X_test_scaled)"
      ],
      "metadata": {
        "colab": {
          "base_uri": "https://localhost:8080/",
          "height": 515
        },
        "id": "FCGMWtqqEWJO",
        "outputId": "f2a8a1a8-d81d-45bd-a884-bf3d0cafad54"
      },
      "execution_count": null,
      "outputs": [
        {
          "output_type": "stream",
          "name": "stderr",
          "text": [
            "/usr/local/lib/python3.11/dist-packages/xgboost/core.py:158: UserWarning: [18:56:52] WARNING: /workspace/src/learner.cc:740: \n",
            "Parameters: { \"use_label_encoder\" } are not used.\n",
            "\n",
            "  warnings.warn(smsg, UserWarning)\n",
            "/usr/local/lib/python3.11/dist-packages/xgboost/core.py:158: UserWarning: [18:56:53] WARNING: /workspace/src/learner.cc:740: \n",
            "Parameters: { \"use_label_encoder\" } are not used.\n",
            "\n",
            "  warnings.warn(smsg, UserWarning)\n"
          ]
        },
        {
          "output_type": "error",
          "ename": "AttributeError",
          "evalue": "'super' object has no attribute '__sklearn_tags__'",
          "traceback": [
            "\u001b[0;31m---------------------------------------------------------------------------\u001b[0m",
            "\u001b[0;31mAttributeError\u001b[0m                            Traceback (most recent call last)",
            "\u001b[0;32m<ipython-input-148-cab4fb54df40>\u001b[0m in \u001b[0;36m<cell line: 0>\u001b[0;34m()\u001b[0m\n\u001b[1;32m     23\u001b[0m \u001b[0;34m\u001b[0m\u001b[0m\n\u001b[1;32m     24\u001b[0m \u001b[0;31m# Train the stacking model\u001b[0m\u001b[0;34m\u001b[0m\u001b[0;34m\u001b[0m\u001b[0m\n\u001b[0;32m---> 25\u001b[0;31m \u001b[0mstacking_model\u001b[0m\u001b[0;34m.\u001b[0m\u001b[0mfit\u001b[0m\u001b[0;34m(\u001b[0m\u001b[0mX_train_scaled\u001b[0m\u001b[0;34m,\u001b[0m \u001b[0my_train\u001b[0m\u001b[0;34m)\u001b[0m\u001b[0;34m\u001b[0m\u001b[0;34m\u001b[0m\u001b[0m\n\u001b[0m\u001b[1;32m     26\u001b[0m \u001b[0;34m\u001b[0m\u001b[0m\n\u001b[1;32m     27\u001b[0m \u001b[0;31m# Make predictions\u001b[0m\u001b[0;34m\u001b[0m\u001b[0;34m\u001b[0m\u001b[0m\n",
            "\u001b[0;32m/usr/local/lib/python3.11/dist-packages/sklearn/utils/validation.py\u001b[0m in \u001b[0;36minner_f\u001b[0;34m(*args, **kwargs)\u001b[0m\n\u001b[1;32m     61\u001b[0m             \u001b[0mextra_args\u001b[0m \u001b[0;34m=\u001b[0m \u001b[0mlen\u001b[0m\u001b[0;34m(\u001b[0m\u001b[0margs\u001b[0m\u001b[0;34m)\u001b[0m \u001b[0;34m-\u001b[0m \u001b[0mlen\u001b[0m\u001b[0;34m(\u001b[0m\u001b[0mall_args\u001b[0m\u001b[0;34m)\u001b[0m\u001b[0;34m\u001b[0m\u001b[0;34m\u001b[0m\u001b[0m\n\u001b[1;32m     62\u001b[0m             \u001b[0;32mif\u001b[0m \u001b[0mextra_args\u001b[0m \u001b[0;34m<=\u001b[0m \u001b[0;36m0\u001b[0m\u001b[0;34m:\u001b[0m\u001b[0;34m\u001b[0m\u001b[0;34m\u001b[0m\u001b[0m\n\u001b[0;32m---> 63\u001b[0;31m                 \u001b[0;32mreturn\u001b[0m \u001b[0mf\u001b[0m\u001b[0;34m(\u001b[0m\u001b[0;34m*\u001b[0m\u001b[0margs\u001b[0m\u001b[0;34m,\u001b[0m \u001b[0;34m**\u001b[0m\u001b[0mkwargs\u001b[0m\u001b[0;34m)\u001b[0m\u001b[0;34m\u001b[0m\u001b[0;34m\u001b[0m\u001b[0m\n\u001b[0m\u001b[1;32m     64\u001b[0m \u001b[0;34m\u001b[0m\u001b[0m\n\u001b[1;32m     65\u001b[0m             \u001b[0;31m# extra_args > 0\u001b[0m\u001b[0;34m\u001b[0m\u001b[0;34m\u001b[0m\u001b[0m\n",
            "\u001b[0;32m/usr/local/lib/python3.11/dist-packages/sklearn/ensemble/_stacking.py\u001b[0m in \u001b[0;36mfit\u001b[0;34m(self, X, y, sample_weight, **fit_params)\u001b[0m\n\u001b[1;32m    715\u001b[0m         \u001b[0;32mif\u001b[0m \u001b[0msample_weight\u001b[0m \u001b[0;32mis\u001b[0m \u001b[0;32mnot\u001b[0m \u001b[0;32mNone\u001b[0m\u001b[0;34m:\u001b[0m\u001b[0;34m\u001b[0m\u001b[0;34m\u001b[0m\u001b[0m\n\u001b[1;32m    716\u001b[0m             \u001b[0mfit_params\u001b[0m\u001b[0;34m[\u001b[0m\u001b[0;34m\"sample_weight\"\u001b[0m\u001b[0;34m]\u001b[0m \u001b[0;34m=\u001b[0m \u001b[0msample_weight\u001b[0m\u001b[0;34m\u001b[0m\u001b[0;34m\u001b[0m\u001b[0m\n\u001b[0;32m--> 717\u001b[0;31m         \u001b[0;32mreturn\u001b[0m \u001b[0msuper\u001b[0m\u001b[0;34m(\u001b[0m\u001b[0;34m)\u001b[0m\u001b[0;34m.\u001b[0m\u001b[0mfit\u001b[0m\u001b[0;34m(\u001b[0m\u001b[0mX\u001b[0m\u001b[0;34m,\u001b[0m \u001b[0my_encoded\u001b[0m\u001b[0;34m,\u001b[0m \u001b[0;34m**\u001b[0m\u001b[0mfit_params\u001b[0m\u001b[0;34m)\u001b[0m\u001b[0;34m\u001b[0m\u001b[0;34m\u001b[0m\u001b[0m\n\u001b[0m\u001b[1;32m    718\u001b[0m \u001b[0;34m\u001b[0m\u001b[0m\n\u001b[1;32m    719\u001b[0m     @available_if(\n",
            "\u001b[0;32m/usr/local/lib/python3.11/dist-packages/sklearn/base.py\u001b[0m in \u001b[0;36mwrapper\u001b[0;34m(estimator, *args, **kwargs)\u001b[0m\n\u001b[1;32m   1387\u001b[0m                 )\n\u001b[1;32m   1388\u001b[0m             ):\n\u001b[0;32m-> 1389\u001b[0;31m                 \u001b[0;32mreturn\u001b[0m \u001b[0mfit_method\u001b[0m\u001b[0;34m(\u001b[0m\u001b[0mestimator\u001b[0m\u001b[0;34m,\u001b[0m \u001b[0;34m*\u001b[0m\u001b[0margs\u001b[0m\u001b[0;34m,\u001b[0m \u001b[0;34m**\u001b[0m\u001b[0mkwargs\u001b[0m\u001b[0;34m)\u001b[0m\u001b[0;34m\u001b[0m\u001b[0;34m\u001b[0m\u001b[0m\n\u001b[0m\u001b[1;32m   1390\u001b[0m \u001b[0;34m\u001b[0m\u001b[0m\n\u001b[1;32m   1391\u001b[0m         \u001b[0;32mreturn\u001b[0m \u001b[0mwrapper\u001b[0m\u001b[0;34m\u001b[0m\u001b[0;34m\u001b[0m\u001b[0m\n",
            "\u001b[0;32m/usr/local/lib/python3.11/dist-packages/sklearn/ensemble/_stacking.py\u001b[0m in \u001b[0;36mfit\u001b[0;34m(self, X, y, **fit_params)\u001b[0m\n\u001b[1;32m    252\u001b[0m                 \u001b[0mcv\u001b[0m\u001b[0;34m.\u001b[0m\u001b[0mrandom_state\u001b[0m \u001b[0;34m=\u001b[0m \u001b[0mnp\u001b[0m\u001b[0;34m.\u001b[0m\u001b[0mrandom\u001b[0m\u001b[0;34m.\u001b[0m\u001b[0mRandomState\u001b[0m\u001b[0;34m(\u001b[0m\u001b[0;34m)\u001b[0m\u001b[0;34m\u001b[0m\u001b[0;34m\u001b[0m\u001b[0m\n\u001b[1;32m    253\u001b[0m \u001b[0;34m\u001b[0m\u001b[0m\n\u001b[0;32m--> 254\u001b[0;31m             predictions = Parallel(n_jobs=self.n_jobs)(\n\u001b[0m\u001b[1;32m    255\u001b[0m                 delayed(cross_val_predict)(\n\u001b[1;32m    256\u001b[0m                     \u001b[0mclone\u001b[0m\u001b[0;34m(\u001b[0m\u001b[0mest\u001b[0m\u001b[0;34m)\u001b[0m\u001b[0;34m,\u001b[0m\u001b[0;34m\u001b[0m\u001b[0;34m\u001b[0m\u001b[0m\n",
            "\u001b[0;32m/usr/local/lib/python3.11/dist-packages/sklearn/utils/parallel.py\u001b[0m in \u001b[0;36m__call__\u001b[0;34m(self, iterable)\u001b[0m\n\u001b[1;32m     75\u001b[0m             \u001b[0;32mfor\u001b[0m \u001b[0mdelayed_func\u001b[0m\u001b[0;34m,\u001b[0m \u001b[0margs\u001b[0m\u001b[0;34m,\u001b[0m \u001b[0mkwargs\u001b[0m \u001b[0;32min\u001b[0m \u001b[0miterable\u001b[0m\u001b[0;34m\u001b[0m\u001b[0;34m\u001b[0m\u001b[0m\n\u001b[1;32m     76\u001b[0m         )\n\u001b[0;32m---> 77\u001b[0;31m         \u001b[0;32mreturn\u001b[0m \u001b[0msuper\u001b[0m\u001b[0;34m(\u001b[0m\u001b[0;34m)\u001b[0m\u001b[0;34m.\u001b[0m\u001b[0m__call__\u001b[0m\u001b[0;34m(\u001b[0m\u001b[0miterable_with_config\u001b[0m\u001b[0;34m)\u001b[0m\u001b[0;34m\u001b[0m\u001b[0;34m\u001b[0m\u001b[0m\n\u001b[0m\u001b[1;32m     78\u001b[0m \u001b[0;34m\u001b[0m\u001b[0m\n\u001b[1;32m     79\u001b[0m \u001b[0;34m\u001b[0m\u001b[0m\n",
            "\u001b[0;32m/usr/local/lib/python3.11/dist-packages/joblib/parallel.py\u001b[0m in \u001b[0;36m__call__\u001b[0;34m(self, iterable)\u001b[0m\n\u001b[1;32m   1916\u001b[0m             \u001b[0moutput\u001b[0m \u001b[0;34m=\u001b[0m \u001b[0mself\u001b[0m\u001b[0;34m.\u001b[0m\u001b[0m_get_sequential_output\u001b[0m\u001b[0;34m(\u001b[0m\u001b[0miterable\u001b[0m\u001b[0;34m)\u001b[0m\u001b[0;34m\u001b[0m\u001b[0;34m\u001b[0m\u001b[0m\n\u001b[1;32m   1917\u001b[0m             \u001b[0mnext\u001b[0m\u001b[0;34m(\u001b[0m\u001b[0moutput\u001b[0m\u001b[0;34m)\u001b[0m\u001b[0;34m\u001b[0m\u001b[0;34m\u001b[0m\u001b[0m\n\u001b[0;32m-> 1918\u001b[0;31m             \u001b[0;32mreturn\u001b[0m \u001b[0moutput\u001b[0m \u001b[0;32mif\u001b[0m \u001b[0mself\u001b[0m\u001b[0;34m.\u001b[0m\u001b[0mreturn_generator\u001b[0m \u001b[0;32melse\u001b[0m \u001b[0mlist\u001b[0m\u001b[0;34m(\u001b[0m\u001b[0moutput\u001b[0m\u001b[0;34m)\u001b[0m\u001b[0;34m\u001b[0m\u001b[0;34m\u001b[0m\u001b[0m\n\u001b[0m\u001b[1;32m   1919\u001b[0m \u001b[0;34m\u001b[0m\u001b[0m\n\u001b[1;32m   1920\u001b[0m         \u001b[0;31m# Let's create an ID that uniquely identifies the current call. If the\u001b[0m\u001b[0;34m\u001b[0m\u001b[0;34m\u001b[0m\u001b[0m\n",
            "\u001b[0;32m/usr/local/lib/python3.11/dist-packages/joblib/parallel.py\u001b[0m in \u001b[0;36m_get_sequential_output\u001b[0;34m(self, iterable)\u001b[0m\n\u001b[1;32m   1845\u001b[0m                 \u001b[0mself\u001b[0m\u001b[0;34m.\u001b[0m\u001b[0mn_dispatched_batches\u001b[0m \u001b[0;34m+=\u001b[0m \u001b[0;36m1\u001b[0m\u001b[0;34m\u001b[0m\u001b[0;34m\u001b[0m\u001b[0m\n\u001b[1;32m   1846\u001b[0m                 \u001b[0mself\u001b[0m\u001b[0;34m.\u001b[0m\u001b[0mn_dispatched_tasks\u001b[0m \u001b[0;34m+=\u001b[0m \u001b[0;36m1\u001b[0m\u001b[0;34m\u001b[0m\u001b[0;34m\u001b[0m\u001b[0m\n\u001b[0;32m-> 1847\u001b[0;31m                 \u001b[0mres\u001b[0m \u001b[0;34m=\u001b[0m \u001b[0mfunc\u001b[0m\u001b[0;34m(\u001b[0m\u001b[0;34m*\u001b[0m\u001b[0margs\u001b[0m\u001b[0;34m,\u001b[0m \u001b[0;34m**\u001b[0m\u001b[0mkwargs\u001b[0m\u001b[0;34m)\u001b[0m\u001b[0;34m\u001b[0m\u001b[0;34m\u001b[0m\u001b[0m\n\u001b[0m\u001b[1;32m   1848\u001b[0m                 \u001b[0mself\u001b[0m\u001b[0;34m.\u001b[0m\u001b[0mn_completed_tasks\u001b[0m \u001b[0;34m+=\u001b[0m \u001b[0;36m1\u001b[0m\u001b[0;34m\u001b[0m\u001b[0;34m\u001b[0m\u001b[0m\n\u001b[1;32m   1849\u001b[0m                 \u001b[0mself\u001b[0m\u001b[0;34m.\u001b[0m\u001b[0mprint_progress\u001b[0m\u001b[0;34m(\u001b[0m\u001b[0;34m)\u001b[0m\u001b[0;34m\u001b[0m\u001b[0;34m\u001b[0m\u001b[0m\n",
            "\u001b[0;32m/usr/local/lib/python3.11/dist-packages/sklearn/utils/parallel.py\u001b[0m in \u001b[0;36m__call__\u001b[0;34m(self, *args, **kwargs)\u001b[0m\n\u001b[1;32m    137\u001b[0m             \u001b[0mconfig\u001b[0m \u001b[0;34m=\u001b[0m \u001b[0;34m{\u001b[0m\u001b[0;34m}\u001b[0m\u001b[0;34m\u001b[0m\u001b[0;34m\u001b[0m\u001b[0m\n\u001b[1;32m    138\u001b[0m         \u001b[0;32mwith\u001b[0m \u001b[0mconfig_context\u001b[0m\u001b[0;34m(\u001b[0m\u001b[0;34m**\u001b[0m\u001b[0mconfig\u001b[0m\u001b[0;34m)\u001b[0m\u001b[0;34m:\u001b[0m\u001b[0;34m\u001b[0m\u001b[0;34m\u001b[0m\u001b[0m\n\u001b[0;32m--> 139\u001b[0;31m             \u001b[0;32mreturn\u001b[0m \u001b[0mself\u001b[0m\u001b[0;34m.\u001b[0m\u001b[0mfunction\u001b[0m\u001b[0;34m(\u001b[0m\u001b[0;34m*\u001b[0m\u001b[0margs\u001b[0m\u001b[0;34m,\u001b[0m \u001b[0;34m**\u001b[0m\u001b[0mkwargs\u001b[0m\u001b[0;34m)\u001b[0m\u001b[0;34m\u001b[0m\u001b[0;34m\u001b[0m\u001b[0m\n\u001b[0m\u001b[1;32m    140\u001b[0m \u001b[0;34m\u001b[0m\u001b[0m\n\u001b[1;32m    141\u001b[0m \u001b[0;34m\u001b[0m\u001b[0m\n",
            "\u001b[0;32m/usr/local/lib/python3.11/dist-packages/sklearn/utils/_param_validation.py\u001b[0m in \u001b[0;36mwrapper\u001b[0;34m(*args, **kwargs)\u001b[0m\n\u001b[1;32m    214\u001b[0m                     )\n\u001b[1;32m    215\u001b[0m                 ):\n\u001b[0;32m--> 216\u001b[0;31m                     \u001b[0;32mreturn\u001b[0m \u001b[0mfunc\u001b[0m\u001b[0;34m(\u001b[0m\u001b[0;34m*\u001b[0m\u001b[0margs\u001b[0m\u001b[0;34m,\u001b[0m \u001b[0;34m**\u001b[0m\u001b[0mkwargs\u001b[0m\u001b[0;34m)\u001b[0m\u001b[0;34m\u001b[0m\u001b[0;34m\u001b[0m\u001b[0m\n\u001b[0m\u001b[1;32m    217\u001b[0m             \u001b[0;32mexcept\u001b[0m \u001b[0mInvalidParameterError\u001b[0m \u001b[0;32mas\u001b[0m \u001b[0me\u001b[0m\u001b[0;34m:\u001b[0m\u001b[0;34m\u001b[0m\u001b[0;34m\u001b[0m\u001b[0m\n\u001b[1;32m    218\u001b[0m                 \u001b[0;31m# When the function is just a wrapper around an estimator, we allow\u001b[0m\u001b[0;34m\u001b[0m\u001b[0;34m\u001b[0m\u001b[0m\n",
            "\u001b[0;32m/usr/local/lib/python3.11/dist-packages/sklearn/model_selection/_validation.py\u001b[0m in \u001b[0;36mcross_val_predict\u001b[0;34m(estimator, X, y, groups, cv, n_jobs, verbose, params, pre_dispatch, method)\u001b[0m\n\u001b[1;32m   1245\u001b[0m     \u001b[0;31m# independent, and that it is pickle-able.\u001b[0m\u001b[0;34m\u001b[0m\u001b[0;34m\u001b[0m\u001b[0m\n\u001b[1;32m   1246\u001b[0m     \u001b[0mparallel\u001b[0m \u001b[0;34m=\u001b[0m \u001b[0mParallel\u001b[0m\u001b[0;34m(\u001b[0m\u001b[0mn_jobs\u001b[0m\u001b[0;34m=\u001b[0m\u001b[0mn_jobs\u001b[0m\u001b[0;34m,\u001b[0m \u001b[0mverbose\u001b[0m\u001b[0;34m=\u001b[0m\u001b[0mverbose\u001b[0m\u001b[0;34m,\u001b[0m \u001b[0mpre_dispatch\u001b[0m\u001b[0;34m=\u001b[0m\u001b[0mpre_dispatch\u001b[0m\u001b[0;34m)\u001b[0m\u001b[0;34m\u001b[0m\u001b[0;34m\u001b[0m\u001b[0m\n\u001b[0;32m-> 1247\u001b[0;31m     predictions = parallel(\n\u001b[0m\u001b[1;32m   1248\u001b[0m         delayed(_fit_and_predict)(\n\u001b[1;32m   1249\u001b[0m             \u001b[0mclone\u001b[0m\u001b[0;34m(\u001b[0m\u001b[0mestimator\u001b[0m\u001b[0;34m)\u001b[0m\u001b[0;34m,\u001b[0m\u001b[0;34m\u001b[0m\u001b[0;34m\u001b[0m\u001b[0m\n",
            "\u001b[0;32m/usr/local/lib/python3.11/dist-packages/sklearn/utils/parallel.py\u001b[0m in \u001b[0;36m__call__\u001b[0;34m(self, iterable)\u001b[0m\n\u001b[1;32m     75\u001b[0m             \u001b[0;32mfor\u001b[0m \u001b[0mdelayed_func\u001b[0m\u001b[0;34m,\u001b[0m \u001b[0margs\u001b[0m\u001b[0;34m,\u001b[0m \u001b[0mkwargs\u001b[0m \u001b[0;32min\u001b[0m \u001b[0miterable\u001b[0m\u001b[0;34m\u001b[0m\u001b[0;34m\u001b[0m\u001b[0m\n\u001b[1;32m     76\u001b[0m         )\n\u001b[0;32m---> 77\u001b[0;31m         \u001b[0;32mreturn\u001b[0m \u001b[0msuper\u001b[0m\u001b[0;34m(\u001b[0m\u001b[0;34m)\u001b[0m\u001b[0;34m.\u001b[0m\u001b[0m__call__\u001b[0m\u001b[0;34m(\u001b[0m\u001b[0miterable_with_config\u001b[0m\u001b[0;34m)\u001b[0m\u001b[0;34m\u001b[0m\u001b[0;34m\u001b[0m\u001b[0m\n\u001b[0m\u001b[1;32m     78\u001b[0m \u001b[0;34m\u001b[0m\u001b[0m\n\u001b[1;32m     79\u001b[0m \u001b[0;34m\u001b[0m\u001b[0m\n",
            "\u001b[0;32m/usr/local/lib/python3.11/dist-packages/joblib/parallel.py\u001b[0m in \u001b[0;36m__call__\u001b[0;34m(self, iterable)\u001b[0m\n\u001b[1;32m   1916\u001b[0m             \u001b[0moutput\u001b[0m \u001b[0;34m=\u001b[0m \u001b[0mself\u001b[0m\u001b[0;34m.\u001b[0m\u001b[0m_get_sequential_output\u001b[0m\u001b[0;34m(\u001b[0m\u001b[0miterable\u001b[0m\u001b[0;34m)\u001b[0m\u001b[0;34m\u001b[0m\u001b[0;34m\u001b[0m\u001b[0m\n\u001b[1;32m   1917\u001b[0m             \u001b[0mnext\u001b[0m\u001b[0;34m(\u001b[0m\u001b[0moutput\u001b[0m\u001b[0;34m)\u001b[0m\u001b[0;34m\u001b[0m\u001b[0;34m\u001b[0m\u001b[0m\n\u001b[0;32m-> 1918\u001b[0;31m             \u001b[0;32mreturn\u001b[0m \u001b[0moutput\u001b[0m \u001b[0;32mif\u001b[0m \u001b[0mself\u001b[0m\u001b[0;34m.\u001b[0m\u001b[0mreturn_generator\u001b[0m \u001b[0;32melse\u001b[0m \u001b[0mlist\u001b[0m\u001b[0;34m(\u001b[0m\u001b[0moutput\u001b[0m\u001b[0;34m)\u001b[0m\u001b[0;34m\u001b[0m\u001b[0;34m\u001b[0m\u001b[0m\n\u001b[0m\u001b[1;32m   1919\u001b[0m \u001b[0;34m\u001b[0m\u001b[0m\n\u001b[1;32m   1920\u001b[0m         \u001b[0;31m# Let's create an ID that uniquely identifies the current call. If the\u001b[0m\u001b[0;34m\u001b[0m\u001b[0;34m\u001b[0m\u001b[0m\n",
            "\u001b[0;32m/usr/local/lib/python3.11/dist-packages/joblib/parallel.py\u001b[0m in \u001b[0;36m_get_sequential_output\u001b[0;34m(self, iterable)\u001b[0m\n\u001b[1;32m   1845\u001b[0m                 \u001b[0mself\u001b[0m\u001b[0;34m.\u001b[0m\u001b[0mn_dispatched_batches\u001b[0m \u001b[0;34m+=\u001b[0m \u001b[0;36m1\u001b[0m\u001b[0;34m\u001b[0m\u001b[0;34m\u001b[0m\u001b[0m\n\u001b[1;32m   1846\u001b[0m                 \u001b[0mself\u001b[0m\u001b[0;34m.\u001b[0m\u001b[0mn_dispatched_tasks\u001b[0m \u001b[0;34m+=\u001b[0m \u001b[0;36m1\u001b[0m\u001b[0;34m\u001b[0m\u001b[0;34m\u001b[0m\u001b[0m\n\u001b[0;32m-> 1847\u001b[0;31m                 \u001b[0mres\u001b[0m \u001b[0;34m=\u001b[0m \u001b[0mfunc\u001b[0m\u001b[0;34m(\u001b[0m\u001b[0;34m*\u001b[0m\u001b[0margs\u001b[0m\u001b[0;34m,\u001b[0m \u001b[0;34m**\u001b[0m\u001b[0mkwargs\u001b[0m\u001b[0;34m)\u001b[0m\u001b[0;34m\u001b[0m\u001b[0;34m\u001b[0m\u001b[0m\n\u001b[0m\u001b[1;32m   1848\u001b[0m                 \u001b[0mself\u001b[0m\u001b[0;34m.\u001b[0m\u001b[0mn_completed_tasks\u001b[0m \u001b[0;34m+=\u001b[0m \u001b[0;36m1\u001b[0m\u001b[0;34m\u001b[0m\u001b[0;34m\u001b[0m\u001b[0m\n\u001b[1;32m   1849\u001b[0m                 \u001b[0mself\u001b[0m\u001b[0;34m.\u001b[0m\u001b[0mprint_progress\u001b[0m\u001b[0;34m(\u001b[0m\u001b[0;34m)\u001b[0m\u001b[0;34m\u001b[0m\u001b[0;34m\u001b[0m\u001b[0m\n",
            "\u001b[0;32m/usr/local/lib/python3.11/dist-packages/sklearn/utils/parallel.py\u001b[0m in \u001b[0;36m__call__\u001b[0;34m(self, *args, **kwargs)\u001b[0m\n\u001b[1;32m    137\u001b[0m             \u001b[0mconfig\u001b[0m \u001b[0;34m=\u001b[0m \u001b[0;34m{\u001b[0m\u001b[0;34m}\u001b[0m\u001b[0;34m\u001b[0m\u001b[0;34m\u001b[0m\u001b[0m\n\u001b[1;32m    138\u001b[0m         \u001b[0;32mwith\u001b[0m \u001b[0mconfig_context\u001b[0m\u001b[0;34m(\u001b[0m\u001b[0;34m**\u001b[0m\u001b[0mconfig\u001b[0m\u001b[0;34m)\u001b[0m\u001b[0;34m:\u001b[0m\u001b[0;34m\u001b[0m\u001b[0;34m\u001b[0m\u001b[0m\n\u001b[0;32m--> 139\u001b[0;31m             \u001b[0;32mreturn\u001b[0m \u001b[0mself\u001b[0m\u001b[0;34m.\u001b[0m\u001b[0mfunction\u001b[0m\u001b[0;34m(\u001b[0m\u001b[0;34m*\u001b[0m\u001b[0margs\u001b[0m\u001b[0;34m,\u001b[0m \u001b[0;34m**\u001b[0m\u001b[0mkwargs\u001b[0m\u001b[0;34m)\u001b[0m\u001b[0;34m\u001b[0m\u001b[0;34m\u001b[0m\u001b[0m\n\u001b[0m\u001b[1;32m    140\u001b[0m \u001b[0;34m\u001b[0m\u001b[0m\n\u001b[1;32m    141\u001b[0m \u001b[0;34m\u001b[0m\u001b[0m\n",
            "\u001b[0;32m/usr/local/lib/python3.11/dist-packages/sklearn/model_selection/_validation.py\u001b[0m in \u001b[0;36m_fit_and_predict\u001b[0;34m(estimator, X, y, train, test, fit_params, method)\u001b[0m\n\u001b[1;32m   1332\u001b[0m         \u001b[0mestimator\u001b[0m\u001b[0;34m.\u001b[0m\u001b[0mfit\u001b[0m\u001b[0;34m(\u001b[0m\u001b[0mX_train\u001b[0m\u001b[0;34m,\u001b[0m \u001b[0my_train\u001b[0m\u001b[0;34m,\u001b[0m \u001b[0;34m**\u001b[0m\u001b[0mfit_params\u001b[0m\u001b[0;34m)\u001b[0m\u001b[0;34m\u001b[0m\u001b[0;34m\u001b[0m\u001b[0m\n\u001b[1;32m   1333\u001b[0m     \u001b[0mfunc\u001b[0m \u001b[0;34m=\u001b[0m \u001b[0mgetattr\u001b[0m\u001b[0;34m(\u001b[0m\u001b[0mestimator\u001b[0m\u001b[0;34m,\u001b[0m \u001b[0mmethod\u001b[0m\u001b[0;34m)\u001b[0m\u001b[0;34m\u001b[0m\u001b[0;34m\u001b[0m\u001b[0m\n\u001b[0;32m-> 1334\u001b[0;31m     \u001b[0mpredictions\u001b[0m \u001b[0;34m=\u001b[0m \u001b[0mfunc\u001b[0m\u001b[0;34m(\u001b[0m\u001b[0mX_test\u001b[0m\u001b[0;34m)\u001b[0m\u001b[0;34m\u001b[0m\u001b[0;34m\u001b[0m\u001b[0m\n\u001b[0m\u001b[1;32m   1335\u001b[0m \u001b[0;34m\u001b[0m\u001b[0m\n\u001b[1;32m   1336\u001b[0m     encode = (\n",
            "\u001b[0;32m/usr/local/lib/python3.11/dist-packages/sklearn/pipeline.py\u001b[0m in \u001b[0;36mpredict_proba\u001b[0;34m(self, X, **params)\u001b[0m\n\u001b[1;32m    896\u001b[0m         \"\"\"\n\u001b[1;32m    897\u001b[0m         \u001b[0;31m# TODO(1.8): Remove the context manager and use check_is_fitted(self)\u001b[0m\u001b[0;34m\u001b[0m\u001b[0;34m\u001b[0m\u001b[0m\n\u001b[0;32m--> 898\u001b[0;31m         \u001b[0;32mwith\u001b[0m \u001b[0m_raise_or_warn_if_not_fitted\u001b[0m\u001b[0;34m(\u001b[0m\u001b[0mself\u001b[0m\u001b[0;34m)\u001b[0m\u001b[0;34m:\u001b[0m\u001b[0;34m\u001b[0m\u001b[0;34m\u001b[0m\u001b[0m\n\u001b[0m\u001b[1;32m    899\u001b[0m             \u001b[0mXt\u001b[0m \u001b[0;34m=\u001b[0m \u001b[0mX\u001b[0m\u001b[0;34m\u001b[0m\u001b[0;34m\u001b[0m\u001b[0m\n\u001b[1;32m    900\u001b[0m \u001b[0;34m\u001b[0m\u001b[0m\n",
            "\u001b[0;32m/usr/lib/python3.11/contextlib.py\u001b[0m in \u001b[0;36m__exit__\u001b[0;34m(self, typ, value, traceback)\u001b[0m\n\u001b[1;32m    142\u001b[0m         \u001b[0;32mif\u001b[0m \u001b[0mtyp\u001b[0m \u001b[0;32mis\u001b[0m \u001b[0;32mNone\u001b[0m\u001b[0;34m:\u001b[0m\u001b[0;34m\u001b[0m\u001b[0;34m\u001b[0m\u001b[0m\n\u001b[1;32m    143\u001b[0m             \u001b[0;32mtry\u001b[0m\u001b[0;34m:\u001b[0m\u001b[0;34m\u001b[0m\u001b[0;34m\u001b[0m\u001b[0m\n\u001b[0;32m--> 144\u001b[0;31m                 \u001b[0mnext\u001b[0m\u001b[0;34m(\u001b[0m\u001b[0mself\u001b[0m\u001b[0;34m.\u001b[0m\u001b[0mgen\u001b[0m\u001b[0;34m)\u001b[0m\u001b[0;34m\u001b[0m\u001b[0;34m\u001b[0m\u001b[0m\n\u001b[0m\u001b[1;32m    145\u001b[0m             \u001b[0;32mexcept\u001b[0m \u001b[0mStopIteration\u001b[0m\u001b[0;34m:\u001b[0m\u001b[0;34m\u001b[0m\u001b[0;34m\u001b[0m\u001b[0m\n\u001b[1;32m    146\u001b[0m                 \u001b[0;32mreturn\u001b[0m \u001b[0;32mFalse\u001b[0m\u001b[0;34m\u001b[0m\u001b[0;34m\u001b[0m\u001b[0m\n",
            "\u001b[0;32m/usr/local/lib/python3.11/dist-packages/sklearn/pipeline.py\u001b[0m in \u001b[0;36m_raise_or_warn_if_not_fitted\u001b[0;34m(estimator)\u001b[0m\n\u001b[1;32m     58\u001b[0m     \u001b[0;31m# we only get here if the above didn't raise\u001b[0m\u001b[0;34m\u001b[0m\u001b[0;34m\u001b[0m\u001b[0m\n\u001b[1;32m     59\u001b[0m     \u001b[0;32mtry\u001b[0m\u001b[0;34m:\u001b[0m\u001b[0;34m\u001b[0m\u001b[0;34m\u001b[0m\u001b[0m\n\u001b[0;32m---> 60\u001b[0;31m         \u001b[0mcheck_is_fitted\u001b[0m\u001b[0;34m(\u001b[0m\u001b[0mestimator\u001b[0m\u001b[0;34m)\u001b[0m\u001b[0;34m\u001b[0m\u001b[0;34m\u001b[0m\u001b[0m\n\u001b[0m\u001b[1;32m     61\u001b[0m     \u001b[0;32mexcept\u001b[0m \u001b[0mNotFittedError\u001b[0m\u001b[0;34m:\u001b[0m\u001b[0;34m\u001b[0m\u001b[0;34m\u001b[0m\u001b[0m\n\u001b[1;32m     62\u001b[0m         warnings.warn(\n",
            "\u001b[0;32m/usr/local/lib/python3.11/dist-packages/sklearn/utils/validation.py\u001b[0m in \u001b[0;36mcheck_is_fitted\u001b[0;34m(estimator, attributes, msg, all_or_any)\u001b[0m\n\u001b[1;32m   1754\u001b[0m         \u001b[0;32mreturn\u001b[0m\u001b[0;34m\u001b[0m\u001b[0;34m\u001b[0m\u001b[0m\n\u001b[1;32m   1755\u001b[0m \u001b[0;34m\u001b[0m\u001b[0m\n\u001b[0;32m-> 1756\u001b[0;31m     \u001b[0;32mif\u001b[0m \u001b[0;32mnot\u001b[0m \u001b[0m_is_fitted\u001b[0m\u001b[0;34m(\u001b[0m\u001b[0mestimator\u001b[0m\u001b[0;34m,\u001b[0m \u001b[0mattributes\u001b[0m\u001b[0;34m,\u001b[0m \u001b[0mall_or_any\u001b[0m\u001b[0;34m)\u001b[0m\u001b[0;34m:\u001b[0m\u001b[0;34m\u001b[0m\u001b[0;34m\u001b[0m\u001b[0m\n\u001b[0m\u001b[1;32m   1757\u001b[0m         \u001b[0;32mraise\u001b[0m \u001b[0mNotFittedError\u001b[0m\u001b[0;34m(\u001b[0m\u001b[0mmsg\u001b[0m \u001b[0;34m%\u001b[0m \u001b[0;34m{\u001b[0m\u001b[0;34m\"name\"\u001b[0m\u001b[0;34m:\u001b[0m \u001b[0mtype\u001b[0m\u001b[0;34m(\u001b[0m\u001b[0mestimator\u001b[0m\u001b[0;34m)\u001b[0m\u001b[0;34m.\u001b[0m\u001b[0m__name__\u001b[0m\u001b[0;34m}\u001b[0m\u001b[0;34m)\u001b[0m\u001b[0;34m\u001b[0m\u001b[0;34m\u001b[0m\u001b[0m\n\u001b[1;32m   1758\u001b[0m \u001b[0;34m\u001b[0m\u001b[0m\n",
            "\u001b[0;32m/usr/local/lib/python3.11/dist-packages/sklearn/utils/validation.py\u001b[0m in \u001b[0;36m_is_fitted\u001b[0;34m(estimator, attributes, all_or_any)\u001b[0m\n\u001b[1;32m   1663\u001b[0m \u001b[0;34m\u001b[0m\u001b[0m\n\u001b[1;32m   1664\u001b[0m     \u001b[0;32mif\u001b[0m \u001b[0mhasattr\u001b[0m\u001b[0;34m(\u001b[0m\u001b[0mestimator\u001b[0m\u001b[0;34m,\u001b[0m \u001b[0;34m\"__sklearn_is_fitted__\"\u001b[0m\u001b[0;34m)\u001b[0m\u001b[0;34m:\u001b[0m\u001b[0;34m\u001b[0m\u001b[0;34m\u001b[0m\u001b[0m\n\u001b[0;32m-> 1665\u001b[0;31m         \u001b[0;32mreturn\u001b[0m \u001b[0mestimator\u001b[0m\u001b[0;34m.\u001b[0m\u001b[0m__sklearn_is_fitted__\u001b[0m\u001b[0;34m(\u001b[0m\u001b[0;34m)\u001b[0m\u001b[0;34m\u001b[0m\u001b[0;34m\u001b[0m\u001b[0m\n\u001b[0m\u001b[1;32m   1666\u001b[0m \u001b[0;34m\u001b[0m\u001b[0m\n\u001b[1;32m   1667\u001b[0m     fitted_attrs = [\n",
            "\u001b[0;32m/usr/local/lib/python3.11/dist-packages/sklearn/pipeline.py\u001b[0m in \u001b[0;36m__sklearn_is_fitted__\u001b[0;34m(self)\u001b[0m\n\u001b[1;32m   1319\u001b[0m             \u001b[0;31m# means the previous steps should also be fit. This is faster than\u001b[0m\u001b[0;34m\u001b[0m\u001b[0;34m\u001b[0m\u001b[0m\n\u001b[1;32m   1320\u001b[0m             \u001b[0;31m# checking if every step of the pipeline is fit.\u001b[0m\u001b[0;34m\u001b[0m\u001b[0;34m\u001b[0m\u001b[0m\n\u001b[0;32m-> 1321\u001b[0;31m             \u001b[0mcheck_is_fitted\u001b[0m\u001b[0;34m(\u001b[0m\u001b[0mlast_step\u001b[0m\u001b[0;34m)\u001b[0m\u001b[0;34m\u001b[0m\u001b[0;34m\u001b[0m\u001b[0m\n\u001b[0m\u001b[1;32m   1322\u001b[0m             \u001b[0;32mreturn\u001b[0m \u001b[0;32mTrue\u001b[0m\u001b[0;34m\u001b[0m\u001b[0;34m\u001b[0m\u001b[0m\n\u001b[1;32m   1323\u001b[0m         \u001b[0;32mexcept\u001b[0m \u001b[0mNotFittedError\u001b[0m\u001b[0;34m:\u001b[0m\u001b[0;34m\u001b[0m\u001b[0;34m\u001b[0m\u001b[0m\n",
            "\u001b[0;32m/usr/local/lib/python3.11/dist-packages/sklearn/utils/validation.py\u001b[0m in \u001b[0;36mcheck_is_fitted\u001b[0;34m(estimator, attributes, msg, all_or_any)\u001b[0m\n\u001b[1;32m   1749\u001b[0m         \u001b[0;32mraise\u001b[0m \u001b[0mTypeError\u001b[0m\u001b[0;34m(\u001b[0m\u001b[0;34m\"%s is not an estimator instance.\"\u001b[0m \u001b[0;34m%\u001b[0m \u001b[0;34m(\u001b[0m\u001b[0mestimator\u001b[0m\u001b[0;34m)\u001b[0m\u001b[0;34m)\u001b[0m\u001b[0;34m\u001b[0m\u001b[0;34m\u001b[0m\u001b[0m\n\u001b[1;32m   1750\u001b[0m \u001b[0;34m\u001b[0m\u001b[0m\n\u001b[0;32m-> 1751\u001b[0;31m     \u001b[0mtags\u001b[0m \u001b[0;34m=\u001b[0m \u001b[0mget_tags\u001b[0m\u001b[0;34m(\u001b[0m\u001b[0mestimator\u001b[0m\u001b[0;34m)\u001b[0m\u001b[0;34m\u001b[0m\u001b[0;34m\u001b[0m\u001b[0m\n\u001b[0m\u001b[1;32m   1752\u001b[0m \u001b[0;34m\u001b[0m\u001b[0m\n\u001b[1;32m   1753\u001b[0m     \u001b[0;32mif\u001b[0m \u001b[0;32mnot\u001b[0m \u001b[0mtags\u001b[0m\u001b[0;34m.\u001b[0m\u001b[0mrequires_fit\u001b[0m \u001b[0;32mand\u001b[0m \u001b[0mattributes\u001b[0m \u001b[0;32mis\u001b[0m \u001b[0;32mNone\u001b[0m\u001b[0;34m:\u001b[0m\u001b[0;34m\u001b[0m\u001b[0;34m\u001b[0m\u001b[0m\n",
            "\u001b[0;32m/usr/local/lib/python3.11/dist-packages/sklearn/utils/_tags.py\u001b[0m in \u001b[0;36mget_tags\u001b[0;34m(estimator)\u001b[0m\n\u001b[1;32m    428\u001b[0m         \u001b[0;32mfor\u001b[0m \u001b[0mklass\u001b[0m \u001b[0;32min\u001b[0m \u001b[0mreversed\u001b[0m\u001b[0;34m(\u001b[0m\u001b[0mtype\u001b[0m\u001b[0;34m(\u001b[0m\u001b[0mestimator\u001b[0m\u001b[0;34m)\u001b[0m\u001b[0;34m.\u001b[0m\u001b[0mmro\u001b[0m\u001b[0;34m(\u001b[0m\u001b[0;34m)\u001b[0m\u001b[0;34m)\u001b[0m\u001b[0;34m:\u001b[0m\u001b[0;34m\u001b[0m\u001b[0;34m\u001b[0m\u001b[0m\n\u001b[1;32m    429\u001b[0m             \u001b[0;32mif\u001b[0m \u001b[0;34m\"__sklearn_tags__\"\u001b[0m \u001b[0;32min\u001b[0m \u001b[0mvars\u001b[0m\u001b[0;34m(\u001b[0m\u001b[0mklass\u001b[0m\u001b[0;34m)\u001b[0m\u001b[0;34m:\u001b[0m\u001b[0;34m\u001b[0m\u001b[0;34m\u001b[0m\u001b[0m\n\u001b[0;32m--> 430\u001b[0;31m                 \u001b[0msklearn_tags_provider\u001b[0m\u001b[0;34m[\u001b[0m\u001b[0mklass\u001b[0m\u001b[0;34m]\u001b[0m \u001b[0;34m=\u001b[0m \u001b[0mklass\u001b[0m\u001b[0;34m.\u001b[0m\u001b[0m__sklearn_tags__\u001b[0m\u001b[0;34m(\u001b[0m\u001b[0mestimator\u001b[0m\u001b[0;34m)\u001b[0m  \u001b[0;31m# type: ignore[attr-defined]\u001b[0m\u001b[0;34m\u001b[0m\u001b[0;34m\u001b[0m\u001b[0m\n\u001b[0m\u001b[1;32m    431\u001b[0m                 \u001b[0mclass_order\u001b[0m\u001b[0;34m.\u001b[0m\u001b[0mappend\u001b[0m\u001b[0;34m(\u001b[0m\u001b[0mklass\u001b[0m\u001b[0;34m)\u001b[0m\u001b[0;34m\u001b[0m\u001b[0;34m\u001b[0m\u001b[0m\n\u001b[1;32m    432\u001b[0m             \u001b[0;32melif\u001b[0m \u001b[0;34m\"_more_tags\"\u001b[0m \u001b[0;32min\u001b[0m \u001b[0mvars\u001b[0m\u001b[0;34m(\u001b[0m\u001b[0mklass\u001b[0m\u001b[0;34m)\u001b[0m\u001b[0;34m:\u001b[0m\u001b[0;34m\u001b[0m\u001b[0;34m\u001b[0m\u001b[0m\n",
            "\u001b[0;32m/usr/local/lib/python3.11/dist-packages/sklearn/base.py\u001b[0m in \u001b[0;36m__sklearn_tags__\u001b[0;34m(self)\u001b[0m\n\u001b[1;32m    538\u001b[0m \u001b[0;34m\u001b[0m\u001b[0m\n\u001b[1;32m    539\u001b[0m     \u001b[0;32mdef\u001b[0m \u001b[0m__sklearn_tags__\u001b[0m\u001b[0;34m(\u001b[0m\u001b[0mself\u001b[0m\u001b[0;34m)\u001b[0m\u001b[0;34m:\u001b[0m\u001b[0;34m\u001b[0m\u001b[0;34m\u001b[0m\u001b[0m\n\u001b[0;32m--> 540\u001b[0;31m         \u001b[0mtags\u001b[0m \u001b[0;34m=\u001b[0m \u001b[0msuper\u001b[0m\u001b[0;34m(\u001b[0m\u001b[0;34m)\u001b[0m\u001b[0;34m.\u001b[0m\u001b[0m__sklearn_tags__\u001b[0m\u001b[0;34m(\u001b[0m\u001b[0;34m)\u001b[0m\u001b[0;34m\u001b[0m\u001b[0;34m\u001b[0m\u001b[0m\n\u001b[0m\u001b[1;32m    541\u001b[0m         \u001b[0mtags\u001b[0m\u001b[0;34m.\u001b[0m\u001b[0mestimator_type\u001b[0m \u001b[0;34m=\u001b[0m \u001b[0;34m\"classifier\"\u001b[0m\u001b[0;34m\u001b[0m\u001b[0;34m\u001b[0m\u001b[0m\n\u001b[1;32m    542\u001b[0m         \u001b[0mtags\u001b[0m\u001b[0;34m.\u001b[0m\u001b[0mclassifier_tags\u001b[0m \u001b[0;34m=\u001b[0m \u001b[0mClassifierTags\u001b[0m\u001b[0;34m(\u001b[0m\u001b[0;34m)\u001b[0m\u001b[0;34m\u001b[0m\u001b[0;34m\u001b[0m\u001b[0m\n",
            "\u001b[0;31mAttributeError\u001b[0m: 'super' object has no attribute '__sklearn_tags__'"
          ]
        }
      ]
    },
    {
      "cell_type": "code",
      "source": [
        "import shap\n",
        "import lime\n",
        "import lime.lime_tabular\n",
        "import pickle\n",
        "import numpy as np\n",
        "import pandas as pd\n",
        "import matplotlib.pyplot as plt\n",
        "\n",
        "# Load trained models\n",
        "with open('nn_model.pkl', 'rb') as file:\n",
        "    nn_model = pickle.load(file)\n",
        "\n",
        "with open('svm_model_tuned.pkl', 'rb') as file:\n",
        "    svm_model = pickle.load(file)\n",
        "\n",
        "with open('xgb_model.pkl', 'rb') as file:\n",
        "    xgb_model = pickle.load(file)\n",
        "\n",
        "# Load scaler and feature names\n",
        "with open('scaler.pkl', 'rb') as file:\n",
        "    scaler = pickle.load(file)\n",
        "\n",
        "with open('feature_names.pkl', 'rb') as file:\n",
        "    feature_names = pickle.load(file)\n",
        "\n",
        "# Assume input_scaled is already prepared\n",
        "# input_scaled = scaler.transform(input_df)\n",
        "\n",
        "# --- SHAP Analysis ---\n",
        "shap.initjs()\n",
        "\n",
        "# SHAP for XGBoost (Tree-based model)\n",
        "explainer_xgb = shap.Explainer(xgb_model, feature_names=feature_names)\n",
        "shap_values_xgb = explainer_xgb(input_scaled)\n",
        "shap.summary_plot(shap_values_xgb, feature_names=feature_names)\n",
        "plt.show()\n",
        "\n",
        "# SHAP for Neural Network (Kernel-based method)\n",
        "explainer_nn = shap.KernelExplainer(nn_model.predict_proba, shap.sample(input_scaled, 100))\n",
        "shap_values_nn = explainer_nn.shap_values(input_scaled)\n",
        "shap.summary_plot(shap_values_nn[1], feature_names=feature_names)\n",
        "plt.show()\n",
        "\n",
        "# SHAP for SVM\n",
        "explainer_svm = shap.KernelExplainer(svm_model.predict_proba, shap.sample(input_scaled, 100))\n",
        "shap_values_svm = explainer_svm.shap_values(input_scaled)\n",
        "shap.summary_plot(shap_values_svm[1], feature_names=feature_names)\n",
        "plt.show()\n",
        "\n",
        "# --- LIME Analysis ---\n",
        "lime_explainer = lime.lime_tabular.LimeTabularExplainer(\n",
        "    training_data=scaler.transform(pd.DataFrame([user_data], columns=feature_names)),\n",
        "    feature_names=feature_names,\n",
        "    class_names=['No Cancer', 'Cancer'],\n",
        "    discretize_continuous=True\n",
        ")\n",
        "\n",
        "# Explain the prediction\n",
        "exp = lime_explainer.explain_instance(input_scaled[0], nn_model.predict_proba, num_features=len(feature_names))\n",
        "exp.show_in_notebook()"
      ],
      "metadata": {
        "id": "zaosI8DCG3QD"
      },
      "execution_count": null,
      "outputs": []
    },
    {
      "cell_type": "markdown",
      "metadata": {
        "id": "QTwbQnT_hU07"
      },
      "source": [
        "# **Accuracy comparison of models**"
      ]
    },
    {
      "cell_type": "code",
      "execution_count": null,
      "metadata": {
        "id": "bc3YWBQwhVK4"
      },
      "outputs": [],
      "source": [
        "# Create a dictionary to store the results\n",
        "results = {\n",
        "    'Model': ['SVM', 'Neural Network', 'XGBoost'],\n",
        "    'Train Accuracy': [\n",
        "        accuracy_score(y_train, svm_model_best.predict(X_train_scaled)),\n",
        "        accuracy_score(y_train, nn_model_best.predict(X_train_scaled)),\n",
        "        accuracy_score(y_train, xgb_model.predict(X_train_scaled))\n",
        "    ],\n",
        "    'Test Accuracy': [\n",
        "        accuracy_score(y_test, svm_model_best.predict(X_test_scaled)),\n",
        "        accuracy_score(y_test, nn_model_best.predict(X_test_scaled)),\n",
        "        accuracy_score(y_test, xgb_model.predict(X_test_scaled))\n",
        "    ]\n",
        "}\n",
        "\n",
        "# Convert the results into a DataFrame\n",
        "results_df = pd.DataFrame(results)\n",
        "\n",
        "# Plot the comparison\n",
        "results_df.set_index('Model').plot(kind='bar', figsize=(10, 6), color=['skyblue', 'lightgreen'], edgecolor='black')\n",
        "plt.title('Training and Testing Accuracy Comparison of Models')\n",
        "plt.ylabel('Accuracy')\n",
        "plt.xlabel('Models')\n",
        "plt.xticks(rotation=0)\n",
        "plt.ylim(0, 1)  # Set the y-axis limit from 0 to 1 for accuracy\n",
        "plt.show()\n",
        "\n",
        "# Print the results DataFrame\n",
        "print(results_df)\n"
      ]
    },
    {
      "cell_type": "markdown",
      "metadata": {
        "id": "iKUFYIl8kYml"
      },
      "source": []
    },
    {
      "cell_type": "code",
      "execution_count": null,
      "metadata": {
        "id": "pZD5igN9kZIU"
      },
      "outputs": [],
      "source": [
        "import shap\n",
        "import numpy as np\n",
        "import matplotlib.pyplot as plt\n",
        "\n",
        "# Use k-means to summarize the background data\n",
        "background_data = shap.kmeans(X_train_scaled, 100)\n",
        "# Initialize SHAP explainer with the k-means summarized background data\n",
        "explainer = shap.KernelExplainer(nn_model_best.predict_proba, background_data)\n",
        "\n",
        "# Calculate SHAP values for the test data\n",
        "shap_values = explainer.shap_values(X_test_scaled)\n",
        "\n",
        "# Visualize feature importance (summary plot)\n",
        "shap.summary_plot(shap_values, X_test_scaled, feature_names=X.columns)\n",
        "\n",
        "# Visualize SHAP values for a single prediction (force plot)\n",
        "# Use the correct index for sample data\n",
        "sample_index = 0  # Choose the sample index (adjust as needed)\n",
        "\n",
        "# Ensure X_test_scaled is a pandas DataFrame\n",
        "X_test_scaled_df = pd.DataFrame(X_test_scaled, columns=X.columns)\n",
        "\n",
        "shap.force_plot(\n",
        "    explainer.expected_value[1],\n",
        "    shap_values[1][sample_index, :],\n",
        "    X_test_scaled_df.iloc[sample_index, :],\n",
        "    matplotlib=True\n",
        ")\n",
        "\n",
        "# Feature importance bar plot\n",
        "plt.figure(figsize=(5, 5))\n",
        "shap.summary_plot(shap_values, X_test_scaled, feature_names=X.columns, plot_type=\"bar\")\n"
      ]
    },
    {
      "cell_type": "code",
      "execution_count": null,
      "metadata": {
        "id": "ATwTbIFvvZn8"
      },
      "outputs": [],
      "source": [
        "# Install the LIME package if not already installed\n",
        "!pip install lime\n",
        "\n",
        "import lime\n",
        "from lime.lime_tabular import LimeTabularExplainer\n",
        "import numpy as np\n",
        "\n",
        "# Initialize the LIME explainer for the neural network model\n",
        "explainer = LimeTabularExplainer(\n",
        "    training_data=X_train_scaled.values,\n",
        "    feature_names=X.columns,\n",
        "    class_names=['Non-Cancer', 'Cancer'],\n",
        "    mode='classification'\n",
        ")\n",
        "\n",
        "# Select a random sample from the test set for explanation\n",
        "sample_index = np.random.randint(0, len(X_test_scaled))\n",
        "sample_data = X_test_scaled.iloc[sample_index]\n",
        "\n",
        "# Convert the sample data to a NumPy array\n",
        "sample_data_array = sample_data.values.reshape(1, -1)\n",
        "\n",
        "# Generate LIME explanation for the selected sample\n",
        "explanation = explainer.explain_instance(\n",
        "    data_row=sample_data_array[0],\n",
        "    predict_fn=nn_model_best.predict_proba\n",
        ")\n",
        "\n",
        "# Visualize the explanation in the notebook\n",
        "explanation.show_in_notebook(show_table=True)\n",
        "\n",
        "# Save the explanation as an HTML file (optional)\n",
        "explanation.save_to_file(\"lime_explanation_neural_network.html\")\n",
        "\n",
        "print(\"LIME explanation saved as 'lime_explanation_neural_network.html'.\")\n"
      ]
    }
  ],
  "metadata": {
    "colab": {
      "provenance": [],
      "include_colab_link": true
    },
    "kernelspec": {
      "display_name": "Python 3",
      "name": "python3"
    },
    "language_info": {
      "name": "python"
    }
  },
  "nbformat": 4,
  "nbformat_minor": 0
}