{
  "nbformat": 4,
  "nbformat_minor": 0,
  "metadata": {
    "colab": {
      "provenance": [],
      "include_colab_link": true
    },
    "kernelspec": {
      "name": "python3",
      "display_name": "Python 3"
    },
    "language_info": {
      "name": "python"
    },
    "widgets": {
      "application/vnd.jupyter.widget-state+json": {
        "a8ec48e7dd164a8a8ca850f647cefc7e": {
          "model_module": "@jupyter-widgets/controls",
          "model_name": "HBoxModel",
          "model_module_version": "1.5.0",
          "state": {
            "_dom_classes": [],
            "_model_module": "@jupyter-widgets/controls",
            "_model_module_version": "1.5.0",
            "_model_name": "HBoxModel",
            "_view_count": null,
            "_view_module": "@jupyter-widgets/controls",
            "_view_module_version": "1.5.0",
            "_view_name": "HBoxView",
            "box_style": "",
            "children": [
              "IPY_MODEL_262e1f510d73470ea78b5ba5ce6b4dba",
              "IPY_MODEL_9bd62504b63546709f78e016e5ff32f1",
              "IPY_MODEL_d5f90a505a714b52baa28d79b4161047"
            ],
            "layout": "IPY_MODEL_4bfd3a43314f4929a86e7ab237cb493b"
          }
        },
        "262e1f510d73470ea78b5ba5ce6b4dba": {
          "model_module": "@jupyter-widgets/controls",
          "model_name": "HTMLModel",
          "model_module_version": "1.5.0",
          "state": {
            "_dom_classes": [],
            "_model_module": "@jupyter-widgets/controls",
            "_model_module_version": "1.5.0",
            "_model_name": "HTMLModel",
            "_view_count": null,
            "_view_module": "@jupyter-widgets/controls",
            "_view_module_version": "1.5.0",
            "_view_name": "HTMLView",
            "description": "",
            "description_tooltip": null,
            "layout": "IPY_MODEL_b04cdd6fb3c847679bd1e963dc6daea3",
            "placeholder": "​",
            "style": "IPY_MODEL_9ad4bfabf1ba4acc94b583bc45133585",
            "value": "100%"
          }
        },
        "9bd62504b63546709f78e016e5ff32f1": {
          "model_module": "@jupyter-widgets/controls",
          "model_name": "FloatProgressModel",
          "model_module_version": "1.5.0",
          "state": {
            "_dom_classes": [],
            "_model_module": "@jupyter-widgets/controls",
            "_model_module_version": "1.5.0",
            "_model_name": "FloatProgressModel",
            "_view_count": null,
            "_view_module": "@jupyter-widgets/controls",
            "_view_module_version": "1.5.0",
            "_view_name": "ProgressView",
            "bar_style": "success",
            "description": "",
            "description_tooltip": null,
            "layout": "IPY_MODEL_bedc19cd3c8c4212bf09527dff1eb5eb",
            "max": 980,
            "min": 0,
            "orientation": "horizontal",
            "style": "IPY_MODEL_d906eaa55c2f49ef8803cd5368ac1c20",
            "value": 980
          }
        },
        "d5f90a505a714b52baa28d79b4161047": {
          "model_module": "@jupyter-widgets/controls",
          "model_name": "HTMLModel",
          "model_module_version": "1.5.0",
          "state": {
            "_dom_classes": [],
            "_model_module": "@jupyter-widgets/controls",
            "_model_module_version": "1.5.0",
            "_model_name": "HTMLModel",
            "_view_count": null,
            "_view_module": "@jupyter-widgets/controls",
            "_view_module_version": "1.5.0",
            "_view_name": "HTMLView",
            "description": "",
            "description_tooltip": null,
            "layout": "IPY_MODEL_4e7154fc74fa4efb9357e20d27b21e68",
            "placeholder": "​",
            "style": "IPY_MODEL_5771e4edf921454d8aacf0646fe94a23",
            "value": " 980/980 [20:32&lt;00:00,  1.11s/it]"
          }
        },
        "4bfd3a43314f4929a86e7ab237cb493b": {
          "model_module": "@jupyter-widgets/base",
          "model_name": "LayoutModel",
          "model_module_version": "1.2.0",
          "state": {
            "_model_module": "@jupyter-widgets/base",
            "_model_module_version": "1.2.0",
            "_model_name": "LayoutModel",
            "_view_count": null,
            "_view_module": "@jupyter-widgets/base",
            "_view_module_version": "1.2.0",
            "_view_name": "LayoutView",
            "align_content": null,
            "align_items": null,
            "align_self": null,
            "border": null,
            "bottom": null,
            "display": null,
            "flex": null,
            "flex_flow": null,
            "grid_area": null,
            "grid_auto_columns": null,
            "grid_auto_flow": null,
            "grid_auto_rows": null,
            "grid_column": null,
            "grid_gap": null,
            "grid_row": null,
            "grid_template_areas": null,
            "grid_template_columns": null,
            "grid_template_rows": null,
            "height": null,
            "justify_content": null,
            "justify_items": null,
            "left": null,
            "margin": null,
            "max_height": null,
            "max_width": null,
            "min_height": null,
            "min_width": null,
            "object_fit": null,
            "object_position": null,
            "order": null,
            "overflow": null,
            "overflow_x": null,
            "overflow_y": null,
            "padding": null,
            "right": null,
            "top": null,
            "visibility": null,
            "width": null
          }
        },
        "b04cdd6fb3c847679bd1e963dc6daea3": {
          "model_module": "@jupyter-widgets/base",
          "model_name": "LayoutModel",
          "model_module_version": "1.2.0",
          "state": {
            "_model_module": "@jupyter-widgets/base",
            "_model_module_version": "1.2.0",
            "_model_name": "LayoutModel",
            "_view_count": null,
            "_view_module": "@jupyter-widgets/base",
            "_view_module_version": "1.2.0",
            "_view_name": "LayoutView",
            "align_content": null,
            "align_items": null,
            "align_self": null,
            "border": null,
            "bottom": null,
            "display": null,
            "flex": null,
            "flex_flow": null,
            "grid_area": null,
            "grid_auto_columns": null,
            "grid_auto_flow": null,
            "grid_auto_rows": null,
            "grid_column": null,
            "grid_gap": null,
            "grid_row": null,
            "grid_template_areas": null,
            "grid_template_columns": null,
            "grid_template_rows": null,
            "height": null,
            "justify_content": null,
            "justify_items": null,
            "left": null,
            "margin": null,
            "max_height": null,
            "max_width": null,
            "min_height": null,
            "min_width": null,
            "object_fit": null,
            "object_position": null,
            "order": null,
            "overflow": null,
            "overflow_x": null,
            "overflow_y": null,
            "padding": null,
            "right": null,
            "top": null,
            "visibility": null,
            "width": null
          }
        },
        "9ad4bfabf1ba4acc94b583bc45133585": {
          "model_module": "@jupyter-widgets/controls",
          "model_name": "DescriptionStyleModel",
          "model_module_version": "1.5.0",
          "state": {
            "_model_module": "@jupyter-widgets/controls",
            "_model_module_version": "1.5.0",
            "_model_name": "DescriptionStyleModel",
            "_view_count": null,
            "_view_module": "@jupyter-widgets/base",
            "_view_module_version": "1.2.0",
            "_view_name": "StyleView",
            "description_width": ""
          }
        },
        "bedc19cd3c8c4212bf09527dff1eb5eb": {
          "model_module": "@jupyter-widgets/base",
          "model_name": "LayoutModel",
          "model_module_version": "1.2.0",
          "state": {
            "_model_module": "@jupyter-widgets/base",
            "_model_module_version": "1.2.0",
            "_model_name": "LayoutModel",
            "_view_count": null,
            "_view_module": "@jupyter-widgets/base",
            "_view_module_version": "1.2.0",
            "_view_name": "LayoutView",
            "align_content": null,
            "align_items": null,
            "align_self": null,
            "border": null,
            "bottom": null,
            "display": null,
            "flex": null,
            "flex_flow": null,
            "grid_area": null,
            "grid_auto_columns": null,
            "grid_auto_flow": null,
            "grid_auto_rows": null,
            "grid_column": null,
            "grid_gap": null,
            "grid_row": null,
            "grid_template_areas": null,
            "grid_template_columns": null,
            "grid_template_rows": null,
            "height": null,
            "justify_content": null,
            "justify_items": null,
            "left": null,
            "margin": null,
            "max_height": null,
            "max_width": null,
            "min_height": null,
            "min_width": null,
            "object_fit": null,
            "object_position": null,
            "order": null,
            "overflow": null,
            "overflow_x": null,
            "overflow_y": null,
            "padding": null,
            "right": null,
            "top": null,
            "visibility": null,
            "width": null
          }
        },
        "d906eaa55c2f49ef8803cd5368ac1c20": {
          "model_module": "@jupyter-widgets/controls",
          "model_name": "ProgressStyleModel",
          "model_module_version": "1.5.0",
          "state": {
            "_model_module": "@jupyter-widgets/controls",
            "_model_module_version": "1.5.0",
            "_model_name": "ProgressStyleModel",
            "_view_count": null,
            "_view_module": "@jupyter-widgets/base",
            "_view_module_version": "1.2.0",
            "_view_name": "StyleView",
            "bar_color": null,
            "description_width": ""
          }
        },
        "4e7154fc74fa4efb9357e20d27b21e68": {
          "model_module": "@jupyter-widgets/base",
          "model_name": "LayoutModel",
          "model_module_version": "1.2.0",
          "state": {
            "_model_module": "@jupyter-widgets/base",
            "_model_module_version": "1.2.0",
            "_model_name": "LayoutModel",
            "_view_count": null,
            "_view_module": "@jupyter-widgets/base",
            "_view_module_version": "1.2.0",
            "_view_name": "LayoutView",
            "align_content": null,
            "align_items": null,
            "align_self": null,
            "border": null,
            "bottom": null,
            "display": null,
            "flex": null,
            "flex_flow": null,
            "grid_area": null,
            "grid_auto_columns": null,
            "grid_auto_flow": null,
            "grid_auto_rows": null,
            "grid_column": null,
            "grid_gap": null,
            "grid_row": null,
            "grid_template_areas": null,
            "grid_template_columns": null,
            "grid_template_rows": null,
            "height": null,
            "justify_content": null,
            "justify_items": null,
            "left": null,
            "margin": null,
            "max_height": null,
            "max_width": null,
            "min_height": null,
            "min_width": null,
            "object_fit": null,
            "object_position": null,
            "order": null,
            "overflow": null,
            "overflow_x": null,
            "overflow_y": null,
            "padding": null,
            "right": null,
            "top": null,
            "visibility": null,
            "width": null
          }
        },
        "5771e4edf921454d8aacf0646fe94a23": {
          "model_module": "@jupyter-widgets/controls",
          "model_name": "DescriptionStyleModel",
          "model_module_version": "1.5.0",
          "state": {
            "_model_module": "@jupyter-widgets/controls",
            "_model_module_version": "1.5.0",
            "_model_name": "DescriptionStyleModel",
            "_view_count": null,
            "_view_module": "@jupyter-widgets/base",
            "_view_module_version": "1.2.0",
            "_view_name": "StyleView",
            "description_width": ""
          }
        }
      }
    }
  },
  "cells": [
    {
      "cell_type": "markdown",
      "metadata": {
        "id": "view-in-github",
        "colab_type": "text"
      },
      "source": [
        "<a href=\"https://colab.research.google.com/github/tharushaliyanagama/OralCancerEarlyDetection-DSGP/blob/Prediction-of-textual-data-I/Text_Data_Analysis.ipynb\" target=\"_parent\"><img src=\"https://colab.research.google.com/assets/colab-badge.svg\" alt=\"Open In Colab\"/></a>"
      ]
    },
    {
      "cell_type": "markdown",
      "source": [
        "# ***Dataset Analysis***"
      ],
      "metadata": {
        "id": "PWKt2ukqSy2Z"
      }
    },
    {
      "cell_type": "markdown",
      "source": [
        "**1. Import Libraries**"
      ],
      "metadata": {
        "id": "_dUEfxAVgR6d"
      }
    },
    {
      "cell_type": "code",
      "execution_count": null,
      "metadata": {
        "id": "MAC91i2y6AKc"
      },
      "outputs": [],
      "source": [
        "# Import necessary libraries\n",
        "import pandas as pd\n",
        "import numpy as np\n",
        "import seaborn as sns\n",
        "import matplotlib.pyplot as plt\n",
        "from sklearn.model_selection import train_test_split, GridSearchCV, RandomizedSearchCV\n",
        "from sklearn.preprocessing import StandardScaler, OneHotEncoder, LabelEncoder\n",
        "from sklearn.compose import ColumnTransformer\n",
        "from sklearn.impute import SimpleImputer\n",
        "from sklearn.ensemble import RandomForestClassifier\n",
        "from sklearn.linear_model import LogisticRegression\n",
        "from sklearn.svm import SVC\n",
        "from sklearn.neural_network import MLPClassifier\n",
        "from sklearn.metrics import (classification_report, roc_auc_score, accuracy_score, precision_score, recall_score, f1_score)\n",
        "from imblearn.over_sampling import SMOTE\n",
        "from xgboost import XGBClassifier\n",
        "import pickle"
      ]
    },
    {
      "cell_type": "markdown",
      "source": [
        "**2. Load and Inspect the Dataset**"
      ],
      "metadata": {
        "id": "ZJ4I7oWFUrpR"
      }
    },
    {
      "cell_type": "code",
      "source": [
        "from google.colab import drive\n",
        "drive.mount('/content/drive')"
      ],
      "metadata": {
        "id": "iEYu5rBfJdOU",
        "colab": {
          "base_uri": "https://localhost:8080/"
        },
        "outputId": "3663586f-fd0f-4e69-aeb3-5d8ad37ef87e"
      },
      "execution_count": null,
      "outputs": [
        {
          "output_type": "stream",
          "name": "stdout",
          "text": [
            "Mounted at /content/drive\n"
          ]
        }
      ]
    },
    {
      "cell_type": "code",
      "source": [
        "data = pd.read_csv('/content/drive/MyDrive/DSGP/Siyumi/DatasetNew.csv')"
      ],
      "metadata": {
        "id": "-ZyWIf9IKqp-"
      },
      "execution_count": null,
      "outputs": []
    },
    {
      "cell_type": "code",
      "source": [
        "#Display information\n",
        "print(\"Dataset Info:\")\n",
        "print(data.info())"
      ],
      "metadata": {
        "id": "hhg8nrwgSJJm",
        "colab": {
          "base_uri": "https://localhost:8080/"
        },
        "outputId": "4a9747d8-a7b7-4996-c059-ad996af19d75"
      },
      "execution_count": null,
      "outputs": [
        {
          "output_type": "stream",
          "name": "stdout",
          "text": [
            "Dataset Info:\n",
            "<class 'pandas.core.frame.DataFrame'>\n",
            "RangeIndex: 2237 entries, 0 to 2236\n",
            "Data columns (total 12 columns):\n",
            " #   Column                Non-Null Count  Dtype  \n",
            "---  ------                --------------  -----  \n",
            " 0   public_id             2237 non-null   int64  \n",
            " 1   lesion_id             2237 non-null   int64  \n",
            " 2   patient_id            2237 non-null   int64  \n",
            " 3   localization          2237 non-null   object \n",
            " 4   larger_size           2237 non-null   float64\n",
            " 5   tobacco_use           2237 non-null   object \n",
            " 6   alcohol_consumption   2237 non-null   object \n",
            " 7   sun_exposure          2237 non-null   object \n",
            " 8   gender                2237 non-null   object \n",
            " 9   skin_color            2237 non-null   object \n",
            " 10  age_group             2237 non-null   int64  \n",
            " 11  cancer_or_non_cancer  2237 non-null   object \n",
            "dtypes: float64(1), int64(4), object(7)\n",
            "memory usage: 209.8+ KB\n",
            "None\n"
          ]
        }
      ]
    },
    {
      "cell_type": "code",
      "source": [
        "#Load 5 rows\n",
        "print(\"\\nFirst 5 rows:\")\n",
        "print(data.head())"
      ],
      "metadata": {
        "id": "MrNQnwlR2jSn",
        "colab": {
          "base_uri": "https://localhost:8080/"
        },
        "outputId": "a81dcded-1e1c-4f37-e748-a4470916194e"
      },
      "execution_count": null,
      "outputs": [
        {
          "output_type": "stream",
          "name": "stdout",
          "text": [
            "\n",
            "First 5 rows:\n",
            "   public_id  lesion_id  patient_id localization  larger_size tobacco_use  \\\n",
            "0          0         50          48       Tongue          2.0         Yes   \n",
            "1          1         50          48       Tongue          2.0         Yes   \n",
            "2          2         41          39       Tongue          2.5         Yes   \n",
            "3          3         41          39       Tongue          2.5         Yes   \n",
            "4          4         87          81          Lip          1.5      Former   \n",
            "\n",
            "  alcohol_consumption sun_exposure gender skin_color  age_group  \\\n",
            "0                  No           No      M      Black          2   \n",
            "1                  No           No      M      Black          2   \n",
            "2              Former          Yes      M      White          0   \n",
            "3              Former          Yes      M      White          0   \n",
            "4                 Yes          Yes      F      White          0   \n",
            "\n",
            "  cancer_or_non_cancer  \n",
            "0               Cancer  \n",
            "1               Cancer  \n",
            "2               Cancer  \n",
            "3               Cancer  \n",
            "4               Cancer  \n"
          ]
        }
      ]
    },
    {
      "cell_type": "markdown",
      "source": [
        "**3. Understand Numerical Features**"
      ],
      "metadata": {
        "id": "Ron73mnpW3ru"
      }
    },
    {
      "cell_type": "code",
      "source": [
        "# Remove unnecessary features based on correlation and domain knowledge\n",
        "columns_to_drop = ['patient_id', 'public_id', 'lesion_id']  # Irrelevant for prediction\n",
        "print(f\"\\nDropping columns: {columns_to_drop}\")\n",
        "data = data.drop(columns=columns_to_drop)"
      ],
      "metadata": {
        "id": "XSJCa9PSAoBc",
        "colab": {
          "base_uri": "https://localhost:8080/"
        },
        "outputId": "3f7824b3-eb36-431d-91e6-c08a22ebc7ed"
      },
      "execution_count": null,
      "outputs": [
        {
          "output_type": "stream",
          "name": "stdout",
          "text": [
            "\n",
            "Dropping columns: ['patient_id', 'public_id', 'lesion_id']\n"
          ]
        }
      ]
    },
    {
      "cell_type": "code",
      "source": [
        "# Select numeric variables\n",
        "numeric_columns = data.select_dtypes(include=['int64', 'float64'])\n",
        "\n",
        "# Print numeric variables\n",
        "print(\"Numeric Variables:\")\n",
        "print(numeric_columns.head())"
      ],
      "metadata": {
        "id": "skRB_AeWN4bA",
        "colab": {
          "base_uri": "https://localhost:8080/"
        },
        "outputId": "13cd5a84-5489-48d4-b8ce-e7dd7c09a4f4"
      },
      "execution_count": null,
      "outputs": [
        {
          "output_type": "stream",
          "name": "stdout",
          "text": [
            "Numeric Variables:\n",
            "   larger_size  age_group\n",
            "0          2.0          2\n",
            "1          2.0          2\n",
            "2          2.5          0\n",
            "3          2.5          0\n",
            "4          1.5          0\n"
          ]
        }
      ]
    },
    {
      "cell_type": "markdown",
      "source": [
        "**4. Histograms for Numerical Features**"
      ],
      "metadata": {
        "id": "3IBT_cHKU-7V"
      }
    },
    {
      "cell_type": "code",
      "source": [
        "# Plot histograms for specific numerical variables\n",
        "for column in ['larger_size', 'age_group']:\n",
        "    if column in data.select_dtypes(include=['number']).columns:\n",
        "        plt.figure(figsize=(8, 5))\n",
        "        sns.histplot(data, x=column, bins=20, color='skyblue', edgecolor='black')\n",
        "        plt.title(f\"Histogram of {column}\")\n",
        "        plt.xlabel(column)\n",
        "        plt.ylabel(\"Frequency\")\n",
        "        plt.grid(axis='y', alpha=0.75)\n",
        "        plt.show()\n"
      ],
      "metadata": {
        "id": "puqDN0Grb-cr",
        "colab": {
          "base_uri": "https://localhost:8080/",
          "height": 957
        },
        "outputId": "b69f374f-f301-4c84-a6c9-9b1d3081cc33"
      },
      "execution_count": null,
      "outputs": [
        {
          "output_type": "display_data",
          "data": {
            "text/plain": [
              "<Figure size 800x500 with 1 Axes>"
            ],
            "image/png": "[encoded data removed]"
          },
          "metadata": {}
        },
        {
          "output_type": "display_data",
          "data": {
            "text/plain": [
              "<Figure size 800x500 with 1 Axes>"
            ],
            "image/png": "[encoded data removed]"
          },
          "metadata": {}
        }
      ]
    },
    {
      "cell_type": "markdown",
      "source": [
        "**5. Box Plot to Identify Outliers**"
      ],
      "metadata": {
        "id": "CyUhsif0XkR-"
      }
    },
    {
      "cell_type": "code",
      "source": [
        "# Plot box plots for specific numerical variables to identify outliers\n",
        "for column in ['larger_size', 'age_group']:\n",
        "    if column in data.select_dtypes(include=['number']).columns:\n",
        "        plt.figure(figsize=(8, 5))\n",
        "        sns.boxplot(data=data, x=column, color='lightcoral')\n",
        "        plt.title(f\"Box Plot of {column}\")\n",
        "        plt.xlabel(column)\n",
        "        plt.grid(axis='y', alpha=0.75)\n",
        "        plt.show()"
      ],
      "metadata": {
        "id": "yxW7dE7KfVz1",
        "colab": {
          "base_uri": "https://localhost:8080/",
          "height": 957
        },
        "outputId": "39ac5441-3c97-454d-f73d-80a7898e6719"
      },
      "execution_count": null,
      "outputs": [
        {
          "output_type": "display_data",
          "data": {
            "text/plain": [
              "<Figure size 800x500 with 1 Axes>"
            ],
            "image/png": "[encoded data removed]"
          },
          "metadata": {}
        },
        {
          "output_type": "display_data",
          "data": {
            "text/plain": [
              "<Figure size 800x500 with 1 Axes>"
            ],
            "image/png": "[encoded data removed]"
          },
          "metadata": {}
        }
      ]
    },
    {
      "cell_type": "markdown",
      "source": [
        "**6. Handle Outliers using IQR method**"
      ],
      "metadata": {
        "id": "LBF6hXdYX1pM"
      }
    },
    {
      "cell_type": "code",
      "source": [
        "# Calculate the IQR for the 'larger_size' column\n",
        "Q1 = data['larger_size'].quantile(0.25)  # 25th percentile\n",
        "Q3 = data['larger_size'].quantile(0.75)  # 75th percentile\n",
        "IQR = Q3 - Q1  # Interquartile range\n",
        "\n",
        "# Define the lower and upper bounds for outliers\n",
        "lower_bound = Q1 - 1.5 * IQR\n",
        "upper_bound = Q3 + 1.5 * IQR\n",
        "\n",
        "# Filter the data to exclude outliers\n",
        "filtered_data = data[(data['larger_size'] >= lower_bound) & (data['larger_size'] <= upper_bound)]\n",
        "\n",
        "# Display the number of rows removed\n",
        "removed_rows = len(data) - len(filtered_data)\n",
        "print(f\"Outliers removed: {len(data)} remaining rows\")"
      ],
      "metadata": {
        "id": "pU0sfxMTe-IJ",
        "colab": {
          "base_uri": "https://localhost:8080/"
        },
        "outputId": "1c475051-24b4-46d1-b732-702ef345f9ad"
      },
      "execution_count": null,
      "outputs": [
        {
          "output_type": "stream",
          "name": "stdout",
          "text": [
            "Outliers removed: 2237 remaining rows\n"
          ]
        }
      ]
    },
    {
      "cell_type": "markdown",
      "source": [
        "**7. Understand Categorical Features**"
      ],
      "metadata": {
        "id": "B8oGmXDMWl_Q"
      }
    },
    {
      "cell_type": "code",
      "source": [
        "# Select categorical variables\n",
        "categorical_columns = data.select_dtypes(include=['object'])\n",
        "\n",
        "# Print categorical variables\n",
        "print(\"Categorical Variables:\")\n",
        "print(categorical_columns.head())"
      ],
      "metadata": {
        "id": "30n9qqWFOAmZ",
        "colab": {
          "base_uri": "https://localhost:8080/"
        },
        "outputId": "03de2403-b0ec-4ce7-cccf-66a75f061af3"
      },
      "execution_count": null,
      "outputs": [
        {
          "output_type": "stream",
          "name": "stdout",
          "text": [
            "Categorical Variables:\n",
            "  localization tobacco_use alcohol_consumption sun_exposure gender skin_color  \\\n",
            "0       Tongue         Yes                  No           No      M      Black   \n",
            "1       Tongue         Yes                  No           No      M      Black   \n",
            "2       Tongue         Yes              Former          Yes      M      White   \n",
            "3       Tongue         Yes              Former          Yes      M      White   \n",
            "4          Lip      Former                 Yes          Yes      F      White   \n",
            "\n",
            "  cancer_or_non_cancer  \n",
            "0               Cancer  \n",
            "1               Cancer  \n",
            "2               Cancer  \n",
            "3               Cancer  \n",
            "4               Cancer  \n"
          ]
        }
      ]
    },
    {
      "cell_type": "markdown",
      "source": [
        "**8. Unique values of each column**"
      ],
      "metadata": {
        "id": "oEEruxFvYl47"
      }
    },
    {
      "cell_type": "code",
      "source": [
        "# Print unique values for each column\n",
        "print(\"Unique Values in Each Column:\")\n",
        "for column in data.columns:\n",
        "    unique_values = data[column].unique()\n",
        "    print(f\"Column: {column}\")\n",
        "    print(f\"Unique Values: {unique_values}\")\n",
        "    print(\"----\")"
      ],
      "metadata": {
        "id": "8s13LlOvOUJq",
        "colab": {
          "base_uri": "https://localhost:8080/"
        },
        "outputId": "6b2ba8cd-f289-4218-e672-730275af3db3"
      },
      "execution_count": null,
      "outputs": [
        {
          "output_type": "stream",
          "name": "stdout",
          "text": [
            "Unique Values in Each Column:\n",
            "Column: localization\n",
            "Unique Values: ['Tongue' 'Lip' 'Floor of mouth' 'Buccal mucosa' 'Palate' 'Gingiva'\n",
            " 'Cheek' 'Gum' 'Buccal Mucosa']\n",
            "----\n",
            "Column: larger_size\n",
            "Unique Values: [2.  2.5 1.5 0.4 3.  0.  6.  0.7 0.3 1.2 1.  0.2 4.5 0.1 3.5 3.2 5.  0.8\n",
            " 0.5 1.4 1.6 2.1 2.6 1.1 1.8 2.2 2.3 2.9 2.8 2.7 1.9 2.4 1.3 1.7 4.7 3.8\n",
            " 3.7 4.6 4.8 4.1 3.6 4.2 4.  3.1 3.4 4.9 3.3 4.4 3.9 4.3]\n",
            "----\n",
            "Column: tobacco_use\n",
            "Unique Values: ['Yes' 'Former' 'No' 'Not informed']\n",
            "----\n",
            "Column: alcohol_consumption\n",
            "Unique Values: ['No' 'Former' 'Yes' 'Not informed']\n",
            "----\n",
            "Column: sun_exposure\n",
            "Unique Values: ['No' 'Yes' 'Not informed']\n",
            "----\n",
            "Column: gender\n",
            "Unique Values: ['M' 'F']\n",
            "----\n",
            "Column: skin_color\n",
            "Unique Values: ['Black' 'White' 'Not informed' 'Brown' 'Asian' 'Hispanic']\n",
            "----\n",
            "Column: age_group\n",
            "Unique Values: [2 0 1]\n",
            "----\n",
            "Column: cancer_or_non_cancer\n",
            "Unique Values: ['Cancer' 'Non-Cancer']\n",
            "----\n"
          ]
        }
      ]
    },
    {
      "cell_type": "markdown",
      "source": [
        "# **Data Cleaning**"
      ],
      "metadata": {
        "id": "xmrmBzH1Tp1I"
      }
    },
    {
      "cell_type": "markdown",
      "source": [
        "**9. Handle Missing Values**"
      ],
      "metadata": {
        "id": "iw9r-UQfY2b4"
      }
    },
    {
      "cell_type": "code",
      "source": [
        "# Check for missing values\n",
        "print(\"\\nChecking for missing values:\")\n",
        "print(data.isnull().sum())"
      ],
      "metadata": {
        "id": "gPaCAZQYGKr7",
        "colab": {
          "base_uri": "https://localhost:8080/"
        },
        "outputId": "aac07d8d-7fd6-4303-da5a-5f975b119439"
      },
      "execution_count": null,
      "outputs": [
        {
          "output_type": "stream",
          "name": "stdout",
          "text": [
            "\n",
            "Checking for missing values:\n",
            "localization            0\n",
            "larger_size             0\n",
            "tobacco_use             0\n",
            "alcohol_consumption     0\n",
            "sun_exposure            0\n",
            "gender                  0\n",
            "skin_color              0\n",
            "age_group               0\n",
            "cancer_or_non_cancer    0\n",
            "dtype: int64\n"
          ]
        }
      ]
    },
    {
      "cell_type": "markdown",
      "source": [
        "**10. Handle Duplicate Values**"
      ],
      "metadata": {
        "id": "CxELsjKSZBWd"
      }
    },
    {
      "cell_type": "code",
      "source": [
        "# Check for duplicate rows\n",
        "print(f\"\\nNumber of duplicate rows before removal: {data.duplicated().sum()}\")"
      ],
      "metadata": {
        "id": "ROIS_DQWGYn7",
        "colab": {
          "base_uri": "https://localhost:8080/"
        },
        "outputId": "821de9e6-a02a-44af-eb84-a3b7871b9905"
      },
      "execution_count": null,
      "outputs": [
        {
          "output_type": "stream",
          "name": "stdout",
          "text": [
            "\n",
            "Number of duplicate rows before removal: 104\n"
          ]
        }
      ]
    },
    {
      "cell_type": "markdown",
      "source": [
        "# **Feature Engineering**"
      ],
      "metadata": {
        "id": "Ia0vF7D-T2JQ"
      }
    },
    {
      "cell_type": "markdown",
      "source": [
        "**11. Label Encoding**"
      ],
      "metadata": {
        "id": "JzHz8THOZTz9"
      }
    },
    {
      "cell_type": "code",
      "source": [
        "# Encode categorical variables\n",
        "categorical_columns = data.select_dtypes(include=['object']).columns\n",
        "for column in categorical_columns:\n",
        "    if column != 'cancer_or_non_cancer':\n",
        "        print(f\"Column: {column}\")\n",
        "        print(f\"Unique values before encoding: {data[column].unique()}\")\n",
        "\n",
        "        # Apply LabelEncoder\n",
        "        le = LabelEncoder()\n",
        "        data[column] = le.fit_transform(data[column])\n",
        "\n",
        "        print(f\"Unique values after encoding: {data[column].unique()}\")\n",
        "        print(\"-\")"
      ],
      "metadata": {
        "id": "B6pimpVSFWMy",
        "colab": {
          "base_uri": "https://localhost:8080/"
        },
        "outputId": "d3d51e1d-f069-4f0b-8cb3-f66c6294f8cb"
      },
      "execution_count": null,
      "outputs": [
        {
          "output_type": "stream",
          "name": "stdout",
          "text": [
            "Column: localization\n",
            "Unique values before encoding: ['Tongue' 'Lip' 'Floor of mouth' 'Buccal mucosa' 'Palate' 'Gingiva'\n",
            " 'Cheek' 'Gum' 'Buccal Mucosa']\n",
            "Unique values after encoding: [8 6 3 1 7 4 2 5 0]\n",
            "-\n",
            "Column: tobacco_use\n",
            "Unique values before encoding: ['Yes' 'Former' 'No' 'Not informed']\n",
            "Unique values after encoding: [3 0 1 2]\n",
            "-\n",
            "Column: alcohol_consumption\n",
            "Unique values before encoding: ['No' 'Former' 'Yes' 'Not informed']\n",
            "Unique values after encoding: [1 0 3 2]\n",
            "-\n",
            "Column: sun_exposure\n",
            "Unique values before encoding: ['No' 'Yes' 'Not informed']\n",
            "Unique values after encoding: [0 2 1]\n",
            "-\n",
            "Column: gender\n",
            "Unique values before encoding: ['M' 'F']\n",
            "Unique values after encoding: [1 0]\n",
            "-\n",
            "Column: skin_color\n",
            "Unique values before encoding: ['Black' 'White' 'Not informed' 'Brown' 'Asian' 'Hispanic']\n",
            "Unique values after encoding: [1 5 4 2 0 3]\n",
            "-\n"
          ]
        }
      ]
    },
    {
      "cell_type": "markdown",
      "source": [
        "**12. Map Target Variable**"
      ],
      "metadata": {
        "id": "yqvgJ7K_Vm5L"
      }
    },
    {
      "cell_type": "code",
      "source": [
        "# Map target variable to binary\n",
        "data['cancer_or_non_cancer'] = data['cancer_or_non_cancer'].map({'Cancer': 1, 'Non-Cancer': 0})"
      ],
      "metadata": {
        "id": "qkMIuk2j9SA9"
      },
      "execution_count": null,
      "outputs": []
    },
    {
      "cell_type": "markdown",
      "source": [
        "**13. Check Imbalacing of Dataset**"
      ],
      "metadata": {
        "id": "pKY9DJdCV5wq"
      }
    },
    {
      "cell_type": "code",
      "source": [
        "#Analyze Target Imbalance\n",
        "target_column = 'cancer_or_non_cancer'\n",
        "print(\"\\nTarget value distribution:\")\n",
        "print(data[target_column].value_counts())"
      ],
      "metadata": {
        "id": "MgyCSoOO1jrE",
        "colab": {
          "base_uri": "https://localhost:8080/"
        },
        "outputId": "5cb370dd-92a2-4c89-bdb5-17acb543f90f"
      },
      "execution_count": null,
      "outputs": [
        {
          "output_type": "stream",
          "name": "stdout",
          "text": [
            "\n",
            "Target value distribution:\n",
            "cancer_or_non_cancer\n",
            "0    1633\n",
            "1     604\n",
            "Name: count, dtype: int64\n"
          ]
        }
      ]
    },
    {
      "cell_type": "code",
      "source": [
        "#Plot Imbalance dataset\n",
        "data[target_column].value_counts().plot(kind='bar')"
      ],
      "metadata": {
        "id": "QyG4d3wr3TwB",
        "colab": {
          "base_uri": "https://localhost:8080/",
          "height": 462
        },
        "outputId": "3b394762-4f7b-4aab-bbfb-b40af3782e57"
      },
      "execution_count": null,
      "outputs": [
        {
          "output_type": "execute_result",
          "data": {
            "text/plain": [
              "<Axes: xlabel='cancer_or_non_cancer'>"
            ]
          },
          "metadata": {},
          "execution_count": 21
        },
        {
          "output_type": "display_data",
          "data": {
            "text/plain": [
              "<Figure size 640x480 with 1 Axes>"
            ],
            "image/png": "[encoded data removed]"
          },
          "metadata": {}
        }
      ]
    },
    {
      "cell_type": "markdown",
      "source": [
        "**14. Handle Imbalancing Uning SMOTE**"
      ],
      "metadata": {
        "id": "B0Pa2_4fZ-qS"
      }
    },
    {
      "cell_type": "code",
      "source": [
        "# Handle class imbalance using SMOTE\n",
        "X = data.drop(columns=[target_column])\n",
        "y = data[target_column]\n",
        "\n",
        "smote = SMOTE(random_state=42)\n",
        "X_resampled, y_resampled = smote.fit_resample(X, y)\n",
        "\n",
        "print(\"\\nClass distribution after SMOTE:\")\n",
        "print(pd.Series(y_resampled).value_counts())"
      ],
      "metadata": {
        "id": "xx1jqZ7I2GIa",
        "colab": {
          "base_uri": "https://localhost:8080/"
        },
        "outputId": "1dbde71b-6281-4358-832c-95d041b61d1d"
      },
      "execution_count": null,
      "outputs": [
        {
          "output_type": "stream",
          "name": "stdout",
          "text": [
            "\n",
            "Class distribution after SMOTE:\n",
            "cancer_or_non_cancer\n",
            "1    1633\n",
            "0    1633\n",
            "Name: count, dtype: int64\n"
          ]
        }
      ]
    },
    {
      "cell_type": "code",
      "source": [
        " #Plot the balace dataset\n",
        " pd.Series(y_resampled).value_counts().plot(kind='bar')"
      ],
      "metadata": {
        "id": "3AD9iurZ31gH",
        "colab": {
          "base_uri": "https://localhost:8080/",
          "height": 462
        },
        "outputId": "c69ba551-23d4-4298-d6b3-c9628d49cba3"
      },
      "execution_count": null,
      "outputs": [
        {
          "output_type": "execute_result",
          "data": {
            "text/plain": [
              "<Axes: xlabel='cancer_or_non_cancer'>"
            ]
          },
          "metadata": {},
          "execution_count": 23
        },
        {
          "output_type": "display_data",
          "data": {
            "text/plain": [
              "<Figure size 640x480 with 1 Axes>"
            ],
            "image/png": "[encoded data removed]"
          },
          "metadata": {}
        }
      ]
    },
    {
      "cell_type": "markdown",
      "source": [
        "**15. Correlation Analysis**"
      ],
      "metadata": {
        "id": "xSgu5PSS9ldx"
      }
    },
    {
      "cell_type": "code",
      "source": [
        "print(\"\\nCorrelation Analysis:\")\n",
        "correlation_matrix = data.corr()\n",
        "correlation_with_target = correlation_matrix['cancer_or_non_cancer'].sort_values(ascending=False)\n",
        "print(correlation_with_target)"
      ],
      "metadata": {
        "id": "eiar0bmM9kM5",
        "colab": {
          "base_uri": "https://localhost:8080/"
        },
        "outputId": "afe69288-0c00-456e-8d95-da12356e9d80"
      },
      "execution_count": null,
      "outputs": [
        {
          "output_type": "stream",
          "name": "stdout",
          "text": [
            "\n",
            "Correlation Analysis:\n",
            "cancer_or_non_cancer    1.000000\n",
            "localization            0.068836\n",
            "skin_color              0.017312\n",
            "gender                  0.014332\n",
            "age_group               0.012920\n",
            "sun_exposure            0.009561\n",
            "alcohol_consumption     0.008785\n",
            "tobacco_use            -0.005747\n",
            "larger_size            -0.010883\n",
            "Name: cancer_or_non_cancer, dtype: float64\n"
          ]
        }
      ]
    },
    {
      "cell_type": "markdown",
      "source": [
        "**16. Visualization of Correlation values**"
      ],
      "metadata": {
        "id": "Ooc4yCK_ajb_"
      }
    },
    {
      "cell_type": "code",
      "source": [
        "# Visualize correlation with a heatmap\n",
        "plt.figure(figsize=(12, 8))\n",
        "sns.heatmap(correlation_matrix, annot=True, cmap='coolwarm', fmt=\".2f\")\n",
        "plt.title(\"Correlation Matrix\")\n",
        "plt.show()"
      ],
      "metadata": {
        "id": "R7b91vmy94_u",
        "colab": {
          "base_uri": "https://localhost:8080/",
          "height": 840
        },
        "outputId": "26ef8beb-924d-4c5b-d756-4075976eb3a5"
      },
      "execution_count": null,
      "outputs": [
        {
          "output_type": "display_data",
          "data": {
            "text/plain": [
              "<Figure size 1200x800 with 2 Axes>"
            ],
            "image/png": "[encoded data removed]"
          },
          "metadata": {}
        }
      ]
    },
    {
      "cell_type": "markdown",
      "source": [
        "**17. Features Selection**"
      ],
      "metadata": {
        "id": "EmctJ5g2WCVZ"
      }
    },
    {
      "cell_type": "markdown",
      "source": [
        "**18. Dataset Splitting**"
      ],
      "metadata": {
        "id": "4khU2LQAWK9U"
      }
    },
    {
      "cell_type": "code",
      "source": [
        "# Print remaining features\n",
        "print(\"\\nRemaining features after dropping unnecessary columns:\")\n",
        "print(list(data.columns))"
      ],
      "metadata": {
        "colab": {
          "base_uri": "https://localhost:8080/"
        },
        "id": "dgWxWaA4eRWz",
        "outputId": "2d2dfd49-2a64-4605-96b1-ad04ec2ee499"
      },
      "execution_count": null,
      "outputs": [
        {
          "output_type": "stream",
          "name": "stdout",
          "text": [
            "\n",
            "Remaining features after dropping unnecessary columns:\n",
            "['localization', 'larger_size', 'tobacco_use', 'alcohol_consumption', 'sun_exposure', 'gender', 'skin_color', 'age_group', 'cancer_or_non_cancer']\n"
          ]
        }
      ]
    },
    {
      "cell_type": "code",
      "source": [
        "X_train, X_test, y_train, y_test = train_test_split(X_resampled, y_resampled, test_size=0.3, random_state=42)\n",
        "\n",
        "print(f\"Training set size: {X_train.shape[0]}\")\n",
        "print(f\"Test set size: {X_test.shape[0]}\")"
      ],
      "metadata": {
        "id": "kBHS_vi6m6W4",
        "colab": {
          "base_uri": "https://localhost:8080/"
        },
        "outputId": "882f970a-949b-4626-d0ef-f9e5da300ffd"
      },
      "execution_count": null,
      "outputs": [
        {
          "output_type": "stream",
          "name": "stdout",
          "text": [
            "Training set size: 2286\n",
            "Test set size: 980\n"
          ]
        }
      ]
    },
    {
      "cell_type": "markdown",
      "source": [
        "**19. Feature Scaling**"
      ],
      "metadata": {
        "id": "RWjJ0wmbWP99"
      }
    },
    {
      "cell_type": "code",
      "source": [
        "# Standard Scaling\n",
        "scaler = StandardScaler()\n",
        "X_train_scaled = scaler.fit_transform(X_train)\n",
        "X_test_scaled = scaler.transform(X_test)\n",
        "\n",
        "# Save the scaler to use during predictions\n",
        "with open('scaler.pkl', 'wb') as file:\n",
        "    pickle.dump(scaler, file)\n",
        "\n",
        "print(\"Data preprocessing completed.\")"
      ],
      "metadata": {
        "id": "eQ_tjA_cD4eZ",
        "colab": {
          "base_uri": "https://localhost:8080/"
        },
        "outputId": "9599c7f2-0253-4bdb-834c-228ec0f9bd09"
      },
      "execution_count": null,
      "outputs": [
        {
          "output_type": "stream",
          "name": "stdout",
          "text": [
            "Data preprocessing completed.\n"
          ]
        }
      ]
    },
    {
      "cell_type": "markdown",
      "source": [
        "# **SVM Model Training**"
      ],
      "metadata": {
        "id": "7hS_CjaMSNPC"
      }
    },
    {
      "cell_type": "code",
      "source": [
        "import pickle\n",
        "from sklearn.svm import SVC\n",
        "from sklearn.model_selection import GridSearchCV\n",
        "from sklearn.metrics import classification_report, roc_auc_score\n",
        "\n",
        "# Define parameter grid for SVM\n",
        "param_grid_svm = {\n",
        "    'C': [0.1, 1, 10],\n",
        "    'kernel': ['linear', 'rbf'],\n",
        "    'gamma': ['scale', 'auto'],\n",
        "}\n",
        "\n",
        "# Initialize SVM model\n",
        "svm_model = SVC(probability=True, random_state=42)\n",
        "\n",
        "# Perform Grid Search for best hyperparameters\n",
        "grid_search_svm = GridSearchCV(svm_model, param_grid_svm, cv=5, scoring='roc_auc', verbose=1, n_jobs=-1)\n",
        "grid_search_svm.fit(X_train_scaled, y_train)\n",
        "\n",
        "# Retrieve best parameters\n",
        "best_params_svm = grid_search_svm.best_params_\n",
        "print(\"\\nBest Parameters for SVM:\", best_params_svm)\n",
        "\n",
        "# Train the best SVM model\n",
        "svm_model_best = grid_search_svm.best_estimator_\n",
        "\n",
        "# Evaluate on Test Data\n",
        "y_pred_svm = svm_model_best.predict(X_test_scaled)\n",
        "y_prob_svm = svm_model_best.predict_proba(X_test_scaled)[:, 1]\n",
        "\n",
        "print(\"\\n🔹 SVM Classification Report on Test Data:\")\n",
        "print(classification_report(y_test, y_pred_svm))\n",
        "print(f\"🔹 SVM ROC-AUC Score on Test Data: {roc_auc_score(y_test, y_prob_svm):.2f}\")\n",
        "\n",
        "# Evaluate on Training Data\n",
        "y_train_pred_svm = svm_model_best.predict(X_train_scaled)\n",
        "y_train_prob_svm = svm_model_best.predict_proba(X_train_scaled)[:, 1]\n",
        "\n",
        "print(\"\\n🔹 SVM Classification Report on Training Data:\")\n",
        "print(classification_report(y_train, y_train_pred_svm))\n",
        "print(f\"🔹 SVM ROC-AUC Score on Training Data: {roc_auc_score(y_train, y_train_prob_svm):.2f}\")\n",
        "\n",
        "# Save the trained SVM model\n",
        "with open('svm_model_tuned.pkl', 'wb') as file:\n",
        "    pickle.dump(svm_model_best, file)\n",
        "\n",
        "print(\"\\n✅ SVM model saved as 'svm_model_tuned.pkl'.\")"
      ],
      "metadata": {
        "colab": {
          "base_uri": "https://localhost:8080/"
        },
        "id": "qj-bctiIUVg9",
        "outputId": "83e53baa-3a6e-40e6-d445-7485ba4d41ca"
      },
      "execution_count": null,
      "outputs": [
        {
          "output_type": "stream",
          "name": "stdout",
          "text": [
            "Fitting 5 folds for each of 12 candidates, totalling 60 fits\n",
            "\n",
            "Best Parameters for SVM: {'C': 10, 'gamma': 'auto', 'kernel': 'rbf'}\n",
            "\n",
            "🔹 SVM Classification Report on Test Data:\n",
            "              precision    recall  f1-score   support\n",
            "\n",
            "           0       0.68      0.63      0.65       477\n",
            "           1       0.67      0.72      0.70       503\n",
            "\n",
            "    accuracy                           0.68       980\n",
            "   macro avg       0.68      0.68      0.68       980\n",
            "weighted avg       0.68      0.68      0.68       980\n",
            "\n",
            "🔹 SVM ROC-AUC Score on Test Data: 0.74\n",
            "\n",
            "🔹 SVM Classification Report on Training Data:\n",
            "              precision    recall  f1-score   support\n",
            "\n",
            "           0       0.83      0.77      0.80      1156\n",
            "           1       0.78      0.84      0.81      1130\n",
            "\n",
            "    accuracy                           0.80      2286\n",
            "   macro avg       0.80      0.80      0.80      2286\n",
            "weighted avg       0.80      0.80      0.80      2286\n",
            "\n",
            "🔹 SVM ROC-AUC Score on Training Data: 0.88\n",
            "\n",
            "✅ SVM model saved as 'svm_model_tuned.pkl'.\n"
          ]
        }
      ]
    },
    {
      "cell_type": "markdown",
      "source": [
        "# **Neural Network Model Training**"
      ],
      "metadata": {
        "id": "o-ehIhF_SXgB"
      }
    },
    {
      "cell_type": "code",
      "source": [
        "import pickle\n",
        "from sklearn.neural_network import MLPClassifier\n",
        "from sklearn.model_selection import RandomizedSearchCV\n",
        "from sklearn.metrics import classification_report, roc_auc_score\n",
        "\n",
        "# Define hyperparameter grid for Neural Network\n",
        "param_grid_nn = {\n",
        "    'hidden_layer_sizes': [(50,), (100,), (50, 50), (100, 100), (100, 50)],\n",
        "    'activation': ['relu', 'tanh'],\n",
        "    'solver': ['adam', 'sgd'],\n",
        "    'learning_rate': ['constant', 'adaptive'],\n",
        "    'max_iter': [300, 500, 1000],\n",
        "    'alpha': [0.0001, 0.001, 0.01, 0.1, 1]\n",
        "}\n",
        "\n",
        "# Initialize Neural Network model\n",
        "nn_model = MLPClassifier(random_state=42, early_stopping=True, validation_fraction=0.1)\n",
        "\n",
        "# Perform Randomized Search\n",
        "random_search_nn = RandomizedSearchCV(nn_model, param_grid_nn, n_iter=20, cv=3, scoring='roc_auc', verbose=1, n_jobs=-1, random_state=42)\n",
        "random_search_nn.fit(X_train_scaled, y_train)\n",
        "\n",
        "# Retrieve best parameters\n",
        "best_params_nn = random_search_nn.best_params_\n",
        "print(\"\\nBest Parameters for Neural Network:\", best_params_nn)\n",
        "\n",
        "# Train the best Neural Network model\n",
        "nn_model_best = random_search_nn.best_estimator_\n",
        "\n",
        "# Evaluate on Test Data\n",
        "y_pred_nn = nn_model_best.predict(X_test_scaled)\n",
        "y_prob_nn = nn_model_best.predict_proba(X_test_scaled)[:, 1]\n",
        "\n",
        "print(\"\\n🔹 Neural Network Classification Report on Test Data:\")\n",
        "print(classification_report(y_test, y_pred_nn))\n",
        "print(f\"🔹 Neural Network ROC-AUC Score on Test Data: {roc_auc_score(y_test, y_prob_nn):.2f}\")\n",
        "\n",
        "# Evaluate on Training Data\n",
        "y_train_pred_nn = nn_model_best.predict(X_train_scaled)\n",
        "y_train_prob_nn = nn_model_best.predict_proba(X_train_scaled)[:, 1]\n",
        "\n",
        "print(\"\\n🔹 Neural Network Classification Report on Training Data:\")\n",
        "print(classification_report(y_train, y_train_pred_nn))\n",
        "print(f\"🔹 Neural Network ROC-AUC Score on Training Data: {roc_auc_score(y_train, y_train_prob_nn):.2f}\")\n",
        "\n",
        "# Save the trained Neural Network model\n",
        "with open('nn_model.pkl', 'wb') as file:\n",
        "    pickle.dump(nn_model_best, file)\n",
        "\n",
        "print(\"\\n✅ Neural Network model saved as 'nn_model.pkl'.\")\n"
      ],
      "metadata": {
        "colab": {
          "base_uri": "https://localhost:8080/"
        },
        "id": "F9pNJm2chpOY",
        "outputId": "224bdfc3-2bd8-46bd-eeca-dbbfefb3f15f"
      },
      "execution_count": null,
      "outputs": [
        {
          "output_type": "stream",
          "name": "stdout",
          "text": [
            "Fitting 3 folds for each of 20 candidates, totalling 60 fits\n",
            "\n",
            "Best Parameters for Neural Network: {'solver': 'adam', 'max_iter': 500, 'learning_rate': 'constant', 'hidden_layer_sizes': (100, 50), 'alpha': 0.001, 'activation': 'relu'}\n",
            "\n",
            "🔹 Neural Network Classification Report on Test Data:\n",
            "              precision    recall  f1-score   support\n",
            "\n",
            "           0       0.53      0.62      0.57       477\n",
            "           1       0.57      0.49      0.53       503\n",
            "\n",
            "    accuracy                           0.55       980\n",
            "   macro avg       0.55      0.55      0.55       980\n",
            "weighted avg       0.55      0.55      0.55       980\n",
            "\n",
            "🔹 Neural Network ROC-AUC Score on Test Data: 0.59\n",
            "\n",
            "🔹 Neural Network Classification Report on Training Data:\n",
            "              precision    recall  f1-score   support\n",
            "\n",
            "           0       0.60      0.66      0.63      1156\n",
            "           1       0.61      0.54      0.57      1130\n",
            "\n",
            "    accuracy                           0.60      2286\n",
            "   macro avg       0.60      0.60      0.60      2286\n",
            "weighted avg       0.60      0.60      0.60      2286\n",
            "\n",
            "🔹 Neural Network ROC-AUC Score on Training Data: 0.64\n",
            "\n",
            "✅ Neural Network model saved as 'nn_model.pkl'.\n"
          ]
        }
      ]
    },
    {
      "cell_type": "code",
      "source": [
        "import pickle\n",
        "from xgboost import XGBClassifier\n",
        "from sklearn.metrics import classification_report, roc_auc_score\n",
        "\n",
        "# Initialize XGBoost model\n",
        "xgb_model = XGBClassifier(use_label_encoder=False, eval_metric='logloss', random_state=42)\n",
        "\n",
        "# Train the model\n",
        "xgb_model.fit(X_train_scaled, y_train)\n",
        "\n",
        "# Evaluate on Test Data\n",
        "y_pred_xgb = xgb_model.predict(X_test_scaled)\n",
        "y_prob_xgb = xgb_model.predict_proba(X_test_scaled)[:, 1]\n",
        "\n",
        "print(\"\\n🔹 XGBoost Classification Report on Test Data:\")\n",
        "print(classification_report(y_test, y_pred_xgb))\n",
        "print(f\"🔹 XGBoost ROC-AUC Score on Test Data: {roc_auc_score(y_test, y_prob_xgb):.2f}\")\n",
        "\n",
        "# Evaluate on Training Data\n",
        "y_train_pred_xgb = xgb_model.predict(X_train_scaled)\n",
        "y_train_prob_xgb = xgb_model.predict_proba(X_train_scaled)[:, 1]\n",
        "\n",
        "print(\"\\n🔹 XGBoost Classification Report on Training Data:\")\n",
        "print(classification_report(y_train, y_train_pred_xgb))\n",
        "print(f\"🔹 XGBoost ROC-AUC Score on Training Data: {roc_auc_score(y_train, y_train_prob_xgb):.2f}\")\n",
        "\n",
        "# Save the trained XGBoost model\n",
        "with open('xgb_model.pkl', 'wb') as file:\n",
        "    pickle.dump(xgb_model, file)\n",
        "\n",
        "print(\"\\n✅ XGBoost model saved as 'xgb_model.pkl'.\")\n"
      ],
      "metadata": {
        "colab": {
          "base_uri": "https://localhost:8080/"
        },
        "id": "5IStulUlWgzi",
        "outputId": "98c83170-4344-4f9a-a026-c5fa606f34be"
      },
      "execution_count": null,
      "outputs": [
        {
          "output_type": "stream",
          "name": "stderr",
          "text": [
            "/usr/local/lib/python3.11/dist-packages/xgboost/core.py:158: UserWarning: [18:34:35] WARNING: /workspace/src/learner.cc:740: \n",
            "Parameters: { \"use_label_encoder\" } are not used.\n",
            "\n",
            "  warnings.warn(smsg, UserWarning)\n"
          ]
        },
        {
          "output_type": "stream",
          "name": "stdout",
          "text": [
            "\n",
            "🔹 XGBoost Classification Report on Test Data:\n",
            "              precision    recall  f1-score   support\n",
            "\n",
            "           0       0.73      0.77      0.74       477\n",
            "           1       0.77      0.73      0.74       503\n",
            "\n",
            "    accuracy                           0.74       980\n",
            "   macro avg       0.75      0.75      0.74       980\n",
            "weighted avg       0.75      0.74      0.74       980\n",
            "\n",
            "🔹 XGBoost ROC-AUC Score on Test Data: 0.83\n",
            "\n",
            "🔹 XGBoost Classification Report on Training Data:\n",
            "              precision    recall  f1-score   support\n",
            "\n",
            "           0       0.95      0.99      0.97      1156\n",
            "           1       0.99      0.95      0.97      1130\n",
            "\n",
            "    accuracy                           0.97      2286\n",
            "   macro avg       0.97      0.97      0.97      2286\n",
            "weighted avg       0.97      0.97      0.97      2286\n",
            "\n",
            "🔹 XGBoost ROC-AUC Score on Training Data: 1.00\n",
            "\n",
            "✅ XGBoost model saved as 'xgb_model.pkl'.\n"
          ]
        }
      ]
    },
    {
      "cell_type": "code",
      "source": [
        "import pickle\n",
        "import numpy as np\n",
        "import pandas as pd\n",
        "from sklearn.preprocessing import StandardScaler, LabelEncoder\n",
        "\n",
        "# Load the trained Neural Network model\n",
        "with open('nn_model.pkl', 'rb') as file:\n",
        "    nn_model = pickle.load(file)\n",
        "\n",
        "# Load the scaler and feature names from training\n",
        "with open('scaler.pkl', 'rb') as file:\n",
        "    scaler = pickle.load(file)\n",
        "\n",
        "with open('feature_names.pkl', 'rb') as file:\n",
        "    feature_names = pickle.load(file)  # Load the correct feature order from training\n",
        "\n",
        "# Define categorical and numerical features\n",
        "categorical_features = ['localization', 'tobacco_use', 'alcohol_consumption', 'sun_exposure', 'gender', 'skin_color']\n",
        "numerical_features = ['larger_size', 'age_group']\n",
        "\n",
        "# Define label encoders for categorical features (use same mappings as training)\n",
        "label_encoders = {\n",
        "    'localization': LabelEncoder().fit(['Tongue', 'Lip', 'Floor of mouth', 'Buccal mucosa', 'Palate', 'Gingiva', 'Cheek', 'Gum', 'Buccal Mucosa']),\n",
        "    'tobacco_use': LabelEncoder().fit(['Yes', 'Former', 'No', 'Not informed']),\n",
        "    'alcohol_consumption': LabelEncoder().fit(['No', 'Former', 'Yes', 'Not informed']),\n",
        "    'sun_exposure': LabelEncoder().fit(['No', 'Yes', 'Not informed']),\n",
        "    'gender': LabelEncoder().fit(['M', 'F']),\n",
        "    'skin_color': LabelEncoder().fit(['Black', 'White', 'Not informed', 'Brown', 'Asian', 'Hispanic']),\n",
        "}\n",
        "\n",
        "# Define function to categorize age into groups\n",
        "def categorize_age(age):\n",
        "    \"\"\"Convert age into a categorical age group.\"\"\"\n",
        "    if age < 40:\n",
        "        return 0\n",
        "    elif 40 <= age <= 60:\n",
        "        return 1\n",
        "    else:\n",
        "        return 2\n",
        "\n",
        "# Function to get user input\n",
        "def get_user_input():\n",
        "    \"\"\"Take user input for all required features and return a dictionary.\"\"\"\n",
        "    features = ['localization', 'larger_size', 'tobacco_use', 'alcohol_consumption', 'sun_exposure', 'gender', 'skin_color', 'age']\n",
        "    user_data = {}\n",
        "\n",
        "    print(\"\\nEnter values for the following features:\")\n",
        "    for feature in features:\n",
        "        user_data[feature] = input(f\"{feature}: \").strip()\n",
        "\n",
        "    return user_data\n",
        "\n",
        "# Take user input\n",
        "user_data = get_user_input()\n",
        "\n",
        "# Convert age input to numeric and categorize it\n",
        "user_data['age'] = int(user_data['age'])\n",
        "user_data['age_group'] = categorize_age(user_data['age'])\n",
        "\n",
        "# Convert input data into a DataFrame\n",
        "input_df = pd.DataFrame([user_data])\n",
        "\n",
        "# Apply Label Encoding to categorical features (ensure consistency with training)\n",
        "for feature in categorical_features:\n",
        "    if user_data[feature] in label_encoders[feature].classes_:\n",
        "        input_df[feature] = label_encoders[feature].transform([user_data[feature]])\n",
        "    else:\n",
        "        print(f\"⚠️ Warning: Unseen category '{user_data[feature]}' for {feature}. Using 'Not informed' as default.\")\n",
        "        input_df[feature] = label_encoders[feature].transform(['Not informed'])\n",
        "\n",
        "# Ensure numerical columns are correctly formatted\n",
        "input_df[['larger_size', 'age_group']] = input_df[['larger_size', 'age_group']].astype(float)\n",
        "\n",
        "# 🔹 **Ensure features are in the same order as training**\n",
        "input_df = input_df.reindex(columns=feature_names, fill_value=0)\n",
        "\n",
        "# Standard Scaling (Use same scaler from training)\n",
        "input_scaled = scaler.transform(input_df)\n",
        "\n",
        "# Make prediction using Neural Network\n",
        "nn_prob = nn_model.predict_proba(input_scaled)[:, 1]  # Probability of cancer\n",
        "nn_pred = (nn_prob >= 0.5).astype(int)  # Convert probability to binary classification\n",
        "\n",
        "# Display results\n",
        "print(\"\\n🔹 Predicted Probability of Oral Cancer:\")\n",
        "print(f\"   {nn_prob[0]:.4f}\")\n",
        "\n",
        "print(\"\\n🔹 Final Prediction:\")\n",
        "print(\"   🛑 Cancer Detected\" if nn_pred[0] == 1 else \"   ✅ No Cancer Detected\")\n"
      ],
      "metadata": {
        "colab": {
          "base_uri": "https://localhost:8080/",
          "height": 219
        },
        "id": "njWZiDFag2Au",
        "outputId": "bd6147b0-dba3-4016-ce74-66f0d17e1d01"
      },
      "execution_count": null,
      "outputs": [
        {
          "output_type": "error",
          "ename": "FileNotFoundError",
          "evalue": "[Errno 2] No such file or directory: 'feature_names.pkl'",
          "traceback": [
            "\u001b[0;31m---------------------------------------------------------------------------\u001b[0m",
            "\u001b[0;31mFileNotFoundError\u001b[0m                         Traceback (most recent call last)",
            "\u001b[0;32m<ipython-input-45-03330aa2c6db>\u001b[0m in \u001b[0;36m<cell line: 0>\u001b[0;34m()\u001b[0m\n\u001b[1;32m     12\u001b[0m     \u001b[0mscaler\u001b[0m \u001b[0;34m=\u001b[0m \u001b[0mpickle\u001b[0m\u001b[0;34m.\u001b[0m\u001b[0mload\u001b[0m\u001b[0;34m(\u001b[0m\u001b[0mfile\u001b[0m\u001b[0;34m)\u001b[0m\u001b[0;34m\u001b[0m\u001b[0;34m\u001b[0m\u001b[0m\n\u001b[1;32m     13\u001b[0m \u001b[0;34m\u001b[0m\u001b[0m\n\u001b[0;32m---> 14\u001b[0;31m \u001b[0;32mwith\u001b[0m \u001b[0mopen\u001b[0m\u001b[0;34m(\u001b[0m\u001b[0;34m'feature_names.pkl'\u001b[0m\u001b[0;34m,\u001b[0m \u001b[0;34m'rb'\u001b[0m\u001b[0;34m)\u001b[0m \u001b[0;32mas\u001b[0m \u001b[0mfile\u001b[0m\u001b[0;34m:\u001b[0m\u001b[0;34m\u001b[0m\u001b[0;34m\u001b[0m\u001b[0m\n\u001b[0m\u001b[1;32m     15\u001b[0m     \u001b[0mfeature_names\u001b[0m \u001b[0;34m=\u001b[0m \u001b[0mpickle\u001b[0m\u001b[0;34m.\u001b[0m\u001b[0mload\u001b[0m\u001b[0;34m(\u001b[0m\u001b[0mfile\u001b[0m\u001b[0;34m)\u001b[0m  \u001b[0;31m# Load the correct feature order from training\u001b[0m\u001b[0;34m\u001b[0m\u001b[0;34m\u001b[0m\u001b[0m\n\u001b[1;32m     16\u001b[0m \u001b[0;34m\u001b[0m\u001b[0m\n",
            "\u001b[0;31mFileNotFoundError\u001b[0m: [Errno 2] No such file or directory: 'feature_names.pkl'"
          ]
        }
      ]
    },
    {
      "cell_type": "markdown",
      "source": [
        "# **XGBoost Model Training**"
      ],
      "metadata": {
        "id": "QDGZtS1KSk8d"
      }
    },
    {
      "cell_type": "code",
      "source": [
        "# Initialize XGBoost model\n",
        "xgb_model = XGBClassifier(use_label_encoder=False, eval_metric='logloss', random_state=42)\n",
        "\n",
        "# Train the model\n",
        "xgb_model.fit(X_train_scaled, y_train)\n",
        "\n",
        "# Evaluate on Test Data\n",
        "y_pred_xgb = xgb_model.predict(X_test_scaled)\n",
        "y_prob_xgb = xgb_model.predict_proba(X_test_scaled)[:, 1]\n",
        "\n",
        "print(\"\\nXGBoost Classification Report on Test Data:\")\n",
        "print(classification_report(y_test, y_pred_xgb))\n",
        "print(f\"XGBoost ROC-AUC Score on Test Data: {roc_auc_score(y_test, y_prob_xgb):.2f}\")\n",
        "\n",
        "# Evaluate on Training Data (to check for overfitting)\n",
        "y_train_pred_xgb = xgb_model.predict(X_train_scaled)\n",
        "y_train_prob_xgb = xgb_model.predict_proba(X_train_scaled)[:, 1]\n",
        "\n",
        "print(\"\\nXGBoost Classification Report on Training Data:\")\n",
        "print(classification_report(y_train, y_train_pred_xgb))\n",
        "print(f\"XGBoost ROC-AUC Score on Training Data: {roc_auc_score(y_train, y_train_prob_xgb):.2f}\")\n"
      ],
      "metadata": {
        "colab": {
          "base_uri": "https://localhost:8080/"
        },
        "id": "7vSVX27-CHSZ",
        "outputId": "a4b823d4-58de-4a55-f8cb-34fc13aa49d8"
      },
      "execution_count": null,
      "outputs": [
        {
          "output_type": "stream",
          "name": "stderr",
          "text": [
            "/usr/local/lib/python3.11/dist-packages/xgboost/core.py:158: UserWarning: [04:11:35] WARNING: /workspace/src/learner.cc:740: \n",
            "Parameters: { \"use_label_encoder\" } are not used.\n",
            "\n",
            "  warnings.warn(smsg, UserWarning)\n"
          ]
        },
        {
          "output_type": "stream",
          "name": "stdout",
          "text": [
            "\n",
            "XGBoost Classification Report on Test Data:\n",
            "              precision    recall  f1-score   support\n",
            "\n",
            "           0       0.79      0.78      0.78       477\n",
            "           1       0.79      0.80      0.80       503\n",
            "\n",
            "    accuracy                           0.79       980\n",
            "   macro avg       0.79      0.79      0.79       980\n",
            "weighted avg       0.79      0.79      0.79       980\n",
            "\n",
            "XGBoost ROC-AUC Score on Test Data: 0.88\n",
            "\n",
            "XGBoost Classification Report on Training Data:\n",
            "              precision    recall  f1-score   support\n",
            "\n",
            "           0       1.00      1.00      1.00      1156\n",
            "           1       1.00      1.00      1.00      1130\n",
            "\n",
            "    accuracy                           1.00      2286\n",
            "   macro avg       1.00      1.00      1.00      2286\n",
            "weighted avg       1.00      1.00      1.00      2286\n",
            "\n",
            "XGBoost ROC-AUC Score on Training Data: 1.00\n"
          ]
        }
      ]
    },
    {
      "cell_type": "markdown",
      "source": [
        "# **Accuracy comparison of models**"
      ],
      "metadata": {
        "id": "QTwbQnT_hU07"
      }
    },
    {
      "cell_type": "code",
      "source": [
        "# Create a dictionary to store the results\n",
        "results = {\n",
        "    'Model': ['SVM', 'Neural Network', 'XGBoost'],\n",
        "    'Train Accuracy': [\n",
        "        accuracy_score(y_train, svm_model_best.predict(X_train_scaled)),\n",
        "        accuracy_score(y_train, nn_model_best.predict(X_train_scaled)),\n",
        "        accuracy_score(y_train, xgb_model.predict(X_train_scaled))\n",
        "    ],\n",
        "    'Test Accuracy': [\n",
        "        accuracy_score(y_test, svm_model_best.predict(X_test_scaled)),\n",
        "        accuracy_score(y_test, nn_model_best.predict(X_test_scaled)),\n",
        "        accuracy_score(y_test, xgb_model.predict(X_test_scaled))\n",
        "    ]\n",
        "}\n",
        "\n",
        "# Convert the results into a DataFrame\n",
        "results_df = pd.DataFrame(results)\n",
        "\n",
        "# Plot the comparison\n",
        "results_df.set_index('Model').plot(kind='bar', figsize=(10, 6), color=['skyblue', 'lightgreen'], edgecolor='black')\n",
        "plt.title('Training and Testing Accuracy Comparison of Models')\n",
        "plt.ylabel('Accuracy')\n",
        "plt.xlabel('Models')\n",
        "plt.xticks(rotation=0)\n",
        "plt.ylim(0, 1)  # Set the y-axis limit from 0 to 1 for accuracy\n",
        "plt.show()\n",
        "\n",
        "# Print the results DataFrame\n",
        "print(results_df)\n"
      ],
      "metadata": {
        "colab": {
          "base_uri": "https://localhost:8080/",
          "height": 633
        },
        "id": "bc3YWBQwhVK4",
        "outputId": "3f3d9e0f-556e-45f5-d93e-0206c6906bd4"
      },
      "execution_count": null,
      "outputs": [
        {
          "output_type": "display_data",
          "data": {
            "text/plain": [
              "<Figure size 1000x600 with 1 Axes>"
            ],
            "image/png": "[encoded data removed]"
          },
          "metadata": {}
        },
        {
          "output_type": "stream",
          "name": "stdout",
          "text": [
            "            Model  Train Accuracy  Test Accuracy\n",
            "0             SVM        0.903325       0.723469\n",
            "1  Neural Network        0.713036       0.646939\n",
            "2         XGBoost        0.999563       0.788776\n"
          ]
        }
      ]
    },
    {
      "cell_type": "markdown",
      "source": [],
      "metadata": {
        "id": "iKUFYIl8kYml"
      }
    },
    {
      "cell_type": "code",
      "source": [
        "import shap\n",
        "import numpy as np\n",
        "import matplotlib.pyplot as plt\n",
        "\n",
        "# Use k-means to summarize the background data\n",
        "background_data = shap.kmeans(X_train_scaled, 100)\n",
        "# Initialize SHAP explainer with the k-means summarized background data\n",
        "explainer = shap.KernelExplainer(nn_model_best.predict_proba, background_data)\n",
        "\n",
        "# Calculate SHAP values for the test data\n",
        "shap_values = explainer.shap_values(X_test_scaled)\n",
        "\n",
        "# Visualize feature importance (summary plot)\n",
        "shap.summary_plot(shap_values, X_test_scaled, feature_names=X.columns)\n",
        "\n",
        "# Visualize SHAP values for a single prediction (force plot)\n",
        "# Use the correct index for sample data\n",
        "sample_index = 0  # Choose the sample index (adjust as needed)\n",
        "\n",
        "# Ensure X_test_scaled is a pandas DataFrame\n",
        "X_test_scaled_df = pd.DataFrame(X_test_scaled, columns=X.columns)\n",
        "\n",
        "shap.force_plot(\n",
        "    explainer.expected_value[1],\n",
        "    shap_values[1][sample_index, :],\n",
        "    X_test_scaled_df.iloc[sample_index, :],\n",
        "    matplotlib=True\n",
        ")\n",
        "\n",
        "# Feature importance bar plot\n",
        "plt.figure(figsize=(5, 5))\n",
        "shap.summary_plot(shap_values, X_test_scaled, feature_names=X.columns, plot_type=\"bar\")\n"
      ],
      "metadata": {
        "colab": {
          "base_uri": "https://localhost:8080/",
          "height": 1000,
          "referenced_widgets": [
            "a8ec48e7dd164a8a8ca850f647cefc7e",
            "262e1f510d73470ea78b5ba5ce6b4dba",
            "9bd62504b63546709f78e016e5ff32f1",
            "d5f90a505a714b52baa28d79b4161047",
            "4bfd3a43314f4929a86e7ab237cb493b",
            "b04cdd6fb3c847679bd1e963dc6daea3",
            "9ad4bfabf1ba4acc94b583bc45133585",
            "bedc19cd3c8c4212bf09527dff1eb5eb",
            "d906eaa55c2f49ef8803cd5368ac1c20",
            "4e7154fc74fa4efb9357e20d27b21e68",
            "5771e4edf921454d8aacf0646fe94a23"
          ]
        },
        "id": "pZD5igN9kZIU",
        "outputId": "f2d0f0f5-1891-4835-e82f-58364857ea39"
      },
      "execution_count": null,
      "outputs": [
        {
          "output_type": "display_data",
          "data": {
            "text/plain": [
              "  0%|          | 0/980 [00:00<?, ?it/s]"
            ],
            "application/vnd.jupyter.widget-view+json": {
              "version_major": 2,
              "version_minor": 0,
              "model_id": "a8ec48e7dd164a8a8ca850f647cefc7e"
            }
          },
          "metadata": {}
        },
        {
          "output_type": "display_data",
          "data": {
            "text/plain": [
              "<Figure size 1150x660 with 2 Axes>"
            ],
            "image/png": "[encoded data removed]"
          },
          "metadata": {}
        },
        {
          "output_type": "error",
          "ename": "DimensionError",
          "evalue": "Length of features is not equal to the length of shap_values!",
          "traceback": [
            "\u001b[0;31m---------------------------------------------------------------------------\u001b[0m",
            "\u001b[0;31mDimensionError\u001b[0m                            Traceback (most recent call last)",
            "\u001b[0;32m<ipython-input-29-e9f583ccd3cc>\u001b[0m in \u001b[0;36m<cell line: 0>\u001b[0;34m()\u001b[0m\n\u001b[1;32m     21\u001b[0m \u001b[0mX_test_scaled_df\u001b[0m \u001b[0;34m=\u001b[0m \u001b[0mpd\u001b[0m\u001b[0;34m.\u001b[0m\u001b[0mDataFrame\u001b[0m\u001b[0;34m(\u001b[0m\u001b[0mX_test_scaled\u001b[0m\u001b[0;34m,\u001b[0m \u001b[0mcolumns\u001b[0m\u001b[0;34m=\u001b[0m\u001b[0mX\u001b[0m\u001b[0;34m.\u001b[0m\u001b[0mcolumns\u001b[0m\u001b[0;34m)\u001b[0m\u001b[0;34m\u001b[0m\u001b[0;34m\u001b[0m\u001b[0m\n\u001b[1;32m     22\u001b[0m \u001b[0;34m\u001b[0m\u001b[0m\n\u001b[0;32m---> 23\u001b[0;31m shap.force_plot(\n\u001b[0m\u001b[1;32m     24\u001b[0m     \u001b[0mexplainer\u001b[0m\u001b[0;34m.\u001b[0m\u001b[0mexpected_value\u001b[0m\u001b[0;34m[\u001b[0m\u001b[0;36m1\u001b[0m\u001b[0;34m]\u001b[0m\u001b[0;34m,\u001b[0m\u001b[0;34m\u001b[0m\u001b[0;34m\u001b[0m\u001b[0m\n\u001b[1;32m     25\u001b[0m     \u001b[0mshap_values\u001b[0m\u001b[0;34m[\u001b[0m\u001b[0;36m1\u001b[0m\u001b[0;34m]\u001b[0m\u001b[0;34m[\u001b[0m\u001b[0msample_index\u001b[0m\u001b[0;34m,\u001b[0m \u001b[0;34m:\u001b[0m\u001b[0;34m]\u001b[0m\u001b[0;34m,\u001b[0m\u001b[0;34m\u001b[0m\u001b[0;34m\u001b[0m\u001b[0m\n",
            "\u001b[0;32m/usr/local/lib/python3.11/dist-packages/shap/plots/_force.py\u001b[0m in \u001b[0;36mforce\u001b[0;34m(base_value, shap_values, features, feature_names, out_names, link, plot_cmap, matplotlib, show, figsize, ordering_keys, ordering_keys_time_format, text_rotation, contribution_threshold)\u001b[0m\n\u001b[1;32m    179\u001b[0m                     \u001b[0;34m\"as the last column. In this case, just pass the array without the last column.\"\u001b[0m\u001b[0;34m\u001b[0m\u001b[0;34m\u001b[0m\u001b[0m\n\u001b[1;32m    180\u001b[0m                 )\n\u001b[0;32m--> 181\u001b[0;31m             \u001b[0;32mraise\u001b[0m \u001b[0mDimensionError\u001b[0m\u001b[0;34m(\u001b[0m\u001b[0memsg\u001b[0m\u001b[0;34m)\u001b[0m\u001b[0;34m\u001b[0m\u001b[0;34m\u001b[0m\u001b[0m\n\u001b[0m\u001b[1;32m    182\u001b[0m \u001b[0;34m\u001b[0m\u001b[0m\n\u001b[1;32m    183\u001b[0m         \u001b[0minstance\u001b[0m \u001b[0;34m=\u001b[0m \u001b[0mInstance\u001b[0m\u001b[0;34m(\u001b[0m\u001b[0mnp\u001b[0m\u001b[0;34m.\u001b[0m\u001b[0mzeros\u001b[0m\u001b[0;34m(\u001b[0m\u001b[0;34m(\u001b[0m\u001b[0;36m1\u001b[0m\u001b[0;34m,\u001b[0m \u001b[0mlen\u001b[0m\u001b[0;34m(\u001b[0m\u001b[0mfeature_names\u001b[0m\u001b[0;34m)\u001b[0m\u001b[0;34m)\u001b[0m\u001b[0;34m)\u001b[0m\u001b[0;34m,\u001b[0m \u001b[0mfeatures\u001b[0m\u001b[0;34m)\u001b[0m\u001b[0;34m\u001b[0m\u001b[0;34m\u001b[0m\u001b[0m\n",
            "\u001b[0;31mDimensionError\u001b[0m: Length of features is not equal to the length of shap_values!"
          ]
        }
      ]
    },
    {
      "cell_type": "code",
      "source": [
        "# Install the LIME package if not already installed\n",
        "!pip install lime\n",
        "\n",
        "import lime\n",
        "from lime.lime_tabular import LimeTabularExplainer\n",
        "import numpy as np\n",
        "\n",
        "# Initialize the LIME explainer for the neural network model\n",
        "explainer = LimeTabularExplainer(\n",
        "    training_data=X_train_scaled.values,\n",
        "    feature_names=X.columns,\n",
        "    class_names=['Non-Cancer', 'Cancer'],\n",
        "    mode='classification'\n",
        ")\n",
        "\n",
        "# Select a random sample from the test set for explanation\n",
        "sample_index = np.random.randint(0, len(X_test_scaled))\n",
        "sample_data = X_test_scaled.iloc[sample_index]\n",
        "\n",
        "# Convert the sample data to a NumPy array\n",
        "sample_data_array = sample_data.values.reshape(1, -1)\n",
        "\n",
        "# Generate LIME explanation for the selected sample\n",
        "explanation = explainer.explain_instance(\n",
        "    data_row=sample_data_array[0],\n",
        "    predict_fn=nn_model_best.predict_proba\n",
        ")\n",
        "\n",
        "# Visualize the explanation in the notebook\n",
        "explanation.show_in_notebook(show_table=True)\n",
        "\n",
        "# Save the explanation as an HTML file (optional)\n",
        "explanation.save_to_file(\"lime_explanation_neural_network.html\")\n",
        "\n",
        "print(\"LIME explanation saved as 'lime_explanation_neural_network.html'.\")\n"
      ],
      "metadata": {
        "colab": {
          "base_uri": "https://localhost:8080/",
          "height": 766
        },
        "id": "ATwTbIFvvZn8",
        "outputId": "196dae43-8b84-45e0-d9eb-f28f07de265a"
      },
      "execution_count": null,
      "outputs": [
        {
          "output_type": "stream",
          "name": "stdout",
          "text": [
            "Collecting lime\n",
            "  Downloading lime-0.2.0.1.tar.gz (275 kB)\n",
            "\u001b[?25l     \u001b[90m━━━━━━━━━━━━━━━━━━━━━━━━━━━━━━━━━━━━━━━━\u001b[0m \u001b[32m0.0/275.7 kB\u001b[0m \u001b[31m?\u001b[0m eta \u001b[36m-:--:--\u001b[0m\r\u001b[2K     \u001b[91m━━━━━━━━━━━━━━━━━━━━━━━━━━━━━━━━━━━━━━\u001b[0m\u001b[91m╸\u001b[0m\u001b[90m━\u001b[0m \u001b[32m266.2/275.7 kB\u001b[0m \u001b[31m9.8 MB/s\u001b[0m eta \u001b[36m0:00:01\u001b[0m\r\u001b[2K     \u001b[90m━━━━━━━━━━━━━━━━━━━━━━━━━━━━━━━━━━━━━━━━\u001b[0m \u001b[32m275.7/275.7 kB\u001b[0m \u001b[31m6.8 MB/s\u001b[0m eta \u001b[36m0:00:00\u001b[0m\n",
            "\u001b[?25h  Preparing metadata (setup.py) ... \u001b[?25l\u001b[?25hdone\n",
            "Requirement already satisfied: matplotlib in /usr/local/lib/python3.11/dist-packages (from lime) (3.10.0)\n",
            "Requirement already satisfied: numpy in /usr/local/lib/python3.11/dist-packages (from lime) (1.26.4)\n",
            "Requirement already satisfied: scipy in /usr/local/lib/python3.11/dist-packages (from lime) (1.13.1)\n",
            "Requirement already satisfied: tqdm in /usr/local/lib/python3.11/dist-packages (from lime) (4.67.1)\n",
            "Requirement already satisfied: scikit-learn>=0.18 in /usr/local/lib/python3.11/dist-packages (from lime) (1.6.1)\n",
            "Requirement already satisfied: scikit-image>=0.12 in /usr/local/lib/python3.11/dist-packages (from lime) (0.25.0)\n",
            "Requirement already satisfied: networkx>=3.0 in /usr/local/lib/python3.11/dist-packages (from scikit-image>=0.12->lime) (3.4.2)\n",
            "Requirement already satisfied: pillow>=10.1 in /usr/local/lib/python3.11/dist-packages (from scikit-image>=0.12->lime) (11.1.0)\n",
            "Requirement already satisfied: imageio!=2.35.0,>=2.33 in /usr/local/lib/python3.11/dist-packages (from scikit-image>=0.12->lime) (2.36.1)\n",
            "Requirement already satisfied: tifffile>=2022.8.12 in /usr/local/lib/python3.11/dist-packages (from scikit-image>=0.12->lime) (2025.1.10)\n",
            "Requirement already satisfied: packaging>=21 in /usr/local/lib/python3.11/dist-packages (from scikit-image>=0.12->lime) (24.2)\n",
            "Requirement already satisfied: lazy-loader>=0.4 in /usr/local/lib/python3.11/dist-packages (from scikit-image>=0.12->lime) (0.4)\n",
            "Requirement already satisfied: joblib>=1.2.0 in /usr/local/lib/python3.11/dist-packages (from scikit-learn>=0.18->lime) (1.4.2)\n",
            "Requirement already satisfied: threadpoolctl>=3.1.0 in /usr/local/lib/python3.11/dist-packages (from scikit-learn>=0.18->lime) (3.5.0)\n",
            "Requirement already satisfied: contourpy>=1.0.1 in /usr/local/lib/python3.11/dist-packages (from matplotlib->lime) (1.3.1)\n",
            "Requirement already satisfied: cycler>=0.10 in /usr/local/lib/python3.11/dist-packages (from matplotlib->lime) (0.12.1)\n",
            "Requirement already satisfied: fonttools>=4.22.0 in /usr/local/lib/python3.11/dist-packages (from matplotlib->lime) (4.55.4)\n",
            "Requirement already satisfied: kiwisolver>=1.3.1 in /usr/local/lib/python3.11/dist-packages (from matplotlib->lime) (1.4.8)\n",
            "Requirement already satisfied: pyparsing>=2.3.1 in /usr/local/lib/python3.11/dist-packages (from matplotlib->lime) (3.2.1)\n",
            "Requirement already satisfied: python-dateutil>=2.7 in /usr/local/lib/python3.11/dist-packages (from matplotlib->lime) (2.8.2)\n",
            "Requirement already satisfied: six>=1.5 in /usr/local/lib/python3.11/dist-packages (from python-dateutil>=2.7->matplotlib->lime) (1.17.0)\n",
            "Building wheels for collected packages: lime\n",
            "  Building wheel for lime (setup.py) ... \u001b[?25l\u001b[?25hdone\n",
            "  Created wheel for lime: filename=lime-0.2.0.1-py3-none-any.whl size=283834 sha256=c5ca80e44af9a491103caa7edb80d9119583f6bbb2fd8618842e3904d24cf4b9\n",
            "  Stored in directory: /root/.cache/pip/wheels/85/fa/a3/9c2d44c9f3cd77cf4e533b58900b2bf4487f2a17e8ec212a3d\n",
            "Successfully built lime\n",
            "Installing collected packages: lime\n",
            "Successfully installed lime-0.2.0.1\n"
          ]
        },
        {
          "output_type": "error",
          "ename": "AttributeError",
          "evalue": "'numpy.ndarray' object has no attribute 'values'",
          "traceback": [
            "\u001b[0;31m---------------------------------------------------------------------------\u001b[0m",
            "\u001b[0;31mAttributeError\u001b[0m                            Traceback (most recent call last)",
            "\u001b[0;32m<ipython-input-75-78d55915e5f7>\u001b[0m in \u001b[0;36m<cell line: 0>\u001b[0;34m()\u001b[0m\n\u001b[1;32m      8\u001b[0m \u001b[0;31m# Initialize the LIME explainer for the neural network model\u001b[0m\u001b[0;34m\u001b[0m\u001b[0;34m\u001b[0m\u001b[0m\n\u001b[1;32m      9\u001b[0m explainer = LimeTabularExplainer(\n\u001b[0;32m---> 10\u001b[0;31m     \u001b[0mtraining_data\u001b[0m\u001b[0;34m=\u001b[0m\u001b[0mX_train_scaled\u001b[0m\u001b[0;34m.\u001b[0m\u001b[0mvalues\u001b[0m\u001b[0;34m,\u001b[0m  \u001b[0;31m# Convert X_train_scaled to NumPy array using .values\u001b[0m\u001b[0;34m\u001b[0m\u001b[0;34m\u001b[0m\u001b[0m\n\u001b[0m\u001b[1;32m     11\u001b[0m     \u001b[0mfeature_names\u001b[0m\u001b[0;34m=\u001b[0m\u001b[0mX\u001b[0m\u001b[0;34m.\u001b[0m\u001b[0mcolumns\u001b[0m\u001b[0;34m,\u001b[0m\u001b[0;34m\u001b[0m\u001b[0;34m\u001b[0m\u001b[0m\n\u001b[1;32m     12\u001b[0m     \u001b[0mclass_names\u001b[0m\u001b[0;34m=\u001b[0m\u001b[0;34m[\u001b[0m\u001b[0;34m'Non-Cancer'\u001b[0m\u001b[0;34m,\u001b[0m \u001b[0;34m'Cancer'\u001b[0m\u001b[0;34m]\u001b[0m\u001b[0;34m,\u001b[0m\u001b[0;34m\u001b[0m\u001b[0;34m\u001b[0m\u001b[0m\n",
            "\u001b[0;31mAttributeError\u001b[0m: 'numpy.ndarray' object has no attribute 'values'"
          ]
        }
      ]
    },
    {
      "cell_type": "code",
      "source": [
        "#svm old\n",
        "# Define the parameter grid for hyperparameter tuning\n",
        "param_grid = {\n",
        "    'C': [0.1, 1, 10],        # Regularization parameter\n",
        "    'kernel': ['linear', 'rbf'], # Kernel types\n",
        "    'gamma': ['scale', 'auto'],  # Kernel coefficient for 'rbf'\n",
        "}\n",
        "\n",
        "# Perform GridSearchCV for SVM\n",
        "svm_model = SVC(probability=True, random_state=42)\n",
        "grid_search = GridSearchCV(estimator=svm_model, param_grid=param_grid, cv=5, scoring='roc_auc', verbose=1, n_jobs=-1)\n",
        "grid_search.fit(X_train_scaled, y_train)\n",
        "\n",
        "# Best parameters from grid search\n",
        "best_params = grid_search.best_params_\n",
        "print(\"\\nBest Parameters for SVM:\", best_params)\n",
        "\n",
        "# Train the SVM model with the best parameters\n",
        "svm_model_best = grid_search.best_estimator_\n",
        "\n",
        "# Evaluate the tuned SVM Model on Test Data\n",
        "y_pred = svm_model_best.predict(X_test_scaled)\n",
        "y_prob = svm_model_best.predict_proba(X_test_scaled)[:, 1]\n",
        "\n",
        "# Print classification report and ROC-AUC score for the test data\n",
        "print(\"\\nTuned SVM Classification Report on Test Data:\")\n",
        "print(classification_report(y_test, y_pred))\n",
        "print(f\"Tuned SVM ROC-AUC Score on Test Data: {roc_auc_score(y_test, y_prob):.2f}\")\n",
        "\n",
        "# Evaluate the tuned SVM Model on Training Data (Optional for Overfitting Check)\n",
        "y_train_pred = svm_model_best.predict(X_train_scaled)\n",
        "y_train_prob = svm_model_best.predict_proba(X_train_scaled)[:, 1]\n",
        "\n",
        "# Print classification report and ROC-AUC score for the training data\n",
        "print(\"\\nTuned SVM Classification Report on Training Data:\")\n",
        "print(classification_report(y_train, y_train_pred))\n",
        "print(f\"Tuned SVM ROC-AUC Score on Training Data: {roc_auc_score(y_train, y_train_prob):.2f}\")\n",
        "\n",
        "# Save the trained tuned SVM model\n",
        "with open('svm_model_tuned.pkl', 'wb') as file:\n",
        "    pickle.dump(svm_model_best, file)\n",
        "\n",
        "print(\"\\nTuned SVM model saved as 'svm_model_tuned.pkl'.\")"
      ],
      "metadata": {
        "id": "WrLAPL-g_geq",
        "colab": {
          "base_uri": "https://localhost:8080/"
        },
        "outputId": "915b2f1b-ebee-48bf-f2d1-d9af7d471be5"
      },
      "execution_count": null,
      "outputs": [
        {
          "output_type": "stream",
          "name": "stdout",
          "text": [
            "Fitting 5 folds for each of 12 candidates, totalling 60 fits\n",
            "\n",
            "Best Parameters for SVM: {'C': 10, 'gamma': 'scale', 'kernel': 'rbf'}\n",
            "\n",
            "Tuned SVM Classification Report on Test Data:\n",
            "              precision    recall  f1-score   support\n",
            "\n",
            "           0       0.73      0.68      0.71       477\n",
            "           1       0.72      0.77      0.74       503\n",
            "\n",
            "    accuracy                           0.72       980\n",
            "   macro avg       0.72      0.72      0.72       980\n",
            "weighted avg       0.72      0.72      0.72       980\n",
            "\n",
            "Tuned SVM ROC-AUC Score on Test Data: 0.79\n",
            "\n",
            "Tuned SVM Classification Report on Training Data:\n",
            "              precision    recall  f1-score   support\n",
            "\n",
            "           0       0.92      0.89      0.90      1156\n",
            "           1       0.89      0.92      0.90      1130\n",
            "\n",
            "    accuracy                           0.90      2286\n",
            "   macro avg       0.90      0.90      0.90      2286\n",
            "weighted avg       0.90      0.90      0.90      2286\n",
            "\n",
            "Tuned SVM ROC-AUC Score on Training Data: 0.96\n",
            "\n",
            "Tuned SVM model saved as 'svm_model_tuned.pkl'.\n"
          ]
        }
      ]
    }
  ]
}